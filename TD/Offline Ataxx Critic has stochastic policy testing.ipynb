{
 "cells": [
  {
   "cell_type": "code",
   "execution_count": 1,
   "metadata": {},
   "outputs": [
    {
     "name": "stderr",
     "output_type": "stream",
     "text": [
      "Using TensorFlow backend.\n"
     ]
    }
   ],
   "source": [
    "import os\n",
    "import tensorflow as tf\n",
    "import itertools\n",
    "import numpy as np\n",
    "from numpy import unravel_index\n",
    "from random import choice, random, sample\n",
    "from operator import itemgetter\n",
    "np.random.seed(1337)  # for reproducibility\n",
    "from keras.models import Sequential, Model, load_model\n",
    "from keras.layers import Input, BatchNormalization, Reshape\n",
    "from keras.layers import Dense, Dropout, Activation, Flatten, LocallyConnected2D\n",
    "from keras.layers import Conv2D, MaxPooling2D, AlphaDropout, ConvLSTM2D, AvgPool2D, Conv2DTranspose, UpSampling2D\n",
    "from keras.layers import add, concatenate, multiply\n",
    "from keras.initializers import VarianceScaling, RandomUniform\n",
    "from keras.optimizers import Adam, SGD, rmsprop\n",
    "from keras.preprocessing.image import ImageDataGenerator\n",
    "from keras.utils import np_utils, multi_gpu_model\n",
    "from keras.utils.vis_utils import plot_model\n",
    "from keras.engine.topology import Container\n",
    "from keras.optimizers import SGD, Adadelta, Adagrad\n",
    "from keras.regularizers import l1, l2\n",
    "import keras.backend as K\n",
    "K.set_image_dim_ordering('th')\n",
    "\n",
    "from keras.callbacks import Callback, ReduceLROnPlateau, LearningRateScheduler, TensorBoard, ModelCheckpoint\n",
    "import matplotlib.pyplot as plt\n",
    "import time\n",
    "%matplotlib notebook"
   ]
  },
  {
   "cell_type": "code",
   "execution_count": 2,
   "metadata": {
    "collapsed": true
   },
   "outputs": [],
   "source": [
    "class Ataxx:\n",
    "    def __init__(self, board=None):\n",
    "        if board is None:                  # if there is no initialization given\n",
    "            self.data = np.zeros((7, 7))   # then generate a board with starting init, and black(-1) takes first turn\n",
    "            self.data[0, 0] = -1           \n",
    "            self.data[6, 6] = -1\n",
    "            self.data[0, 6] = 1\n",
    "            self.data[6, 0] = 1\n",
    "        else:\n",
    "            self.data = board\n",
    "            \n",
    "    def get_feature_map(self, turn):\n",
    "        friendly_map = (self.data == turn).astype(float)\n",
    "        opponent_map = (self.data == -turn).astype(float)\n",
    "        return np.concatenate((friendly_map.reshape((1, 7, 7)), opponent_map.reshape((1, 7, 7))), axis=0)\n",
    "    \n",
    "    def get_mask(self, turn, init=0.001):   # zero(init) out all illegal move positions\n",
    "        moves = self.get_moves(turn)\n",
    "        moves = list(zip(*self.get_moves(turn)))\n",
    "        if len(moves) == 0:\n",
    "            return np.zeros((2, 7, 7))\n",
    "        else:\n",
    "            start_pos = tuple(zip(*moves[0]))\n",
    "            end_pos = tuple(zip(*moves[1]))\n",
    "            start_mask = np.ones((7, 7)) * init\n",
    "            start_mask[start_pos] = 1\n",
    "            end_mask = np.ones((7, 7)) * init\n",
    "            end_mask[end_pos] = 1\n",
    "            return np.concatenate((start_mask.reshape((1, 7, 7)), end_mask.reshape((1, 7, 7))), axis=0)\n",
    "    \n",
    "    def plot(self, is_next_move=False, turn=None):                        # plot the board\n",
    "        image = self.data.copy()\n",
    "        if is_next_move:\n",
    "            if turn not in [-1, 1]:\n",
    "                raise ValueError(\"Turn must be -1 or 1, or Must input a turn for next moves\")\n",
    "            else:\n",
    "                next_moves = self.get_moves(turn)\n",
    "                if len(next_moves) == 0:\n",
    "                    raise ValueError(\"Game is over already\")\n",
    "                next_pos = list(zip(*next_moves))[1]\n",
    "                for pos in next_pos:\n",
    "                    image[pos] = turn / 2\n",
    "        plt.imshow(image, cmap='gray')\n",
    "        plt.xticks(range(7), range(7))\n",
    "        plt.yticks(range(7), range(7))\n",
    "        plt.show()\n",
    "                \n",
    "    def is_valid(self, turn, pos):\n",
    "        if turn not in [-1, 1]:\n",
    "            raise ValueError(\"Turn must be -1 or 1\") \n",
    "        elif self.data[pos] != 0:\n",
    "            return False\n",
    "        else:\n",
    "            for dr in range(-2, 3):\n",
    "                for dc in range(-2, 3):\n",
    "                    pos_tmp = (pos[0]+dr, pos[1]+dc)\n",
    "                    if pos_tmp[0] >= 0 and pos_tmp[1] >= 0 and pos_tmp[0] < 7 and pos_tmp[1] < 7:\n",
    "                        if self.data[pos_tmp] == turn:  # convert any piece of the opponent to 'turn'\n",
    "                            return True\n",
    "            return False\n",
    "        \n",
    "    def get_moves(self, turn):\n",
    "        if turn not in [-1, 1]:\n",
    "            raise ValueError(\"Turn must be -1 or 1\")\n",
    "        else:\n",
    "            next_moves = []\n",
    "            for r in range(7):\n",
    "                for c in range(7):\n",
    "                    has_duplicate_move = False      # move within the radius of one of another friendly piece is called\n",
    "                    if self.is_valid(turn, (r, c)): # duplicate move\n",
    "                        for dr in range(-2, 3):\n",
    "                            for dc in range(-2, 3):\n",
    "                                if abs(dr) <= 1 and abs(dc) <=1 and has_duplicate_move: \n",
    "                                    continue        # no need to record same move again\n",
    "                                else:\n",
    "                                    pos_tmp = (r+dr, c+dc)\n",
    "                                    if pos_tmp[0] >= 0 and pos_tmp[1] >= 0 and pos_tmp[0] < 7 and pos_tmp[1] < 7:\n",
    "                                        if self.data[pos_tmp] == turn:\n",
    "                                            next_moves.append((pos_tmp, (r, c)))\n",
    "            return next_moves\n",
    "    \n",
    "    def get_greedy_move(self, turn):\n",
    "        moves = self.get_moves(turn)\n",
    "        if len(moves) == 0:\n",
    "            raise ValueError('No Possible Moves')\n",
    "        store_data = self.data.copy()\n",
    "        best_score = -1000000\n",
    "        for move in moves:\n",
    "            self.data = store_data.copy()\n",
    "            self.move_to(turn, move[0], move[1])\n",
    "            score = self.evaluate(turn, -turn)\n",
    "            if score > best_score:\n",
    "                best_move = move\n",
    "                best_score = score\n",
    "        self.data = store_data\n",
    "        return best_move\n",
    "        \n",
    "    def move_to(self, turn, pos0, pos1):\n",
    "        if turn not in [-1, 1]:\n",
    "            raise ValueError(\"Turn must be -1 or 1\") \n",
    "        elif not self.is_valid(turn, pos1):\n",
    "            raise ValueError(\"This move: \" + str((pos0, pos1)) + \" of turn: \" + str(turn) + \" is invalid\") \n",
    "        elif self.data[pos0] != turn:\n",
    "            raise ValueError(\"The starting position is not your piece\")\n",
    "        else:\n",
    "            dis = np.array(pos1) - np.array(pos0)    # check if is jump move or duplicate move\n",
    "            if abs(dis[0]) > 1 or abs(dis[1]) > 1:   # jump move\n",
    "                self.data[pos0] = 0\n",
    "                self.data[pos1] = turn\n",
    "            else:                                    # duplicate move\n",
    "                self.data[pos1] = turn\n",
    "            for dr in range(-1, 2):                  # infection mode!!!!\n",
    "                for dc in range(-1, 2):\n",
    "                    pos_tmp = (pos1[0]+dr, pos1[1]+dc)\n",
    "                    if pos_tmp[0] >= 0 and pos_tmp[1] >= 0 and pos_tmp[0] < 7 and pos_tmp[1] < 7:\n",
    "                        if self.data[pos_tmp] == -turn:  # convert any piece of the opponent to 'turn'\n",
    "                            self.data[pos_tmp] = turn\n",
    "                            \n",
    "    def simu_move_to(self, turn, pos0, pos1):\n",
    "        if turn not in [-1, 1]:\n",
    "            raise ValueError(\"Turn must be -1 or 1\") \n",
    "        elif not self.is_valid(turn, pos1):\n",
    "            raise ValueError(\"This move: \" + str((pos0, pos1)) + \" of turn: \" + str(turn) + \" is invalid\") \n",
    "        elif self.data[pos0] != turn:\n",
    "            raise ValueError(\"You are not moving your piece\")\n",
    "        else:\n",
    "            tmp_data = self.data.copy()\n",
    "            dis = np.array(pos1) - np.array(pos0)    # check if is jump move or duplicate move\n",
    "            if abs(dis[0]) > 1 or abs(dis[1]) > 1:   # jump move\n",
    "                tmp_data[pos0] = 0\n",
    "                tmp_data[pos1] = turn\n",
    "            else:                                    # duplicate move\n",
    "                tmp_data[pos1] = turn\n",
    "            for dr in range(-1, 2):                  # infection mode!!!!\n",
    "                for dc in range(-1, 2):\n",
    "                    pos_tmp = (pos1[0]+dr, pos1[1]+dc)\n",
    "                    if pos_tmp[0] >= 0 and pos_tmp[1] >= 0 and pos_tmp[0] < 7 and pos_tmp[1] < 7:\n",
    "                        if tmp_data[pos_tmp] == -turn:  # convert any piece of the opponent to 'turn'\n",
    "                            tmp_data[pos_tmp] = turn\n",
    "            return tmp_data\n",
    "    \n",
    "    def evaluate(self, turn, this_turn, max_score=100, min_score=0.1):\n",
    "        if turn not in [-1, 1]:\n",
    "            raise ValueError(\"Turn must be -1 or 1\") \n",
    "        else:\n",
    "            turn_no = 0\n",
    "            op_no = 0\n",
    "            for r in range(7):\n",
    "                for c in range(7):\n",
    "                    if self.data[r, c] == turn:\n",
    "                        turn_no += 1\n",
    "                    elif self.data[r, c] == -turn:\n",
    "                        op_no += 1\n",
    "            if turn_no + op_no == 49:\n",
    "                if turn_no > op_no:\n",
    "                    return max_score\n",
    "                else:\n",
    "                    return -max_score\n",
    "            else:\n",
    "                if len(self.get_moves(this_turn)) == 0:# if one of them can no longer move, count and end\n",
    "                    if turn_no > op_no:\n",
    "                        return max_score\n",
    "                    else:\n",
    "                        return -max_score\n",
    "                else:\n",
    "                    value = turn_no - op_no\n",
    "            return value * min_score"
   ]
  },
  {
   "cell_type": "code",
   "execution_count": 3,
   "metadata": {
    "collapsed": true
   },
   "outputs": [],
   "source": [
    "class Relay():\n",
    "    def __init__(self, max_size):\n",
    "        self.relay = []\n",
    "        self.max_size = max_size\n",
    "\n",
    "    def reset(self):\n",
    "        self.relay = []\n",
    "        \n",
    "    def add_sample(self, new_sample):\n",
    "        if len(self.relay) >= self.max_size:\n",
    "            self.relay.pop(0)\n",
    "        self.relay.append(new_sample)\n",
    "    \n",
    "    def get_batch(self, batch_size):\n",
    "        if len(self.relay) < batch_size:\n",
    "            print('not enough sample')\n",
    "            raise ValueError('relay not large enough')\n",
    "        else:\n",
    "            batch = sample(self.relay, batch_size)\n",
    "            # generate random array to decide the orientation of the data augmentation\n",
    "            is_flip = np.random.random(batch_size) < 0.5\n",
    "            rot_times = (np.random.random(batch_size) * 4).astype(int)\n",
    "            \n",
    "            cur_state = np.array([self.augmentation(item[0], is_flip[i], rot_times[i]) \n",
    "                                  for i, item in enumerate(batch)]).reshape(-1, 2, 7, 7)\n",
    "            cur_mask = np.array([self.augmentation(item[1], is_flip[i], rot_times[i])\n",
    "                                 for i, item in enumerate(batch)]).reshape(-1, 2, 7, 7)\n",
    "            cur_action = np.array([self.augmentation(item[2], is_flip[i], rot_times[i])\n",
    "                                   for i, item in enumerate(batch)]).reshape(-1, 2, 7, 7)\n",
    "            cur_reward = np.array([item[3] for item in batch]).reshape(-1)\n",
    "            new_state = np.array([self.augmentation(item[4], is_flip[i], rot_times[i])\n",
    "                                  for i, item in enumerate(batch)]).reshape(-1, 2, 7, 7)\n",
    "            new_mask = np.array([self.augmentation(item[5], is_flip[i], rot_times[i])\n",
    "                                  for i, item in enumerate(batch)]).reshape(-1, 2, 7, 7)\n",
    "            return cur_state, cur_mask, cur_action, cur_reward, new_state, new_mask\n",
    "    \n",
    "    def augmentation(self, data, is_flip, rot_time): # data must have three dimentions and depth first\n",
    "        if data is None:\n",
    "            return None\n",
    "        else:\n",
    "            if is_flip:\n",
    "                data = np.fliplr(data)\n",
    "            data = np.rot90(data, k=rot_time, axes=(1, 2))\n",
    "            return data\n",
    "    \n",
    "    def size(self):\n",
    "        return len(self.relay)"
   ]
  },
  {
   "cell_type": "markdown",
   "metadata": {},
   "source": [
    "# BatchNormalization helps in hard-to-tune lr situations"
   ]
  },
  {
   "cell_type": "code",
   "execution_count": 4,
   "metadata": {
    "collapsed": true
   },
   "outputs": [],
   "source": [
    "def neg_log_loss(y_true, y_pred):\n",
    "    y_true = K.reshape(y_true, (-1, 1, 98))\n",
    "    y_pred = K.reshape(y_pred, (-1, 1, 98))\n",
    "    y_log = K.log(y_pred)\n",
    "    y_concate = K.concatenate([y_true, y_log], axis=1)\n",
    "    y_prod = K.prod(y_concate, axis=1)\n",
    "    return -K.sum(y_prod)\n",
    "\n",
    "\n",
    "class CriticNetwork(object):\n",
    "    def __init__(self, TAU=0.001, LEARNING_RATE=0):\n",
    "        self.TAU = TAU\n",
    "        self.LEARNING_RATE = LEARNING_RATE\n",
    "\n",
    "        #Now create the model\n",
    "        with tf.device(\"/cpu:0\"):\n",
    "            self.model = self.create_critic_network() \n",
    "            self.target_model = self.create_critic_network() \n",
    "            self.target_model.set_weights(self.model.get_weights())\n",
    "        \n",
    "    def target_train(self):\n",
    "        critic_weights = self.model.get_weights()\n",
    "        critic_target_weights = self.target_model.get_weights()\n",
    "        for i in range(len(critic_weights)):\n",
    "            critic_target_weights[i] = self.TAU * critic_weights[i] + (1 - self.TAU)* critic_target_weights[i]\n",
    "        self.target_model.set_weights(critic_target_weights)\n",
    "\n",
    "    def create_critic_network(self):\n",
    "        board_input = Input(shape=(2, 7, 7))\n",
    "        x = Conv2D(32, (1, 1), activation='relu', padding='same')(board_input)\n",
    "        x = BatchNormalization(axis=1)(x)\n",
    "        board_feature = MaxPooling2D((2, 2))(x)\n",
    "\n",
    "        action_input = Input(shape=(2, 7, 7))\n",
    "        x = Conv2D(32, (1, 1), activation='relu', padding='same')(action_input)\n",
    "        x = BatchNormalization(axis=1)(x)\n",
    "        action_feature = MaxPooling2D((2, 2))(x)\n",
    "        \n",
    "        overall_feature = concatenate([board_input, action_input], axis=1)\n",
    "        x = Conv2D(64, (3, 3), activation='relu', padding='same')(overall_feature)\n",
    "        x = BatchNormalization(axis=1)(x)\n",
    "        x = MaxPooling2D((2, 2))(x)\n",
    "        \n",
    "        x = Conv2D(128, (3, 3), activation='relu', padding='same')(x)\n",
    "        x = BatchNormalization(axis=1)(x)\n",
    "        x = Conv2D(128, (3, 3), activation='relu', padding='same')(x)\n",
    "        x = BatchNormalization(axis=1)(x)\n",
    "        x = Flatten()(x)\n",
    "        \n",
    "        x = Dense(256, activation='relu')(x)\n",
    "        x = BatchNormalization(axis=1)(x)\n",
    "        x = Dense(1)(x)\n",
    "        # construct model\n",
    "        model = Model(inputs=[board_input, action_input], outputs=[x])\n",
    "        print(\"actor\")\n",
    "        print(model.summary())\n",
    "        # sgd = SGD(lr=self.LEARNING_RATE, decay=1e-6, momentum=0.9, nesterov=True)\n",
    "        model.compile(loss='mse', optimizer=Adam(lr=self.LEARNING_RATE), metrics=['mse'])\n",
    "        return model\n",
    "    \n",
    "class ActorNetwork(object):\n",
    "    def __init__(self, TAU=0.001, LEARNING_RATE=0, pretrain_epoch=2, is_train=True, \\\n",
    "                 file_name='target_actor_model.h5'):\n",
    "        if is_train:\n",
    "            self.TAU = TAU\n",
    "            self.LEARNING_RATE = LEARNING_RATE\n",
    "            \n",
    "            #Now create the model\n",
    "            self.model= self.create_actor_network()   \n",
    "            self.target_model= self.create_actor_network() \n",
    "            self.target_model.set_weights(self.model.get_weights())\n",
    "            if not pretrain_epoch == 0:\n",
    "                try:\n",
    "                    self.model.load_weights('pretrained_actor_model.h5')\n",
    "                    print(\"succesfully loaded the pretrained model\")\n",
    "                except:\n",
    "                    print(\"start to pre train with greedy\")\n",
    "                    self.learn_rules(128, pretrain_epoch)\n",
    "                    self.model.save_weights('pretrained_actor_model.h5')\n",
    "        else:\n",
    "            with tf.device(\"cpu:0\"):\n",
    "                self.target_model = load_model(file_name)\n",
    "                print(\"successfully loaded trained target model\")\n",
    "\n",
    "    def save(self):\n",
    "        self.target_model.save('target_actor_model.h5')\n",
    "\n",
    "    def target_train(self):\n",
    "        actor_weights = self.model.get_weights()\n",
    "        actor_target_weights = self.target_model.get_weights()\n",
    "        for i in range(len(actor_weights)):\n",
    "            actor_target_weights[i] = self.TAU * actor_weights[i] + (1 - self.TAU)* actor_target_weights[i]\n",
    "        self.target_model.set_weights(actor_target_weights)\n",
    "\n",
    "    def create_actor_network(self):\n",
    "        board_input = Input(shape=(2, 7, 7))\n",
    "        mask_input = Input(shape=(2, 7, 7))\n",
    "        x = Conv2D(64, (3, 3), activation='relu', padding='same')(board_input)\n",
    "        x = BatchNormalization(axis=1)(x)\n",
    "        x = Conv2D(64, (3, 3), activation='relu', padding='same')(x)\n",
    "        x = BatchNormalization(axis=1)(x)\n",
    "        x = MaxPooling2D((2, 2))(x)\n",
    "        \n",
    "        x = Conv2D(128, (3, 3), activation='relu', padding='same')(x)\n",
    "        x = BatchNormalization(axis=1)(x)\n",
    "        x = Conv2D(128, (3, 3), activation='relu', padding='same')(x)\n",
    "        x = BatchNormalization(axis=1)(x)\n",
    "        x = Flatten()(x)\n",
    "        \n",
    "        x = Dense(98, activation='softplus')(x)\n",
    "        x = Reshape((2, 7, 7))(x) \n",
    "        x = multiply(inputs=[x, mask_input])     # this mask will mask any illegal move\n",
    "        x = Reshape((2, 49))(x)\n",
    "        x = Activation('softmax')(x)\n",
    "        x = Reshape((2, 7, 7))(x) \n",
    "        model = Model(input=[board_input, mask_input],output=[x])\n",
    "        print(model.summary())\n",
    "        # sgd = SGD(lr=self.LEARNING_RATE, decay=1e-6, momentum=0.9, nesterov=True, clipnorm=1.)\n",
    "        model.compile(loss=neg_log_loss, optimizer=Adam(lr=self.LEARNING_RATE))\n",
    "        return model\n",
    "    \n",
    "    def get_action_prob(self, feature_map, action_mask, is_target=False):\n",
    "        if not is_target:\n",
    "            return self.model.predict([np.reshape(feature_map, (1, 2, 7, 7)), \n",
    "                                      np.reshape(action_mask, (1, 2, 7, 7))])[0]\n",
    "        else:\n",
    "            return self.target_model.predict([np.reshape(feature_map, (1, 2, 7, 7)), \n",
    "                                      np.reshape(action_mask, (1, 2, 7, 7))])[0]\n",
    "    \n",
    "    def get_stochastic_action(self, feature_map, action_mask, is_target=False):\n",
    "        # get action_prob\n",
    "        action_prob = self.get_action_prob(feature_map, action_mask, is_target)\n",
    "        # get valid_moves list\n",
    "        game = Ataxx(board=feature_map[0] - feature_map[1])\n",
    "        valid_moves = game.get_moves(1)\n",
    "        index_list = range(len(valid_moves))\n",
    "        # store pred prob for each valid moves and sort it\n",
    "        valid_moves_prob = np.zeros(len(valid_moves))\n",
    "        for i, move in enumerate(valid_moves):\n",
    "            valid_moves_prob[i] = action_prob[0][move[0]] + action_prob[1][move[1]]\n",
    "        # noramlize probablity\n",
    "        valid_moves_prob = valid_moves_prob / valid_moves_prob.sum()\n",
    "        # sample a policy according to predicted prob\n",
    "        move_index = np.random.choice(range(len(valid_moves)), p=valid_moves_prob)\n",
    "        move = valid_moves[move_index]\n",
    "        # generate 7*7 pos map\n",
    "        start_pos = np.zeros((7, 7))\n",
    "        start_pos[move[0]] = 1\n",
    "        end_pos = np.zeros((7, 7))\n",
    "        end_pos[move[1]] = 1\n",
    "        return move[0], move[1], np.concatenate((start_pos.reshape(1, 7, 7), end_pos.reshape(1, 7, 7)), axis=0)\n",
    "    \n",
    "    def get_best_action(self, feature_map, action_mask, is_target=False, verbose=True):\n",
    "        # get action_prob\n",
    "        action_prob = self.get_action_prob(feature_map, action_mask, is_target)\n",
    "        print(\"target!!!!\")\n",
    "        # get valid_moves list\n",
    "        game = Ataxx(board=feature_map[0] - feature_map[1])\n",
    "        valid_moves = game.get_moves(1)\n",
    "        max_prob_sum = -1\n",
    "        pos0 = (0, 0)\n",
    "        pos1 = (0, 0)\n",
    "        for move in valid_moves:\n",
    "            tmp_prob_sum = action_prob[0][move[0]] + action_prob[1][move[1]]\n",
    "            if tmp_prob_sum > max_prob_sum:\n",
    "                max_prob_sum = tmp_prob_sum\n",
    "                pos0 = move[0]\n",
    "                pos1 = move[1]\n",
    "        \n",
    "        # output the max_prob\n",
    "        if not verbose:\n",
    "            r = np.random.random()\n",
    "            if r < 0.01:\n",
    "                print(\"confidence of this best move is: \", max_prob_sum)\n",
    "        else:\n",
    "            print(\"confidence of this best move is: \", max_prob_sum)\n",
    "            \n",
    "        # generate 7*7 pos map\n",
    "        start_pos = np.zeros((7, 7))\n",
    "        start_pos[pos0] = 1\n",
    "        end_pos = np.zeros((7, 7))\n",
    "        end_pos[pos1] = 1\n",
    "        \n",
    "        return pos0, pos1, np.concatenate((start_pos.reshape(1, 7, 7), end_pos.reshape(1, 7, 7)), axis=0)\n",
    "\n",
    "    def data_generator(self, batch_size, max_size=5000):\n",
    "        relay = Relay(max_size)\n",
    "        game = Ataxx()\n",
    "        turn = -1\n",
    "        while True:            \n",
    "            new_sample = []\n",
    "            new_sample.append(game.get_feature_map(turn))\n",
    "            new_sample.append(game.get_mask(turn))\n",
    "            \n",
    "            try:\n",
    "                greedy_move = game.get_greedy_move(turn)\n",
    "            except:\n",
    "                game = Ataxx()\n",
    "                turn = -1\n",
    "                continue\n",
    "            start_prob_map = np.zeros((7, 7))\n",
    "            start_prob_map[greedy_move[0]] = 1\n",
    "            end_prob_map = np.zeros((7, 7))\n",
    "            end_prob_map[greedy_move[1]] = 1\n",
    "                \n",
    "            new_sample.append(np.concatenate((start_prob_map.reshape(1, 7, 7), end_prob_map.reshape(1, 7, 7)), axis=0))\n",
    "            new_sample.append(new_sample[-1])\n",
    "            new_sample.extend([None, None])\n",
    "            relay.add_sample(new_sample)\n",
    "            \n",
    "            move = choice(game.get_moves(turn))\n",
    "            game.move_to(turn, move[0], move[1])\n",
    "            turn = -turn\n",
    "            \n",
    "            if relay.size() > batch_size:\n",
    "                state, mask, action, _, _, _ = relay.get_batch(batch_size)\n",
    "                yield [state, mask], action  \n",
    "                \n",
    "    def learn_rules(self, batch_size, epochs=10):\n",
    "        game = Ataxx()\n",
    "        print(\"original action prob map predicted by initial model for a starting game\")\n",
    "        print(self.get_action_prob(game, -1))\n",
    "        sgd = SGD(lr=0.1, decay=1e-6, momentum=0.9, nesterov=True)\n",
    "        gpu_model = multi_gpu_model(self.model, gpus=4)\n",
    "        gpu_model.compile(loss='categorical_crossentropy', optimizer=sgd, metrics=['acc'])\n",
    "        gpu_model.fit_generator(self.data_generator(batch_size), steps_per_epoch=1000, epochs=epochs, \n",
    "                                    verbose=1,\n",
    "                                    validation_data=self.data_generator(32), \n",
    "                                    validation_steps=1,\n",
    "                                    workers=8,\n",
    "                                    use_multiprocessing=True,\n",
    "                                    callbacks=[ReduceLROnPlateau(cooldown=5, min_lr=0.01, patience=2)])\n",
    "        game = Ataxx()\n",
    "        print(\"trained action prob map predicted by initial model for a starting game\")\n",
    "        print(self.get_action_prob(game, -1))"
   ]
  },
  {
   "cell_type": "code",
   "execution_count": 5,
   "metadata": {},
   "outputs": [
    {
     "name": "stdout",
     "output_type": "stream",
     "text": [
      "successfully loaded trained target model\n"
     ]
    }
   ],
   "source": [
    "import keras.losses\n",
    "keras.losses.neg_log_loss = neg_log_loss\n",
    "actor0 = ActorNetwork(is_train=False, file_name='target_actor_model.h5')"
   ]
  },
  {
   "cell_type": "code",
   "execution_count": 10,
   "metadata": {},
   "outputs": [
    {
     "name": "stdout",
     "output_type": "stream",
     "text": [
      "successfully loaded trained target model\n"
     ]
    }
   ],
   "source": [
    "actor1 = ActorNetwork(is_train=False, file_name='target_actor_model_300_train.h5')"
   ]
  },
  {
   "cell_type": "code",
   "execution_count": 14,
   "metadata": {
    "scrolled": true
   },
   "outputs": [
    {
     "name": "stdout",
     "output_type": "stream",
     "text": [
      "-1 is actor0\n",
      "0.0\n"
     ]
    },
    {
     "data": {
      "image/png": "[encoded data removed]",
      "text/plain": [
       "<matplotlib.figure.Figure at 0x7efdf84ba208>"
      ]
     },
     "metadata": {},
     "output_type": "display_data"
    },
    {
     "name": "stdout",
     "output_type": "stream",
     "text": [
      "target!!!!\n",
      "confidence of this best move is:  2.0\n",
      "0.0\n"
     ]
    },
    {
     "data": {
      "image/png": "[encoded data removed]",
      "text/plain": [
       "<matplotlib.figure.Figure at 0x7efdf84d06d8>"
      ]
     },
     "metadata": {},
     "output_type": "display_data"
    },
    {
     "name": "stdout",
     "output_type": "stream",
     "text": [
      "target!!!!\n",
      "confidence of this best move is:  1.14096\n",
      "-0.1\n"
     ]
    },
    {
     "data": {
      "image/png": "[encoded data removed]",
      "text/plain": [
       "<matplotlib.figure.Figure at 0x7efdf84ab588>"
      ]
     },
     "metadata": {},
     "output_type": "display_data"
    },
    {
     "name": "stdout",
     "output_type": "stream",
     "text": [
      "target!!!!\n",
      "confidence of this best move is:  1.37503\n",
      "-0.1\n"
     ]
    },
    {
     "data": {
      "image/png": "[encoded data removed]",
      "text/plain": [
       "<matplotlib.figure.Figure at 0x7efdf845bd68>"
      ]
     },
     "metadata": {},
     "output_type": "display_data"
    },
    {
     "name": "stdout",
     "output_type": "stream",
     "text": [
      "target!!!!\n",
      "confidence of this best move is:  0.765131\n",
      "-0.4\n"
     ]
    },
    {
     "data": {
      "image/png": "[encoded data removed]",
      "text/plain": [
       "<matplotlib.figure.Figure at 0x7efdf8411eb8>"
      ]
     },
     "metadata": {},
     "output_type": "display_data"
    },
    {
     "name": "stdout",
     "output_type": "stream",
     "text": [
      "target!!!!\n",
      "confidence of this best move is:  0.217631\n",
      "-0.4\n"
     ]
    },
    {
     "data": {
      "image/png": "[encoded data removed]",
      "text/plain": [
       "<matplotlib.figure.Figure at 0x7efdf83c7f60>"
      ]
     },
     "metadata": {},
     "output_type": "display_data"
    },
    {
     "name": "stdout",
     "output_type": "stream",
     "text": [
      "target!!!!\n",
      "confidence of this best move is:  1.46196\n",
      "-0.5\n"
     ]
    },
    {
     "data": {
      "image/png": "[encoded data removed]",
      "text/plain": [
       "<matplotlib.figure.Figure at 0x7efdf83e7160>"
      ]
     },
     "metadata": {},
     "output_type": "display_data"
    },
    {
     "name": "stdout",
     "output_type": "stream",
     "text": [
      "target!!!!\n",
      "confidence of this best move is:  0.893392\n",
      "-0.5\n"
     ]
    },
    {
     "data": {
      "image/png": "[encoded data removed]",
      "text/plain": [
       "<matplotlib.figure.Figure at 0x7efdf83397b8>"
      ]
     },
     "metadata": {},
     "output_type": "display_data"
    },
    {
     "name": "stdout",
     "output_type": "stream",
     "text": [
      "target!!!!\n",
      "confidence of this best move is:  1.14188\n",
      "-100\n"
     ]
    }
   ],
   "source": [
    "game = Ataxx()\n",
    "turn = -1\n",
    "print(\"-1 is actor0\")\n",
    "while abs(game.evaluate(turn, turn)) != 100:\n",
    "    print(game.evaluate(-1, turn))\n",
    "    game.plot()\n",
    "    if turn == 1:\n",
    "        actor = actor0\n",
    "    else:\n",
    "        actor = actor1\n",
    "    with tf.device(\"/cpu:0\"):\n",
    "        pos0, pos1, _ = actor.get_best_action(game.get_feature_map(turn), game.get_mask(turn), \\\n",
    "                                              is_target=True)\n",
    "    game.move_to(turn, pos0, pos1)\n",
    "    turn = -turn\n",
    "    time.sleep(0.1)\n",
    "print(game.evaluate(-1, turn))"
   ]
  },
  {
   "cell_type": "code",
   "execution_count": 16,
   "metadata": {
    "scrolled": true
   },
   "outputs": [
    {
     "name": "stdout",
     "output_type": "stream",
     "text": [
      "1 is actor\n",
      "0.0\n"
     ]
    },
    {
     "data": {
      "image/png": "[encoded data removed]",
      "text/plain": [
       "<matplotlib.figure.Figure at 0x7efdf87252b0>"
      ]
     },
     "metadata": {},
     "output_type": "display_data"
    },
    {
     "name": "stdout",
     "output_type": "stream",
     "text": [
      "0.1\n"
     ]
    },
    {
     "data": {
      "image/png": "[encoded data removed]",
      "text/plain": [
       "<matplotlib.figure.Figure at 0x7efdf83b2e10>"
      ]
     },
     "metadata": {},
     "output_type": "display_data"
    },
    {
     "name": "stdout",
     "output_type": "stream",
     "text": [
      "target!!!!\n",
      "confidence of this best move is:  2.0\n",
      "0.1\n"
     ]
    },
    {
     "data": {
      "image/png": "[encoded data removed]",
      "text/plain": [
       "<matplotlib.figure.Figure at 0x7efdf83be668>"
      ]
     },
     "metadata": {},
     "output_type": "display_data"
    },
    {
     "name": "stdout",
     "output_type": "stream",
     "text": [
      "0.2\n"
     ]
    },
    {
     "data": {
      "image/png": "[encoded data removed]",
      "text/plain": [
       "<matplotlib.figure.Figure at 0x7efdf84ecdd8>"
      ]
     },
     "metadata": {},
     "output_type": "display_data"
    },
    {
     "name": "stdout",
     "output_type": "stream",
     "text": [
      "target!!!!\n",
      "confidence of this best move is:  2.0\n",
      "0.2\n"
     ]
    },
    {
     "data": {
      "image/png": "[encoded data removed]",
      "text/plain": [
       "<matplotlib.figure.Figure at 0x7efdf8507e80>"
      ]
     },
     "metadata": {},
     "output_type": "display_data"
    },
    {
     "name": "stdout",
     "output_type": "stream",
     "text": [
      "0.5\n"
     ]
    },
    {
     "data": {
      "image/png": "[encoded data removed]",
      "text/plain": [
       "<matplotlib.figure.Figure at 0x7efdf8417828>"
      ]
     },
     "metadata": {},
     "output_type": "display_data"
    },
    {
     "name": "stdout",
     "output_type": "stream",
     "text": [
      "target!!!!\n",
      "confidence of this best move is:  0.111747\n",
      "0.4\n"
     ]
    },
    {
     "data": {
      "image/png": "[encoded data removed]",
      "text/plain": [
       "<matplotlib.figure.Figure at 0x7efdf862ba58>"
      ]
     },
     "metadata": {},
     "output_type": "display_data"
    },
    {
     "name": "stdout",
     "output_type": "stream",
     "text": [
      "0.5\n"
     ]
    },
    {
     "data": {
      "image/png": "[encoded data removed]",
      "text/plain": [
       "<matplotlib.figure.Figure at 0x7efdf8465b00>"
      ]
     },
     "metadata": {},
     "output_type": "display_data"
    },
    {
     "name": "stdout",
     "output_type": "stream",
     "text": [
      "target!!!!\n",
      "confidence of this best move is:  0.129221\n",
      "0.5\n"
     ]
    },
    {
     "data": {
      "image/png": "[encoded data removed]",
      "text/plain": [
       "<matplotlib.figure.Figure at 0x7efdf83a0b00>"
      ]
     },
     "metadata": {},
     "output_type": "display_data"
    },
    {
     "name": "stdout",
     "output_type": "stream",
     "text": [
      "0.7000000000000001\n"
     ]
    },
    {
     "data": {
      "image/png": "[encoded data removed]",
      "text/plain": [
       "<matplotlib.figure.Figure at 0x7efdf85b1080>"
      ]
     },
     "metadata": {},
     "output_type": "display_data"
    },
    {
     "name": "stdout",
     "output_type": "stream",
     "text": [
      "target!!!!\n",
      "confidence of this best move is:  0.0643952\n",
      "0.6000000000000001\n"
     ]
    },
    {
     "data": {
      "image/png": "[encoded data removed]",
      "text/plain": [
       "<matplotlib.figure.Figure at 0x7efdf84819e8>"
      ]
     },
     "metadata": {},
     "output_type": "display_data"
    },
    {
     "name": "stdout",
     "output_type": "stream",
     "text": [
      "100\n"
     ]
    }
   ],
   "source": [
    "game = Ataxx()\n",
    "turn = -1\n",
    "print(\"1 is actor\")\n",
    "actor = actor1\n",
    "while abs(game.evaluate(turn, turn)) != 100:\n",
    "    print(game.evaluate(-1, turn))\n",
    "    game.plot()\n",
    "    if turn == -1:\n",
    "        best_move = game.get_greedy_move(turn)\n",
    "        game.move_to(turn, best_move[0], best_move[1])\n",
    "    else:\n",
    "        pos0, pos1, _ = actor.get_best_action(game.get_feature_map(turn), game.get_mask(turn), \\\n",
    "                                              is_target=True)\n",
    "        game.move_to(turn, pos0, pos1)\n",
    "    turn = -turn\n",
    "    time.sleep(0.1)\n",
    "print(game.evaluate(-1, turn))"
   ]
  },
  {
   "cell_type": "code",
   "execution_count": 17,
   "metadata": {
    "scrolled": true
   },
   "outputs": [
    {
     "name": "stdout",
     "output_type": "stream",
     "text": [
      "-1 is actor\n",
      "0.0\n"
     ]
    },
    {
     "data": {
      "image/png": "[encoded data removed]",
      "text/plain": [
       "<matplotlib.figure.Figure at 0x7efdf85d0080>"
      ]
     },
     "metadata": {},
     "output_type": "display_data"
    },
    {
     "name": "stdout",
     "output_type": "stream",
     "text": [
      "target!!!!\n",
      "confidence of this best move is:  2.0\n",
      "0.0\n"
     ]
    },
    {
     "data": {
      "image/png": "[encoded data removed]",
      "text/plain": [
       "<matplotlib.figure.Figure at 0x7efdf85e6588>"
      ]
     },
     "metadata": {},
     "output_type": "display_data"
    },
    {
     "name": "stdout",
     "output_type": "stream",
     "text": [
      "-0.1\n"
     ]
    },
    {
     "data": {
      "image/png": "[encoded data removed]",
      "text/plain": [
       "<matplotlib.figure.Figure at 0x7efdf859b358>"
      ]
     },
     "metadata": {},
     "output_type": "display_data"
    },
    {
     "name": "stdout",
     "output_type": "stream",
     "text": [
      "target!!!!\n",
      "confidence of this best move is:  1.37503\n",
      "-0.1\n"
     ]
    },
    {
     "data": {
      "image/png": "[encoded data removed]",
      "text/plain": [
       "<matplotlib.figure.Figure at 0x7efdf870bef0>"
      ]
     },
     "metadata": {},
     "output_type": "display_data"
    },
    {
     "name": "stdout",
     "output_type": "stream",
     "text": [
      "-0.4\n"
     ]
    },
    {
     "data": {
      "image/png": "[encoded data removed]",
      "text/plain": [
       "<matplotlib.figure.Figure at 0x7efe005d2cc0>"
      ]
     },
     "metadata": {},
     "output_type": "display_data"
    },
    {
     "name": "stdout",
     "output_type": "stream",
     "text": [
      "target!!!!\n",
      "confidence of this best move is:  0.346101\n",
      "-0.4\n"
     ]
    },
    {
     "data": {
      "image/png": "[encoded data removed]",
      "text/plain": [
       "<matplotlib.figure.Figure at 0x7efdf866f240>"
      ]
     },
     "metadata": {},
     "output_type": "display_data"
    },
    {
     "name": "stdout",
     "output_type": "stream",
     "text": [
      "-100\n"
     ]
    }
   ],
   "source": [
    "game = Ataxx()\n",
    "turn = -1\n",
    "print(\"-1 is actor\")\n",
    "actor = actor1\n",
    "while abs(game.evaluate(turn, turn)) != 100:\n",
    "    print(game.evaluate(-1, turn))\n",
    "    game.plot()\n",
    "    if turn == 1:\n",
    "        best_move = game.get_greedy_move(turn)\n",
    "        game.move_to(turn, best_move[0], best_move[1])\n",
    "    else:\n",
    "        pos0, pos1, _ = actor.get_best_action(game.get_feature_map(turn), game.get_mask(turn), \\\n",
    "                                              is_target=True)\n",
    "        game.move_to(turn, pos0, pos1)\n",
    "    turn = -turn\n",
    "    time.sleep(0.1)\n",
    "print(game.evaluate(-1, turn))"
   ]
  },
  {
   "cell_type": "code",
   "execution_count": null,
   "metadata": {
    "collapsed": true
   },
   "outputs": [],
   "source": []
  }
 ],
 "metadata": {
  "kernelspec": {
   "display_name": "Python 3",
   "language": "python",
   "name": "python3"
  },
  "language_info": {
   "codemirror_mode": {
    "name": "ipython",
    "version": 3
   },
   "file_extension": ".py",
   "mimetype": "text/x-python",
   "name": "python",
   "nbconvert_exporter": "python",
   "pygments_lexer": "ipython3",
   "version": "3.5.4"
  }
 },
 "nbformat": 4,
 "nbformat_minor": 2
}
