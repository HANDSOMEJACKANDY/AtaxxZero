{
 "cells": [
  {
   "cell_type": "code",
   "execution_count": 1,
   "metadata": {},
   "outputs": [
    {
     "name": "stderr",
     "output_type": "stream",
     "text": [
      "Using TensorFlow backend.\n"
     ]
    }
   ],
   "source": [
    "import os\n",
    "import tensorflow as tf\n",
    "import itertools\n",
    "import numpy as np\n",
    "from numpy import unravel_index\n",
    "from random import choice, random, sample\n",
    "np.random.seed(1337)  # for reproducibility\n",
    "from keras.models import Sequential, Model, load_model\n",
    "from keras.layers import Input, BatchNormalization, Reshape\n",
    "from keras.layers import Dense, Dropout, Activation, Flatten, LocallyConnected2D\n",
    "from keras.layers import Conv2D, MaxPooling2D, AlphaDropout, ConvLSTM2D, AvgPool2D, Conv2DTranspose, UpSampling2D\n",
    "from keras.layers import add, concatenate, multiply\n",
    "from keras.initializers import VarianceScaling, RandomUniform\n",
    "from keras.optimizers import Adam, SGD, rmsprop\n",
    "from keras.preprocessing.image import ImageDataGenerator\n",
    "from keras.utils import np_utils, multi_gpu_model\n",
    "from keras.utils.vis_utils import plot_model\n",
    "from keras.engine.topology import Container\n",
    "from keras.optimizers import SGD, Adadelta, Adagrad\n",
    "from keras.regularizers import l1, l2\n",
    "import keras.backend as K\n",
    "K.set_image_dim_ordering('th')\n",
    "\n",
    "from keras.callbacks import Callback, ReduceLROnPlateau, LearningRateScheduler, TensorBoard, ModelCheckpoint\n",
    "import matplotlib.pyplot as plt\n",
    "import time\n",
    "%matplotlib notebook"
   ]
  },
  {
   "cell_type": "code",
   "execution_count": 2,
   "metadata": {
    "collapsed": true
   },
   "outputs": [],
   "source": [
    "class Ataxx:\n",
    "    def __init__(self, board=None):\n",
    "        if board is None:                  # if there is no initialization given\n",
    "            self.data = np.zeros((7, 7))   # then generate a board with starting init, and black(-1) takes first turn\n",
    "            self.data[0, 0] = -1           \n",
    "            self.data[6, 6] = -1\n",
    "            self.data[0, 6] = 1\n",
    "            self.data[6, 0] = 1\n",
    "        else:\n",
    "            self.data = board\n",
    "            \n",
    "    def get_feature_map(self, turn):\n",
    "        friendly_map = (self.data == turn).astype(float)\n",
    "        opponent_map = (self.data == -turn).astype(float)\n",
    "        return np.concatenate((friendly_map.reshape((1, 7, 7)), opponent_map.reshape((1, 7, 7))), axis=0)\n",
    "    \n",
    "    def get_mask(self, turn, init=0):   # zero(init) out all illegal move positions\n",
    "        moves = self.get_moves(turn)\n",
    "        moves = list(zip(*self.get_moves(turn)))\n",
    "        if len(moves) == 0:\n",
    "            return np.zeros((2, 7, 7))\n",
    "        else:\n",
    "            start_pos = tuple(zip(*moves[0]))\n",
    "            end_pos = tuple(zip(*moves[1]))\n",
    "            start_mask = np.ones((7, 7)) * init\n",
    "            start_mask[start_pos] = 1\n",
    "            end_mask = np.ones((7, 7)) * init\n",
    "            end_mask[end_pos] = 1\n",
    "            return np.concatenate((start_mask.reshape((1, 7, 7)), end_mask.reshape((1, 7, 7))), axis=0)\n",
    "    \n",
    "    def plot(self, is_next_move=False, turn=None):                        # plot the board\n",
    "        image = self.data.copy()\n",
    "        if is_next_move:\n",
    "            if turn not in [-1, 1]:\n",
    "                raise ValueError(\"Turn must be -1 or 1, or Must input a turn for next moves\")\n",
    "            else:\n",
    "                next_moves = self.get_moves(turn)\n",
    "                if len(next_moves) == 0:\n",
    "                    raise ValueError(\"Game is over already\")\n",
    "                next_pos = list(zip(*next_moves))[1]\n",
    "                for pos in next_pos:\n",
    "                    image[pos] = turn / 2\n",
    "        plt.imshow(image, cmap='gray')\n",
    "        plt.xticks(range(7), range(7))\n",
    "        plt.yticks(range(7), range(7))\n",
    "        plt.show()\n",
    "                \n",
    "    def is_valid(self, turn, pos):\n",
    "        if turn not in [-1, 1]:\n",
    "            raise ValueError(\"Turn must be -1 or 1\") \n",
    "        elif self.data[pos] != 0:\n",
    "            return False\n",
    "        else:\n",
    "            for dr in range(-2, 3):\n",
    "                for dc in range(-2, 3):\n",
    "                    pos_tmp = (pos[0]+dr, pos[1]+dc)\n",
    "                    if pos_tmp[0] >= 0 and pos_tmp[1] >= 0 and pos_tmp[0] < 7 and pos_tmp[1] < 7:\n",
    "                        if self.data[pos_tmp] == turn:  # convert any piece of the opponent to 'turn'\n",
    "                            return True\n",
    "            return False\n",
    "        \n",
    "    def get_moves(self, turn):\n",
    "        if turn not in [-1, 1]:\n",
    "            raise ValueError(\"Turn must be -1 or 1\")\n",
    "        else:\n",
    "            next_moves = []\n",
    "            for r in range(7):\n",
    "                for c in range(7):\n",
    "                    has_duplicate_move = False      # move within the radius of one of another friendly piece is called\n",
    "                    if self.is_valid(turn, (r, c)): # duplicate move\n",
    "                        for dr in range(-2, 3):\n",
    "                            for dc in range(-2, 3):\n",
    "                                if abs(dr) <= 1 and abs(dc) <=1 and has_duplicate_move: \n",
    "                                    continue        # no need to record same move again\n",
    "                                else:\n",
    "                                    pos_tmp = (r+dr, c+dc)\n",
    "                                    if pos_tmp[0] >= 0 and pos_tmp[1] >= 0 and pos_tmp[0] < 7 and pos_tmp[1] < 7:\n",
    "                                        if self.data[pos_tmp] == turn:\n",
    "                                            next_moves.append((pos_tmp, (r, c)))\n",
    "            return next_moves\n",
    "    \n",
    "    def get_greedy_move(self, turn):\n",
    "        moves = self.get_moves(turn)\n",
    "        if len(moves) == 0:\n",
    "            raise ValueError('No Possible Moves')\n",
    "        store_data = self.data.copy()\n",
    "        best_score = -1000000\n",
    "        for move in moves:\n",
    "            self.data = store_data.copy()\n",
    "            self.move_to(turn, move[0], move[1])\n",
    "            score = self.evaluate(turn, -turn)\n",
    "            if score > best_score:\n",
    "                best_move = move\n",
    "                best_score = score\n",
    "        self.data = store_data\n",
    "        return best_move\n",
    "        \n",
    "    def move_to(self, turn, pos0, pos1):\n",
    "        if turn not in [-1, 1]:\n",
    "            raise ValueError(\"Turn must be -1 or 1\") \n",
    "        elif not self.is_valid(turn, pos1):\n",
    "            raise ValueError(\"This move: \" + str((pos0, pos1)) + \" of turn: \" + str(turn) + \" is invalid\") \n",
    "        elif self.data[pos0] != turn:\n",
    "            raise ValueError(\"The starting position is not your piece\")\n",
    "        else:\n",
    "            dis = np.array(pos1) - np.array(pos0)    # check if is jump move or duplicate move\n",
    "            if abs(dis[0]) > 1 or abs(dis[1]) > 1:   # jump move\n",
    "                self.data[pos0] = 0\n",
    "                self.data[pos1] = turn\n",
    "            else:                                    # duplicate move\n",
    "                self.data[pos1] = turn\n",
    "            for dr in range(-1, 2):                  # infection mode!!!!\n",
    "                for dc in range(-1, 2):\n",
    "                    pos_tmp = (pos1[0]+dr, pos1[1]+dc)\n",
    "                    if pos_tmp[0] >= 0 and pos_tmp[1] >= 0 and pos_tmp[0] < 7 and pos_tmp[1] < 7:\n",
    "                        if self.data[pos_tmp] == -turn:  # convert any piece of the opponent to 'turn'\n",
    "                            self.data[pos_tmp] = turn\n",
    "                            \n",
    "    def simu_move_to(self, turn, pos0, pos1):\n",
    "        if turn not in [-1, 1]:\n",
    "            raise ValueError(\"Turn must be -1 or 1\") \n",
    "        elif not self.is_valid(turn, pos1):\n",
    "            raise ValueError(\"This move: \" + str((pos0, pos1)) + \" of turn: \" + str(turn) + \" is invalid\") \n",
    "        elif self.data[pos0] != turn:\n",
    "            raise ValueError(\"You are not moving your piece\")\n",
    "        else:\n",
    "            tmp_data = self.data.copy()\n",
    "            dis = np.array(pos1) - np.array(pos0)    # check if is jump move or duplicate move\n",
    "            if abs(dis[0]) > 1 or abs(dis[1]) > 1:   # jump move\n",
    "                tmp_data[pos0] = 0\n",
    "                tmp_data[pos1] = turn\n",
    "            else:                                    # duplicate move\n",
    "                tmp_data[pos1] = turn\n",
    "            for dr in range(-1, 2):                  # infection mode!!!!\n",
    "                for dc in range(-1, 2):\n",
    "                    pos_tmp = (pos1[0]+dr, pos1[1]+dc)\n",
    "                    if pos_tmp[0] >= 0 and pos_tmp[1] >= 0 and pos_tmp[0] < 7 and pos_tmp[1] < 7:\n",
    "                        if tmp_data[pos_tmp] == -turn:  # convert any piece of the opponent to 'turn'\n",
    "                            tmp_data[pos_tmp] = turn\n",
    "            return tmp_data\n",
    "    \n",
    "    def evaluate(self, turn, this_turn, max_score=100, min_score=0.1):\n",
    "        if turn not in [-1, 1]:\n",
    "            raise ValueError(\"Turn must be -1 or 1\") \n",
    "        else:\n",
    "            turn_no = 0\n",
    "            op_no = 0\n",
    "            for r in range(7):\n",
    "                for c in range(7):\n",
    "                    if self.data[r, c] == turn:\n",
    "                        turn_no += 1\n",
    "                    elif self.data[r, c] == -turn:\n",
    "                        op_no += 1\n",
    "            if turn_no + op_no == 49:\n",
    "                if turn_no > op_no:\n",
    "                    return max_score\n",
    "                else:\n",
    "                    return -max_score\n",
    "            else:\n",
    "                if len(self.get_moves(this_turn)) == 0:# if one of them can no longer move, count and end\n",
    "                    if turn_no > op_no:\n",
    "                        return max_score\n",
    "                    else:\n",
    "                        return -max_score\n",
    "                else:\n",
    "                    value = turn_no - op_no\n",
    "            return value * min_score"
   ]
  },
  {
   "cell_type": "code",
   "execution_count": 3,
   "metadata": {
    "collapsed": true
   },
   "outputs": [],
   "source": [
    "class Relay():\n",
    "    def __init__(self, max_size):\n",
    "        self.relay = []\n",
    "        self.max_size = max_size\n",
    "\n",
    "    def reset(self):\n",
    "        self.relay = []\n",
    "        \n",
    "    def add_sample(self, new_sample):\n",
    "        if len(self.relay) >= self.max_size:\n",
    "            self.relay.pop(0)\n",
    "        self.relay.append(new_sample)\n",
    "    \n",
    "    def get_batch(self, batch_size):\n",
    "        if len(self.relay) < batch_size:\n",
    "            print('not enough sample')\n",
    "            raise ValueError('relay not large enough')\n",
    "        else:\n",
    "            batch = sample(self.relay, batch_size)\n",
    "            # generate random array to decide the orientation of the data augmentation\n",
    "            is_flip = np.random.random(batch_size)\n",
    "            rot_times = (np.random.random(batch_size) * 4).astype(int)\n",
    "            \n",
    "            cur_state = np.array([self.augmentation(item[0], is_flip[i], rot_times[i]) \n",
    "                                  for i, item in enumerate(batch)]).reshape(-1, 2, 7, 7)\n",
    "            cur_mask = np.array([self.augmentation(item[1], is_flip[i], rot_times[i])\n",
    "                                 for i, item in enumerate(batch)]).reshape(-1, 2, 7, 7)\n",
    "            cur_action = np.array([self.augmentation(item[2], is_flip[i], rot_times[i])\n",
    "                                   for i, item in enumerate(batch)]).reshape(-1, 2, 7, 7)\n",
    "            cur_action_mask = np.array([self.augmentation(item[3], is_flip[i], rot_times[i])\n",
    "                                   for i, item in enumerate(batch)]).reshape(-1, 2, 7, 7)\n",
    "            cur_reward = np.array([item[4] for item in batch])\n",
    "            new_state = np.array([self.augmentation(item[5], is_flip[i], rot_times[i])\n",
    "                                  for i, item in enumerate(batch)])\n",
    "            return cur_state, cur_mask, cur_action, cur_action_mask, cur_reward, new_state\n",
    "    \n",
    "    def augmentation(self, data, is_flip, rot_time): # data must have three dimentions and depth first\n",
    "        if data is None:\n",
    "            return None\n",
    "        else:\n",
    "            if is_flip:\n",
    "                data = np.fliplr(data)\n",
    "            data = np.rot90(data, k=rot_time, axes=(1, 2))\n",
    "            return data\n",
    "    \n",
    "    def size(self):\n",
    "        return len(self.relay)"
   ]
  },
  {
   "cell_type": "markdown",
   "metadata": {},
   "source": [
    "# BatchNormalization helps in hard-to-tune lr situations"
   ]
  },
  {
   "cell_type": "code",
   "execution_count": 26,
   "metadata": {},
   "outputs": [],
   "source": [
    "class CriticNetwork(object):\n",
    "    def __init__(self, TAU=0, LEARNING_RATE=0, target_model=None, model=None):\n",
    "        if target_model is None:\n",
    "            self.TAU = TAU\n",
    "            self.LEARNING_RATE = LEARNING_RATE\n",
    "\n",
    "            #Now create the model\n",
    "            with tf.device('/cpu'):\n",
    "                self.model = self.create_critic_network() \n",
    "                self.target_model = self.create_critic_network() \n",
    "                # generate a frozen model for actor critic model stacking\n",
    "                for layer in self.model.layers:\n",
    "                    layer.trainable = False\n",
    "                self.frozen_model = Model(inputs=self.model.inputs, outputs=self.model.outputs)\n",
    "                self.frozen_model.compile(loss='mse', optimizer=Adam(lr=self.LEARNING_RATE), metrics=['mse'])\n",
    "            self.gpu_model = multi_gpu_model(self.model, gpus=4)\n",
    "            self.gpu_model.compile(loss='mse', optimizer=Adam(lr=self.LEARNING_RATE), metrics=['mse'])\n",
    "        else:\n",
    "             self.target_model = target_model\n",
    "             self.model = None\n",
    "        \n",
    "    def target_train(self):\n",
    "        critic_weights = self.model.get_weights()\n",
    "        critic_target_weights = self.target_model.get_weights()\n",
    "        for i in range(len(critic_weights)):\n",
    "            critic_target_weights[i] = self.TAU * critic_weights[i] + (1 - self.TAU)* critic_target_weights[i]\n",
    "        self.target_model.set_weights(critic_target_weights)\n",
    "\n",
    "    def create_critic_network(self):\n",
    "        board_input = Input(shape=(2, 7, 7))\n",
    "\n",
    "        action_input = Input(shape=(2, 7, 7))\n",
    "        action_mask_input = Input(shape=(2, 7, 7))\n",
    "        action_one_hot = multiply(inputs=[action_input, action_mask_input])\n",
    "        # stack action_input and board_features\n",
    "        overall_input = concatenate(inputs=[action_one_hot, board_input], axis=1)\n",
    "        x = Conv2D(128, (3, 3), activation='relu', padding='valid')(overall_input)\n",
    "        x = BatchNormalization(axis=1)(x)\n",
    "        x = Conv2D(64, (3, 3), activation='relu', padding='same')(x)\n",
    "        x = BatchNormalization(axis=1)(x)\n",
    "        #x = Dropout(0.5)(x)\n",
    "        \n",
    "        x = Conv2D(128, (3, 3), activation='relu', padding='valid')(x)\n",
    "        x = BatchNormalization(axis=1)(x)\n",
    "        x = Conv2D(128, (3, 3), activation='relu', padding='same')(x)\n",
    "        x = BatchNormalization(axis=1)(x)\n",
    "        #x = Dropout(0.5)(x)\n",
    "        x = Flatten()(x)\n",
    "        \n",
    "        x = Dense(512, activation='relu')(x)\n",
    "        x = BatchNormalization(axis=1)(x)\n",
    "        x = Dense(1)(x)\n",
    "        # construct model\n",
    "        model = Model(inputs=[board_input, action_input, action_mask_input], outputs=[x])\n",
    "        print(model.summary())\n",
    "        # sgd = SGD(lr=self.LEARNING_RATE, decay=1e-6, momentum=0.9, nesterov=True)\n",
    "        model.compile(loss='mse', optimizer=Adam(lr=self.LEARNING_RATE), metrics=['mse'])\n",
    "        return model\n",
    "    \n",
    "class ActorNetwork(object):\n",
    "    def __init__(self, TAU=0, LEARNING_RATE=0, pretrain_epoch=2, is_train=True, \\\n",
    "                 file_name='target_actor_model.h5', target_model=None, model=None):\n",
    "        if not target_model is None:\n",
    "            self.target_model = target_model\n",
    "            self.model = model\n",
    "        elif is_train:\n",
    "            self.TAU = TAU\n",
    "            self.LEARNING_RATE = LEARNING_RATE\n",
    "            \n",
    "            #Now create the model\n",
    "            with tf.device('/cpu'):\n",
    "                self.model= self.create_actor_network()   \n",
    "                self.target_model= self.create_actor_network() \n",
    "                self.target_model.set_weights(self.model.get_weights())\n",
    "            if not pretrain_epoch == 0:\n",
    "                try:\n",
    "                    self.model.load_weights('pretrained_actor_model.h5')\n",
    "                    print(\"succesfully loaded the pretrained model\")\n",
    "                except:\n",
    "                    print(\"start to pre train with greedy\")\n",
    "                    self.learn_rules(128, pretrain_epoch)\n",
    "                    self.model.save_weights('pretrained_actor_model.h5')\n",
    "        else:\n",
    "            try:\n",
    "                self.target_model = load_model(file_name)\n",
    "                print(\"successfully loaded trained target model\")\n",
    "            except:\n",
    "                raise ValueError('Can not load target actor model')\n",
    "    \n",
    "    def save(self):\n",
    "        self.target_model.save('target_actor_model.h5')\n",
    "\n",
    "    def target_train(self):\n",
    "        actor_weights = self.model.get_weights()\n",
    "        actor_target_weights = self.target_model.get_weights()\n",
    "        for i in range(len(actor_weights)):\n",
    "            actor_target_weights[i] = self.TAU * actor_weights[i] + (1 - self.TAU)* actor_target_weights[i]\n",
    "        self.target_model.set_weights(actor_target_weights)\n",
    "\n",
    "    def create_actor_network(self):\n",
    "        board_input = Input(shape=(2, 7, 7))\n",
    "        mask_input = Input(shape=(2, 7, 7))\n",
    "        x = Conv2D(64, (3, 3), activation='relu', padding='valid')(board_input)\n",
    "        x = BatchNormalization(axis=1)(x)\n",
    "        x = Conv2D(64, (3, 3), activation='relu', padding='same')(x)\n",
    "        x = BatchNormalization(axis=1)(x)\n",
    "        #x = Dropout(0.25)(x)\n",
    "        \n",
    "        x = Conv2D(128, (3, 3), activation='relu', padding='valid')(x)\n",
    "        x = BatchNormalization(axis=1)(x)\n",
    "        x = Conv2D(128, (3, 3), activation='relu', padding='same')(x)\n",
    "        x = BatchNormalization(axis=1)(x)\n",
    "        #x = Dropout(0.5)(x)\n",
    "        x = Flatten()(x)\n",
    "        \n",
    "        x = Dense(98, activation='relu')(x)\n",
    "        x = Reshape((2, 7, 7))(x) \n",
    "        x = multiply(inputs=[x, mask_input])     # this mask where mask any illegal move\n",
    "        x = Reshape((2, 49))(x)\n",
    "        x = Activation('softmax')(x)\n",
    "        x = Reshape((2, 7, 7))(x) \n",
    "        model = Model(input=[board_input, mask_input],output=[x])\n",
    "        print(model.summary())\n",
    "        return model\n",
    "    \n",
    "    def get_action_prob(self, game, turn, is_target=False):\n",
    "        if not is_target:\n",
    "            return self.model.predict([np.reshape(game.get_feature_map(turn), (1, 2, 7, 7)), \n",
    "                                      np.reshape(game.get_mask(turn), (1, 2, 7, 7))])[0]\n",
    "        else:\n",
    "            return self.target_model.predict([np.reshape(game.get_feature_map(turn), (1, 2, 7, 7)), \n",
    "                                      np.reshape(game.get_mask(turn), (1, 2, 7, 7))])[0]\n",
    "    \n",
    "    \n",
    "    def get_noised_action(self, game, turn, epsilon, return_position=True, filter_invalid=True, is_target=False, mask_init=0.1, verbose=True):  # get a ϵ-greedy tuple cooridinate\n",
    "        valid_moves = game.get_moves(turn)\n",
    "        if len(valid_moves) == 0:\n",
    "            raise ValueError(\"passing a already ended game to actor\")\n",
    "        action_prob = self.get_action_prob(game, turn, is_target)\n",
    "        if random() < epsilon: # notice: Actor always only judge for turn 1\n",
    "            random_move = choice(valid_moves)\n",
    "            pos0 = random_move[0]\n",
    "            pos1 = random_move[1]\n",
    "        else:   \n",
    "            if filter_invalid == False:\n",
    "                pos0 = unravel_index(action_prob[0].argmax(), action_prob[0].shape)\n",
    "                pos1 = unravel_index(action_prob[1].argmax(), action_prob[1].shape)\n",
    "            else: # if filter invalid, output the move that has the highest probibility sum\n",
    "                max_prob_sum = -1\n",
    "                pos0 = (0, 0)\n",
    "                pos1 = (0, 0)\n",
    "                for move in valid_moves:\n",
    "                    tmp_prob_sum = action_prob[0][move[0]] + action_prob[1][move[1]]\n",
    "                    if tmp_prob_sum > max_prob_sum:\n",
    "                        max_prob_sum = tmp_prob_sum\n",
    "                        pos0 = move[0]\n",
    "                        pos1 = move[1]\n",
    "                if verbose:\n",
    "                    print(\"predicted prob for this move is:\", max_prob_sum)\n",
    "                \n",
    "                \n",
    "        # give out array(2, 7, 7) one-hot\n",
    "        start_pos = np.divide(np.ones((7, 7)) * mask_init, action_prob[0])\n",
    "        start_pos[pos0] = 1 / action_prob[0][pos0]\n",
    "        end_pos = np.divide(np.ones((7, 7)) * mask_init, action_prob[1])\n",
    "        end_pos[pos1] = 1 / action_prob[1][pos1]\n",
    "        if return_position:\n",
    "            return (pos0[0], pos0[1]), (pos1[0], pos1[1]), \\\n",
    "                np.concatenate((start_pos.reshape(1, 7, 7), end_pos.reshape(1, 7, 7)), axis=0)\n",
    "        else:\n",
    "            return action_prob, np.concatenate((start_pos.reshape(1, 7, 7), end_pos.reshape(1, 7, 7)), axis=0)\n",
    "\n",
    "    def data_generator(self, batch_size, max_size=5000):\n",
    "        relay = Relay(max_size)\n",
    "        game = Ataxx()\n",
    "        turn = -1\n",
    "        while True:            \n",
    "            new_sample = []\n",
    "            new_sample.append(game.get_feature_map(turn))\n",
    "            new_sample.append(game.get_mask(turn))\n",
    "            \n",
    "            try:\n",
    "                greedy_move = game.get_greedy_move(turn)\n",
    "            except:\n",
    "                game = Ataxx()\n",
    "                turn = -1\n",
    "                continue\n",
    "            start_prob_map = np.zeros((7, 7))\n",
    "            start_prob_map[greedy_move[0]] = 1\n",
    "            end_prob_map = np.zeros((7, 7))\n",
    "            end_prob_map[greedy_move[1]] = 1\n",
    "                \n",
    "            new_sample.append(np.concatenate((start_prob_map.reshape(1, 7, 7), end_prob_map.reshape(1, 7, 7)), axis=0))\n",
    "            new_sample.append(new_sample[-1])\n",
    "            new_sample.extend([None, None])\n",
    "            relay.add_sample(new_sample)\n",
    "            \n",
    "            move = choice(game.get_moves(turn))\n",
    "            game.move_to(turn, move[0], move[1])\n",
    "            turn = -turn\n",
    "            \n",
    "            if relay.size() > batch_size:\n",
    "                state, mask, action, _, _, _, _, _, _ = relay.get_batch(batch_size)\n",
    "                yield [state, mask], action  \n",
    "                \n",
    "    def learn_rules(self, batch_size, epochs=10):\n",
    "        game = Ataxx()\n",
    "        print(\"original action prob map predicted by initial model for a starting game\")\n",
    "        print(self.get_action_prob(game, -1))\n",
    "        sgd = SGD(lr=0.1, decay=1e-6, momentum=0.9, nesterov=True)\n",
    "        gpu_model = multi_gpu_model(self.model, gpus=4)\n",
    "        gpu_model.compile(loss='categorical_crossentropy', optimizer=sgd, metrics=['acc'])\n",
    "        gpu_model.fit_generator(self.data_generator(batch_size), steps_per_epoch=1000, epochs=epochs, \n",
    "                                    verbose=1,\n",
    "                                    validation_data=self.data_generator(32), \n",
    "                                    validation_steps=1,\n",
    "                                    workers=8,\n",
    "                                    use_multiprocessing=True,\n",
    "                                    callbacks=[ReduceLROnPlateau(cooldown=5, min_lr=0.01, patience=2)])\n",
    "        game = Ataxx()\n",
    "        print(\"trained action prob map predicted by initial model for a starting game\")\n",
    "        print(self.get_action_prob(game, -1))"
   ]
  },
  {
   "cell_type": "code",
   "execution_count": 27,
   "metadata": {
    "collapsed": true
   },
   "outputs": [],
   "source": [
    "def neg_linear_loss(y_true, y_pred):\n",
    "    return K.mean(-y_pred)\n",
    "\n",
    "def reinforcement_learning(epochs=1000, check_point=True, step_per_epoch=50, \\\n",
    "                           BATCH_SIZE=64, TRAIN_BATCH_TIME=1, GAMMA=0.99, RELAY_SIZE=10000, TAU=0.001, LRA=0.0001, LRC=0.0001):        \n",
    "    actor = ActorNetwork(TAU, LRA, 0)\n",
    "    critic = CriticNetwork(TAU, LRC)\n",
    "    relay = Relay(RELAY_SIZE)\n",
    "\n",
    "    with tf.device('/cpu'):\n",
    "        actor_critic_model = Model(inputs=[actor.model.inputs[0], actor.model.inputs[1], critic.frozen_model.inputs[2]],\n",
    "                                   outputs=[critic.frozen_model([actor.model.inputs[0], actor.model.outputs[0], critic.frozen_model.inputs[2]])])\n",
    "        sgd = SGD(lr=LRA, decay=5e-7, momentum=0.9, nesterov=True)\n",
    "        actor_critic_model.compile(loss=neg_linear_loss, optimizer=sgd)\n",
    "    # gpu_ac_model = multi_gpu_model(actor_critic_model, gpus=4)\n",
    "    # gpu_ac_model.compile(loss=neg_linear_loss, optimizer=Adam(lr=LRA))\n",
    "    print(actor_critic_model.summary())\n",
    "\n",
    "    \n",
    "    max_score = 1\n",
    "    min_score = 0.02\n",
    "    policy_mask_init = 0.01\n",
    "    \n",
    "    for ep in range(epochs):\n",
    "        reward = 0\n",
    "        step = 0\n",
    "\n",
    "        game = Ataxx()\n",
    "        turn = -1 # start turn is -1\n",
    "\n",
    "        while abs(game.evaluate(turn, turn, max_score, min_score)) != max_score:\n",
    "            new_sample = [] # prepare to collect new sample\n",
    "            \n",
    "            pos0, pos1, cur_action_mask = actor.get_noised_action(game, turn, epsilon=0.1, mask_init=policy_mask_init) # get proposed action\n",
    "\n",
    "            new_state = game.simu_move_to(turn, pos0, pos1)\n",
    "            \n",
    "            # create new_sample and add that to relay\n",
    "            new_sample.append(game.get_feature_map(turn)) # cur_state\n",
    "            new_sample.append(game.get_mask(turn)) # cur_mask\n",
    "            new_sample.append(actor.get_action_prob(game, turn)) # cur_action\n",
    "            new_sample.append(cur_action_mask) # cur_action_mask\n",
    "            \n",
    "            game.move_to(turn, pos0, pos1) # do the move here if the move is valid\n",
    "            turn = -turn # the turn now is the next turn, what we are learning for is -turn\n",
    "            \n",
    "            new_sample.append(game.evaluate(-turn, turn, max_score, min_score)) # cur_reward\n",
    "            if abs(new_sample[-1]) == max_score:\n",
    "                new_sample.append(None) \n",
    "            else:\n",
    "                new_sample.append(game.get_feature_map(turn)) # new_state\n",
    "                \n",
    "            relay.add_sample(new_sample)\n",
    "            step += 1\n",
    "        \n",
    "        print(\"Episode : \" + str(ep) + \" Replay Buffer \" + str(relay.size()))\n",
    "        print(\"TOTAL REWARD @ \" + str(ep) +\"-th Episode  : Reward \" + str(game.evaluate(1, turn, max_score, min_score)))\n",
    "        print(\"Total Step: \" + str(step))\n",
    "        \n",
    "        #Do the batch update....if possible\n",
    "        if relay.size() > BATCH_SIZE:\n",
    "            for t in range(step_per_epoch):\n",
    "                cur_state, cur_mask, cur_action, cur_action_mask, \\\n",
    "                    cur_reward, new_state = relay.get_batch(BATCH_SIZE)\n",
    "                q_target = np.zeros(BATCH_SIZE)\n",
    "\n",
    "                for k in range(BATCH_SIZE):\n",
    "                    if new_state[k] is None:\n",
    "                        q_target[k] = cur_reward[k]\n",
    "                    else:\n",
    "                        # generate new action\n",
    "                        board = new_state[k][0] - new_state[k][1]\n",
    "                        tmp_game = Ataxx(board) # recover the game board\n",
    "                        \n",
    "                        new_action, new_action_mask = actor.get_noised_action(tmp_game, 1, epsilon=0, return_position=False, \n",
    "                                                                    mask_init=policy_mask_init, is_target=True, verbose=False)\n",
    "                        # print(\"new_state\", tmp_game.data)\n",
    "                        # print(\"new_masked_action\", np.multiply(new_action, new_action_mask))\n",
    "                        q_new = critic.target_model.predict([new_state[k].reshape(1, 2, 7, 7), \n",
    "                                                            new_action.reshape(1, 2, 7, 7),\n",
    "                                                            new_action_mask.reshape(1, 2, 7, 7)])[0]\n",
    "                        q_target[k] = cur_reward[k] - GAMMA*q_new # cuz this q_new is for the opponent\n",
    "\n",
    "                # notice, even if the model is set not trainable, BN layer will still change\n",
    "                print(\"train start:\")\n",
    "                # train models\n",
    "                print(\"critic loss\", critic.model.train_on_batch([cur_state, cur_action, cur_action_mask], q_target))\n",
    "                print(\"actor loss\", actor_critic_model.train_on_batch([cur_state, cur_mask, cur_action_mask], np.zeros(BATCH_SIZE)))\n",
    "                # update stable target models\n",
    "                actor.target_train()\n",
    "                critic.target_train()\n",
    "                \n",
    "                print(\"train end\")\n",
    "   \n",
    "        if check_point:\n",
    "            actor.save()\n",
    "        tmp_game = Ataxx()\n",
    "        print(\"trained action prob map predicted by initial model for a starting game\")\n",
    "        print(actor.get_action_prob(tmp_game, -1, is_target=True))\n",
    "\n",
    "    print(\"Finish.\")\n",
    "    actor.save()\n",
    "    return actor"
   ]
  },
  {
   "cell_type": "code",
   "execution_count": 35,
   "metadata": {},
   "outputs": [],
   "source": [
    "def reinforcement_data_generator(actor_model, actor_target, critic_model, critic_target, relay, \\\n",
    "                                 train_critic=True, step_per_episode=50, \\\n",
    "                                 BATCH_SIZE=64, GAMMA=0.99, RELAY_SIZE=10000): \n",
    "    max_score = 1\n",
    "    min_score = 0.02\n",
    "    policy_mask_init = 0.01\n",
    "    \n",
    "    actor = ActorNetwork(target_model=actor_target, model=actor_model)\n",
    "    critic = CriticNetwork(target_model=critic_target, model=actor_model)\n",
    "    print(\"actor critic prepared\")\n",
    "    \n",
    "    while True:\n",
    "        reward = 0\n",
    "        step = 0\n",
    "\n",
    "        game = Ataxx()\n",
    "        turn = -1 # start turn is -1\n",
    "\n",
    "        while abs(game.evaluate(turn, turn, max_score, min_score)) != max_score:\n",
    "            new_sample = [] # prepare to collect new sample\n",
    "\n",
    "            pos0, pos1, cur_action_mask = actor.get_noised_action(game, turn, epsilon=0.1, mask_init=policy_mask_init, verbose=0) # get proposed action\n",
    "\n",
    "            new_state = game.simu_move_to(turn, pos0, pos1)\n",
    "\n",
    "            # create new_sample and add that to relay\n",
    "            new_sample.append(game.get_feature_map(turn)) # cur_state\n",
    "            new_sample.append(game.get_mask(turn)) # cur_mask\n",
    "            new_sample.append(actor.get_action_prob(game, turn)) # cur_action\n",
    "            new_sample.append(cur_action_mask) # cur_action_mask\n",
    "\n",
    "            game.move_to(turn, pos0, pos1) # do the move here if the move is valid\n",
    "            turn = -turn # the turn now is the next turn, what we are learning for is -turn\n",
    "\n",
    "            new_sample.append(game.evaluate(-turn, turn, max_score, min_score)) # cur_reward\n",
    "            if abs(new_sample[-1]) == max_score:\n",
    "                new_sample.append(None) \n",
    "            else:\n",
    "                new_sample.append(game.get_feature_map(turn)) # new_state\n",
    "\n",
    "            relay.add_sample(new_sample)\n",
    "        \n",
    "        if relay.size() > BATCH_SIZE:\n",
    "            for t in range(step_per_episode):\n",
    "                cur_state, cur_mask, cur_action, cur_action_mask, \\\n",
    "                    cur_reward, new_state = relay.get_batch(BATCH_SIZE)\n",
    "                q_target = np.zeros(BATCH_SIZE)\n",
    "\n",
    "                for k in range(BATCH_SIZE):\n",
    "                    if new_state[k] is None:\n",
    "                        q_target[k] = cur_reward[k]\n",
    "                    else:\n",
    "                        # generate new action\n",
    "                        board = new_state[k][0] - new_state[k][1]\n",
    "                        tmp_game = Ataxx(board) # recover the game board\n",
    "                        \n",
    "                        new_action, new_action_mask = actor.get_noised_action(tmp_game, 1, epsilon=0, return_position=False, \n",
    "                                                                    mask_init=policy_mask_init, is_target=True, verbose=False)\n",
    "                        q_new = critic.target_model.predict([new_state[k].reshape(1, 2, 7, 7), \n",
    "                                                            new_action.reshape(1, 2, 7, 7),\n",
    "                                                            new_action_mask.reshape(1, 2, 7, 7)])[0]\n",
    "                        q_target[k] = cur_reward[k] - GAMMA*q_new # cuz this q_new is for the opponent\n",
    "                if train_critic:\n",
    "                    yield [cur_state, cur_action, cur_action_mask], q_target\n",
    "                else:\n",
    "                    yield [cur_state, cur_mask, cur_action_mask], np.zeros(BATCH_SIZE)\n",
    "                    \n",
    "def actor_critic_trainer(epochs=1000, check_point=True, steps_per_epoch=50, \\\n",
    "                           BATCH_SIZE=64, TRAIN_BATCH_TIME=1, GAMMA=0.99, RELAY_SIZE=10000, TAU=0.001, LRA=0.0001, LRC=0.0001): \n",
    "    actor = ActorNetwork(TAU, LRA, 0)\n",
    "    critic = CriticNetwork(TAU, LRC)\n",
    "    relay = Relay(RELAY_SIZE)\n",
    "\n",
    "    with tf.device('/cpu'):\n",
    "        actor_critic_model = Model(inputs=[actor.model.inputs[0], actor.model.inputs[1], critic.frozen_model.inputs[2]],\n",
    "                                   outputs=[critic.frozen_model([actor.model.inputs[0], actor.model.outputs[0], critic.frozen_model.inputs[2]])])\n",
    "        sgd = SGD(lr=LRA, decay=5e-7, momentum=0.9, nesterov=True)\n",
    "        actor_critic_model.compile(loss=neg_linear_loss, optimizer=sgd)\n",
    "    gpu_ac_model = multi_gpu_model(actor_critic_model, gpus=4)\n",
    "    gpu_ac_model.compile(loss=neg_linear_loss, optimizer=Adam(lr=LRA))\n",
    "    print(gpu_ac_model.summary())\n",
    "    \n",
    "    for ep in range(epochs):\n",
    "        critic.gpu_model.fit_generator(reinforcement_data_generator(actor.model, actor.target_model, \\\n",
    "                                                                    critic.model, critic.target_model, \\\n",
    "                                                                    relay, train_critic=True, \\\n",
    "                                                                    step_per_episode=50, \\\n",
    "                                                                    BATCH_SIZE=256, GAMMA=0.99, RELAY_SIZE=RELAY_SIZE),\\\n",
    "                                       verbose=1, steps_per_epoch=steps_per_epoch)\n",
    "        gpu_ac_model.fit_generator(reinforcement_data_generator(actor.model, actor.target_model, \\\n",
    "                                                                critic.model, critic.target_model, \\\n",
    "                                                                relay, train_critic=False, \\\n",
    "                                                                step_per_episode=50, \\\n",
    "                                                                BATCH_SIZE=256, GAMMA=0.99, RELAY_SIZE=RELAY_SIZE),\\\n",
    "                                   verbose=1, steps_per_epoch=steps_per_epoch)\n",
    "        actor.target_train()\n",
    "        critic.target_train()\n",
    "        \n",
    "        if check_point:\n",
    "            actor.save()\n",
    "        tmp_game = Ataxx()\n",
    "        print(\"trained action prob map predicted by initial model for a starting game\")\n",
    "        print(actor.get_action_prob(tmp_game, -1, is_target=True))"
   ]
  },
  {
   "cell_type": "code",
   "execution_count": 36,
   "metadata": {
    "scrolled": true
   },
   "outputs": [
    {
     "name": "stderr",
     "output_type": "stream",
     "text": [
      "/home/yuze/anaconda3/envs/tensorflow/lib/python3.5/site-packages/ipykernel_launcher.py:121: UserWarning: Update your `Model` call to the Keras 2 API: `Model(outputs=[<tf.Tenso..., inputs=[<tf.Tenso...)`\n"
     ]
    },
    {
     "name": "stdout",
     "output_type": "stream",
     "text": [
      "__________________________________________________________________________________________________\n",
      "Layer (type)                    Output Shape         Param #     Connected to                     \n",
      "==================================================================================================\n",
      "input_61 (InputLayer)           (None, 2, 7, 7)      0                                            \n",
      "__________________________________________________________________________________________________\n",
      "conv2d_97 (Conv2D)              (None, 64, 5, 5)     1216        input_61[0][0]                   \n",
      "__________________________________________________________________________________________________\n",
      "batch_normalization_109 (BatchN (None, 64, 5, 5)     256         conv2d_97[0][0]                  \n",
      "__________________________________________________________________________________________________\n",
      "conv2d_98 (Conv2D)              (None, 64, 5, 5)     36928       batch_normalization_109[0][0]    \n",
      "__________________________________________________________________________________________________\n",
      "batch_normalization_110 (BatchN (None, 64, 5, 5)     256         conv2d_98[0][0]                  \n",
      "__________________________________________________________________________________________________\n",
      "conv2d_99 (Conv2D)              (None, 128, 3, 3)    73856       batch_normalization_110[0][0]    \n",
      "__________________________________________________________________________________________________\n",
      "batch_normalization_111 (BatchN (None, 128, 3, 3)    512         conv2d_99[0][0]                  \n",
      "__________________________________________________________________________________________________\n",
      "conv2d_100 (Conv2D)             (None, 128, 3, 3)    147584      batch_normalization_111[0][0]    \n",
      "__________________________________________________________________________________________________\n",
      "batch_normalization_112 (BatchN (None, 128, 3, 3)    512         conv2d_100[0][0]                 \n",
      "__________________________________________________________________________________________________\n",
      "flatten_25 (Flatten)            (None, 1152)         0           batch_normalization_112[0][0]    \n",
      "__________________________________________________________________________________________________\n",
      "dense_37 (Dense)                (None, 98)           112994      flatten_25[0][0]                 \n",
      "__________________________________________________________________________________________________\n",
      "reshape_37 (Reshape)            (None, 2, 7, 7)      0           dense_37[0][0]                   \n",
      "__________________________________________________________________________________________________\n",
      "input_62 (InputLayer)           (None, 2, 7, 7)      0                                            \n",
      "__________________________________________________________________________________________________\n",
      "multiply_25 (Multiply)          (None, 2, 7, 7)      0           reshape_37[0][0]                 \n",
      "                                                                 input_62[0][0]                   \n",
      "__________________________________________________________________________________________________\n",
      "reshape_38 (Reshape)            (None, 2, 49)        0           multiply_25[0][0]                \n",
      "__________________________________________________________________________________________________\n",
      "activation_13 (Activation)      (None, 2, 49)        0           reshape_38[0][0]                 \n",
      "__________________________________________________________________________________________________\n",
      "reshape_39 (Reshape)            (None, 2, 7, 7)      0           activation_13[0][0]              \n",
      "==================================================================================================\n",
      "Total params: 374,114\n",
      "Trainable params: 373,346\n",
      "Non-trainable params: 768\n",
      "__________________________________________________________________________________________________\n",
      "None\n",
      "__________________________________________________________________________________________________\n",
      "Layer (type)                    Output Shape         Param #     Connected to                     \n",
      "==================================================================================================\n",
      "input_63 (InputLayer)           (None, 2, 7, 7)      0                                            \n",
      "__________________________________________________________________________________________________\n",
      "conv2d_101 (Conv2D)             (None, 64, 5, 5)     1216        input_63[0][0]                   \n",
      "__________________________________________________________________________________________________\n",
      "batch_normalization_113 (BatchN (None, 64, 5, 5)     256         conv2d_101[0][0]                 \n",
      "__________________________________________________________________________________________________\n",
      "conv2d_102 (Conv2D)             (None, 64, 5, 5)     36928       batch_normalization_113[0][0]    \n",
      "__________________________________________________________________________________________________\n",
      "batch_normalization_114 (BatchN (None, 64, 5, 5)     256         conv2d_102[0][0]                 \n",
      "__________________________________________________________________________________________________\n",
      "conv2d_103 (Conv2D)             (None, 128, 3, 3)    73856       batch_normalization_114[0][0]    \n",
      "__________________________________________________________________________________________________\n",
      "batch_normalization_115 (BatchN (None, 128, 3, 3)    512         conv2d_103[0][0]                 \n",
      "__________________________________________________________________________________________________\n",
      "conv2d_104 (Conv2D)             (None, 128, 3, 3)    147584      batch_normalization_115[0][0]    \n",
      "__________________________________________________________________________________________________\n",
      "batch_normalization_116 (BatchN (None, 128, 3, 3)    512         conv2d_104[0][0]                 \n",
      "__________________________________________________________________________________________________\n",
      "flatten_26 (Flatten)            (None, 1152)         0           batch_normalization_116[0][0]    \n",
      "__________________________________________________________________________________________________\n",
      "dense_38 (Dense)                (None, 98)           112994      flatten_26[0][0]                 \n",
      "__________________________________________________________________________________________________\n",
      "reshape_40 (Reshape)            (None, 2, 7, 7)      0           dense_38[0][0]                   \n",
      "__________________________________________________________________________________________________\n",
      "input_64 (InputLayer)           (None, 2, 7, 7)      0                                            \n",
      "__________________________________________________________________________________________________\n",
      "multiply_26 (Multiply)          (None, 2, 7, 7)      0           reshape_40[0][0]                 \n",
      "                                                                 input_64[0][0]                   \n",
      "__________________________________________________________________________________________________\n",
      "reshape_41 (Reshape)            (None, 2, 49)        0           multiply_26[0][0]                \n",
      "__________________________________________________________________________________________________\n",
      "activation_14 (Activation)      (None, 2, 49)        0           reshape_41[0][0]                 \n",
      "__________________________________________________________________________________________________\n",
      "reshape_42 (Reshape)            (None, 2, 7, 7)      0           activation_14[0][0]              \n",
      "==================================================================================================\n",
      "Total params: 374,114\n",
      "Trainable params: 373,346\n",
      "Non-trainable params: 768\n",
      "__________________________________________________________________________________________________\n",
      "None\n",
      "__________________________________________________________________________________________________\n",
      "Layer (type)                    Output Shape         Param #     Connected to                     \n",
      "==================================================================================================\n",
      "input_66 (InputLayer)           (None, 2, 7, 7)      0                                            \n",
      "__________________________________________________________________________________________________\n",
      "input_67 (InputLayer)           (None, 2, 7, 7)      0                                            \n",
      "__________________________________________________________________________________________________\n",
      "multiply_27 (Multiply)          (None, 2, 7, 7)      0           input_66[0][0]                   \n",
      "                                                                 input_67[0][0]                   \n",
      "__________________________________________________________________________________________________\n",
      "input_65 (InputLayer)           (None, 2, 7, 7)      0                                            \n",
      "__________________________________________________________________________________________________\n",
      "concatenate_13 (Concatenate)    (None, 4, 7, 7)      0           multiply_27[0][0]                \n",
      "                                                                 input_65[0][0]                   \n",
      "__________________________________________________________________________________________________\n",
      "conv2d_105 (Conv2D)             (None, 128, 5, 5)    4736        concatenate_13[0][0]             \n",
      "__________________________________________________________________________________________________\n",
      "batch_normalization_117 (BatchN (None, 128, 5, 5)    512         conv2d_105[0][0]                 \n",
      "__________________________________________________________________________________________________\n",
      "conv2d_106 (Conv2D)             (None, 64, 5, 5)     73792       batch_normalization_117[0][0]    \n",
      "__________________________________________________________________________________________________\n",
      "batch_normalization_118 (BatchN (None, 64, 5, 5)     256         conv2d_106[0][0]                 \n",
      "__________________________________________________________________________________________________\n",
      "conv2d_107 (Conv2D)             (None, 128, 3, 3)    73856       batch_normalization_118[0][0]    \n",
      "__________________________________________________________________________________________________\n",
      "batch_normalization_119 (BatchN (None, 128, 3, 3)    512         conv2d_107[0][0]                 \n",
      "__________________________________________________________________________________________________\n",
      "conv2d_108 (Conv2D)             (None, 128, 3, 3)    147584      batch_normalization_119[0][0]    \n",
      "__________________________________________________________________________________________________\n",
      "batch_normalization_120 (BatchN (None, 128, 3, 3)    512         conv2d_108[0][0]                 \n",
      "__________________________________________________________________________________________________\n",
      "flatten_27 (Flatten)            (None, 1152)         0           batch_normalization_120[0][0]    \n",
      "__________________________________________________________________________________________________\n",
      "dense_39 (Dense)                (None, 512)          590336      flatten_27[0][0]                 \n",
      "__________________________________________________________________________________________________\n",
      "batch_normalization_121 (BatchN (None, 512)          2048        dense_39[0][0]                   \n",
      "__________________________________________________________________________________________________\n",
      "dense_40 (Dense)                (None, 1)            513         batch_normalization_121[0][0]    \n",
      "==================================================================================================\n",
      "Total params: 894,657\n",
      "Trainable params: 892,737\n",
      "Non-trainable params: 1,920\n",
      "__________________________________________________________________________________________________\n",
      "None\n"
     ]
    },
    {
     "name": "stdout",
     "output_type": "stream",
     "text": [
      "__________________________________________________________________________________________________\n",
      "Layer (type)                    Output Shape         Param #     Connected to                     \n",
      "==================================================================================================\n",
      "input_69 (InputLayer)           (None, 2, 7, 7)      0                                            \n",
      "__________________________________________________________________________________________________\n",
      "input_70 (InputLayer)           (None, 2, 7, 7)      0                                            \n",
      "__________________________________________________________________________________________________\n",
      "multiply_28 (Multiply)          (None, 2, 7, 7)      0           input_69[0][0]                   \n",
      "                                                                 input_70[0][0]                   \n",
      "__________________________________________________________________________________________________\n",
      "input_68 (InputLayer)           (None, 2, 7, 7)      0                                            \n",
      "__________________________________________________________________________________________________\n",
      "concatenate_14 (Concatenate)    (None, 4, 7, 7)      0           multiply_28[0][0]                \n",
      "                                                                 input_68[0][0]                   \n",
      "__________________________________________________________________________________________________\n",
      "conv2d_109 (Conv2D)             (None, 128, 5, 5)    4736        concatenate_14[0][0]             \n",
      "__________________________________________________________________________________________________\n",
      "batch_normalization_122 (BatchN (None, 128, 5, 5)    512         conv2d_109[0][0]                 \n",
      "__________________________________________________________________________________________________\n",
      "conv2d_110 (Conv2D)             (None, 64, 5, 5)     73792       batch_normalization_122[0][0]    \n",
      "__________________________________________________________________________________________________\n",
      "batch_normalization_123 (BatchN (None, 64, 5, 5)     256         conv2d_110[0][0]                 \n",
      "__________________________________________________________________________________________________\n",
      "conv2d_111 (Conv2D)             (None, 128, 3, 3)    73856       batch_normalization_123[0][0]    \n",
      "__________________________________________________________________________________________________\n",
      "batch_normalization_124 (BatchN (None, 128, 3, 3)    512         conv2d_111[0][0]                 \n",
      "__________________________________________________________________________________________________\n",
      "conv2d_112 (Conv2D)             (None, 128, 3, 3)    147584      batch_normalization_124[0][0]    \n",
      "__________________________________________________________________________________________________\n",
      "batch_normalization_125 (BatchN (None, 128, 3, 3)    512         conv2d_112[0][0]                 \n",
      "__________________________________________________________________________________________________\n",
      "flatten_28 (Flatten)            (None, 1152)         0           batch_normalization_125[0][0]    \n",
      "__________________________________________________________________________________________________\n",
      "dense_41 (Dense)                (None, 512)          590336      flatten_28[0][0]                 \n",
      "__________________________________________________________________________________________________\n",
      "batch_normalization_126 (BatchN (None, 512)          2048        dense_41[0][0]                   \n",
      "__________________________________________________________________________________________________\n",
      "dense_42 (Dense)                (None, 1)            513         batch_normalization_126[0][0]    \n",
      "==================================================================================================\n",
      "Total params: 894,657\n",
      "Trainable params: 892,737\n",
      "Non-trainable params: 1,920\n",
      "__________________________________________________________________________________________________\n",
      "None\n",
      "__________________________________________________________________________________________________\n",
      "Layer (type)                    Output Shape         Param #     Connected to                     \n",
      "==================================================================================================\n",
      "input_61 (InputLayer)           (None, 2, 7, 7)      0                                            \n",
      "__________________________________________________________________________________________________\n",
      "input_62 (InputLayer)           (None, 2, 7, 7)      0                                            \n",
      "__________________________________________________________________________________________________\n",
      "input_67 (InputLayer)           (None, 2, 7, 7)      0                                            \n",
      "__________________________________________________________________________________________________\n",
      "lambda_133 (Lambda)             (None, 2, 7, 7)      0           input_61[0][0]                   \n",
      "__________________________________________________________________________________________________\n",
      "lambda_134 (Lambda)             (None, 2, 7, 7)      0           input_62[0][0]                   \n",
      "__________________________________________________________________________________________________\n",
      "lambda_135 (Lambda)             (None, 2, 7, 7)      0           input_67[0][0]                   \n",
      "__________________________________________________________________________________________________\n",
      "lambda_136 (Lambda)             (None, 2, 7, 7)      0           input_61[0][0]                   \n",
      "__________________________________________________________________________________________________\n",
      "lambda_137 (Lambda)             (None, 2, 7, 7)      0           input_62[0][0]                   \n",
      "__________________________________________________________________________________________________\n",
      "lambda_138 (Lambda)             (None, 2, 7, 7)      0           input_67[0][0]                   \n",
      "__________________________________________________________________________________________________\n",
      "lambda_139 (Lambda)             (None, 2, 7, 7)      0           input_61[0][0]                   \n",
      "__________________________________________________________________________________________________\n",
      "lambda_140 (Lambda)             (None, 2, 7, 7)      0           input_62[0][0]                   \n",
      "__________________________________________________________________________________________________\n",
      "lambda_141 (Lambda)             (None, 2, 7, 7)      0           input_67[0][0]                   \n",
      "__________________________________________________________________________________________________\n",
      "lambda_142 (Lambda)             (None, 2, 7, 7)      0           input_61[0][0]                   \n",
      "__________________________________________________________________________________________________\n",
      "lambda_143 (Lambda)             (None, 2, 7, 7)      0           input_62[0][0]                   \n",
      "__________________________________________________________________________________________________\n",
      "lambda_144 (Lambda)             (None, 2, 7, 7)      0           input_67[0][0]                   \n",
      "__________________________________________________________________________________________________\n",
      "model_53 (Model)                (None, 1)            1268771     lambda_133[0][0]                 \n",
      "                                                                 lambda_134[0][0]                 \n",
      "                                                                 lambda_135[0][0]                 \n",
      "                                                                 lambda_136[0][0]                 \n",
      "                                                                 lambda_137[0][0]                 \n",
      "                                                                 lambda_138[0][0]                 \n",
      "                                                                 lambda_139[0][0]                 \n",
      "                                                                 lambda_140[0][0]                 \n",
      "                                                                 lambda_141[0][0]                 \n",
      "                                                                 lambda_142[0][0]                 \n",
      "                                                                 lambda_143[0][0]                 \n",
      "                                                                 lambda_144[0][0]                 \n",
      "__________________________________________________________________________________________________\n",
      "model_51 (Concatenate)          (None, 1)            0           model_53[1][0]                   \n",
      "                                                                 model_53[2][0]                   \n",
      "                                                                 model_53[3][0]                   \n",
      "                                                                 model_53[4][0]                   \n",
      "==================================================================================================\n",
      "Total params: 1,268,771\n",
      "Trainable params: 373,346\n",
      "Non-trainable params: 895,425\n",
      "__________________________________________________________________________________________________\n",
      "None\n",
      "actor critic prepared\n",
      "Epoch 1/1\n"
     ]
    },
    {
     "ename": "ValueError",
     "evalue": "Tensor Tensor(\"reshape_39/Reshape:0\", shape=(?, 2, 7, 7), dtype=float32, device=/device:CPU:*) is not an element of this graph.",
     "output_type": "error",
     "traceback": [
      "\u001b[0;31m---------------------------------------------------------------------------\u001b[0m",
      "\u001b[0;31mValueError\u001b[0m                                Traceback (most recent call last)",
      "\u001b[0;32m<ipython-input-36-b7fc6193168b>\u001b[0m in \u001b[0;36m<module>\u001b[0;34m()\u001b[0m\n\u001b[0;32m----> 1\u001b[0;31m \u001b[0mactor_critic_trainer\u001b[0m\u001b[0;34m(\u001b[0m\u001b[0mepochs\u001b[0m\u001b[0;34m=\u001b[0m\u001b[0;36m1000\u001b[0m\u001b[0;34m,\u001b[0m \u001b[0mcheck_point\u001b[0m\u001b[0;34m=\u001b[0m\u001b[0;32mTrue\u001b[0m\u001b[0;34m,\u001b[0m \u001b[0msteps_per_epoch\u001b[0m\u001b[0;34m=\u001b[0m\u001b[0;36m50\u001b[0m\u001b[0;34m,\u001b[0m                      \u001b[0mBATCH_SIZE\u001b[0m\u001b[0;34m=\u001b[0m\u001b[0;36m64\u001b[0m\u001b[0;34m,\u001b[0m \u001b[0mTRAIN_BATCH_TIME\u001b[0m\u001b[0;34m=\u001b[0m\u001b[0;36m1\u001b[0m\u001b[0;34m,\u001b[0m \u001b[0mGAMMA\u001b[0m\u001b[0;34m=\u001b[0m\u001b[0;36m0.99\u001b[0m\u001b[0;34m,\u001b[0m \u001b[0mRELAY_SIZE\u001b[0m\u001b[0;34m=\u001b[0m\u001b[0;36m10000\u001b[0m\u001b[0;34m,\u001b[0m                      \u001b[0mTAU\u001b[0m\u001b[0;34m=\u001b[0m\u001b[0;36m0.001\u001b[0m\u001b[0;34m,\u001b[0m \u001b[0mLRA\u001b[0m\u001b[0;34m=\u001b[0m\u001b[0;36m0.0001\u001b[0m\u001b[0;34m,\u001b[0m \u001b[0mLRC\u001b[0m\u001b[0;34m=\u001b[0m\u001b[0;36m0.0001\u001b[0m\u001b[0;34m)\u001b[0m\u001b[0;34m\u001b[0m\u001b[0m\n\u001b[0m\u001b[1;32m      2\u001b[0m \u001b[0;34m\u001b[0m\u001b[0m\n",
      "\u001b[0;32m<ipython-input-35-607b6fc5c699>\u001b[0m in \u001b[0;36mactor_critic_trainer\u001b[0;34m(epochs, check_point, steps_per_epoch, BATCH_SIZE, TRAIN_BATCH_TIME, GAMMA, RELAY_SIZE, TAU, LRA, LRC)\u001b[0m\n\u001b[1;32m     78\u001b[0m \u001b[0;34m\u001b[0m\u001b[0m\n\u001b[1;32m     79\u001b[0m     \u001b[0;32mfor\u001b[0m \u001b[0mep\u001b[0m \u001b[0;32min\u001b[0m \u001b[0mrange\u001b[0m\u001b[0;34m(\u001b[0m\u001b[0mepochs\u001b[0m\u001b[0;34m)\u001b[0m\u001b[0;34m:\u001b[0m\u001b[0;34m\u001b[0m\u001b[0m\n\u001b[0;32m---> 80\u001b[0;31m         \u001b[0mcritic\u001b[0m\u001b[0;34m.\u001b[0m\u001b[0mgpu_model\u001b[0m\u001b[0;34m.\u001b[0m\u001b[0mfit_generator\u001b[0m\u001b[0;34m(\u001b[0m\u001b[0mreinforcement_data_generator\u001b[0m\u001b[0;34m(\u001b[0m\u001b[0mactor\u001b[0m\u001b[0;34m.\u001b[0m\u001b[0mmodel\u001b[0m\u001b[0;34m,\u001b[0m \u001b[0mactor\u001b[0m\u001b[0;34m.\u001b[0m\u001b[0mtarget_model\u001b[0m\u001b[0;34m,\u001b[0m                                                                     \u001b[0mcritic\u001b[0m\u001b[0;34m.\u001b[0m\u001b[0mmodel\u001b[0m\u001b[0;34m,\u001b[0m \u001b[0mcritic\u001b[0m\u001b[0;34m.\u001b[0m\u001b[0mtarget_model\u001b[0m\u001b[0;34m,\u001b[0m                                                                     \u001b[0mrelay\u001b[0m\u001b[0;34m,\u001b[0m \u001b[0mtrain_critic\u001b[0m\u001b[0;34m=\u001b[0m\u001b[0;32mTrue\u001b[0m\u001b[0;34m,\u001b[0m                                                                     \u001b[0mstep_per_episode\u001b[0m\u001b[0;34m=\u001b[0m\u001b[0;36m50\u001b[0m\u001b[0;34m,\u001b[0m                                                                     \u001b[0mBATCH_SIZE\u001b[0m\u001b[0;34m=\u001b[0m\u001b[0;36m256\u001b[0m\u001b[0;34m,\u001b[0m \u001b[0mGAMMA\u001b[0m\u001b[0;34m=\u001b[0m\u001b[0;36m0.99\u001b[0m\u001b[0;34m,\u001b[0m \u001b[0mRELAY_SIZE\u001b[0m\u001b[0;34m=\u001b[0m\u001b[0mRELAY_SIZE\u001b[0m\u001b[0;34m)\u001b[0m\u001b[0;34m,\u001b[0m                                       \u001b[0mverbose\u001b[0m\u001b[0;34m=\u001b[0m\u001b[0;36m1\u001b[0m\u001b[0;34m,\u001b[0m \u001b[0msteps_per_epoch\u001b[0m\u001b[0;34m=\u001b[0m\u001b[0msteps_per_epoch\u001b[0m\u001b[0;34m)\u001b[0m\u001b[0;34m\u001b[0m\u001b[0m\n\u001b[0m\u001b[1;32m     81\u001b[0m         \u001b[0mgpu_ac_model\u001b[0m\u001b[0;34m.\u001b[0m\u001b[0mfit_generator\u001b[0m\u001b[0;34m(\u001b[0m\u001b[0mreinforcement_data_generator\u001b[0m\u001b[0;34m(\u001b[0m\u001b[0mactor\u001b[0m\u001b[0;34m.\u001b[0m\u001b[0mmodel\u001b[0m\u001b[0;34m,\u001b[0m \u001b[0mactor\u001b[0m\u001b[0;34m.\u001b[0m\u001b[0mtarget_model\u001b[0m\u001b[0;34m,\u001b[0m                                                                 \u001b[0mcritic\u001b[0m\u001b[0;34m.\u001b[0m\u001b[0mmodel\u001b[0m\u001b[0;34m,\u001b[0m \u001b[0mcritic\u001b[0m\u001b[0;34m.\u001b[0m\u001b[0mtarget_model\u001b[0m\u001b[0;34m,\u001b[0m                                                                 \u001b[0mrelay\u001b[0m\u001b[0;34m,\u001b[0m \u001b[0mtrain_critic\u001b[0m\u001b[0;34m=\u001b[0m\u001b[0;32mFalse\u001b[0m\u001b[0;34m,\u001b[0m                                                                 \u001b[0mstep_per_episode\u001b[0m\u001b[0;34m=\u001b[0m\u001b[0;36m50\u001b[0m\u001b[0;34m,\u001b[0m                                                                 \u001b[0mBATCH_SIZE\u001b[0m\u001b[0;34m=\u001b[0m\u001b[0;36m256\u001b[0m\u001b[0;34m,\u001b[0m \u001b[0mGAMMA\u001b[0m\u001b[0;34m=\u001b[0m\u001b[0;36m0.99\u001b[0m\u001b[0;34m,\u001b[0m \u001b[0mRELAY_SIZE\u001b[0m\u001b[0;34m=\u001b[0m\u001b[0mRELAY_SIZE\u001b[0m\u001b[0;34m)\u001b[0m\u001b[0;34m,\u001b[0m                                   \u001b[0mverbose\u001b[0m\u001b[0;34m=\u001b[0m\u001b[0;36m1\u001b[0m\u001b[0;34m,\u001b[0m \u001b[0msteps_per_epoch\u001b[0m\u001b[0;34m=\u001b[0m\u001b[0msteps_per_epoch\u001b[0m\u001b[0;34m)\u001b[0m\u001b[0;34m\u001b[0m\u001b[0m\n\u001b[1;32m     82\u001b[0m         \u001b[0mactor\u001b[0m\u001b[0;34m.\u001b[0m\u001b[0mtarget_train\u001b[0m\u001b[0;34m(\u001b[0m\u001b[0;34m)\u001b[0m\u001b[0;34m\u001b[0m\u001b[0m\n",
      "\u001b[0;32m~/anaconda3/envs/tensorflow/lib/python3.5/site-packages/keras/legacy/interfaces.py\u001b[0m in \u001b[0;36mwrapper\u001b[0;34m(*args, **kwargs)\u001b[0m\n\u001b[1;32m     85\u001b[0m                 warnings.warn('Update your `' + object_name +\n\u001b[1;32m     86\u001b[0m                               '` call to the Keras 2 API: ' + signature, stacklevel=2)\n\u001b[0;32m---> 87\u001b[0;31m             \u001b[0;32mreturn\u001b[0m \u001b[0mfunc\u001b[0m\u001b[0;34m(\u001b[0m\u001b[0;34m*\u001b[0m\u001b[0margs\u001b[0m\u001b[0;34m,\u001b[0m \u001b[0;34m**\u001b[0m\u001b[0mkwargs\u001b[0m\u001b[0;34m)\u001b[0m\u001b[0;34m\u001b[0m\u001b[0m\n\u001b[0m\u001b[1;32m     88\u001b[0m         \u001b[0mwrapper\u001b[0m\u001b[0;34m.\u001b[0m\u001b[0m_original_function\u001b[0m \u001b[0;34m=\u001b[0m \u001b[0mfunc\u001b[0m\u001b[0;34m\u001b[0m\u001b[0m\n\u001b[1;32m     89\u001b[0m         \u001b[0;32mreturn\u001b[0m \u001b[0mwrapper\u001b[0m\u001b[0;34m\u001b[0m\u001b[0m\n",
      "\u001b[0;32m~/anaconda3/envs/tensorflow/lib/python3.5/site-packages/keras/engine/training.py\u001b[0m in \u001b[0;36mfit_generator\u001b[0;34m(self, generator, steps_per_epoch, epochs, verbose, callbacks, validation_data, validation_steps, class_weight, max_queue_size, workers, use_multiprocessing, shuffle, initial_epoch)\u001b[0m\n\u001b[1;32m   2113\u001b[0m                 \u001b[0mbatch_index\u001b[0m \u001b[0;34m=\u001b[0m \u001b[0;36m0\u001b[0m\u001b[0;34m\u001b[0m\u001b[0m\n\u001b[1;32m   2114\u001b[0m                 \u001b[0;32mwhile\u001b[0m \u001b[0msteps_done\u001b[0m \u001b[0;34m<\u001b[0m \u001b[0msteps_per_epoch\u001b[0m\u001b[0;34m:\u001b[0m\u001b[0;34m\u001b[0m\u001b[0m\n\u001b[0;32m-> 2115\u001b[0;31m                     \u001b[0mgenerator_output\u001b[0m \u001b[0;34m=\u001b[0m \u001b[0mnext\u001b[0m\u001b[0;34m(\u001b[0m\u001b[0moutput_generator\u001b[0m\u001b[0;34m)\u001b[0m\u001b[0;34m\u001b[0m\u001b[0m\n\u001b[0m\u001b[1;32m   2116\u001b[0m \u001b[0;34m\u001b[0m\u001b[0m\n\u001b[1;32m   2117\u001b[0m                     \u001b[0;32mif\u001b[0m \u001b[0;32mnot\u001b[0m \u001b[0mhasattr\u001b[0m\u001b[0;34m(\u001b[0m\u001b[0mgenerator_output\u001b[0m\u001b[0;34m,\u001b[0m \u001b[0;34m'__len__'\u001b[0m\u001b[0;34m)\u001b[0m\u001b[0;34m:\u001b[0m\u001b[0;34m\u001b[0m\u001b[0m\n",
      "\u001b[0;32m~/anaconda3/envs/tensorflow/lib/python3.5/site-packages/keras/utils/data_utils.py\u001b[0m in \u001b[0;36mget\u001b[0;34m(self)\u001b[0m\n\u001b[1;32m    733\u001b[0m             \u001b[0msuccess\u001b[0m\u001b[0;34m,\u001b[0m \u001b[0mvalue\u001b[0m \u001b[0;34m=\u001b[0m \u001b[0mself\u001b[0m\u001b[0;34m.\u001b[0m\u001b[0mqueue\u001b[0m\u001b[0;34m.\u001b[0m\u001b[0mget\u001b[0m\u001b[0;34m(\u001b[0m\u001b[0;34m)\u001b[0m\u001b[0;34m\u001b[0m\u001b[0m\n\u001b[1;32m    734\u001b[0m             \u001b[0;32mif\u001b[0m \u001b[0;32mnot\u001b[0m \u001b[0msuccess\u001b[0m\u001b[0;34m:\u001b[0m\u001b[0;34m\u001b[0m\u001b[0m\n\u001b[0;32m--> 735\u001b[0;31m                 \u001b[0msix\u001b[0m\u001b[0;34m.\u001b[0m\u001b[0mreraise\u001b[0m\u001b[0;34m(\u001b[0m\u001b[0mvalue\u001b[0m\u001b[0;34m.\u001b[0m\u001b[0m__class__\u001b[0m\u001b[0;34m,\u001b[0m \u001b[0mvalue\u001b[0m\u001b[0;34m,\u001b[0m \u001b[0mvalue\u001b[0m\u001b[0;34m.\u001b[0m\u001b[0m__traceback__\u001b[0m\u001b[0;34m)\u001b[0m\u001b[0;34m\u001b[0m\u001b[0m\n\u001b[0m",
      "\u001b[0;32m~/.local/lib/python3.5/site-packages/six.py\u001b[0m in \u001b[0;36mreraise\u001b[0;34m(tp, value, tb)\u001b[0m\n\u001b[1;32m    691\u001b[0m             \u001b[0;32mif\u001b[0m \u001b[0mvalue\u001b[0m\u001b[0;34m.\u001b[0m\u001b[0m__traceback__\u001b[0m \u001b[0;32mis\u001b[0m \u001b[0;32mnot\u001b[0m \u001b[0mtb\u001b[0m\u001b[0;34m:\u001b[0m\u001b[0;34m\u001b[0m\u001b[0m\n\u001b[1;32m    692\u001b[0m                 \u001b[0;32mraise\u001b[0m \u001b[0mvalue\u001b[0m\u001b[0;34m.\u001b[0m\u001b[0mwith_traceback\u001b[0m\u001b[0;34m(\u001b[0m\u001b[0mtb\u001b[0m\u001b[0;34m)\u001b[0m\u001b[0;34m\u001b[0m\u001b[0m\n\u001b[0;32m--> 693\u001b[0;31m             \u001b[0;32mraise\u001b[0m \u001b[0mvalue\u001b[0m\u001b[0;34m\u001b[0m\u001b[0m\n\u001b[0m\u001b[1;32m    694\u001b[0m         \u001b[0;32mfinally\u001b[0m\u001b[0;34m:\u001b[0m\u001b[0;34m\u001b[0m\u001b[0m\n\u001b[1;32m    695\u001b[0m             \u001b[0mvalue\u001b[0m \u001b[0;34m=\u001b[0m \u001b[0;32mNone\u001b[0m\u001b[0;34m\u001b[0m\u001b[0m\n",
      "\u001b[0;32m~/anaconda3/envs/tensorflow/lib/python3.5/site-packages/keras/utils/data_utils.py\u001b[0m in \u001b[0;36mdata_generator_task\u001b[0;34m()\u001b[0m\n\u001b[1;32m    633\u001b[0m                 \u001b[0;32mtry\u001b[0m\u001b[0;34m:\u001b[0m\u001b[0;34m\u001b[0m\u001b[0m\n\u001b[1;32m    634\u001b[0m                     \u001b[0;32mif\u001b[0m \u001b[0mself\u001b[0m\u001b[0;34m.\u001b[0m\u001b[0m_use_multiprocessing\u001b[0m \u001b[0;32mor\u001b[0m \u001b[0mself\u001b[0m\u001b[0;34m.\u001b[0m\u001b[0mqueue\u001b[0m\u001b[0;34m.\u001b[0m\u001b[0mqsize\u001b[0m\u001b[0;34m(\u001b[0m\u001b[0;34m)\u001b[0m \u001b[0;34m<\u001b[0m \u001b[0mmax_queue_size\u001b[0m\u001b[0;34m:\u001b[0m\u001b[0;34m\u001b[0m\u001b[0m\n\u001b[0;32m--> 635\u001b[0;31m                         \u001b[0mgenerator_output\u001b[0m \u001b[0;34m=\u001b[0m \u001b[0mnext\u001b[0m\u001b[0;34m(\u001b[0m\u001b[0mself\u001b[0m\u001b[0;34m.\u001b[0m\u001b[0m_generator\u001b[0m\u001b[0;34m)\u001b[0m\u001b[0;34m\u001b[0m\u001b[0m\n\u001b[0m\u001b[1;32m    636\u001b[0m                         \u001b[0mself\u001b[0m\u001b[0;34m.\u001b[0m\u001b[0mqueue\u001b[0m\u001b[0;34m.\u001b[0m\u001b[0mput\u001b[0m\u001b[0;34m(\u001b[0m\u001b[0;34m(\u001b[0m\u001b[0;32mTrue\u001b[0m\u001b[0;34m,\u001b[0m \u001b[0mgenerator_output\u001b[0m\u001b[0;34m)\u001b[0m\u001b[0;34m)\u001b[0m\u001b[0;34m\u001b[0m\u001b[0m\n\u001b[1;32m    637\u001b[0m                     \u001b[0;32melse\u001b[0m\u001b[0;34m:\u001b[0m\u001b[0;34m\u001b[0m\u001b[0m\n",
      "\u001b[0;32m<ipython-input-35-607b6fc5c699>\u001b[0m in \u001b[0;36mreinforcement_data_generator\u001b[0;34m(actor_model, actor_target, critic_model, critic_target, relay, train_critic, step_per_episode, BATCH_SIZE, GAMMA, RELAY_SIZE)\u001b[0m\n\u001b[1;32m     18\u001b[0m             \u001b[0mnew_sample\u001b[0m \u001b[0;34m=\u001b[0m \u001b[0;34m[\u001b[0m\u001b[0;34m]\u001b[0m \u001b[0;31m# prepare to collect new sample\u001b[0m\u001b[0;34m\u001b[0m\u001b[0m\n\u001b[1;32m     19\u001b[0m \u001b[0;34m\u001b[0m\u001b[0m\n\u001b[0;32m---> 20\u001b[0;31m             \u001b[0mpos0\u001b[0m\u001b[0;34m,\u001b[0m \u001b[0mpos1\u001b[0m\u001b[0;34m,\u001b[0m \u001b[0mcur_action_mask\u001b[0m \u001b[0;34m=\u001b[0m \u001b[0mactor\u001b[0m\u001b[0;34m.\u001b[0m\u001b[0mget_noised_action\u001b[0m\u001b[0;34m(\u001b[0m\u001b[0mgame\u001b[0m\u001b[0;34m,\u001b[0m \u001b[0mturn\u001b[0m\u001b[0;34m,\u001b[0m \u001b[0mepsilon\u001b[0m\u001b[0;34m=\u001b[0m\u001b[0;36m0.1\u001b[0m\u001b[0;34m,\u001b[0m \u001b[0mmask_init\u001b[0m\u001b[0;34m=\u001b[0m\u001b[0mpolicy_mask_init\u001b[0m\u001b[0;34m,\u001b[0m \u001b[0mverbose\u001b[0m\u001b[0;34m=\u001b[0m\u001b[0;36m0\u001b[0m\u001b[0;34m)\u001b[0m \u001b[0;31m# get proposed action\u001b[0m\u001b[0;34m\u001b[0m\u001b[0m\n\u001b[0m\u001b[1;32m     21\u001b[0m \u001b[0;34m\u001b[0m\u001b[0m\n\u001b[1;32m     22\u001b[0m             \u001b[0mnew_state\u001b[0m \u001b[0;34m=\u001b[0m \u001b[0mgame\u001b[0m\u001b[0;34m.\u001b[0m\u001b[0msimu_move_to\u001b[0m\u001b[0;34m(\u001b[0m\u001b[0mturn\u001b[0m\u001b[0;34m,\u001b[0m \u001b[0mpos0\u001b[0m\u001b[0;34m,\u001b[0m \u001b[0mpos1\u001b[0m\u001b[0;34m)\u001b[0m\u001b[0;34m\u001b[0m\u001b[0m\n",
      "\u001b[0;32m<ipython-input-26-6b0b2a2416dd>\u001b[0m in \u001b[0;36mget_noised_action\u001b[0;34m(self, game, turn, epsilon, return_position, filter_invalid, is_target, mask_init, verbose)\u001b[0m\n\u001b[1;32m    136\u001b[0m         \u001b[0;32mif\u001b[0m \u001b[0mlen\u001b[0m\u001b[0;34m(\u001b[0m\u001b[0mvalid_moves\u001b[0m\u001b[0;34m)\u001b[0m \u001b[0;34m==\u001b[0m \u001b[0;36m0\u001b[0m\u001b[0;34m:\u001b[0m\u001b[0;34m\u001b[0m\u001b[0m\n\u001b[1;32m    137\u001b[0m             \u001b[0;32mraise\u001b[0m \u001b[0mValueError\u001b[0m\u001b[0;34m(\u001b[0m\u001b[0;34m\"passing a already ended game to actor\"\u001b[0m\u001b[0;34m)\u001b[0m\u001b[0;34m\u001b[0m\u001b[0m\n\u001b[0;32m--> 138\u001b[0;31m         \u001b[0maction_prob\u001b[0m \u001b[0;34m=\u001b[0m \u001b[0mself\u001b[0m\u001b[0;34m.\u001b[0m\u001b[0mget_action_prob\u001b[0m\u001b[0;34m(\u001b[0m\u001b[0mgame\u001b[0m\u001b[0;34m,\u001b[0m \u001b[0mturn\u001b[0m\u001b[0;34m,\u001b[0m \u001b[0mis_target\u001b[0m\u001b[0;34m)\u001b[0m\u001b[0;34m\u001b[0m\u001b[0m\n\u001b[0m\u001b[1;32m    139\u001b[0m         \u001b[0;32mif\u001b[0m \u001b[0mrandom\u001b[0m\u001b[0;34m(\u001b[0m\u001b[0;34m)\u001b[0m \u001b[0;34m<\u001b[0m \u001b[0mepsilon\u001b[0m\u001b[0;34m:\u001b[0m \u001b[0;31m# notice: Actor always only judge for turn 1\u001b[0m\u001b[0;34m\u001b[0m\u001b[0m\n\u001b[1;32m    140\u001b[0m             \u001b[0mrandom_move\u001b[0m \u001b[0;34m=\u001b[0m \u001b[0mchoice\u001b[0m\u001b[0;34m(\u001b[0m\u001b[0mvalid_moves\u001b[0m\u001b[0;34m)\u001b[0m\u001b[0;34m\u001b[0m\u001b[0m\n",
      "\u001b[0;32m<ipython-input-26-6b0b2a2416dd>\u001b[0m in \u001b[0;36mget_action_prob\u001b[0;34m(self, game, turn, is_target)\u001b[0m\n\u001b[1;32m    126\u001b[0m         \u001b[0;32mif\u001b[0m \u001b[0;32mnot\u001b[0m \u001b[0mis_target\u001b[0m\u001b[0;34m:\u001b[0m\u001b[0;34m\u001b[0m\u001b[0m\n\u001b[1;32m    127\u001b[0m             return self.model.predict([np.reshape(game.get_feature_map(turn), (1, 2, 7, 7)), \n\u001b[0;32m--> 128\u001b[0;31m                                       np.reshape(game.get_mask(turn), (1, 2, 7, 7))])[0]\n\u001b[0m\u001b[1;32m    129\u001b[0m         \u001b[0;32melse\u001b[0m\u001b[0;34m:\u001b[0m\u001b[0;34m\u001b[0m\u001b[0m\n\u001b[1;32m    130\u001b[0m             return self.target_model.predict([np.reshape(game.get_feature_map(turn), (1, 2, 7, 7)), \n",
      "\u001b[0;32m~/anaconda3/envs/tensorflow/lib/python3.5/site-packages/keras/engine/training.py\u001b[0m in \u001b[0;36mpredict\u001b[0;34m(self, x, batch_size, verbose, steps)\u001b[0m\n\u001b[1;32m   1785\u001b[0m         \u001b[0;32melse\u001b[0m\u001b[0;34m:\u001b[0m\u001b[0;34m\u001b[0m\u001b[0m\n\u001b[1;32m   1786\u001b[0m             \u001b[0mins\u001b[0m \u001b[0;34m=\u001b[0m \u001b[0mx\u001b[0m\u001b[0;34m\u001b[0m\u001b[0m\n\u001b[0;32m-> 1787\u001b[0;31m         \u001b[0mself\u001b[0m\u001b[0;34m.\u001b[0m\u001b[0m_make_predict_function\u001b[0m\u001b[0;34m(\u001b[0m\u001b[0;34m)\u001b[0m\u001b[0;34m\u001b[0m\u001b[0m\n\u001b[0m\u001b[1;32m   1788\u001b[0m         \u001b[0mf\u001b[0m \u001b[0;34m=\u001b[0m \u001b[0mself\u001b[0m\u001b[0;34m.\u001b[0m\u001b[0mpredict_function\u001b[0m\u001b[0;34m\u001b[0m\u001b[0m\n\u001b[1;32m   1789\u001b[0m         return self._predict_loop(f, ins, batch_size=batch_size,\n",
      "\u001b[0;32m~/anaconda3/envs/tensorflow/lib/python3.5/site-packages/keras/engine/training.py\u001b[0m in \u001b[0;36m_make_predict_function\u001b[0;34m(self)\u001b[0m\n\u001b[1;32m   1027\u001b[0m                                                \u001b[0mupdates\u001b[0m\u001b[0;34m=\u001b[0m\u001b[0mself\u001b[0m\u001b[0;34m.\u001b[0m\u001b[0mstate_updates\u001b[0m\u001b[0;34m,\u001b[0m\u001b[0;34m\u001b[0m\u001b[0m\n\u001b[1;32m   1028\u001b[0m                                                \u001b[0mname\u001b[0m\u001b[0;34m=\u001b[0m\u001b[0;34m'predict_function'\u001b[0m\u001b[0;34m,\u001b[0m\u001b[0;34m\u001b[0m\u001b[0m\n\u001b[0;32m-> 1029\u001b[0;31m                                                **kwargs)\n\u001b[0m\u001b[1;32m   1030\u001b[0m \u001b[0;34m\u001b[0m\u001b[0m\n\u001b[1;32m   1031\u001b[0m     \u001b[0;32mdef\u001b[0m \u001b[0m_check_num_samples\u001b[0m\u001b[0;34m(\u001b[0m\u001b[0mself\u001b[0m\u001b[0;34m,\u001b[0m \u001b[0mins\u001b[0m\u001b[0;34m,\u001b[0m \u001b[0mbatch_size\u001b[0m\u001b[0;34m=\u001b[0m\u001b[0;32mNone\u001b[0m\u001b[0;34m,\u001b[0m \u001b[0msteps\u001b[0m\u001b[0;34m=\u001b[0m\u001b[0;32mNone\u001b[0m\u001b[0;34m,\u001b[0m \u001b[0msteps_name\u001b[0m\u001b[0;34m=\u001b[0m\u001b[0;34m'steps'\u001b[0m\u001b[0;34m)\u001b[0m\u001b[0;34m:\u001b[0m\u001b[0;34m\u001b[0m\u001b[0m\n",
      "\u001b[0;32m~/anaconda3/envs/tensorflow/lib/python3.5/site-packages/keras/backend/tensorflow_backend.py\u001b[0m in \u001b[0;36mfunction\u001b[0;34m(inputs, outputs, updates, **kwargs)\u001b[0m\n\u001b[1;32m   2379\u001b[0m                 \u001b[0mmsg\u001b[0m \u001b[0;34m=\u001b[0m \u001b[0;34m'Invalid argument \"%s\" passed to K.function with TensorFlow backend'\u001b[0m \u001b[0;34m%\u001b[0m \u001b[0mkey\u001b[0m\u001b[0;34m\u001b[0m\u001b[0m\n\u001b[1;32m   2380\u001b[0m                 \u001b[0;32mraise\u001b[0m \u001b[0mValueError\u001b[0m\u001b[0;34m(\u001b[0m\u001b[0mmsg\u001b[0m\u001b[0;34m)\u001b[0m\u001b[0;34m\u001b[0m\u001b[0m\n\u001b[0;32m-> 2381\u001b[0;31m     \u001b[0;32mreturn\u001b[0m \u001b[0mFunction\u001b[0m\u001b[0;34m(\u001b[0m\u001b[0minputs\u001b[0m\u001b[0;34m,\u001b[0m \u001b[0moutputs\u001b[0m\u001b[0;34m,\u001b[0m \u001b[0mupdates\u001b[0m\u001b[0;34m=\u001b[0m\u001b[0mupdates\u001b[0m\u001b[0;34m,\u001b[0m \u001b[0;34m**\u001b[0m\u001b[0mkwargs\u001b[0m\u001b[0;34m)\u001b[0m\u001b[0;34m\u001b[0m\u001b[0m\n\u001b[0m\u001b[1;32m   2382\u001b[0m \u001b[0;34m\u001b[0m\u001b[0m\n\u001b[1;32m   2383\u001b[0m \u001b[0;34m\u001b[0m\u001b[0m\n",
      "\u001b[0;32m~/anaconda3/envs/tensorflow/lib/python3.5/site-packages/keras/backend/tensorflow_backend.py\u001b[0m in \u001b[0;36m__init__\u001b[0;34m(self, inputs, outputs, updates, name, **session_kwargs)\u001b[0m\n\u001b[1;32m   2322\u001b[0m         \u001b[0mself\u001b[0m\u001b[0;34m.\u001b[0m\u001b[0minputs\u001b[0m \u001b[0;34m=\u001b[0m \u001b[0mlist\u001b[0m\u001b[0;34m(\u001b[0m\u001b[0minputs\u001b[0m\u001b[0;34m)\u001b[0m\u001b[0;34m\u001b[0m\u001b[0m\n\u001b[1;32m   2323\u001b[0m         \u001b[0mself\u001b[0m\u001b[0;34m.\u001b[0m\u001b[0moutputs\u001b[0m \u001b[0;34m=\u001b[0m \u001b[0mlist\u001b[0m\u001b[0;34m(\u001b[0m\u001b[0moutputs\u001b[0m\u001b[0;34m)\u001b[0m\u001b[0;34m\u001b[0m\u001b[0m\n\u001b[0;32m-> 2324\u001b[0;31m         \u001b[0;32mwith\u001b[0m \u001b[0mtf\u001b[0m\u001b[0;34m.\u001b[0m\u001b[0mcontrol_dependencies\u001b[0m\u001b[0;34m(\u001b[0m\u001b[0mself\u001b[0m\u001b[0;34m.\u001b[0m\u001b[0moutputs\u001b[0m\u001b[0;34m)\u001b[0m\u001b[0;34m:\u001b[0m\u001b[0;34m\u001b[0m\u001b[0m\n\u001b[0m\u001b[1;32m   2325\u001b[0m             \u001b[0mupdates_ops\u001b[0m \u001b[0;34m=\u001b[0m \u001b[0;34m[\u001b[0m\u001b[0;34m]\u001b[0m\u001b[0;34m\u001b[0m\u001b[0m\n\u001b[1;32m   2326\u001b[0m             \u001b[0;32mfor\u001b[0m \u001b[0mupdate\u001b[0m \u001b[0;32min\u001b[0m \u001b[0mupdates\u001b[0m\u001b[0;34m:\u001b[0m\u001b[0;34m\u001b[0m\u001b[0m\n",
      "\u001b[0;32m~/.local/lib/python3.5/site-packages/tensorflow/python/framework/ops.py\u001b[0m in \u001b[0;36mcontrol_dependencies\u001b[0;34m(control_inputs)\u001b[0m\n\u001b[1;32m   4302\u001b[0m   \"\"\"\n\u001b[1;32m   4303\u001b[0m   \u001b[0;32mif\u001b[0m \u001b[0mcontext\u001b[0m\u001b[0;34m.\u001b[0m\u001b[0min_graph_mode\u001b[0m\u001b[0;34m(\u001b[0m\u001b[0;34m)\u001b[0m\u001b[0;34m:\u001b[0m\u001b[0;34m\u001b[0m\u001b[0m\n\u001b[0;32m-> 4304\u001b[0;31m     \u001b[0;32mreturn\u001b[0m \u001b[0mget_default_graph\u001b[0m\u001b[0;34m(\u001b[0m\u001b[0;34m)\u001b[0m\u001b[0;34m.\u001b[0m\u001b[0mcontrol_dependencies\u001b[0m\u001b[0;34m(\u001b[0m\u001b[0mcontrol_inputs\u001b[0m\u001b[0;34m)\u001b[0m\u001b[0;34m\u001b[0m\u001b[0m\n\u001b[0m\u001b[1;32m   4305\u001b[0m   \u001b[0;32melse\u001b[0m\u001b[0;34m:\u001b[0m\u001b[0;34m\u001b[0m\u001b[0m\n\u001b[1;32m   4306\u001b[0m     \u001b[0;32mreturn\u001b[0m \u001b[0m_NullContextmanager\u001b[0m\u001b[0;34m(\u001b[0m\u001b[0;34m)\u001b[0m\u001b[0;34m\u001b[0m\u001b[0m\n",
      "\u001b[0;32m~/.local/lib/python3.5/site-packages/tensorflow/python/framework/ops.py\u001b[0m in \u001b[0;36mcontrol_dependencies\u001b[0;34m(self, control_inputs)\u001b[0m\n\u001b[1;32m   4015\u001b[0m       \u001b[0;32mif\u001b[0m \u001b[0misinstance\u001b[0m\u001b[0;34m(\u001b[0m\u001b[0mc\u001b[0m\u001b[0;34m,\u001b[0m \u001b[0mIndexedSlices\u001b[0m\u001b[0;34m)\u001b[0m\u001b[0;34m:\u001b[0m\u001b[0;34m\u001b[0m\u001b[0m\n\u001b[1;32m   4016\u001b[0m         \u001b[0mc\u001b[0m \u001b[0;34m=\u001b[0m \u001b[0mc\u001b[0m\u001b[0;34m.\u001b[0m\u001b[0mop\u001b[0m\u001b[0;34m\u001b[0m\u001b[0m\n\u001b[0;32m-> 4017\u001b[0;31m       \u001b[0mc\u001b[0m \u001b[0;34m=\u001b[0m \u001b[0mself\u001b[0m\u001b[0;34m.\u001b[0m\u001b[0mas_graph_element\u001b[0m\u001b[0;34m(\u001b[0m\u001b[0mc\u001b[0m\u001b[0;34m)\u001b[0m\u001b[0;34m\u001b[0m\u001b[0m\n\u001b[0m\u001b[1;32m   4018\u001b[0m       \u001b[0;32mif\u001b[0m \u001b[0misinstance\u001b[0m\u001b[0;34m(\u001b[0m\u001b[0mc\u001b[0m\u001b[0;34m,\u001b[0m \u001b[0mTensor\u001b[0m\u001b[0;34m)\u001b[0m\u001b[0;34m:\u001b[0m\u001b[0;34m\u001b[0m\u001b[0m\n\u001b[1;32m   4019\u001b[0m         \u001b[0mc\u001b[0m \u001b[0;34m=\u001b[0m \u001b[0mc\u001b[0m\u001b[0;34m.\u001b[0m\u001b[0mop\u001b[0m\u001b[0;34m\u001b[0m\u001b[0m\n",
      "\u001b[0;32m~/.local/lib/python3.5/site-packages/tensorflow/python/framework/ops.py\u001b[0m in \u001b[0;36mas_graph_element\u001b[0;34m(self, obj, allow_tensor, allow_operation)\u001b[0m\n\u001b[1;32m   3033\u001b[0m \u001b[0;34m\u001b[0m\u001b[0m\n\u001b[1;32m   3034\u001b[0m     \u001b[0;32mwith\u001b[0m \u001b[0mself\u001b[0m\u001b[0;34m.\u001b[0m\u001b[0m_lock\u001b[0m\u001b[0;34m:\u001b[0m\u001b[0;34m\u001b[0m\u001b[0m\n\u001b[0;32m-> 3035\u001b[0;31m       \u001b[0;32mreturn\u001b[0m \u001b[0mself\u001b[0m\u001b[0;34m.\u001b[0m\u001b[0m_as_graph_element_locked\u001b[0m\u001b[0;34m(\u001b[0m\u001b[0mobj\u001b[0m\u001b[0;34m,\u001b[0m \u001b[0mallow_tensor\u001b[0m\u001b[0;34m,\u001b[0m \u001b[0mallow_operation\u001b[0m\u001b[0;34m)\u001b[0m\u001b[0;34m\u001b[0m\u001b[0m\n\u001b[0m\u001b[1;32m   3036\u001b[0m \u001b[0;34m\u001b[0m\u001b[0m\n\u001b[1;32m   3037\u001b[0m   \u001b[0;32mdef\u001b[0m \u001b[0m_as_graph_element_locked\u001b[0m\u001b[0;34m(\u001b[0m\u001b[0mself\u001b[0m\u001b[0;34m,\u001b[0m \u001b[0mobj\u001b[0m\u001b[0;34m,\u001b[0m \u001b[0mallow_tensor\u001b[0m\u001b[0;34m,\u001b[0m \u001b[0mallow_operation\u001b[0m\u001b[0;34m)\u001b[0m\u001b[0;34m:\u001b[0m\u001b[0;34m\u001b[0m\u001b[0m\n",
      "\u001b[0;32m~/.local/lib/python3.5/site-packages/tensorflow/python/framework/ops.py\u001b[0m in \u001b[0;36m_as_graph_element_locked\u001b[0;34m(self, obj, allow_tensor, allow_operation)\u001b[0m\n\u001b[1;32m   3112\u001b[0m       \u001b[0;31m# Actually obj is just the object it's referring to.\u001b[0m\u001b[0;34m\u001b[0m\u001b[0;34m\u001b[0m\u001b[0m\n\u001b[1;32m   3113\u001b[0m       \u001b[0;32mif\u001b[0m \u001b[0mobj\u001b[0m\u001b[0;34m.\u001b[0m\u001b[0mgraph\u001b[0m \u001b[0;32mis\u001b[0m \u001b[0;32mnot\u001b[0m \u001b[0mself\u001b[0m\u001b[0;34m:\u001b[0m\u001b[0;34m\u001b[0m\u001b[0m\n\u001b[0;32m-> 3114\u001b[0;31m         \u001b[0;32mraise\u001b[0m \u001b[0mValueError\u001b[0m\u001b[0;34m(\u001b[0m\u001b[0;34m\"Tensor %s is not an element of this graph.\"\u001b[0m \u001b[0;34m%\u001b[0m \u001b[0mobj\u001b[0m\u001b[0;34m)\u001b[0m\u001b[0;34m\u001b[0m\u001b[0m\n\u001b[0m\u001b[1;32m   3115\u001b[0m       \u001b[0;32mreturn\u001b[0m \u001b[0mobj\u001b[0m\u001b[0;34m\u001b[0m\u001b[0m\n\u001b[1;32m   3116\u001b[0m     \u001b[0;32melif\u001b[0m \u001b[0misinstance\u001b[0m\u001b[0;34m(\u001b[0m\u001b[0mobj\u001b[0m\u001b[0;34m,\u001b[0m \u001b[0mOperation\u001b[0m\u001b[0;34m)\u001b[0m \u001b[0;32mand\u001b[0m \u001b[0mallow_operation\u001b[0m\u001b[0;34m:\u001b[0m\u001b[0;34m\u001b[0m\u001b[0m\n",
      "\u001b[0;31mValueError\u001b[0m: Tensor Tensor(\"reshape_39/Reshape:0\", shape=(?, 2, 7, 7), dtype=float32, device=/device:CPU:*) is not an element of this graph."
     ]
    }
   ],
   "source": [
    "actor_critic_trainer(epochs=1000, check_point=True, steps_per_epoch=50, \\\n",
    "                     BATCH_SIZE=64, TRAIN_BATCH_TIME=1, GAMMA=0.99, RELAY_SIZE=10000, \\\n",
    "                     TAU=0.001, LRA=0.0001, LRC=0.0001) \n",
    "    "
   ]
  },
  {
   "cell_type": "markdown",
   "metadata": {},
   "source": [
    "## Ideas:\n",
    "1. when comes to new state in training, we should make sure we use target network for both actor and crtic model, in order to have more stability\n",
    "2. We might will need to keep relay_size smaller so that actor can always learn on a more recent version of target actor network\n",
    "3. Normalizing that action probability so that the chosen action becomes 1 while other actions becomes 0 is reasonable, because firstly, it makes it easier for crtic model to get a stable output and maintain the property of discrete policys, at least a same critic output for the same choice of policy, secondly, it still helps the guiding of the training on policy model, cuz bad gradient still will be passed if the critic output is bad, and as long as we train for only a few times, the property of discrete policy maintains even if we do not change the action mask. \n",
    "4. The confidence of the target model of its prediction seems to be a good indication for convergence, cuz that's the only indicator that is monotonic during the training process。。。。\n",
    "5. The natural phenomenom of training is that, in the begining, loss for actor is close to 0, as critic is just initialized and its output will always be that. For a while, constant increase will be observed in actor loss, as critic is starting to learn larger values while actor is still basically a random picker. After a while, when critic loss has decreased a lot, actor loss should also start to decrease, and this period should be the actual training for actor model.\n"
   ]
  },
  {
   "cell_type": "code",
   "execution_count": 37,
   "metadata": {
    "scrolled": true
   },
   "outputs": [
    {
     "name": "stderr",
     "output_type": "stream",
     "text": [
      "/home/yuze/anaconda3/envs/tensorflow/lib/python3.5/site-packages/ipykernel_launcher.py:121: UserWarning: Update your `Model` call to the Keras 2 API: `Model(outputs=[<tf.Tenso..., inputs=[<tf.Tenso...)`\n"
     ]
    },
    {
     "name": "stdout",
     "output_type": "stream",
     "text": [
      "__________________________________________________________________________________________________\n",
      "Layer (type)                    Output Shape         Param #     Connected to                     \n",
      "==================================================================================================\n",
      "input_71 (InputLayer)           (None, 2, 7, 7)      0                                            \n",
      "__________________________________________________________________________________________________\n",
      "conv2d_113 (Conv2D)             (None, 64, 5, 5)     1216        input_71[0][0]                   \n",
      "__________________________________________________________________________________________________\n",
      "batch_normalization_127 (BatchN (None, 64, 5, 5)     256         conv2d_113[0][0]                 \n",
      "__________________________________________________________________________________________________\n",
      "conv2d_114 (Conv2D)             (None, 64, 5, 5)     36928       batch_normalization_127[0][0]    \n",
      "__________________________________________________________________________________________________\n",
      "batch_normalization_128 (BatchN (None, 64, 5, 5)     256         conv2d_114[0][0]                 \n",
      "__________________________________________________________________________________________________\n",
      "conv2d_115 (Conv2D)             (None, 128, 3, 3)    73856       batch_normalization_128[0][0]    \n",
      "__________________________________________________________________________________________________\n",
      "batch_normalization_129 (BatchN (None, 128, 3, 3)    512         conv2d_115[0][0]                 \n",
      "__________________________________________________________________________________________________\n",
      "conv2d_116 (Conv2D)             (None, 128, 3, 3)    147584      batch_normalization_129[0][0]    \n",
      "__________________________________________________________________________________________________\n",
      "batch_normalization_130 (BatchN (None, 128, 3, 3)    512         conv2d_116[0][0]                 \n",
      "__________________________________________________________________________________________________\n",
      "flatten_29 (Flatten)            (None, 1152)         0           batch_normalization_130[0][0]    \n",
      "__________________________________________________________________________________________________\n",
      "dense_43 (Dense)                (None, 98)           112994      flatten_29[0][0]                 \n",
      "__________________________________________________________________________________________________\n",
      "reshape_43 (Reshape)            (None, 2, 7, 7)      0           dense_43[0][0]                   \n",
      "__________________________________________________________________________________________________\n",
      "input_72 (InputLayer)           (None, 2, 7, 7)      0                                            \n",
      "__________________________________________________________________________________________________\n",
      "multiply_29 (Multiply)          (None, 2, 7, 7)      0           reshape_43[0][0]                 \n",
      "                                                                 input_72[0][0]                   \n",
      "__________________________________________________________________________________________________\n",
      "reshape_44 (Reshape)            (None, 2, 49)        0           multiply_29[0][0]                \n",
      "__________________________________________________________________________________________________\n",
      "activation_15 (Activation)      (None, 2, 49)        0           reshape_44[0][0]                 \n",
      "__________________________________________________________________________________________________\n",
      "reshape_45 (Reshape)            (None, 2, 7, 7)      0           activation_15[0][0]              \n",
      "==================================================================================================\n",
      "Total params: 374,114\n",
      "Trainable params: 373,346\n",
      "Non-trainable params: 768\n",
      "__________________________________________________________________________________________________\n",
      "None\n",
      "__________________________________________________________________________________________________\n",
      "Layer (type)                    Output Shape         Param #     Connected to                     \n",
      "==================================================================================================\n",
      "input_73 (InputLayer)           (None, 2, 7, 7)      0                                            \n",
      "__________________________________________________________________________________________________\n",
      "conv2d_117 (Conv2D)             (None, 64, 5, 5)     1216        input_73[0][0]                   \n",
      "__________________________________________________________________________________________________\n",
      "batch_normalization_131 (BatchN (None, 64, 5, 5)     256         conv2d_117[0][0]                 \n",
      "__________________________________________________________________________________________________\n",
      "conv2d_118 (Conv2D)             (None, 64, 5, 5)     36928       batch_normalization_131[0][0]    \n",
      "__________________________________________________________________________________________________\n",
      "batch_normalization_132 (BatchN (None, 64, 5, 5)     256         conv2d_118[0][0]                 \n",
      "__________________________________________________________________________________________________\n",
      "conv2d_119 (Conv2D)             (None, 128, 3, 3)    73856       batch_normalization_132[0][0]    \n",
      "__________________________________________________________________________________________________\n",
      "batch_normalization_133 (BatchN (None, 128, 3, 3)    512         conv2d_119[0][0]                 \n",
      "__________________________________________________________________________________________________\n",
      "conv2d_120 (Conv2D)             (None, 128, 3, 3)    147584      batch_normalization_133[0][0]    \n",
      "__________________________________________________________________________________________________\n",
      "batch_normalization_134 (BatchN (None, 128, 3, 3)    512         conv2d_120[0][0]                 \n",
      "__________________________________________________________________________________________________\n",
      "flatten_30 (Flatten)            (None, 1152)         0           batch_normalization_134[0][0]    \n",
      "__________________________________________________________________________________________________\n",
      "dense_44 (Dense)                (None, 98)           112994      flatten_30[0][0]                 \n",
      "__________________________________________________________________________________________________\n",
      "reshape_46 (Reshape)            (None, 2, 7, 7)      0           dense_44[0][0]                   \n",
      "__________________________________________________________________________________________________\n",
      "input_74 (InputLayer)           (None, 2, 7, 7)      0                                            \n",
      "__________________________________________________________________________________________________\n",
      "multiply_30 (Multiply)          (None, 2, 7, 7)      0           reshape_46[0][0]                 \n",
      "                                                                 input_74[0][0]                   \n",
      "__________________________________________________________________________________________________\n",
      "reshape_47 (Reshape)            (None, 2, 49)        0           multiply_30[0][0]                \n",
      "__________________________________________________________________________________________________\n",
      "activation_16 (Activation)      (None, 2, 49)        0           reshape_47[0][0]                 \n",
      "__________________________________________________________________________________________________\n",
      "reshape_48 (Reshape)            (None, 2, 7, 7)      0           activation_16[0][0]              \n",
      "==================================================================================================\n",
      "Total params: 374,114\n",
      "Trainable params: 373,346\n",
      "Non-trainable params: 768\n",
      "__________________________________________________________________________________________________\n",
      "None\n",
      "__________________________________________________________________________________________________\n",
      "Layer (type)                    Output Shape         Param #     Connected to                     \n",
      "==================================================================================================\n",
      "input_76 (InputLayer)           (None, 2, 7, 7)      0                                            \n",
      "__________________________________________________________________________________________________\n",
      "input_77 (InputLayer)           (None, 2, 7, 7)      0                                            \n",
      "__________________________________________________________________________________________________\n",
      "multiply_31 (Multiply)          (None, 2, 7, 7)      0           input_76[0][0]                   \n",
      "                                                                 input_77[0][0]                   \n",
      "__________________________________________________________________________________________________\n",
      "input_75 (InputLayer)           (None, 2, 7, 7)      0                                            \n",
      "__________________________________________________________________________________________________\n",
      "concatenate_15 (Concatenate)    (None, 4, 7, 7)      0           multiply_31[0][0]                \n",
      "                                                                 input_75[0][0]                   \n",
      "__________________________________________________________________________________________________\n",
      "conv2d_121 (Conv2D)             (None, 128, 5, 5)    4736        concatenate_15[0][0]             \n",
      "__________________________________________________________________________________________________\n",
      "batch_normalization_135 (BatchN (None, 128, 5, 5)    512         conv2d_121[0][0]                 \n",
      "__________________________________________________________________________________________________\n",
      "conv2d_122 (Conv2D)             (None, 64, 5, 5)     73792       batch_normalization_135[0][0]    \n",
      "__________________________________________________________________________________________________\n",
      "batch_normalization_136 (BatchN (None, 64, 5, 5)     256         conv2d_122[0][0]                 \n",
      "__________________________________________________________________________________________________\n",
      "conv2d_123 (Conv2D)             (None, 128, 3, 3)    73856       batch_normalization_136[0][0]    \n",
      "__________________________________________________________________________________________________\n",
      "batch_normalization_137 (BatchN (None, 128, 3, 3)    512         conv2d_123[0][0]                 \n",
      "__________________________________________________________________________________________________\n",
      "conv2d_124 (Conv2D)             (None, 128, 3, 3)    147584      batch_normalization_137[0][0]    \n",
      "__________________________________________________________________________________________________\n",
      "batch_normalization_138 (BatchN (None, 128, 3, 3)    512         conv2d_124[0][0]                 \n",
      "__________________________________________________________________________________________________\n",
      "flatten_31 (Flatten)            (None, 1152)         0           batch_normalization_138[0][0]    \n",
      "__________________________________________________________________________________________________\n",
      "dense_45 (Dense)                (None, 512)          590336      flatten_31[0][0]                 \n",
      "__________________________________________________________________________________________________\n",
      "batch_normalization_139 (BatchN (None, 512)          2048        dense_45[0][0]                   \n",
      "__________________________________________________________________________________________________\n",
      "dense_46 (Dense)                (None, 1)            513         batch_normalization_139[0][0]    \n",
      "==================================================================================================\n",
      "Total params: 894,657\n",
      "Trainable params: 892,737\n",
      "Non-trainable params: 1,920\n",
      "__________________________________________________________________________________________________\n",
      "None\n"
     ]
    },
    {
     "name": "stdout",
     "output_type": "stream",
     "text": [
      "__________________________________________________________________________________________________\n",
      "Layer (type)                    Output Shape         Param #     Connected to                     \n",
      "==================================================================================================\n",
      "input_79 (InputLayer)           (None, 2, 7, 7)      0                                            \n",
      "__________________________________________________________________________________________________\n",
      "input_80 (InputLayer)           (None, 2, 7, 7)      0                                            \n",
      "__________________________________________________________________________________________________\n",
      "multiply_32 (Multiply)          (None, 2, 7, 7)      0           input_79[0][0]                   \n",
      "                                                                 input_80[0][0]                   \n",
      "__________________________________________________________________________________________________\n",
      "input_78 (InputLayer)           (None, 2, 7, 7)      0                                            \n",
      "__________________________________________________________________________________________________\n",
      "concatenate_16 (Concatenate)    (None, 4, 7, 7)      0           multiply_32[0][0]                \n",
      "                                                                 input_78[0][0]                   \n",
      "__________________________________________________________________________________________________\n",
      "conv2d_125 (Conv2D)             (None, 128, 5, 5)    4736        concatenate_16[0][0]             \n",
      "__________________________________________________________________________________________________\n",
      "batch_normalization_140 (BatchN (None, 128, 5, 5)    512         conv2d_125[0][0]                 \n",
      "__________________________________________________________________________________________________\n",
      "conv2d_126 (Conv2D)             (None, 64, 5, 5)     73792       batch_normalization_140[0][0]    \n",
      "__________________________________________________________________________________________________\n",
      "batch_normalization_141 (BatchN (None, 64, 5, 5)     256         conv2d_126[0][0]                 \n",
      "__________________________________________________________________________________________________\n",
      "conv2d_127 (Conv2D)             (None, 128, 3, 3)    73856       batch_normalization_141[0][0]    \n",
      "__________________________________________________________________________________________________\n",
      "batch_normalization_142 (BatchN (None, 128, 3, 3)    512         conv2d_127[0][0]                 \n",
      "__________________________________________________________________________________________________\n",
      "conv2d_128 (Conv2D)             (None, 128, 3, 3)    147584      batch_normalization_142[0][0]    \n",
      "__________________________________________________________________________________________________\n",
      "batch_normalization_143 (BatchN (None, 128, 3, 3)    512         conv2d_128[0][0]                 \n",
      "__________________________________________________________________________________________________\n",
      "flatten_32 (Flatten)            (None, 1152)         0           batch_normalization_143[0][0]    \n",
      "__________________________________________________________________________________________________\n",
      "dense_47 (Dense)                (None, 512)          590336      flatten_32[0][0]                 \n",
      "__________________________________________________________________________________________________\n",
      "batch_normalization_144 (BatchN (None, 512)          2048        dense_47[0][0]                   \n",
      "__________________________________________________________________________________________________\n",
      "dense_48 (Dense)                (None, 1)            513         batch_normalization_144[0][0]    \n",
      "==================================================================================================\n",
      "Total params: 894,657\n",
      "Trainable params: 892,737\n",
      "Non-trainable params: 1,920\n",
      "__________________________________________________________________________________________________\n",
      "None\n",
      "__________________________________________________________________________________________________\n",
      "Layer (type)                    Output Shape         Param #     Connected to                     \n",
      "==================================================================================================\n",
      "input_71 (InputLayer)           (None, 2, 7, 7)      0                                            \n",
      "__________________________________________________________________________________________________\n",
      "conv2d_113 (Conv2D)             (None, 64, 5, 5)     1216        input_71[0][0]                   \n",
      "__________________________________________________________________________________________________\n",
      "batch_normalization_127 (BatchN (None, 64, 5, 5)     256         conv2d_113[0][0]                 \n",
      "__________________________________________________________________________________________________\n",
      "conv2d_114 (Conv2D)             (None, 64, 5, 5)     36928       batch_normalization_127[0][0]    \n",
      "__________________________________________________________________________________________________\n",
      "batch_normalization_128 (BatchN (None, 64, 5, 5)     256         conv2d_114[0][0]                 \n",
      "__________________________________________________________________________________________________\n",
      "conv2d_115 (Conv2D)             (None, 128, 3, 3)    73856       batch_normalization_128[0][0]    \n",
      "__________________________________________________________________________________________________\n",
      "batch_normalization_129 (BatchN (None, 128, 3, 3)    512         conv2d_115[0][0]                 \n",
      "__________________________________________________________________________________________________\n",
      "conv2d_116 (Conv2D)             (None, 128, 3, 3)    147584      batch_normalization_129[0][0]    \n",
      "__________________________________________________________________________________________________\n",
      "batch_normalization_130 (BatchN (None, 128, 3, 3)    512         conv2d_116[0][0]                 \n",
      "__________________________________________________________________________________________________\n",
      "flatten_29 (Flatten)            (None, 1152)         0           batch_normalization_130[0][0]    \n",
      "__________________________________________________________________________________________________\n",
      "dense_43 (Dense)                (None, 98)           112994      flatten_29[0][0]                 \n",
      "__________________________________________________________________________________________________\n",
      "reshape_43 (Reshape)            (None, 2, 7, 7)      0           dense_43[0][0]                   \n",
      "__________________________________________________________________________________________________\n",
      "input_72 (InputLayer)           (None, 2, 7, 7)      0                                            \n",
      "__________________________________________________________________________________________________\n",
      "multiply_29 (Multiply)          (None, 2, 7, 7)      0           reshape_43[0][0]                 \n",
      "                                                                 input_72[0][0]                   \n",
      "__________________________________________________________________________________________________\n",
      "reshape_44 (Reshape)            (None, 2, 49)        0           multiply_29[0][0]                \n",
      "__________________________________________________________________________________________________\n",
      "activation_15 (Activation)      (None, 2, 49)        0           reshape_44[0][0]                 \n",
      "__________________________________________________________________________________________________\n",
      "reshape_45 (Reshape)            (None, 2, 7, 7)      0           activation_15[0][0]              \n",
      "__________________________________________________________________________________________________\n",
      "input_77 (InputLayer)           (None, 2, 7, 7)      0                                            \n",
      "__________________________________________________________________________________________________\n",
      "model_59 (Model)                (None, 1)            894657      input_71[0][0]                   \n",
      "                                                                 reshape_45[0][0]                 \n",
      "                                                                 input_77[0][0]                   \n",
      "==================================================================================================\n",
      "Total params: 1,268,771\n",
      "Trainable params: 373,346\n",
      "Non-trainable params: 895,425\n",
      "__________________________________________________________________________________________________\n",
      "None\n"
     ]
    },
    {
     "name": "stdout",
     "output_type": "stream",
     "text": [
      "predicted prob for this move is: 0.0410123\n",
      "predicted prob for this move is: 0.0410183\n",
      "predicted prob for this move is: 0.0410979\n",
      "predicted prob for this move is: 0.0409835\n",
      "predicted prob for this move is: 0.0410473\n",
      "predicted prob for this move is: 0.0409133\n",
      "predicted prob for this move is: 0.0413131\n",
      "predicted prob for this move is: 0.0413047\n",
      "predicted prob for this move is: 0.0413503\n",
      "predicted prob for this move is: 0.0411724\n",
      "predicted prob for this move is: 0.0415518\n",
      "predicted prob for this move is: 0.0411729\n",
      "predicted prob for this move is: 0.0411365\n",
      "predicted prob for this move is: 0.0411722\n",
      "predicted prob for this move is: 0.0411059\n",
      "predicted prob for this move is: 0.0415335\n",
      "predicted prob for this move is: 0.0410984\n",
      "predicted prob for this move is: 0.0413336\n",
      "predicted prob for this move is: 0.0416151\n",
      "predicted prob for this move is: 0.0415864\n",
      "predicted prob for this move is: 0.0412862\n",
      "predicted prob for this move is: 0.041496\n",
      "predicted prob for this move is: 0.0416077\n",
      "predicted prob for this move is: 0.0418436\n",
      "predicted prob for this move is: 0.0414839\n",
      "predicted prob for this move is: 0.0415556\n",
      "predicted prob for this move is: 0.0414972\n",
      "predicted prob for this move is: 0.0418856\n",
      "predicted prob for this move is: 0.0419199\n",
      "predicted prob for this move is: 0.0419666\n",
      "predicted prob for this move is: 0.0414969\n",
      "predicted prob for this move is: 0.0418732\n",
      "predicted prob for this move is: 0.0416202\n",
      "predicted prob for this move is: 0.0417604\n",
      "predicted prob for this move is: 0.0414559\n",
      "predicted prob for this move is: 0.0422772\n",
      "predicted prob for this move is: 0.0415901\n",
      "predicted prob for this move is: 0.0417317\n",
      "predicted prob for this move is: 0.0416701\n",
      "predicted prob for this move is: 0.0412904\n",
      "predicted prob for this move is: 0.0419131\n",
      "predicted prob for this move is: 0.0418446\n",
      "predicted prob for this move is: 0.0415459\n",
      "predicted prob for this move is: 0.041957\n",
      "predicted prob for this move is: 0.0419872\n",
      "predicted prob for this move is: 0.0422243\n",
      "predicted prob for this move is: 0.0417375\n",
      "predicted prob for this move is: 0.0416103\n",
      "predicted prob for this move is: 0.0421254\n",
      "predicted prob for this move is: 0.0423096\n",
      "predicted prob for this move is: 0.0422315\n",
      "predicted prob for this move is: 0.0420676\n",
      "predicted prob for this move is: 0.0417183\n",
      "predicted prob for this move is: 0.0423814\n",
      "predicted prob for this move is: 0.042616\n",
      "predicted prob for this move is: 0.041835\n",
      "predicted prob for this move is: 0.0418483\n",
      "predicted prob for this move is: 0.0425474\n",
      "predicted prob for this move is: 0.0419672\n",
      "predicted prob for this move is: 0.0423909\n",
      "predicted prob for this move is: 0.0416865\n",
      "predicted prob for this move is: 0.0427236\n",
      "predicted prob for this move is: 0.0419696\n",
      "predicted prob for this move is: 0.0424442\n",
      "predicted prob for this move is: 0.0416375\n",
      "predicted prob for this move is: 0.0420398\n",
      "predicted prob for this move is: 0.0420433\n",
      "predicted prob for this move is: 0.0415354\n",
      "predicted prob for this move is: 0.0419168\n",
      "predicted prob for this move is: 0.0416224\n",
      "predicted prob for this move is: 0.0425081\n",
      "predicted prob for this move is: 0.0418655\n",
      "predicted prob for this move is: 0.0420087\n",
      "predicted prob for this move is: 0.0417067\n",
      "predicted prob for this move is: 0.0430287\n",
      "predicted prob for this move is: 0.0418655\n",
      "predicted prob for this move is: 0.0420087\n",
      "predicted prob for this move is: 0.0417067\n",
      "predicted prob for this move is: 0.0430287\n",
      "predicted prob for this move is: 0.0418655\n",
      "predicted prob for this move is: 0.0420087\n",
      "predicted prob for this move is: 0.0417067\n",
      "predicted prob for this move is: 0.0430287\n",
      "predicted prob for this move is: 0.0418655\n",
      "predicted prob for this move is: 0.0417996\n",
      "predicted prob for this move is: 0.0419769\n",
      "predicted prob for this move is: 0.0424565\n",
      "predicted prob for this move is: 0.0416631\n",
      "predicted prob for this move is: 0.0422001\n",
      "predicted prob for this move is: 0.0420042\n",
      "predicted prob for this move is: 0.0417151\n",
      "predicted prob for this move is: 0.0420824\n",
      "predicted prob for this move is: 0.0419193\n",
      "predicted prob for this move is: 0.0426913\n",
      "predicted prob for this move is: 0.0423326\n",
      "predicted prob for this move is: 0.0423569\n",
      "predicted prob for this move is: 0.0422074\n",
      "predicted prob for this move is: 0.0425018\n",
      "predicted prob for this move is: 0.0431867\n",
      "predicted prob for this move is: 0.0427017\n",
      "predicted prob for this move is: 0.0422312\n",
      "predicted prob for this move is: 0.0426822\n",
      "predicted prob for this move is: 0.0423989\n",
      "predicted prob for this move is: 0.0421037\n",
      "predicted prob for this move is: 0.042887\n",
      "predicted prob for this move is: 0.0421356\n",
      "predicted prob for this move is: 0.0426639\n",
      "predicted prob for this move is: 0.0421219\n",
      "predicted prob for this move is: 0.043047\n",
      "predicted prob for this move is: 0.0421959\n",
      "predicted prob for this move is: 0.0419891\n",
      "predicted prob for this move is: 0.0422283\n",
      "predicted prob for this move is: 0.0422485\n",
      "predicted prob for this move is: 0.0419342\n",
      "predicted prob for this move is: 0.0419732\n",
      "predicted prob for this move is: 0.0421852\n",
      "predicted prob for this move is: 0.0431138\n",
      "predicted prob for this move is: 0.0419342\n",
      "predicted prob for this move is: 0.0419732\n",
      "predicted prob for this move is: 0.0421852\n",
      "predicted prob for this move is: 0.0419867\n",
      "predicted prob for this move is: 0.0429531\n",
      "predicted prob for this move is: 0.0423293\n",
      "predicted prob for this move is: 0.0421236\n",
      "predicted prob for this move is: 0.0419867\n",
      "predicted prob for this move is: 0.0429531\n",
      "predicted prob for this move is: 0.0423293\n",
      "predicted prob for this move is: 0.0421236\n",
      "predicted prob for this move is: 0.0419867\n",
      "predicted prob for this move is: 0.0429531\n",
      "predicted prob for this move is: 0.0423293\n",
      "predicted prob for this move is: 0.0421236\n",
      "predicted prob for this move is: 0.0419867\n",
      "predicted prob for this move is: 0.0429531\n",
      "predicted prob for this move is: 0.0423293\n",
      "predicted prob for this move is: 0.0421236\n",
      "predicted prob for this move is: 0.0419867\n",
      "predicted prob for this move is: 0.0429531\n",
      "predicted prob for this move is: 0.0423293\n",
      "predicted prob for this move is: 0.0421236\n",
      "predicted prob for this move is: 0.0419867\n",
      "predicted prob for this move is: 0.0429531\n",
      "predicted prob for this move is: 0.0423293\n",
      "predicted prob for this move is: 0.0421236\n",
      "predicted prob for this move is: 0.0419867\n",
      "predicted prob for this move is: 0.0429531\n",
      "predicted prob for this move is: 0.0423293\n",
      "predicted prob for this move is: 0.0422376\n",
      "predicted prob for this move is: 0.0420191\n",
      "predicted prob for this move is: 0.0423389\n",
      "predicted prob for this move is: 0.0444914\n",
      "predicted prob for this move is: 0.0423124\n",
      "predicted prob for this move is: 0.0425127\n",
      "predicted prob for this move is: 0.0424633\n",
      "predicted prob for this move is: 0.0419639\n",
      "predicted prob for this move is: 0.0428607\n",
      "predicted prob for this move is: 0.0419665\n",
      "predicted prob for this move is: 0.041439\n",
      "predicted prob for this move is: 0.0420351\n",
      "predicted prob for this move is: 0.0429337\n",
      "predicted prob for this move is: 0.0422111\n",
      "predicted prob for this move is: 0.0419703\n",
      "predicted prob for this move is: 0.0432816\n",
      "predicted prob for this move is: 0.0432666\n",
      "predicted prob for this move is: 0.0416475\n",
      "predicted prob for this move is: 0.0423215\n",
      "predicted prob for this move is: 0.0424356\n",
      "predicted prob for this move is: 0.0424547\n",
      "predicted prob for this move is: 0.0413139\n",
      "Episode : 0 Replay Buffer 193\n",
      "TOTAL REWARD @ 0-th Episode  : Reward -1\n",
      "Total Step: 193\n",
      "train start:\n"
     ]
    },
    {
     "name": "stderr",
     "output_type": "stream",
     "text": [
      "/home/yuze/anaconda3/envs/tensorflow/lib/python3.5/site-packages/keras/engine/training.py:973: UserWarning: Discrepancy between trainable weights and collected trainable weights, did you set `model.trainable` without calling `model.compile` after ?\n",
      "  'Discrepancy between trainable weights and collected trainable'\n"
     ]
    },
    {
     "name": "stdout",
     "output_type": "stream",
     "text": [
      "critic loss [1.6416736, 1.6416736]\n",
      "actor loss -0.000270292\n",
      "train end\n",
      "train start:\n",
      "critic loss [1.4968247, 1.4968247]\n",
      "actor loss -0.000537347\n",
      "train end\n",
      "train start:\n",
      "critic loss [1.7628729, 1.7628729]\n",
      "actor loss -0.000778325\n",
      "train end\n",
      "train start:\n",
      "critic loss [1.5276623, 1.5276623]\n",
      "actor loss -0.00102945\n",
      "train end\n",
      "train start:\n",
      "critic loss [1.464543, 1.464543]\n",
      "actor loss -0.00128144\n",
      "train end\n",
      "train start:\n",
      "critic loss [1.2822373, 1.2822373]\n",
      "actor loss -0.001539\n",
      "train end\n",
      "train start:\n",
      "critic loss [1.3774998, 1.3774998]\n",
      "actor loss -0.00179316\n",
      "train end\n",
      "train start:\n",
      "critic loss [1.0904058, 1.0904058]\n",
      "actor loss -0.00204843\n",
      "train end\n",
      "train start:\n",
      "critic loss [1.0530124, 1.0530124]\n",
      "actor loss -0.00231048\n",
      "train end\n",
      "train start:\n",
      "critic loss [1.111359, 1.111359]\n",
      "actor loss -0.00257429\n",
      "train end\n",
      "train start:\n",
      "critic loss [1.1451993, 1.1451993]\n",
      "actor loss -0.0028381\n",
      "train end\n"
     ]
    },
    {
     "ename": "KeyboardInterrupt",
     "evalue": "",
     "output_type": "error",
     "traceback": [
      "\u001b[0;31m---------------------------------------------------------------------------\u001b[0m",
      "\u001b[0;31mKeyboardInterrupt\u001b[0m                         Traceback (most recent call last)",
      "\u001b[0;32m<ipython-input-37-3114c2e298b1>\u001b[0m in \u001b[0;36m<module>\u001b[0;34m()\u001b[0m\n\u001b[1;32m      1\u001b[0m actor = reinforcement_learning(epochs=3000, check_point=True, step_per_epoch=50, \n\u001b[0;32m----> 2\u001b[0;31m                                RELAY_SIZE=5120, BATCH_SIZE=128, TRAIN_BATCH_TIME=2, LRC=1e-5, LRA=1e-5)\n\u001b[0m",
      "\u001b[0;32m<ipython-input-27-1c37d7d46169>\u001b[0m in \u001b[0;36mreinforcement_learning\u001b[0;34m(epochs, check_point, step_per_epoch, BATCH_SIZE, TRAIN_BATCH_TIME, GAMMA, RELAY_SIZE, TAU, LRA, LRC)\u001b[0m\n\u001b[1;32m     72\u001b[0m \u001b[0;34m\u001b[0m\u001b[0m\n\u001b[1;32m     73\u001b[0m                         new_action, new_action_mask = actor.get_noised_action(tmp_game, 1, epsilon=0, return_position=False, \n\u001b[0;32m---> 74\u001b[0;31m                                                                     mask_init=policy_mask_init, is_target=True, verbose=False)\n\u001b[0m\u001b[1;32m     75\u001b[0m                         \u001b[0;31m# print(\"new_state\", tmp_game.data)\u001b[0m\u001b[0;34m\u001b[0m\u001b[0;34m\u001b[0m\u001b[0m\n\u001b[1;32m     76\u001b[0m                         \u001b[0;31m# print(\"new_masked_action\", np.multiply(new_action, new_action_mask))\u001b[0m\u001b[0;34m\u001b[0m\u001b[0;34m\u001b[0m\u001b[0m\n",
      "\u001b[0;32m<ipython-input-26-6b0b2a2416dd>\u001b[0m in \u001b[0;36mget_noised_action\u001b[0;34m(self, game, turn, epsilon, return_position, filter_invalid, is_target, mask_init, verbose)\u001b[0m\n\u001b[1;32m    136\u001b[0m         \u001b[0;32mif\u001b[0m \u001b[0mlen\u001b[0m\u001b[0;34m(\u001b[0m\u001b[0mvalid_moves\u001b[0m\u001b[0;34m)\u001b[0m \u001b[0;34m==\u001b[0m \u001b[0;36m0\u001b[0m\u001b[0;34m:\u001b[0m\u001b[0;34m\u001b[0m\u001b[0m\n\u001b[1;32m    137\u001b[0m             \u001b[0;32mraise\u001b[0m \u001b[0mValueError\u001b[0m\u001b[0;34m(\u001b[0m\u001b[0;34m\"passing a already ended game to actor\"\u001b[0m\u001b[0;34m)\u001b[0m\u001b[0;34m\u001b[0m\u001b[0m\n\u001b[0;32m--> 138\u001b[0;31m         \u001b[0maction_prob\u001b[0m \u001b[0;34m=\u001b[0m \u001b[0mself\u001b[0m\u001b[0;34m.\u001b[0m\u001b[0mget_action_prob\u001b[0m\u001b[0;34m(\u001b[0m\u001b[0mgame\u001b[0m\u001b[0;34m,\u001b[0m \u001b[0mturn\u001b[0m\u001b[0;34m,\u001b[0m \u001b[0mis_target\u001b[0m\u001b[0;34m)\u001b[0m\u001b[0;34m\u001b[0m\u001b[0m\n\u001b[0m\u001b[1;32m    139\u001b[0m         \u001b[0;32mif\u001b[0m \u001b[0mrandom\u001b[0m\u001b[0;34m(\u001b[0m\u001b[0;34m)\u001b[0m \u001b[0;34m<\u001b[0m \u001b[0mepsilon\u001b[0m\u001b[0;34m:\u001b[0m \u001b[0;31m# notice: Actor always only judge for turn 1\u001b[0m\u001b[0;34m\u001b[0m\u001b[0m\n\u001b[1;32m    140\u001b[0m             \u001b[0mrandom_move\u001b[0m \u001b[0;34m=\u001b[0m \u001b[0mchoice\u001b[0m\u001b[0;34m(\u001b[0m\u001b[0mvalid_moves\u001b[0m\u001b[0;34m)\u001b[0m\u001b[0;34m\u001b[0m\u001b[0m\n",
      "\u001b[0;32m<ipython-input-26-6b0b2a2416dd>\u001b[0m in \u001b[0;36mget_action_prob\u001b[0;34m(self, game, turn, is_target)\u001b[0m\n\u001b[1;32m    129\u001b[0m         \u001b[0;32melse\u001b[0m\u001b[0;34m:\u001b[0m\u001b[0;34m\u001b[0m\u001b[0m\n\u001b[1;32m    130\u001b[0m             return self.target_model.predict([np.reshape(game.get_feature_map(turn), (1, 2, 7, 7)), \n\u001b[0;32m--> 131\u001b[0;31m                                       np.reshape(game.get_mask(turn), (1, 2, 7, 7))])[0]\n\u001b[0m\u001b[1;32m    132\u001b[0m \u001b[0;34m\u001b[0m\u001b[0m\n\u001b[1;32m    133\u001b[0m \u001b[0;34m\u001b[0m\u001b[0m\n",
      "\u001b[0;32m<ipython-input-2-37909c943ff0>\u001b[0m in \u001b[0;36mget_mask\u001b[0;34m(self, turn, init)\u001b[0m\n\u001b[1;32m     18\u001b[0m         \u001b[0mmoves\u001b[0m \u001b[0;34m=\u001b[0m \u001b[0mself\u001b[0m\u001b[0;34m.\u001b[0m\u001b[0mget_moves\u001b[0m\u001b[0;34m(\u001b[0m\u001b[0mturn\u001b[0m\u001b[0;34m)\u001b[0m\u001b[0;34m\u001b[0m\u001b[0m\n\u001b[1;32m     19\u001b[0m         \u001b[0mmoves\u001b[0m \u001b[0;34m=\u001b[0m \u001b[0mlist\u001b[0m\u001b[0;34m(\u001b[0m\u001b[0mzip\u001b[0m\u001b[0;34m(\u001b[0m\u001b[0;34m*\u001b[0m\u001b[0mself\u001b[0m\u001b[0;34m.\u001b[0m\u001b[0mget_moves\u001b[0m\u001b[0;34m(\u001b[0m\u001b[0mturn\u001b[0m\u001b[0;34m)\u001b[0m\u001b[0;34m)\u001b[0m\u001b[0;34m)\u001b[0m\u001b[0;34m\u001b[0m\u001b[0m\n\u001b[0;32m---> 20\u001b[0;31m         \u001b[0;32mif\u001b[0m \u001b[0mlen\u001b[0m\u001b[0;34m(\u001b[0m\u001b[0mmoves\u001b[0m\u001b[0;34m)\u001b[0m \u001b[0;34m==\u001b[0m \u001b[0;36m0\u001b[0m\u001b[0;34m:\u001b[0m\u001b[0;34m\u001b[0m\u001b[0m\n\u001b[0m\u001b[1;32m     21\u001b[0m             \u001b[0;32mreturn\u001b[0m \u001b[0mnp\u001b[0m\u001b[0;34m.\u001b[0m\u001b[0mzeros\u001b[0m\u001b[0;34m(\u001b[0m\u001b[0;34m(\u001b[0m\u001b[0;36m2\u001b[0m\u001b[0;34m,\u001b[0m \u001b[0;36m7\u001b[0m\u001b[0;34m,\u001b[0m \u001b[0;36m7\u001b[0m\u001b[0;34m)\u001b[0m\u001b[0;34m)\u001b[0m\u001b[0;34m\u001b[0m\u001b[0m\n\u001b[1;32m     22\u001b[0m         \u001b[0;32melse\u001b[0m\u001b[0;34m:\u001b[0m\u001b[0;34m\u001b[0m\u001b[0m\n",
      "\u001b[0;31mKeyboardInterrupt\u001b[0m: "
     ]
    }
   ],
   "source": [
    "actor = reinforcement_learning(epochs=3000, check_point=True, step_per_epoch=50, \n",
    "                               RELAY_SIZE=5120, BATCH_SIZE=128, TRAIN_BATCH_TIME=2, LRC=1e-5, LRA=1e-5)"
   ]
  },
  {
   "cell_type": "code",
   "execution_count": 10,
   "metadata": {},
   "outputs": [
    {
     "name": "stdout",
     "output_type": "stream",
     "text": [
      "successfully loaded trained target model\n"
     ]
    },
    {
     "name": "stderr",
     "output_type": "stream",
     "text": [
      "/home/yuze/anaconda3/envs/tensorflow/lib/python3.5/site-packages/keras/models.py:252: UserWarning: No training configuration found in save file: the model was *not* compiled. Compile it manually.\n",
      "  warnings.warn('No training configuration found in save file: '\n"
     ]
    }
   ],
   "source": [
    "actor = ActorNetwork(is_train=False)"
   ]
  },
  {
   "cell_type": "code",
   "execution_count": 11,
   "metadata": {},
   "outputs": [
    {
     "name": "stdout",
     "output_type": "stream",
     "text": [
      "-1 is actor\n",
      "0.0\n"
     ]
    },
    {
     "data": {
      "image/png": "[encoded data removed]",
      "text/plain": [
       "<matplotlib.figure.Figure at 0x7f7a04377fd0>"
      ]
     },
     "metadata": {},
     "output_type": "display_data"
    },
    {
     "name": "stdout",
     "output_type": "stream",
     "text": [
      "predicted prob for this move is: 0.100102\n",
      "0.0\n"
     ]
    },
    {
     "data": {
      "image/png": "[encoded data removed]",
      "text/plain": [
       "<matplotlib.figure.Figure at 0x7f7a041bcac8>"
      ]
     },
     "metadata": {},
     "output_type": "display_data"
    },
    {
     "name": "stdout",
     "output_type": "stream",
     "text": [
      "predicted prob for this move is: 0.12126\n",
      "0.0\n"
     ]
    },
    {
     "data": {
      "image/png": "[encoded data removed]",
      "text/plain": [
       "<matplotlib.figure.Figure at 0x7f7a04284390>"
      ]
     },
     "metadata": {},
     "output_type": "display_data"
    },
    {
     "name": "stdout",
     "output_type": "stream",
     "text": [
      "predicted prob for this move is: 0.127606\n",
      "0.1\n"
     ]
    },
    {
     "data": {
      "image/png": "[encoded data removed]",
      "text/plain": [
       "<matplotlib.figure.Figure at 0x7f7a04189ef0>"
      ]
     },
     "metadata": {},
     "output_type": "display_data"
    },
    {
     "name": "stdout",
     "output_type": "stream",
     "text": [
      "predicted prob for this move is: 0.0678226\n",
      "0.1\n"
     ]
    },
    {
     "data": {
      "image/png": "[encoded data removed]",
      "text/plain": [
       "<matplotlib.figure.Figure at 0x7f7a04140f98>"
      ]
     },
     "metadata": {},
     "output_type": "display_data"
    },
    {
     "name": "stdout",
     "output_type": "stream",
     "text": [
      "predicted prob for this move is: 0.0943449\n",
      "0.2\n"
     ]
    },
    {
     "data": {
      "image/png": "[encoded data removed]",
      "text/plain": [
       "<matplotlib.figure.Figure at 0x7f7a04165828>"
      ]
     },
     "metadata": {},
     "output_type": "display_data"
    },
    {
     "name": "stdout",
     "output_type": "stream",
     "text": [
      "predicted prob for this move is: 0.0649078\n",
      "0.2\n"
     ]
    },
    {
     "data": {
      "image/png": "[encoded data removed]",
      "text/plain": [
       "<matplotlib.figure.Figure at 0x7f7a04129da0>"
      ]
     },
     "metadata": {},
     "output_type": "display_data"
    },
    {
     "name": "stdout",
     "output_type": "stream",
     "text": [
      "predicted prob for this move is: 0.0944314\n",
      "0.2\n"
     ]
    },
    {
     "data": {
      "image/png": "[encoded data removed]",
      "text/plain": [
       "<matplotlib.figure.Figure at 0x7f7a040dfe48>"
      ]
     },
     "metadata": {},
     "output_type": "display_data"
    },
    {
     "name": "stdout",
     "output_type": "stream",
     "text": [
      "predicted prob for this move is: 0.132426\n",
      "0.2\n"
     ]
    },
    {
     "data": {
      "image/png": "[encoded data removed]",
      "text/plain": [
       "<matplotlib.figure.Figure at 0x7f7a04083470>"
      ]
     },
     "metadata": {},
     "output_type": "display_data"
    },
    {
     "name": "stdout",
     "output_type": "stream",
     "text": [
      "predicted prob for this move is: 0.108738\n",
      "0.30000000000000004\n"
     ]
    },
    {
     "data": {
      "image/png": "[encoded data removed]",
      "text/plain": [
       "<matplotlib.figure.Figure at 0x7f7a04049fd0>"
      ]
     },
     "metadata": {},
     "output_type": "display_data"
    },
    {
     "name": "stdout",
     "output_type": "stream",
     "text": [
      "predicted prob for this move is: 0.0630666\n",
      "0.30000000000000004\n"
     ]
    },
    {
     "data": {
      "image/png": "[encoded data removed]",
      "text/plain": [
       "<matplotlib.figure.Figure at 0x7f7a0406d080>"
      ]
     },
     "metadata": {},
     "output_type": "display_data"
    },
    {
     "name": "stdout",
     "output_type": "stream",
     "text": [
      "predicted prob for this move is: 0.0914199\n",
      "0.30000000000000004\n"
     ]
    },
    {
     "data": {
      "image/png": "[encoded data removed]",
      "text/plain": [
       "<matplotlib.figure.Figure at 0x7f79e47f4ef0>"
      ]
     },
     "metadata": {},
     "output_type": "display_data"
    },
    {
     "name": "stdout",
     "output_type": "stream",
     "text": [
      "predicted prob for this move is: 0.131342\n",
      "0.30000000000000004\n"
     ]
    },
    {
     "data": {
      "image/png": "[encoded data removed]",
      "text/plain": [
       "<matplotlib.figure.Figure at 0x7f79e47af128>"
      ]
     },
     "metadata": {},
     "output_type": "display_data"
    },
    {
     "name": "stdout",
     "output_type": "stream",
     "text": [
      "predicted prob for this move is: 0.111034\n",
      "0.4\n"
     ]
    },
    {
     "data": {
      "image/png": "[encoded data removed]",
      "text/plain": [
       "<matplotlib.figure.Figure at 0x7f79e4761b70>"
      ]
     },
     "metadata": {},
     "output_type": "display_data"
    },
    {
     "name": "stdout",
     "output_type": "stream",
     "text": [
      "predicted prob for this move is: 0.0617743\n",
      "0.4\n"
     ]
    },
    {
     "data": {
      "image/png": "[encoded data removed]",
      "text/plain": [
       "<matplotlib.figure.Figure at 0x7f79e4717f28>"
      ]
     },
     "metadata": {},
     "output_type": "display_data"
    },
    {
     "name": "stdout",
     "output_type": "stream",
     "text": [
      "predicted prob for this move is: 0.086514\n",
      "0.5\n"
     ]
    },
    {
     "data": {
      "image/png": "[encoded data removed]",
      "text/plain": [
       "<matplotlib.figure.Figure at 0x7f79e46cdfd0>"
      ]
     },
     "metadata": {},
     "output_type": "display_data"
    },
    {
     "name": "stdout",
     "output_type": "stream",
     "text": [
      "predicted prob for this move is: 0.119985\n",
      "0.5\n"
     ]
    },
    {
     "data": {
      "image/png": "[encoded data removed]",
      "text/plain": [
       "<matplotlib.figure.Figure at 0x7f79e46c8b38>"
      ]
     },
     "metadata": {},
     "output_type": "display_data"
    },
    {
     "name": "stdout",
     "output_type": "stream",
     "text": [
      "predicted prob for this move is: 0.0839917\n",
      "0.6000000000000001\n"
     ]
    },
    {
     "data": {
      "image/png": "[encoded data removed]",
      "text/plain": [
       "<matplotlib.figure.Figure at 0x7f79e46b6dd8>"
      ]
     },
     "metadata": {},
     "output_type": "display_data"
    },
    {
     "name": "stdout",
     "output_type": "stream",
     "text": [
      "predicted prob for this move is: 0.0625027\n",
      "0.6000000000000001\n"
     ]
    },
    {
     "data": {
      "image/png": "[encoded data removed]",
      "text/plain": [
       "<matplotlib.figure.Figure at 0x7f79e466fe48>"
      ]
     },
     "metadata": {},
     "output_type": "display_data"
    },
    {
     "name": "stdout",
     "output_type": "stream",
     "text": [
      "predicted prob for this move is: 0.0751933\n",
      "0.7000000000000001\n"
     ]
    },
    {
     "data": {
      "image/png": "[encoded data removed]",
      "text/plain": [
       "<matplotlib.figure.Figure at 0x7f7a440696d8>"
      ]
     },
     "metadata": {},
     "output_type": "display_data"
    },
    {
     "name": "stdout",
     "output_type": "stream",
     "text": [
      "predicted prob for this move is: 0.111534\n",
      "0.7000000000000001\n"
     ]
    },
    {
     "data": {
      "image/png": "[encoded data removed]",
      "text/plain": [
       "<matplotlib.figure.Figure at 0x7f7a442184e0>"
      ]
     },
     "metadata": {},
     "output_type": "display_data"
    },
    {
     "name": "stdout",
     "output_type": "stream",
     "text": [
      "predicted prob for this move is: 0.0782172\n",
      "0.7000000000000001\n"
     ]
    },
    {
     "data": {
      "image/png": "[encoded data removed]",
      "text/plain": [
       "<matplotlib.figure.Figure at 0x7f7b7a415f60>"
      ]
     },
     "metadata": {},
     "output_type": "display_data"
    },
    {
     "name": "stdout",
     "output_type": "stream",
     "text": [
      "predicted prob for this move is: 0.0673414\n",
      "0.7000000000000001\n"
     ]
    },
    {
     "data": {
      "image/png": "[encoded data removed]",
      "text/plain": [
       "<matplotlib.figure.Figure at 0x7f7a04210b00>"
      ]
     },
     "metadata": {},
     "output_type": "display_data"
    },
    {
     "name": "stdout",
     "output_type": "stream",
     "text": [
      "predicted prob for this move is: 0.106987\n",
      "0.8\n"
     ]
    },
    {
     "data": {
      "image/png": "[encoded data removed]",
      "text/plain": [
       "<matplotlib.figure.Figure at 0x7f79e4653fd0>"
      ]
     },
     "metadata": {},
     "output_type": "display_data"
    },
    {
     "name": "stdout",
     "output_type": "stream",
     "text": [
      "predicted prob for this move is: 0.0940914\n",
      "0.5\n"
     ]
    },
    {
     "data": {
      "image/png": "[encoded data removed]",
      "text/plain": [
       "<matplotlib.figure.Figure at 0x7f7a042854a8>"
      ]
     },
     "metadata": {},
     "output_type": "display_data"
    },
    {
     "name": "stdout",
     "output_type": "stream",
     "text": [
      "predicted prob for this move is: 0.08561\n",
      "0.5\n"
     ]
    },
    {
     "data": {
      "image/png": "[encoded data removed]",
      "text/plain": [
       "<matplotlib.figure.Figure at 0x7f79e460f630>"
      ]
     },
     "metadata": {},
     "output_type": "display_data"
    },
    {
     "name": "stdout",
     "output_type": "stream",
     "text": [
      "predicted prob for this move is: 0.0822324\n",
      "0.5\n"
     ]
    },
    {
     "data": {
      "image/png": "[encoded data removed]",
      "text/plain": [
       "<matplotlib.figure.Figure at 0x7f79e46f4e80>"
      ]
     },
     "metadata": {},
     "output_type": "display_data"
    },
    {
     "name": "stdout",
     "output_type": "stream",
     "text": [
      "predicted prob for this move is: 0.10068\n",
      "0.6000000000000001\n"
     ]
    },
    {
     "data": {
      "image/png": "[encoded data removed]",
      "text/plain": [
       "<matplotlib.figure.Figure at 0x7f79e4733e48>"
      ]
     },
     "metadata": {},
     "output_type": "display_data"
    },
    {
     "name": "stdout",
     "output_type": "stream",
     "text": [
      "predicted prob for this move is: 0.0730835\n",
      "0.5\n"
     ]
    },
    {
     "data": {
      "image/png": "[encoded data removed]",
      "text/plain": [
       "<matplotlib.figure.Figure at 0x7f79e4704908>"
      ]
     },
     "metadata": {},
     "output_type": "display_data"
    },
    {
     "name": "stdout",
     "output_type": "stream",
     "text": [
      "predicted prob for this move is: 0.0825364\n",
      "0.5\n"
     ]
    },
    {
     "data": {
      "image/png": "[encoded data removed]",
      "text/plain": [
       "<matplotlib.figure.Figure at 0x7f79e479d898>"
      ]
     },
     "metadata": {},
     "output_type": "display_data"
    },
    {
     "name": "stdout",
     "output_type": "stream",
     "text": [
      "predicted prob for this move is: 0.0657928\n",
      "0.1\n"
     ]
    },
    {
     "data": {
      "image/png": "[encoded data removed]",
      "text/plain": [
       "<matplotlib.figure.Figure at 0x7f79e479a518>"
      ]
     },
     "metadata": {},
     "output_type": "display_data"
    },
    {
     "name": "stdout",
     "output_type": "stream",
     "text": [
      "predicted prob for this move is: 0.102964\n",
      "0.2\n"
     ]
    },
    {
     "data": {
      "image/png": "[encoded data removed]",
      "text/plain": [
       "<matplotlib.figure.Figure at 0x7f7a041ce4a8>"
      ]
     },
     "metadata": {},
     "output_type": "display_data"
    },
    {
     "name": "stdout",
     "output_type": "stream",
     "text": [
      "predicted prob for this move is: 0.0766894\n",
      "0.2\n"
     ]
    },
    {
     "data": {
      "image/png": "[encoded data removed]",
      "text/plain": [
       "<matplotlib.figure.Figure at 0x7f7a04070d68>"
      ]
     },
     "metadata": {},
     "output_type": "display_data"
    },
    {
     "name": "stdout",
     "output_type": "stream",
     "text": [
      "predicted prob for this move is: 0.0669713\n",
      "0.6000000000000001\n"
     ]
    },
    {
     "data": {
      "image/png": "[encoded data removed]",
      "text/plain": [
       "<matplotlib.figure.Figure at 0x7f7a041082b0>"
      ]
     },
     "metadata": {},
     "output_type": "display_data"
    },
    {
     "name": "stdout",
     "output_type": "stream",
     "text": [
      "predicted prob for this move is: 0.0856336\n",
      "0.6000000000000001\n"
     ]
    },
    {
     "data": {
      "image/png": "[encoded data removed]",
      "text/plain": [
       "<matplotlib.figure.Figure at 0x7f7a040f3048>"
      ]
     },
     "metadata": {},
     "output_type": "display_data"
    },
    {
     "name": "stdout",
     "output_type": "stream",
     "text": [
      "predicted prob for this move is: 0.106371\n",
      "0.7000000000000001\n"
     ]
    },
    {
     "data": {
      "image/png": "[encoded data removed]",
      "text/plain": [
       "<matplotlib.figure.Figure at 0x7f7a040cdbe0>"
      ]
     },
     "metadata": {},
     "output_type": "display_data"
    },
    {
     "name": "stdout",
     "output_type": "stream",
     "text": [
      "predicted prob for this move is: 0.0803548\n",
      "0.7000000000000001\n"
     ]
    },
    {
     "data": {
      "image/png": "[encoded data removed]",
      "text/plain": [
       "<matplotlib.figure.Figure at 0x7f7a0408bbe0>"
      ]
     },
     "metadata": {},
     "output_type": "display_data"
    },
    {
     "name": "stdout",
     "output_type": "stream",
     "text": [
      "predicted prob for this move is: 0.0972513\n",
      "0.7000000000000001\n"
     ]
    },
    {
     "data": {
      "image/png": "[encoded data removed]",
      "text/plain": [
       "<matplotlib.figure.Figure at 0x7f7a04189cf8>"
      ]
     },
     "metadata": {},
     "output_type": "display_data"
    },
    {
     "name": "stdout",
     "output_type": "stream",
     "text": [
      "predicted prob for this move is: 0.0881108\n",
      "0.5\n"
     ]
    },
    {
     "data": {
      "image/png": "[encoded data removed]",
      "text/plain": [
       "<matplotlib.figure.Figure at 0x7f7a04156eb8>"
      ]
     },
     "metadata": {},
     "output_type": "display_data"
    },
    {
     "name": "stdout",
     "output_type": "stream",
     "text": [
      "predicted prob for this move is: 0.0677935\n",
      "0.7000000000000001\n"
     ]
    },
    {
     "data": {
      "image/png": "[encoded data removed]",
      "text/plain": [
       "<matplotlib.figure.Figure at 0x7f79e45da908>"
      ]
     },
     "metadata": {},
     "output_type": "display_data"
    },
    {
     "name": "stdout",
     "output_type": "stream",
     "text": [
      "predicted prob for this move is: 0.073752\n",
      "0.7000000000000001\n"
     ]
    },
    {
     "data": {
      "image/png": "[encoded data removed]",
      "text/plain": [
       "<matplotlib.figure.Figure at 0x7f79e45909e8>"
      ]
     },
     "metadata": {},
     "output_type": "display_data"
    },
    {
     "name": "stdout",
     "output_type": "stream",
     "text": [
      "predicted prob for this move is: 0.101369\n",
      "0.7000000000000001\n"
     ]
    },
    {
     "data": {
      "image/png": "[encoded data removed]",
      "text/plain": [
       "<matplotlib.figure.Figure at 0x7f79e45b68d0>"
      ]
     },
     "metadata": {},
     "output_type": "display_data"
    },
    {
     "name": "stdout",
     "output_type": "stream",
     "text": [
      "predicted prob for this move is: 0.0660386\n",
      "0.6000000000000001\n"
     ]
    },
    {
     "data": {
      "image/png": "[encoded data removed]",
      "text/plain": [
       "<matplotlib.figure.Figure at 0x7f79e4507a20>"
      ]
     },
     "metadata": {},
     "output_type": "display_data"
    },
    {
     "name": "stdout",
     "output_type": "stream",
     "text": [
      "predicted prob for this move is: 0.0794238\n",
      "0.6000000000000001\n"
     ]
    },
    {
     "data": {
      "image/png": "[encoded data removed]",
      "text/plain": [
       "<matplotlib.figure.Figure at 0x7f79e44b9ef0>"
      ]
     },
     "metadata": {},
     "output_type": "display_data"
    },
    {
     "name": "stdout",
     "output_type": "stream",
     "text": [
      "predicted prob for this move is: 0.0733916\n",
      "0.6000000000000001\n"
     ]
    },
    {
     "data": {
      "image/png": "[encoded data removed]",
      "text/plain": [
       "<matplotlib.figure.Figure at 0x7f79e44f0f28>"
      ]
     },
     "metadata": {},
     "output_type": "display_data"
    },
    {
     "name": "stdout",
     "output_type": "stream",
     "text": [
      "predicted prob for this move is: 0.102075\n",
      "0.6000000000000001\n"
     ]
    },
    {
     "data": {
      "image/png": "[encoded data removed]",
      "text/plain": [
       "<matplotlib.figure.Figure at 0x7f79e44a4f28>"
      ]
     },
     "metadata": {},
     "output_type": "display_data"
    },
    {
     "name": "stdout",
     "output_type": "stream",
     "text": [
      "predicted prob for this move is: 0.0750938\n",
      "0.6000000000000001\n"
     ]
    },
    {
     "data": {
      "image/png": "[encoded data removed]",
      "text/plain": [
       "<matplotlib.figure.Figure at 0x7f79e444a278>"
      ]
     },
     "metadata": {},
     "output_type": "display_data"
    },
    {
     "name": "stdout",
     "output_type": "stream",
     "text": [
      "predicted prob for this move is: 0.0794238\n",
      "0.6000000000000001\n"
     ]
    },
    {
     "data": {
      "image/png": "[encoded data removed]",
      "text/plain": [
       "<matplotlib.figure.Figure at 0x7f79e4415d30>"
      ]
     },
     "metadata": {},
     "output_type": "display_data"
    },
    {
     "name": "stdout",
     "output_type": "stream",
     "text": [
      "predicted prob for this move is: 0.0733916\n",
      "0.6000000000000001\n"
     ]
    },
    {
     "data": {
      "image/png": "[encoded data removed]",
      "text/plain": [
       "<matplotlib.figure.Figure at 0x7f79e43bd048>"
      ]
     },
     "metadata": {},
     "output_type": "display_data"
    },
    {
     "name": "stdout",
     "output_type": "stream",
     "text": [
      "predicted prob for this move is: 0.102075\n",
      "0.6000000000000001\n"
     ]
    },
    {
     "data": {
      "image/png": "[encoded data removed]",
      "text/plain": [
       "<matplotlib.figure.Figure at 0x7f79e4383860>"
      ]
     },
     "metadata": {},
     "output_type": "display_data"
    },
    {
     "name": "stdout",
     "output_type": "stream",
     "text": [
      "predicted prob for this move is: 0.0750938\n",
      "0.6000000000000001\n"
     ]
    },
    {
     "data": {
      "image/png": "[encoded data removed]",
      "text/plain": [
       "<matplotlib.figure.Figure at 0x7f79e439fb38>"
      ]
     },
     "metadata": {},
     "output_type": "display_data"
    },
    {
     "name": "stdout",
     "output_type": "stream",
     "text": [
      "predicted prob for this move is: 0.0794238\n",
      "0.6000000000000001\n"
     ]
    },
    {
     "data": {
      "image/png": "[encoded data removed]",
      "text/plain": [
       "<matplotlib.figure.Figure at 0x7f79e4374b70>"
      ]
     },
     "metadata": {},
     "output_type": "display_data"
    },
    {
     "name": "stdout",
     "output_type": "stream",
     "text": [
      "predicted prob for this move is: 0.0733916\n",
      "0.6000000000000001\n"
     ]
    },
    {
     "data": {
      "image/png": "[encoded data removed]",
      "text/plain": [
       "<matplotlib.figure.Figure at 0x7f79e432cd30>"
      ]
     },
     "metadata": {},
     "output_type": "display_data"
    },
    {
     "name": "stdout",
     "output_type": "stream",
     "text": [
      "predicted prob for this move is: 0.102075\n",
      "0.6000000000000001\n"
     ]
    },
    {
     "data": {
      "image/png": "[encoded data removed]",
      "text/plain": [
       "<matplotlib.figure.Figure at 0x7f79e42e1d30>"
      ]
     },
     "metadata": {},
     "output_type": "display_data"
    },
    {
     "name": "stdout",
     "output_type": "stream",
     "text": [
      "predicted prob for this move is: 0.0750938\n",
      "0.6000000000000001\n"
     ]
    },
    {
     "data": {
      "image/png": "[encoded data removed]",
      "text/plain": [
       "<matplotlib.figure.Figure at 0x7f79e4295da0>"
      ]
     },
     "metadata": {},
     "output_type": "display_data"
    },
    {
     "name": "stdout",
     "output_type": "stream",
     "text": [
      "predicted prob for this move is: 0.0794238\n",
      "0.6000000000000001\n"
     ]
    },
    {
     "data": {
      "image/png": "[encoded data removed]",
      "text/plain": [
       "<matplotlib.figure.Figure at 0x7f79e4251eb8>"
      ]
     },
     "metadata": {},
     "output_type": "display_data"
    },
    {
     "name": "stdout",
     "output_type": "stream",
     "text": [
      "predicted prob for this move is: 0.0733916\n",
      "0.6000000000000001\n"
     ]
    },
    {
     "data": {
      "image/png": "[encoded data removed]",
      "text/plain": [
       "<matplotlib.figure.Figure at 0x7f79e4208d68>"
      ]
     },
     "metadata": {},
     "output_type": "display_data"
    },
    {
     "name": "stdout",
     "output_type": "stream",
     "text": [
      "predicted prob for this move is: 0.102075\n",
      "0.6000000000000001\n"
     ]
    },
    {
     "data": {
      "image/png": "[encoded data removed]",
      "text/plain": [
       "<matplotlib.figure.Figure at 0x7f7b689fc4e0>"
      ]
     },
     "metadata": {},
     "output_type": "display_data"
    },
    {
     "name": "stdout",
     "output_type": "stream",
     "text": [
      "predicted prob for this move is: 0.0750938\n",
      "0.6000000000000001\n"
     ]
    },
    {
     "data": {
      "image/png": "[encoded data removed]",
      "text/plain": [
       "<matplotlib.figure.Figure at 0x7f79e417aa20>"
      ]
     },
     "metadata": {},
     "output_type": "display_data"
    },
    {
     "name": "stdout",
     "output_type": "stream",
     "text": [
      "predicted prob for this move is: 0.0794238\n",
      "0.6000000000000001\n"
     ]
    },
    {
     "data": {
      "image/png": "[encoded data removed]",
      "text/plain": [
       "<matplotlib.figure.Figure at 0x7f79e419c0f0>"
      ]
     },
     "metadata": {},
     "output_type": "display_data"
    },
    {
     "name": "stdout",
     "output_type": "stream",
     "text": [
      "predicted prob for this move is: 0.0733916\n",
      "0.6000000000000001\n"
     ]
    },
    {
     "data": {
      "image/png": "[encoded data removed]",
      "text/plain": [
       "<matplotlib.figure.Figure at 0x7f79e41667f0>"
      ]
     },
     "metadata": {},
     "output_type": "display_data"
    },
    {
     "name": "stdout",
     "output_type": "stream",
     "text": [
      "predicted prob for this move is: 0.102075\n",
      "0.6000000000000001\n"
     ]
    },
    {
     "data": {
      "image/png": "[encoded data removed]",
      "text/plain": [
       "<matplotlib.figure.Figure at 0x7f79e411b978>"
      ]
     },
     "metadata": {},
     "output_type": "display_data"
    },
    {
     "name": "stdout",
     "output_type": "stream",
     "text": [
      "predicted prob for this move is: 0.0750938\n",
      "0.6000000000000001\n"
     ]
    },
    {
     "data": {
      "image/png": "[encoded data removed]",
      "text/plain": [
       "<matplotlib.figure.Figure at 0x7f79e40d4710>"
      ]
     },
     "metadata": {},
     "output_type": "display_data"
    },
    {
     "name": "stdout",
     "output_type": "stream",
     "text": [
      "predicted prob for this move is: 0.0794238\n",
      "0.6000000000000001\n"
     ]
    },
    {
     "data": {
      "image/png": "[encoded data removed]",
      "text/plain": [
       "<matplotlib.figure.Figure at 0x7f79e408add8>"
      ]
     },
     "metadata": {},
     "output_type": "display_data"
    },
    {
     "name": "stdout",
     "output_type": "stream",
     "text": [
      "predicted prob for this move is: 0.0733916\n",
      "0.6000000000000001\n"
     ]
    },
    {
     "data": {
      "image/png": "[encoded data removed]",
      "text/plain": [
       "<matplotlib.figure.Figure at 0x7f79e4040d68>"
      ]
     },
     "metadata": {},
     "output_type": "display_data"
    },
    {
     "name": "stdout",
     "output_type": "stream",
     "text": [
      "predicted prob for this move is: 0.102075\n",
      "0.6000000000000001\n"
     ]
    },
    {
     "data": {
      "image/png": "[encoded data removed]",
      "text/plain": [
       "<matplotlib.figure.Figure at 0x7f79e4078ef0>"
      ]
     },
     "metadata": {},
     "output_type": "display_data"
    },
    {
     "name": "stdout",
     "output_type": "stream",
     "text": [
      "predicted prob for this move is: 0.0750938\n",
      "0.6000000000000001\n"
     ]
    },
    {
     "data": {
      "image/png": "[encoded data removed]",
      "text/plain": [
       "<matplotlib.figure.Figure at 0x7f79c4ff4198>"
      ]
     },
     "metadata": {},
     "output_type": "display_data"
    },
    {
     "name": "stdout",
     "output_type": "stream",
     "text": [
      "predicted prob for this move is: 0.0794238\n",
      "0.6000000000000001\n"
     ]
    },
    {
     "data": {
      "image/png": "[encoded data removed]",
      "text/plain": [
       "<matplotlib.figure.Figure at 0x7f79c4fabd68>"
      ]
     },
     "metadata": {},
     "output_type": "display_data"
    },
    {
     "name": "stdout",
     "output_type": "stream",
     "text": [
      "predicted prob for this move is: 0.0733916\n",
      "0.6000000000000001\n"
     ]
    },
    {
     "data": {
      "image/png": "[encoded data removed]",
      "text/plain": [
       "<matplotlib.figure.Figure at 0x7f79c4f60da0>"
      ]
     },
     "metadata": {},
     "output_type": "display_data"
    },
    {
     "name": "stdout",
     "output_type": "stream",
     "text": [
      "predicted prob for this move is: 0.102075\n",
      "0.6000000000000001\n"
     ]
    },
    {
     "data": {
      "image/png": "[encoded data removed]",
      "text/plain": [
       "<matplotlib.figure.Figure at 0x7f79c4f64f60>"
      ]
     },
     "metadata": {},
     "output_type": "display_data"
    },
    {
     "name": "stdout",
     "output_type": "stream",
     "text": [
      "predicted prob for this move is: 0.0750938\n",
      "0.6000000000000001\n"
     ]
    },
    {
     "data": {
      "image/png": "[encoded data removed]",
      "text/plain": [
       "<matplotlib.figure.Figure at 0x7f79c4ed42b0>"
      ]
     },
     "metadata": {},
     "output_type": "display_data"
    },
    {
     "name": "stdout",
     "output_type": "stream",
     "text": [
      "predicted prob for this move is: 0.0794238\n",
      "0.6000000000000001\n"
     ]
    },
    {
     "data": {
      "image/png": "[encoded data removed]",
      "text/plain": [
       "<matplotlib.figure.Figure at 0x7f79c4e89a58>"
      ]
     },
     "metadata": {},
     "output_type": "display_data"
    },
    {
     "name": "stdout",
     "output_type": "stream",
     "text": [
      "predicted prob for this move is: 0.0733916\n",
      "0.6000000000000001\n"
     ]
    },
    {
     "data": {
      "image/png": "[encoded data removed]",
      "text/plain": [
       "<matplotlib.figure.Figure at 0x7f79c4eae8d0>"
      ]
     },
     "metadata": {},
     "output_type": "display_data"
    },
    {
     "name": "stdout",
     "output_type": "stream",
     "text": [
      "predicted prob for this move is: 0.102075\n",
      "0.6000000000000001\n"
     ]
    },
    {
     "data": {
      "image/png": "[encoded data removed]",
      "text/plain": [
       "<matplotlib.figure.Figure at 0x7f79c4e75c88>"
      ]
     },
     "metadata": {},
     "output_type": "display_data"
    },
    {
     "name": "stdout",
     "output_type": "stream",
     "text": [
      "predicted prob for this move is: 0.0750938\n",
      "0.6000000000000001\n"
     ]
    },
    {
     "data": {
      "image/png": "[encoded data removed]",
      "text/plain": [
       "<matplotlib.figure.Figure at 0x7f79c4e1e978>"
      ]
     },
     "metadata": {},
     "output_type": "display_data"
    },
    {
     "name": "stdout",
     "output_type": "stream",
     "text": [
      "predicted prob for this move is: 0.0794238\n",
      "0.6000000000000001\n"
     ]
    },
    {
     "data": {
      "image/png": "[encoded data removed]",
      "text/plain": [
       "<matplotlib.figure.Figure at 0x7f79c4de3f28>"
      ]
     },
     "metadata": {},
     "output_type": "display_data"
    },
    {
     "name": "stdout",
     "output_type": "stream",
     "text": [
      "predicted prob for this move is: 0.0733916\n",
      "0.6000000000000001\n"
     ]
    },
    {
     "data": {
      "image/png": "[encoded data removed]",
      "text/plain": [
       "<matplotlib.figure.Figure at 0x7f79c4de68d0>"
      ]
     },
     "metadata": {},
     "output_type": "display_data"
    },
    {
     "name": "stdout",
     "output_type": "stream",
     "text": [
      "predicted prob for this move is: 0.102075\n",
      "0.6000000000000001\n"
     ]
    },
    {
     "data": {
      "image/png": "[encoded data removed]",
      "text/plain": [
       "<matplotlib.figure.Figure at 0x7f79c4e92f28>"
      ]
     },
     "metadata": {},
     "output_type": "display_data"
    },
    {
     "name": "stdout",
     "output_type": "stream",
     "text": [
      "predicted prob for this move is: 0.0750938\n",
      "0.6000000000000001\n"
     ]
    },
    {
     "data": {
      "image/png": "[encoded data removed]",
      "text/plain": [
       "<matplotlib.figure.Figure at 0x7f7a042f4cc0>"
      ]
     },
     "metadata": {},
     "output_type": "display_data"
    },
    {
     "name": "stdout",
     "output_type": "stream",
     "text": [
      "predicted prob for this move is: 0.0794238\n",
      "0.6000000000000001\n"
     ]
    },
    {
     "data": {
      "image/png": "[encoded data removed]",
      "text/plain": [
       "<matplotlib.figure.Figure at 0x7f7a4405a710>"
      ]
     },
     "metadata": {},
     "output_type": "display_data"
    },
    {
     "name": "stdout",
     "output_type": "stream",
     "text": [
      "predicted prob for this move is: 0.0733916\n",
      "0.6000000000000001\n"
     ]
    },
    {
     "data": {
      "image/png": "[encoded data removed]",
      "text/plain": [
       "<matplotlib.figure.Figure at 0x7f7a4425f4a8>"
      ]
     },
     "metadata": {},
     "output_type": "display_data"
    },
    {
     "name": "stdout",
     "output_type": "stream",
     "text": [
      "predicted prob for this move is: 0.102075\n",
      "0.6000000000000001\n"
     ]
    },
    {
     "data": {
      "image/png": "[encoded data removed]",
      "text/plain": [
       "<matplotlib.figure.Figure at 0x7f79c4dfdef0>"
      ]
     },
     "metadata": {},
     "output_type": "display_data"
    },
    {
     "name": "stdout",
     "output_type": "stream",
     "text": [
      "predicted prob for this move is: 0.0750938\n",
      "0.6000000000000001\n"
     ]
    },
    {
     "data": {
      "image/png": "[encoded data removed]",
      "text/plain": [
       "<matplotlib.figure.Figure at 0x7f7a04285128>"
      ]
     },
     "metadata": {},
     "output_type": "display_data"
    },
    {
     "name": "stdout",
     "output_type": "stream",
     "text": [
      "predicted prob for this move is: 0.0794238\n",
      "0.6000000000000001\n"
     ]
    },
    {
     "data": {
      "image/png": "[encoded data removed]",
      "text/plain": [
       "<matplotlib.figure.Figure at 0x7f79c4e77da0>"
      ]
     },
     "metadata": {},
     "output_type": "display_data"
    },
    {
     "name": "stdout",
     "output_type": "stream",
     "text": [
      "predicted prob for this move is: 0.0733916\n",
      "0.6000000000000001\n"
     ]
    },
    {
     "data": {
      "image/png": "[encoded data removed]",
      "text/plain": [
       "<matplotlib.figure.Figure at 0x7f79c4f2beb8>"
      ]
     },
     "metadata": {},
     "output_type": "display_data"
    },
    {
     "name": "stdout",
     "output_type": "stream",
     "text": [
      "predicted prob for this move is: 0.102075\n",
      "0.6000000000000001\n"
     ]
    },
    {
     "data": {
      "image/png": "[encoded data removed]",
      "text/plain": [
       "<matplotlib.figure.Figure at 0x7f79c4e7e6d8>"
      ]
     },
     "metadata": {},
     "output_type": "display_data"
    },
    {
     "name": "stdout",
     "output_type": "stream",
     "text": [
      "predicted prob for this move is: 0.0750938\n",
      "0.6000000000000001\n"
     ]
    },
    {
     "data": {
      "image/png": "[encoded data removed]",
      "text/plain": [
       "<matplotlib.figure.Figure at 0x7f79c4ef61d0>"
      ]
     },
     "metadata": {},
     "output_type": "display_data"
    },
    {
     "name": "stdout",
     "output_type": "stream",
     "text": [
      "predicted prob for this move is: 0.0794238\n",
      "0.6000000000000001\n"
     ]
    },
    {
     "data": {
      "image/png": "[encoded data removed]",
      "text/plain": [
       "<matplotlib.figure.Figure at 0x7f79c4f4f940>"
      ]
     },
     "metadata": {},
     "output_type": "display_data"
    },
    {
     "name": "stdout",
     "output_type": "stream",
     "text": [
      "predicted prob for this move is: 0.0733916\n",
      "0.6000000000000001\n"
     ]
    },
    {
     "data": {
      "image/png": "[encoded data removed]",
      "text/plain": [
       "<matplotlib.figure.Figure at 0x7f79c4d89668>"
      ]
     },
     "metadata": {},
     "output_type": "display_data"
    },
    {
     "name": "stdout",
     "output_type": "stream",
     "text": [
      "predicted prob for this move is: 0.102075\n",
      "0.6000000000000001\n"
     ]
    },
    {
     "data": {
      "image/png": "[encoded data removed]",
      "text/plain": [
       "<matplotlib.figure.Figure at 0x7f79c4f85da0>"
      ]
     },
     "metadata": {},
     "output_type": "display_data"
    },
    {
     "name": "stdout",
     "output_type": "stream",
     "text": [
      "predicted prob for this move is: 0.0750938\n",
      "0.6000000000000001\n"
     ]
    },
    {
     "data": {
      "image/png": "[encoded data removed]",
      "text/plain": [
       "<matplotlib.figure.Figure at 0x7f79c4ffc898>"
      ]
     },
     "metadata": {},
     "output_type": "display_data"
    },
    {
     "name": "stdout",
     "output_type": "stream",
     "text": [
      "predicted prob for this move is: 0.0794238\n",
      "0.6000000000000001\n"
     ]
    },
    {
     "data": {
      "image/png": "[encoded data removed]",
      "text/plain": [
       "<matplotlib.figure.Figure at 0x7f79e411bc50>"
      ]
     },
     "metadata": {},
     "output_type": "display_data"
    },
    {
     "name": "stdout",
     "output_type": "stream",
     "text": [
      "predicted prob for this move is: 0.0733916\n",
      "0.6000000000000001\n"
     ]
    },
    {
     "data": {
      "image/png": "[encoded data removed]",
      "text/plain": [
       "<matplotlib.figure.Figure at 0x7f79e4370390>"
      ]
     },
     "metadata": {},
     "output_type": "display_data"
    },
    {
     "name": "stdout",
     "output_type": "stream",
     "text": [
      "predicted prob for this move is: 0.102075\n",
      "0.6000000000000001\n"
     ]
    },
    {
     "data": {
      "image/png": "[encoded data removed]",
      "text/plain": [
       "<matplotlib.figure.Figure at 0x7f7a041ccd30>"
      ]
     },
     "metadata": {},
     "output_type": "display_data"
    },
    {
     "name": "stdout",
     "output_type": "stream",
     "text": [
      "predicted prob for this move is: 0.0750938\n",
      "0.6000000000000001\n"
     ]
    },
    {
     "data": {
      "image/png": "[encoded data removed]",
      "text/plain": [
       "<matplotlib.figure.Figure at 0x7f7a041e0358>"
      ]
     },
     "metadata": {},
     "output_type": "display_data"
    },
    {
     "name": "stdout",
     "output_type": "stream",
     "text": [
      "predicted prob for this move is: 0.0794238\n",
      "0.6000000000000001\n"
     ]
    },
    {
     "data": {
      "image/png": "[encoded data removed]",
      "text/plain": [
       "<matplotlib.figure.Figure at 0x7f79e41ad4e0>"
      ]
     },
     "metadata": {},
     "output_type": "display_data"
    },
    {
     "name": "stdout",
     "output_type": "stream",
     "text": [
      "predicted prob for this move is: 0.0733916\n",
      "0.6000000000000001\n"
     ]
    },
    {
     "data": {
      "image/png": "[encoded data removed]",
      "text/plain": [
       "<matplotlib.figure.Figure at 0x7f79e40d2748>"
      ]
     },
     "metadata": {},
     "output_type": "display_data"
    },
    {
     "name": "stdout",
     "output_type": "stream",
     "text": [
      "predicted prob for this move is: 0.102075\n",
      "0.6000000000000001\n"
     ]
    },
    {
     "data": {
      "image/png": "[encoded data removed]",
      "text/plain": [
       "<matplotlib.figure.Figure at 0x7f79e42dea20>"
      ]
     },
     "metadata": {},
     "output_type": "display_data"
    },
    {
     "name": "stdout",
     "output_type": "stream",
     "text": [
      "predicted prob for this move is: 0.0750938\n",
      "0.6000000000000001\n"
     ]
    },
    {
     "data": {
      "image/png": "[encoded data removed]",
      "text/plain": [
       "<matplotlib.figure.Figure at 0x7f79e4325dd8>"
      ]
     },
     "metadata": {},
     "output_type": "display_data"
    },
    {
     "name": "stdout",
     "output_type": "stream",
     "text": [
      "predicted prob for this move is: 0.0794238\n",
      "0.6000000000000001\n"
     ]
    },
    {
     "data": {
      "image/png": "[encoded data removed]",
      "text/plain": [
       "<matplotlib.figure.Figure at 0x7f79e41dcd30>"
      ]
     },
     "metadata": {},
     "output_type": "display_data"
    },
    {
     "name": "stdout",
     "output_type": "stream",
     "text": [
      "predicted prob for this move is: 0.0733916\n",
      "0.6000000000000001\n"
     ]
    },
    {
     "data": {
      "image/png": "[encoded data removed]",
      "text/plain": [
       "<matplotlib.figure.Figure at 0x7f79e4077d68>"
      ]
     },
     "metadata": {},
     "output_type": "display_data"
    },
    {
     "name": "stdout",
     "output_type": "stream",
     "text": [
      "predicted prob for this move is: 0.102075\n",
      "0.6000000000000001\n"
     ]
    },
    {
     "data": {
      "image/png": "[encoded data removed]",
      "text/plain": [
       "<matplotlib.figure.Figure at 0x7f79e4557080>"
      ]
     },
     "metadata": {},
     "output_type": "display_data"
    },
    {
     "name": "stdout",
     "output_type": "stream",
     "text": [
      "predicted prob for this move is: 0.0750938\n",
      "0.6000000000000001\n"
     ]
    },
    {
     "data": {
      "image/png": "[encoded data removed]",
      "text/plain": [
       "<matplotlib.figure.Figure at 0x7f79e44705f8>"
      ]
     },
     "metadata": {},
     "output_type": "display_data"
    },
    {
     "name": "stdout",
     "output_type": "stream",
     "text": [
      "predicted prob for this move is: 0.0794238\n",
      "0.6000000000000001\n"
     ]
    },
    {
     "data": {
      "image/png": "[encoded data removed]",
      "text/plain": [
       "<matplotlib.figure.Figure at 0x7f79e42010f0>"
      ]
     },
     "metadata": {},
     "output_type": "display_data"
    },
    {
     "name": "stdout",
     "output_type": "stream",
     "text": [
      "predicted prob for this move is: 0.0733916\n",
      "0.6000000000000001\n"
     ]
    },
    {
     "data": {
      "image/png": "[encoded data removed]",
      "text/plain": [
       "<matplotlib.figure.Figure at 0x7f79e425bd68>"
      ]
     },
     "metadata": {},
     "output_type": "display_data"
    },
    {
     "name": "stdout",
     "output_type": "stream",
     "text": [
      "predicted prob for this move is: 0.102075\n",
      "0.6000000000000001\n"
     ]
    },
    {
     "data": {
      "image/png": "[encoded data removed]",
      "text/plain": [
       "<matplotlib.figure.Figure at 0x7f79e4240e80>"
      ]
     },
     "metadata": {},
     "output_type": "display_data"
    },
    {
     "name": "stdout",
     "output_type": "stream",
     "text": [
      "predicted prob for this move is: 0.0750938\n",
      "0.6000000000000001\n"
     ]
    },
    {
     "data": {
      "image/png": "[encoded data removed]",
      "text/plain": [
       "<matplotlib.figure.Figure at 0x7f79e427c630>"
      ]
     },
     "metadata": {},
     "output_type": "display_data"
    },
    {
     "name": "stdout",
     "output_type": "stream",
     "text": [
      "predicted prob for this move is: 0.0794238\n",
      "0.6000000000000001\n"
     ]
    },
    {
     "data": {
      "image/png": "[encoded data removed]",
      "text/plain": [
       "<matplotlib.figure.Figure at 0x7f79e4151860>"
      ]
     },
     "metadata": {},
     "output_type": "display_data"
    },
    {
     "name": "stdout",
     "output_type": "stream",
     "text": [
      "predicted prob for this move is: 0.0733916\n",
      "0.6000000000000001\n"
     ]
    },
    {
     "data": {
      "image/png": "[encoded data removed]",
      "text/plain": [
       "<matplotlib.figure.Figure at 0x7f79e40970b8>"
      ]
     },
     "metadata": {},
     "output_type": "display_data"
    },
    {
     "name": "stdout",
     "output_type": "stream",
     "text": [
      "predicted prob for this move is: 0.102075\n",
      "0.6000000000000001\n"
     ]
    },
    {
     "data": {
      "image/png": "[encoded data removed]",
      "text/plain": [
       "<matplotlib.figure.Figure at 0x7f79e46623c8>"
      ]
     },
     "metadata": {},
     "output_type": "display_data"
    },
    {
     "name": "stdout",
     "output_type": "stream",
     "text": [
      "predicted prob for this move is: 0.0750938\n",
      "0.6000000000000001\n"
     ]
    },
    {
     "data": {
      "image/png": "[encoded data removed]",
      "text/plain": [
       "<matplotlib.figure.Figure at 0x7f79e426dfd0>"
      ]
     },
     "metadata": {},
     "output_type": "display_data"
    },
    {
     "name": "stdout",
     "output_type": "stream",
     "text": [
      "predicted prob for this move is: 0.0794238\n",
      "0.6000000000000001\n"
     ]
    },
    {
     "data": {
      "image/png": "[encoded data removed]",
      "text/plain": [
       "<matplotlib.figure.Figure at 0x7f7a040ba048>"
      ]
     },
     "metadata": {},
     "output_type": "display_data"
    },
    {
     "name": "stdout",
     "output_type": "stream",
     "text": [
      "predicted prob for this move is: 0.0733916\n",
      "0.6000000000000001\n"
     ]
    },
    {
     "data": {
      "image/png": "[encoded data removed]",
      "text/plain": [
       "<matplotlib.figure.Figure at 0x7f79e45a55f8>"
      ]
     },
     "metadata": {},
     "output_type": "display_data"
    },
    {
     "name": "stdout",
     "output_type": "stream",
     "text": [
      "predicted prob for this move is: 0.102075\n",
      "0.6000000000000001\n"
     ]
    },
    {
     "data": {
      "image/png": "[encoded data removed]",
      "text/plain": [
       "<matplotlib.figure.Figure at 0x7f79e450cfd0>"
      ]
     },
     "metadata": {},
     "output_type": "display_data"
    },
    {
     "name": "stdout",
     "output_type": "stream",
     "text": [
      "predicted prob for this move is: 0.0750938\n",
      "0.6000000000000001\n"
     ]
    },
    {
     "data": {
      "image/png": "[encoded data removed]",
      "text/plain": [
       "<matplotlib.figure.Figure at 0x7f79e44fabe0>"
      ]
     },
     "metadata": {},
     "output_type": "display_data"
    },
    {
     "name": "stdout",
     "output_type": "stream",
     "text": [
      "predicted prob for this move is: 0.0794238\n",
      "0.6000000000000001\n"
     ]
    },
    {
     "data": {
      "image/png": "[encoded data removed]",
      "text/plain": [
       "<matplotlib.figure.Figure at 0x7f79e4498f60>"
      ]
     },
     "metadata": {},
     "output_type": "display_data"
    },
    {
     "name": "stdout",
     "output_type": "stream",
     "text": [
      "predicted prob for this move is: 0.0733916\n",
      "0.6000000000000001\n"
     ]
    },
    {
     "data": {
      "image/png": "[encoded data removed]",
      "text/plain": [
       "<matplotlib.figure.Figure at 0x7f79e44257f0>"
      ]
     },
     "metadata": {},
     "output_type": "display_data"
    },
    {
     "name": "stdout",
     "output_type": "stream",
     "text": [
      "predicted prob for this move is: 0.102075\n",
      "0.6000000000000001\n"
     ]
    },
    {
     "data": {
      "image/png": "[encoded data removed]",
      "text/plain": [
       "<matplotlib.figure.Figure at 0x7f79e43d2940>"
      ]
     },
     "metadata": {},
     "output_type": "display_data"
    },
    {
     "name": "stdout",
     "output_type": "stream",
     "text": [
      "predicted prob for this move is: 0.0750938\n",
      "0.6000000000000001\n"
     ]
    },
    {
     "data": {
      "image/png": "[encoded data removed]",
      "text/plain": [
       "<matplotlib.figure.Figure at 0x7f79e43ad1d0>"
      ]
     },
     "metadata": {},
     "output_type": "display_data"
    },
    {
     "name": "stdout",
     "output_type": "stream",
     "text": [
      "predicted prob for this move is: 0.0794238\n",
      "0.6000000000000001\n"
     ]
    },
    {
     "data": {
      "image/png": "[encoded data removed]",
      "text/plain": [
       "<matplotlib.figure.Figure at 0x7f79e4381780>"
      ]
     },
     "metadata": {},
     "output_type": "display_data"
    },
    {
     "name": "stdout",
     "output_type": "stream",
     "text": [
      "predicted prob for this move is: 0.0733916\n",
      "0.6000000000000001\n"
     ]
    },
    {
     "data": {
      "image/png": "[encoded data removed]",
      "text/plain": [
       "<matplotlib.figure.Figure at 0x7f79e478ff60>"
      ]
     },
     "metadata": {},
     "output_type": "display_data"
    },
    {
     "name": "stdout",
     "output_type": "stream",
     "text": [
      "predicted prob for this move is: 0.102075\n",
      "0.6000000000000001\n"
     ]
    },
    {
     "data": {
      "image/png": "[encoded data removed]",
      "text/plain": [
       "<matplotlib.figure.Figure at 0x7f7a0419d160>"
      ]
     },
     "metadata": {},
     "output_type": "display_data"
    },
    {
     "name": "stdout",
     "output_type": "stream",
     "text": [
      "predicted prob for this move is: 0.0750938\n",
      "0.6000000000000001\n"
     ]
    },
    {
     "data": {
      "image/png": "[encoded data removed]",
      "text/plain": [
       "<matplotlib.figure.Figure at 0x7f7a04166240>"
      ]
     },
     "metadata": {},
     "output_type": "display_data"
    },
    {
     "name": "stdout",
     "output_type": "stream",
     "text": [
      "predicted prob for this move is: 0.0794238\n",
      "0.6000000000000001\n"
     ]
    },
    {
     "data": {
      "image/png": "[encoded data removed]",
      "text/plain": [
       "<matplotlib.figure.Figure at 0x7f7a0415fc88>"
      ]
     },
     "metadata": {},
     "output_type": "display_data"
    },
    {
     "name": "stdout",
     "output_type": "stream",
     "text": [
      "predicted prob for this move is: 0.0733916\n",
      "0.6000000000000001\n"
     ]
    },
    {
     "data": {
      "image/png": "[encoded data removed]",
      "text/plain": [
       "<matplotlib.figure.Figure at 0x7f79e45c1d68>"
      ]
     },
     "metadata": {},
     "output_type": "display_data"
    },
    {
     "name": "stdout",
     "output_type": "stream",
     "text": [
      "predicted prob for this move is: 0.102075\n",
      "0.6000000000000001\n"
     ]
    },
    {
     "data": {
      "image/png": "[encoded data removed]",
      "text/plain": [
       "<matplotlib.figure.Figure at 0x7f7a0411def0>"
      ]
     },
     "metadata": {},
     "output_type": "display_data"
    },
    {
     "name": "stdout",
     "output_type": "stream",
     "text": [
      "predicted prob for this move is: 0.0750938\n",
      "0.6000000000000001\n"
     ]
    },
    {
     "data": {
      "image/png": "[encoded data removed]",
      "text/plain": [
       "<matplotlib.figure.Figure at 0x7f7a0409ba90>"
      ]
     },
     "metadata": {},
     "output_type": "display_data"
    },
    {
     "name": "stdout",
     "output_type": "stream",
     "text": [
      "predicted prob for this move is: 0.0794238\n",
      "0.6000000000000001\n"
     ]
    },
    {
     "data": {
      "image/png": "[encoded data removed]",
      "text/plain": [
       "<matplotlib.figure.Figure at 0x7f79e47d28d0>"
      ]
     },
     "metadata": {},
     "output_type": "display_data"
    },
    {
     "name": "stdout",
     "output_type": "stream",
     "text": [
      "predicted prob for this move is: 0.0733916\n",
      "0.6000000000000001\n"
     ]
    },
    {
     "data": {
      "image/png": "[encoded data removed]",
      "text/plain": [
       "<matplotlib.figure.Figure at 0x7f79e4747940>"
      ]
     },
     "metadata": {},
     "output_type": "display_data"
    },
    {
     "name": "stdout",
     "output_type": "stream",
     "text": [
      "predicted prob for this move is: 0.102075\n",
      "0.6000000000000001\n"
     ]
    },
    {
     "data": {
      "image/png": "[encoded data removed]",
      "text/plain": [
       "<matplotlib.figure.Figure at 0x7f79e4763470>"
      ]
     },
     "metadata": {},
     "output_type": "display_data"
    },
    {
     "name": "stdout",
     "output_type": "stream",
     "text": [
      "predicted prob for this move is: 0.0750938\n",
      "0.6000000000000001\n"
     ]
    },
    {
     "data": {
      "image/png": "[encoded data removed]",
      "text/plain": [
       "<matplotlib.figure.Figure at 0x7f79e45d03c8>"
      ]
     },
     "metadata": {},
     "output_type": "display_data"
    },
    {
     "name": "stdout",
     "output_type": "stream",
     "text": [
      "predicted prob for this move is: 0.0794238\n",
      "0.6000000000000001\n"
     ]
    },
    {
     "data": {
      "image/png": "[encoded data removed]",
      "text/plain": [
       "<matplotlib.figure.Figure at 0x7f79e46acda0>"
      ]
     },
     "metadata": {},
     "output_type": "display_data"
    },
    {
     "name": "stdout",
     "output_type": "stream",
     "text": [
      "predicted prob for this move is: 0.0733916\n",
      "0.6000000000000001\n"
     ]
    },
    {
     "data": {
      "image/png": "[encoded data removed]",
      "text/plain": [
       "<matplotlib.figure.Figure at 0x7f79e4622f28>"
      ]
     },
     "metadata": {},
     "output_type": "display_data"
    },
    {
     "name": "stdout",
     "output_type": "stream",
     "text": [
      "predicted prob for this move is: 0.102075\n",
      "0.6000000000000001\n"
     ]
    },
    {
     "data": {
      "image/png": "[encoded data removed]",
      "text/plain": [
       "<matplotlib.figure.Figure at 0x7f79e44bac88>"
      ]
     },
     "metadata": {},
     "output_type": "display_data"
    },
    {
     "name": "stdout",
     "output_type": "stream",
     "text": [
      "predicted prob for this move is: 0.0750938\n",
      "0.6000000000000001\n"
     ]
    },
    {
     "data": {
      "image/png": "[encoded data removed]",
      "text/plain": [
       "<matplotlib.figure.Figure at 0x7f79e4600a20>"
      ]
     },
     "metadata": {},
     "output_type": "display_data"
    },
    {
     "name": "stdout",
     "output_type": "stream",
     "text": [
      "predicted prob for this move is: 0.0794238\n",
      "0.6000000000000001\n"
     ]
    },
    {
     "data": {
      "image/png": "[encoded data removed]",
      "text/plain": [
       "<matplotlib.figure.Figure at 0x7f7a44202048>"
      ]
     },
     "metadata": {},
     "output_type": "display_data"
    },
    {
     "name": "stdout",
     "output_type": "stream",
     "text": [
      "predicted prob for this move is: 0.0733916\n",
      "0.6000000000000001\n"
     ]
    },
    {
     "data": {
      "image/png": "[encoded data removed]",
      "text/plain": [
       "<matplotlib.figure.Figure at 0x7f7b68a090b8>"
      ]
     },
     "metadata": {},
     "output_type": "display_data"
    },
    {
     "name": "stdout",
     "output_type": "stream",
     "text": [
      "predicted prob for this move is: 0.102075\n",
      "0.6000000000000001\n"
     ]
    },
    {
     "data": {
      "image/png": "[encoded data removed]",
      "text/plain": [
       "<matplotlib.figure.Figure at 0x7f7a442529b0>"
      ]
     },
     "metadata": {},
     "output_type": "display_data"
    },
    {
     "name": "stdout",
     "output_type": "stream",
     "text": [
      "predicted prob for this move is: 0.0750938\n",
      "0.6000000000000001\n"
     ]
    },
    {
     "data": {
      "image/png": "[encoded data removed]",
      "text/plain": [
       "<matplotlib.figure.Figure at 0x7f79e461d470>"
      ]
     },
     "metadata": {},
     "output_type": "display_data"
    },
    {
     "name": "stdout",
     "output_type": "stream",
     "text": [
      "predicted prob for this move is: 0.0794238\n",
      "0.6000000000000001\n"
     ]
    },
    {
     "data": {
      "image/png": "[encoded data removed]",
      "text/plain": [
       "<matplotlib.figure.Figure at 0x7f7a0428bfd0>"
      ]
     },
     "metadata": {},
     "output_type": "display_data"
    },
    {
     "name": "stdout",
     "output_type": "stream",
     "text": [
      "predicted prob for this move is: 0.0733916\n",
      "0.6000000000000001\n"
     ]
    },
    {
     "data": {
      "image/png": "[encoded data removed]",
      "text/plain": [
       "<matplotlib.figure.Figure at 0x7f7a0410d2e8>"
      ]
     },
     "metadata": {},
     "output_type": "display_data"
    },
    {
     "name": "stdout",
     "output_type": "stream",
     "text": [
      "predicted prob for this move is: 0.102075\n",
      "0.6000000000000001\n"
     ]
    },
    {
     "data": {
      "image/png": "[encoded data removed]",
      "text/plain": [
       "<matplotlib.figure.Figure at 0x7f79e47217f0>"
      ]
     },
     "metadata": {},
     "output_type": "display_data"
    },
    {
     "name": "stdout",
     "output_type": "stream",
     "text": [
      "predicted prob for this move is: 0.0750938\n",
      "0.6000000000000001\n"
     ]
    },
    {
     "data": {
      "image/png": "[encoded data removed]",
      "text/plain": [
       "<matplotlib.figure.Figure at 0x7f79e47c5320>"
      ]
     },
     "metadata": {},
     "output_type": "display_data"
    },
    {
     "name": "stdout",
     "output_type": "stream",
     "text": [
      "predicted prob for this move is: 0.0794238\n",
      "0.6000000000000001\n"
     ]
    },
    {
     "data": {
      "image/png": "[encoded data removed]",
      "text/plain": [
       "<matplotlib.figure.Figure at 0x7f79e473b908>"
      ]
     },
     "metadata": {},
     "output_type": "display_data"
    },
    {
     "name": "stdout",
     "output_type": "stream",
     "text": [
      "predicted prob for this move is: 0.0733916\n",
      "0.6000000000000001\n"
     ]
    },
    {
     "data": {
      "image/png": "[encoded data removed]",
      "text/plain": [
       "<matplotlib.figure.Figure at 0x7f7a0409fa90>"
      ]
     },
     "metadata": {},
     "output_type": "display_data"
    },
    {
     "name": "stdout",
     "output_type": "stream",
     "text": [
      "predicted prob for this move is: 0.102075\n"
     ]
    },
    {
     "ename": "KeyboardInterrupt",
     "evalue": "",
     "output_type": "error",
     "traceback": [
      "\u001b[0;31m---------------------------------------------------------------------------\u001b[0m",
      "\u001b[0;31mKeyboardInterrupt\u001b[0m                         Traceback (most recent call last)",
      "\u001b[0;32m<ipython-input-11-e24ce9ebe43e>\u001b[0m in \u001b[0;36m<module>\u001b[0;34m()\u001b[0m\n\u001b[1;32m      8\u001b[0m     \u001b[0mgame\u001b[0m\u001b[0;34m.\u001b[0m\u001b[0mmove_to\u001b[0m\u001b[0;34m(\u001b[0m\u001b[0mturn\u001b[0m\u001b[0;34m,\u001b[0m \u001b[0mpos0\u001b[0m\u001b[0;34m,\u001b[0m \u001b[0mpos1\u001b[0m\u001b[0;34m)\u001b[0m\u001b[0;34m\u001b[0m\u001b[0m\n\u001b[1;32m      9\u001b[0m     \u001b[0mturn\u001b[0m \u001b[0;34m=\u001b[0m \u001b[0;34m-\u001b[0m\u001b[0mturn\u001b[0m\u001b[0;34m\u001b[0m\u001b[0m\n\u001b[0;32m---> 10\u001b[0;31m     \u001b[0mtime\u001b[0m\u001b[0;34m.\u001b[0m\u001b[0msleep\u001b[0m\u001b[0;34m(\u001b[0m\u001b[0;36m0.1\u001b[0m\u001b[0;34m)\u001b[0m\u001b[0;34m\u001b[0m\u001b[0m\n\u001b[0m\u001b[1;32m     11\u001b[0m \u001b[0mprint\u001b[0m\u001b[0;34m(\u001b[0m\u001b[0mgame\u001b[0m\u001b[0;34m.\u001b[0m\u001b[0mevaluate\u001b[0m\u001b[0;34m(\u001b[0m\u001b[0;34m-\u001b[0m\u001b[0;36m1\u001b[0m\u001b[0;34m,\u001b[0m \u001b[0mturn\u001b[0m\u001b[0;34m)\u001b[0m\u001b[0;34m)\u001b[0m\u001b[0;34m\u001b[0m\u001b[0m\n",
      "\u001b[0;31mKeyboardInterrupt\u001b[0m: "
     ]
    }
   ],
   "source": [
    "game = Ataxx()\n",
    "turn = -1\n",
    "print(\"-1 is actor\")\n",
    "while abs(game.evaluate(turn, turn)) != 10:\n",
    "    print(game.evaluate(-1, turn))\n",
    "    game.plot()\n",
    "    pos0, pos1, _ = actor.get_noised_action(game, turn, 0, is_target=True)\n",
    "    game.move_to(turn, pos0, pos1)\n",
    "    turn = -turn\n",
    "    time.sleep(0.1)\n",
    "print(game.evaluate(-1, turn))"
   ]
  },
  {
   "cell_type": "code",
   "execution_count": 15,
   "metadata": {},
   "outputs": [
    {
     "name": "stdout",
     "output_type": "stream",
     "text": [
      "1 is actor\n",
      "0.0\n"
     ]
    },
    {
     "data": {
      "image/png": "[encoded data removed]",
      "text/plain": [
       "<matplotlib.figure.Figure at 0x7f79e46b2978>"
      ]
     },
     "metadata": {},
     "output_type": "display_data"
    },
    {
     "name": "stdout",
     "output_type": "stream",
     "text": [
      "0.1\n"
     ]
    },
    {
     "data": {
      "image/png": "[encoded data removed]",
      "text/plain": [
       "<matplotlib.figure.Figure at 0x7f79e4690a58>"
      ]
     },
     "metadata": {},
     "output_type": "display_data"
    },
    {
     "name": "stdout",
     "output_type": "stream",
     "text": [
      "predicted prob for this move is: 0.125253\n",
      "0.1\n"
     ]
    },
    {
     "data": {
      "image/png": "[encoded data removed]",
      "text/plain": [
       "<matplotlib.figure.Figure at 0x7f7a441756a0>"
      ]
     },
     "metadata": {},
     "output_type": "display_data"
    },
    {
     "name": "stdout",
     "output_type": "stream",
     "text": [
      "0.2\n"
     ]
    },
    {
     "data": {
      "image/png": "[encoded data removed]",
      "text/plain": [
       "<matplotlib.figure.Figure at 0x7f79e47388d0>"
      ]
     },
     "metadata": {},
     "output_type": "display_data"
    },
    {
     "name": "stdout",
     "output_type": "stream",
     "text": [
      "predicted prob for this move is: 0.0642404\n",
      "0.2\n"
     ]
    },
    {
     "data": {
      "image/png": "[encoded data removed]",
      "text/plain": [
       "<matplotlib.figure.Figure at 0x7f7a046d6d30>"
      ]
     },
     "metadata": {},
     "output_type": "display_data"
    },
    {
     "name": "stdout",
     "output_type": "stream",
     "text": [
      "0.4\n"
     ]
    },
    {
     "data": {
      "image/png": "[encoded data removed]",
      "text/plain": [
       "<matplotlib.figure.Figure at 0x7f7a046f8eb8>"
      ]
     },
     "metadata": {},
     "output_type": "display_data"
    },
    {
     "name": "stdout",
     "output_type": "stream",
     "text": [
      "predicted prob for this move is: 0.0532641\n",
      "0.4\n"
     ]
    },
    {
     "data": {
      "image/png": "[encoded data removed]",
      "text/plain": [
       "<matplotlib.figure.Figure at 0x7f7a44119e48>"
      ]
     },
     "metadata": {},
     "output_type": "display_data"
    },
    {
     "name": "stdout",
     "output_type": "stream",
     "text": [
      "0.5\n"
     ]
    },
    {
     "data": {
      "image/png": "[encoded data removed]",
      "text/plain": [
       "<matplotlib.figure.Figure at 0x7f7a04057c18>"
      ]
     },
     "metadata": {},
     "output_type": "display_data"
    },
    {
     "name": "stdout",
     "output_type": "stream",
     "text": [
      "predicted prob for this move is: 0.0636697\n",
      "0.5\n"
     ]
    },
    {
     "data": {
      "image/png": "[encoded data removed]",
      "text/plain": [
       "<matplotlib.figure.Figure at 0x7f7a04106dd8>"
      ]
     },
     "metadata": {},
     "output_type": "display_data"
    },
    {
     "name": "stdout",
     "output_type": "stream",
     "text": [
      "0.6000000000000001\n"
     ]
    },
    {
     "data": {
      "image/png": "[encoded data removed]",
      "text/plain": [
       "<matplotlib.figure.Figure at 0x7f79e474cf98>"
      ]
     },
     "metadata": {},
     "output_type": "display_data"
    },
    {
     "name": "stdout",
     "output_type": "stream",
     "text": [
      "predicted prob for this move is: 0.0558771\n",
      "0.6000000000000001\n"
     ]
    },
    {
     "data": {
      "image/png": "[encoded data removed]",
      "text/plain": [
       "<matplotlib.figure.Figure at 0x7f79c4e040b8>"
      ]
     },
     "metadata": {},
     "output_type": "display_data"
    },
    {
     "name": "stdout",
     "output_type": "stream",
     "text": [
      "0.7000000000000001\n"
     ]
    },
    {
     "data": {
      "image/png": "[encoded data removed]",
      "text/plain": [
       "<matplotlib.figure.Figure at 0x7f7a041e9978>"
      ]
     },
     "metadata": {},
     "output_type": "display_data"
    },
    {
     "name": "stdout",
     "output_type": "stream",
     "text": [
      "predicted prob for this move is: 0.0682711\n",
      "0.7000000000000001\n"
     ]
    },
    {
     "data": {
      "image/png": "[encoded data removed]",
      "text/plain": [
       "<matplotlib.figure.Figure at 0x7f79e4201908>"
      ]
     },
     "metadata": {},
     "output_type": "display_data"
    },
    {
     "name": "stdout",
     "output_type": "stream",
     "text": [
      "0.8\n"
     ]
    },
    {
     "data": {
      "image/png": "[encoded data removed]",
      "text/plain": [
       "<matplotlib.figure.Figure at 0x7f79e4234668>"
      ]
     },
     "metadata": {},
     "output_type": "display_data"
    },
    {
     "name": "stdout",
     "output_type": "stream",
     "text": [
      "predicted prob for this move is: 0.0540528\n",
      "0.8\n"
     ]
    },
    {
     "data": {
      "image/png": "[encoded data removed]",
      "text/plain": [
       "<matplotlib.figure.Figure at 0x7f79c4ea4cc0>"
      ]
     },
     "metadata": {},
     "output_type": "display_data"
    },
    {
     "name": "stdout",
     "output_type": "stream",
     "text": [
      "0.9\n"
     ]
    },
    {
     "data": {
      "image/png": "[encoded data removed]",
      "text/plain": [
       "<matplotlib.figure.Figure at 0x7f7a047e8e48>"
      ]
     },
     "metadata": {},
     "output_type": "display_data"
    },
    {
     "name": "stdout",
     "output_type": "stream",
     "text": [
      "predicted prob for this move is: 0.0660358\n",
      "0.9\n"
     ]
    },
    {
     "data": {
      "image/png": "[encoded data removed]",
      "text/plain": [
       "<matplotlib.figure.Figure at 0x7f7a046fae10>"
      ]
     },
     "metadata": {},
     "output_type": "display_data"
    },
    {
     "name": "stdout",
     "output_type": "stream",
     "text": [
      "1.0\n"
     ]
    },
    {
     "data": {
      "image/png": "[encoded data removed]",
      "text/plain": [
       "<matplotlib.figure.Figure at 0x7f7a04736ba8>"
      ]
     },
     "metadata": {},
     "output_type": "display_data"
    },
    {
     "name": "stdout",
     "output_type": "stream",
     "text": [
      "predicted prob for this move is: 0.0568373\n",
      "1.0\n"
     ]
    },
    {
     "data": {
      "image/png": "[encoded data removed]",
      "text/plain": [
       "<matplotlib.figure.Figure at 0x7f79e417ada0>"
      ]
     },
     "metadata": {},
     "output_type": "display_data"
    },
    {
     "name": "stdout",
     "output_type": "stream",
     "text": [
      "1.1\n"
     ]
    },
    {
     "data": {
      "image/png": "[encoded data removed]",
      "text/plain": [
       "<matplotlib.figure.Figure at 0x7f79e46e7ef0>"
      ]
     },
     "metadata": {},
     "output_type": "display_data"
    },
    {
     "name": "stdout",
     "output_type": "stream",
     "text": [
      "predicted prob for this move is: 0.063422\n",
      "1.1\n"
     ]
    },
    {
     "data": {
      "image/png": "[encoded data removed]",
      "text/plain": [
       "<matplotlib.figure.Figure at 0x7f79e4152748>"
      ]
     },
     "metadata": {},
     "output_type": "display_data"
    },
    {
     "name": "stdout",
     "output_type": "stream",
     "text": [
      "100\n"
     ]
    }
   ],
   "source": [
    "game = Ataxx()\n",
    "turn = -1\n",
    "print(\"1 is actor\")\n",
    "while abs(game.evaluate(turn, turn)) != 100:\n",
    "    print(game.evaluate(-1, turn))\n",
    "    game.plot()\n",
    "    if turn == -1:\n",
    "        best_move = game.get_greedy_move(turn)\n",
    "        game.move_to(turn, best_move[0], best_move[1])\n",
    "    else:\n",
    "        pos0, pos1, _ = actor.get_noised_action(game, turn, 0, is_target=True)\n",
    "        game.move_to(turn, pos0, pos1)\n",
    "    turn = -turn\n",
    "    time.sleep(0.1)\n",
    "print(game.evaluate(-1, turn))"
   ]
  },
  {
   "cell_type": "code",
   "execution_count": 56,
   "metadata": {
    "scrolled": true
   },
   "outputs": [
    {
     "name": "stdout",
     "output_type": "stream",
     "text": [
      "-1 is actor\n",
      "0.0\n"
     ]
    },
    {
     "data": {
      "image/png": "[encoded data removed]",
      "text/plain": [
       "<matplotlib.figure.Figure at 0x7f27f0010eb8>"
      ]
     },
     "metadata": {},
     "output_type": "display_data"
    },
    {
     "name": "stdout",
     "output_type": "stream",
     "text": [
      "predicted prob for this move is: 0.937811\n",
      "0.1\n"
     ]
    },
    {
     "data": {
      "image/png": "[encoded data removed]",
      "text/plain": [
       "<matplotlib.figure.Figure at 0x7f27eff7d9e8>"
      ]
     },
     "metadata": {},
     "output_type": "display_data"
    },
    {
     "name": "stdout",
     "output_type": "stream",
     "text": [
      "0.0\n"
     ]
    },
    {
     "data": {
      "image/png": "[encoded data removed]",
      "text/plain": [
       "<matplotlib.figure.Figure at 0x7f27eff32eb8>"
      ]
     },
     "metadata": {},
     "output_type": "display_data"
    },
    {
     "name": "stdout",
     "output_type": "stream",
     "text": [
      "predicted prob for this move is: 0.784893\n",
      "0.1\n"
     ]
    },
    {
     "data": {
      "image/png": "[encoded data removed]",
      "text/plain": [
       "<matplotlib.figure.Figure at 0x7f27efedb080>"
      ]
     },
     "metadata": {},
     "output_type": "display_data"
    },
    {
     "name": "stdout",
     "output_type": "stream",
     "text": [
      "0.0\n"
     ]
    },
    {
     "data": {
      "image/png": "[encoded data removed]",
      "text/plain": [
       "<matplotlib.figure.Figure at 0x7f27efeffa58>"
      ]
     },
     "metadata": {},
     "output_type": "display_data"
    },
    {
     "name": "stdout",
     "output_type": "stream",
     "text": [
      "predicted prob for this move is: 1.45317\n",
      "0.1\n"
     ]
    },
    {
     "data": {
      "image/png": "[encoded data removed]",
      "text/plain": [
       "<matplotlib.figure.Figure at 0x7f27efea27f0>"
      ]
     },
     "metadata": {},
     "output_type": "display_data"
    },
    {
     "name": "stdout",
     "output_type": "stream",
     "text": [
      "0.0\n"
     ]
    },
    {
     "data": {
      "image/png": "[encoded data removed]",
      "text/plain": [
       "<matplotlib.figure.Figure at 0x7f27efe49eb8>"
      ]
     },
     "metadata": {},
     "output_type": "display_data"
    },
    {
     "name": "stdout",
     "output_type": "stream",
     "text": [
      "predicted prob for this move is: 0.687586\n",
      "0.0\n"
     ]
    },
    {
     "data": {
      "image/png": "[encoded data removed]",
      "text/plain": [
       "<matplotlib.figure.Figure at 0x7f27efe64278>"
      ]
     },
     "metadata": {},
     "output_type": "display_data"
    },
    {
     "name": "stdout",
     "output_type": "stream",
     "text": [
      "-0.2\n"
     ]
    },
    {
     "data": {
      "image/png": "[encoded data removed]",
      "text/plain": [
       "<matplotlib.figure.Figure at 0x7f27efe15cc0>"
      ]
     },
     "metadata": {},
     "output_type": "display_data"
    },
    {
     "name": "stdout",
     "output_type": "stream",
     "text": [
      "predicted prob for this move is: 1.36847\n",
      "0.4\n"
     ]
    },
    {
     "data": {
      "image/png": "[encoded data removed]",
      "text/plain": [
       "<matplotlib.figure.Figure at 0x7f27efe26f98>"
      ]
     },
     "metadata": {},
     "output_type": "display_data"
    },
    {
     "name": "stdout",
     "output_type": "stream",
     "text": [
      "0.2\n"
     ]
    },
    {
     "data": {
      "image/png": "[encoded data removed]",
      "text/plain": [
       "<matplotlib.figure.Figure at 0x7f27efde37b8>"
      ]
     },
     "metadata": {},
     "output_type": "display_data"
    },
    {
     "name": "stdout",
     "output_type": "stream",
     "text": [
      "predicted prob for this move is: 1.29258\n",
      "0.6000000000000001\n"
     ]
    },
    {
     "data": {
      "image/png": "[encoded data removed]",
      "text/plain": [
       "<matplotlib.figure.Figure at 0x7f27efd8af98>"
      ]
     },
     "metadata": {},
     "output_type": "display_data"
    },
    {
     "name": "stdout",
     "output_type": "stream",
     "text": [
      "0.2\n"
     ]
    },
    {
     "data": {
      "image/png": "[encoded data removed]",
      "text/plain": [
       "<matplotlib.figure.Figure at 0x7f27efd9a7f0>"
      ]
     },
     "metadata": {},
     "output_type": "display_data"
    },
    {
     "name": "stdout",
     "output_type": "stream",
     "text": [
      "predicted prob for this move is: 1.59666\n",
      "0.8\n"
     ]
    },
    {
     "data": {
      "image/png": "[encoded data removed]",
      "text/plain": [
       "<matplotlib.figure.Figure at 0x7f27efd56828>"
      ]
     },
     "metadata": {},
     "output_type": "display_data"
    },
    {
     "name": "stdout",
     "output_type": "stream",
     "text": [
      "0.7000000000000001\n"
     ]
    },
    {
     "data": {
      "image/png": "[encoded data removed]",
      "text/plain": [
       "<matplotlib.figure.Figure at 0x7f27efd0f0f0>"
      ]
     },
     "metadata": {},
     "output_type": "display_data"
    },
    {
     "name": "stdout",
     "output_type": "stream",
     "text": [
      "predicted prob for this move is: 0.79447\n",
      "0.7000000000000001\n"
     ]
    },
    {
     "data": {
      "image/png": "[encoded data removed]",
      "text/plain": [
       "<matplotlib.figure.Figure at 0x7f27efd31828>"
      ]
     },
     "metadata": {},
     "output_type": "display_data"
    },
    {
     "name": "stdout",
     "output_type": "stream",
     "text": [
      "0.6000000000000001\n"
     ]
    },
    {
     "data": {
      "image/png": "[encoded data removed]",
      "text/plain": [
       "<matplotlib.figure.Figure at 0x7f27efcf3e80>"
      ]
     },
     "metadata": {},
     "output_type": "display_data"
    },
    {
     "name": "stdout",
     "output_type": "stream",
     "text": [
      "predicted prob for this move is: 0.845066\n",
      "0.6000000000000001\n"
     ]
    },
    {
     "data": {
      "image/png": "[encoded data removed]",
      "text/plain": [
       "<matplotlib.figure.Figure at 0x7f27efcacef0>"
      ]
     },
     "metadata": {},
     "output_type": "display_data"
    },
    {
     "name": "stdout",
     "output_type": "stream",
     "text": [
      "0.4\n"
     ]
    },
    {
     "data": {
      "image/png": "[encoded data removed]",
      "text/plain": [
       "<matplotlib.figure.Figure at 0x7f27efc51278>"
      ]
     },
     "metadata": {},
     "output_type": "display_data"
    },
    {
     "name": "stdout",
     "output_type": "stream",
     "text": [
      "predicted prob for this move is: 1.98085\n",
      "0.9\n"
     ]
    },
    {
     "data": {
      "image/png": "[encoded data removed]",
      "text/plain": [
       "<matplotlib.figure.Figure at 0x7f27efc16710>"
      ]
     },
     "metadata": {},
     "output_type": "display_data"
    },
    {
     "name": "stdout",
     "output_type": "stream",
     "text": [
      "0.7000000000000001\n"
     ]
    },
    {
     "data": {
      "image/png": "[encoded data removed]",
      "text/plain": [
       "<matplotlib.figure.Figure at 0x7f27efbcce10>"
      ]
     },
     "metadata": {},
     "output_type": "display_data"
    },
    {
     "name": "stdout",
     "output_type": "stream",
     "text": [
      "predicted prob for this move is: 1.0286\n",
      "1.1\n"
     ]
    },
    {
     "data": {
      "image/png": "[encoded data removed]",
      "text/plain": [
       "<matplotlib.figure.Figure at 0x7f27efb811d0>"
      ]
     },
     "metadata": {},
     "output_type": "display_data"
    },
    {
     "name": "stdout",
     "output_type": "stream",
     "text": [
      "0.7000000000000001\n"
     ]
    },
    {
     "data": {
      "image/png": "[encoded data removed]",
      "text/plain": [
       "<matplotlib.figure.Figure at 0x7f27efbba748>"
      ]
     },
     "metadata": {},
     "output_type": "display_data"
    },
    {
     "name": "stdout",
     "output_type": "stream",
     "text": [
      "predicted prob for this move is: 1.02943\n",
      "10.0\n"
     ]
    }
   ],
   "source": [
    "game = Ataxx()\n",
    "turn = -1\n",
    "print(\"-1 is actor\")\n",
    "while abs(game.evaluate(turn, turn)) != 10:\n",
    "    print(game.evaluate(-1, turn))\n",
    "    game.plot()\n",
    "    if turn == 1:\n",
    "        best_move = game.get_greedy_move(turn)\n",
    "        game.move_to(turn, best_move[0], best_move[1])\n",
    "    else:\n",
    "        pos0, pos1, _ = actor.get_noised_action(game, turn, 0, is_target=True)\n",
    "        game.move_to(turn, pos0, pos1)\n",
    "    turn = -turn\n",
    "    time.sleep(0.1)\n",
    "print(game.evaluate(-1, turn))"
   ]
  },
  {
   "cell_type": "code",
   "execution_count": null,
   "metadata": {
    "collapsed": true
   },
   "outputs": [],
   "source": []
  },
  {
   "cell_type": "code",
   "execution_count": null,
   "metadata": {
    "collapsed": true
   },
   "outputs": [],
   "source": []
  }
 ],
 "metadata": {
  "kernelspec": {
   "display_name": "Python 3",
   "language": "python",
   "name": "python3"
  },
  "language_info": {
   "codemirror_mode": {
    "name": "ipython",
    "version": 3
   },
   "file_extension": ".py",
   "mimetype": "text/x-python",
   "name": "python",
   "nbconvert_exporter": "python",
   "pygments_lexer": "ipython3",
   "version": "3.5.4"
  }
 },
 "nbformat": 4,
 "nbformat_minor": 2
}
