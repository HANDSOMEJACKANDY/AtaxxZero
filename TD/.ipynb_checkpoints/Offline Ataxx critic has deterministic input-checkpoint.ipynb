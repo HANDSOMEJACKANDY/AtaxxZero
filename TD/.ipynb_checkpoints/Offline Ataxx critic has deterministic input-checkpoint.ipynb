{
 "cells": [
  {
   "cell_type": "code",
   "execution_count": 1,
   "metadata": {},
   "outputs": [
    {
     "name": "stderr",
     "output_type": "stream",
     "text": [
      "Using TensorFlow backend.\n"
     ]
    }
   ],
   "source": [
    "import os\n",
    "import tensorflow as tf\n",
    "import itertools\n",
    "import numpy as np\n",
    "from numpy import unravel_index\n",
    "from random import choice, random\n",
    "np.random.seed(1337)  # for reproducibility\n",
    "from keras.datasets import cifar100\n",
    "from keras.models import Sequential, Model, load_model\n",
    "from keras.layers import Input, BatchNormalization, Reshape\n",
    "from keras.layers import Dense, Dropout, Activation, Flatten\n",
    "from keras.layers import Conv2D, MaxPooling2D, AlphaDropout, ConvLSTM2D, AvgPool2D, Conv2DTranspose, UpSampling2D\n",
    "from keras.layers import add, concatenate\n",
    "from keras.initializers import VarianceScaling, RandomUniform\n",
    "from keras.optimizers import Adam, SGD\n",
    "from keras.preprocessing.image import ImageDataGenerator\n",
    "from keras.utils import np_utils\n",
    "from keras.utils.vis_utils import plot_model\n",
    "from keras.optimizers import SGD, Adadelta, Adagrad\n",
    "from keras.regularizers import l1, l2\n",
    "import keras.backend as K\n",
    "K.set_image_dim_ordering('th')\n",
    "\n",
    "from keras.callbacks import Callback, ReduceLROnPlateau, LearningRateScheduler, TensorBoard, ModelCheckpoint\n",
    "import matplotlib.pyplot as plt\n",
    "import time\n",
    "%matplotlib notebook"
   ]
  },
  {
   "cell_type": "code",
   "execution_count": 2,
   "metadata": {},
   "outputs": [],
   "source": [
    "class Ataxx:\n",
    "    def __init__(self, board=None):\n",
    "        if board is None:                  # if there is no initialization given\n",
    "            self.data = np.zeros((7, 7))   # then generate a board with starting init, and black(-1) takes first turn\n",
    "            self.data[0, 0] = -1           \n",
    "            self.data[6, 6] = -1\n",
    "            self.data[0, 6] = 1\n",
    "            self.data[6, 0] = 1\n",
    "        else:\n",
    "            self.data = board\n",
    "    \n",
    "    def plot(self, is_next_move=False, turn=None):                        # plot the board\n",
    "        image = self.data.copy()\n",
    "        if is_next_move:\n",
    "            if turn not in [-1, 1]:\n",
    "                raise ValueError(\"Turn must be -1 or 1, or Must input a turn for next moves\")\n",
    "            else:\n",
    "                next_moves = self.get_moves(turn)\n",
    "                if len(next_moves) == 0:\n",
    "                    raise ValueError(\"Game is over already\")\n",
    "                next_pos = list(zip(*next_moves))[1]\n",
    "                for pos in next_pos:\n",
    "                    image[pos] = turn / 2\n",
    "        plt.imshow(image, cmap='gray')\n",
    "        plt.xticks(range(7), range(7))\n",
    "        plt.yticks(range(7), range(7))\n",
    "        plt.show()\n",
    "                \n",
    "    def is_valid(self, turn, pos):\n",
    "        if turn not in [-1, 1]:\n",
    "            raise ValueError(\"Turn must be -1 or 1\") \n",
    "        elif self.data[pos] != 0:\n",
    "            return False\n",
    "        else:\n",
    "            for dr in range(-2, 3):\n",
    "                for dc in range(-2, 3):\n",
    "                    pos_tmp = (pos[0]+dr, pos[1]+dc)\n",
    "                    if pos_tmp[0] >= 0 and pos_tmp[1] >= 0 and pos_tmp[0] < 7 and pos_tmp[1] < 7:\n",
    "                        if self.data[pos_tmp] == turn:  # convert any piece of the opponent to 'turn'\n",
    "                            return True\n",
    "            return False\n",
    "        \n",
    "    def get_moves(self, turn):\n",
    "        if turn not in [-1, 1]:\n",
    "            raise ValueError(\"Turn must be -1 or 1\")# return a list of tuples of tuple\n",
    "        else:\n",
    "            next_moves = []\n",
    "            for r in range(7):\n",
    "                for c in range(7):\n",
    "                    has_duplicate_move = False      # move within the radius of one of another friendly piece is called\n",
    "                    if self.is_valid(turn, (r, c)): # duplicate move\n",
    "                        for dr in range(-2, 3):\n",
    "                            for dc in range(-2, 3):\n",
    "                                if abs(dr) <= 1 and abs(dc) <=1 and has_duplicate_move: \n",
    "                                    continue        # no need to record same move again\n",
    "                                else:\n",
    "                                    pos_tmp = (r+dr, c+dc)\n",
    "                                    if pos_tmp[0] >= 0 and pos_tmp[1] >= 0 and pos_tmp[0] < 7 and pos_tmp[1] < 7:\n",
    "                                        if self.data[pos_tmp] == turn:\n",
    "                                            next_moves.append((pos_tmp, (r, c)))\n",
    "            return next_moves\n",
    "    \n",
    "    def get_greedy_move(self, turn):\n",
    "        moves = self.get_moves(turn)\n",
    "        store_data = self.data.copy()\n",
    "        best_score = -1001\n",
    "        for move in moves:\n",
    "            self.data = store_data.copy()\n",
    "            self.move_to(turn, move[0], move[1])\n",
    "            score = self.evaluate(turn, -turn)\n",
    "            if score > best_score:\n",
    "                best_move = move\n",
    "                best_score = score\n",
    "        self.data = store_data\n",
    "        return best_move\n",
    "        \n",
    "    def move_to(self, turn, pos0, pos1):\n",
    "        if turn not in [-1, 1]:\n",
    "            raise ValueError(\"Turn must be -1 or 1\") \n",
    "        elif not self.is_valid(turn, pos1):\n",
    "            raise ValueError(\"This move: \" + str(pos1) + \" of turn: \" + str(turn) + \" is invalid\") \n",
    "        elif self.data[pos0] != turn:\n",
    "            raise ValueError(\"The starting position is not your piece\")\n",
    "        else:\n",
    "            dis = np.array(pos1) - np.array(pos0)    # check if is jump move or duplicate move\n",
    "            if abs(dis[0]) > 1 or abs(dis[1]) > 1:   # jump move\n",
    "                self.data[pos0] = 0\n",
    "                self.data[pos1] = turn\n",
    "            else:                                    # duplicate move\n",
    "                self.data[pos1] = turn\n",
    "            for dr in range(-1, 2):                  # infection mode!!!!\n",
    "                for dc in range(-1, 2):\n",
    "                    pos_tmp = (pos1[0]+dr, pos1[1]+dc)\n",
    "                    if pos_tmp[0] >= 0 and pos_tmp[1] >= 0 and pos_tmp[0] < 7 and pos_tmp[1] < 7:\n",
    "                        if self.data[pos_tmp] == -turn:  # convert any piece of the opponent to 'turn'\n",
    "                            self.data[pos_tmp] = turn\n",
    "                            \n",
    "    def simu_move_to(self, turn, pos0, pos1):\n",
    "        if turn not in [-1, 1]:\n",
    "            raise ValueError(\"Turn must be -1 or 1\") \n",
    "        elif not self.is_valid(turn, pos1):\n",
    "            raise ValueError(\"This move: \" + str(pos1) + \" of turn: \" + str(turn) + \" is invalid\") \n",
    "        elif self.data[pos0] != turn:\n",
    "            raise ValueError(\"You are not moving your piece\")\n",
    "        else:\n",
    "            tmp_data = self.data.copy()\n",
    "            dis = np.array(pos1) - np.array(pos0)    # check if is jump move or duplicate move\n",
    "            if abs(dis[0]) > 1 or abs(dis[1]) > 1:   # jump move\n",
    "                tmp_data[pos0] = 0\n",
    "                tmp_data[pos1] = turn\n",
    "            else:                                    # duplicate move\n",
    "                tmp_data[pos1] = turn\n",
    "            for dr in range(-1, 2):                  # infection mode!!!!\n",
    "                for dc in range(-1, 2):\n",
    "                    pos_tmp = (pos1[0]+dr, pos1[1]+dc)\n",
    "                    if pos_tmp[0] >= 0 and pos_tmp[1] >= 0 and pos_tmp[0] < 7 and pos_tmp[1] < 7:\n",
    "                        if tmp_data[pos_tmp] == -turn:  # convert any piece of the opponent to 'turn'\n",
    "                            tmp_data[pos_tmp] = turn\n",
    "            return tmp_data\n",
    "    \n",
    "    def evaluate(self, turn, this_turn, scale=0.01):\n",
    "        if turn not in [-1, 1]:\n",
    "            raise ValueError(\"Turn must be -1 or 1\") \n",
    "        else:\n",
    "            turn_no = 0\n",
    "            op_no = 0\n",
    "            for r in range(7):\n",
    "                for c in range(7):\n",
    "                    if self.data[r, c] == turn:\n",
    "                        turn_no += 1\n",
    "                    elif self.data[r, c] == -turn:\n",
    "                        op_no += 1\n",
    "            if turn_no + op_no == 49:\n",
    "                if turn_no > op_no:\n",
    "                    value = 1000\n",
    "                else:\n",
    "                    value = -1000\n",
    "            else:\n",
    "                if len(self.get_moves(this_turn)) == 0:# if one of them can no longer move, count and end\n",
    "                    if turn_no > op_no:\n",
    "                        value = 1000\n",
    "                    else:\n",
    "                        value = -1000\n",
    "                else:\n",
    "                    value = turn_no - op_no\n",
    "            return value*scale"
   ]
  },
  {
   "cell_type": "code",
   "execution_count": 3,
   "metadata": {},
   "outputs": [],
   "source": [
    "class CriticNetwork(object):\n",
    "    def __init__(self, sess, TAU, LEARNING_RATE):\n",
    "        self.sess = sess\n",
    "        self.TAU = TAU\n",
    "        self.LEARNING_RATE = LEARNING_RATE\n",
    "        \n",
    "        K.set_session(sess)\n",
    "\n",
    "        #Now create the model\n",
    "        self.model, self.action, self.state = self.create_critic_network(state_size, action_size)  \n",
    "        self.target_model, self.target_action, self.target_state = self.create_critic_network(state_size, action_size)  \n",
    "        self.action_grads = tf.gradients(self.model.output, self.action)  #GRADIENTS for policy update\n",
    "        self.sess.run(tf.initialize_all_variables())\n",
    "\n",
    "    def gradients(self, states, actions):\n",
    "        return self.sess.run(self.action_grads, feed_dict={\n",
    "            self.state: states,\n",
    "            self.action: actions\n",
    "        })[0]\n",
    "\n",
    "    def target_train(self):\n",
    "        critic_weights = self.model.get_weights()\n",
    "        critic_target_weights = self.target_model.get_weights()\n",
    "        for i in xrange(len(critic_weights)):\n",
    "            critic_target_weights[i] = self.TAU * critic_weights[i] + (1 - self.TAU)* critic_target_weights[i]\n",
    "        self.target_model.set_weights(critic_target_weights)\n",
    "\n",
    "    def create_critic_network(self):\n",
    "        board_input = Input(shape=(1, 7, 7))\n",
    "        x = Conv2D(16, (3, 3), activation='elu', padding='same')(board_input)\n",
    "        board_feature = Conv2D(16, (3, 3), activation='elu', padding='same')(x)\n",
    "        action_input = Input(shape=(2, 7, 7))\n",
    "        # stack action_input and board_features\n",
    "        overall_input = concatenate(inputs=[action_input, board_feature], axis=1)\n",
    "        x = Conv2D(32, (3, 3), activation='elu', padding='same')(concatenate_input)\n",
    "        x = MaxPooling2D(pool_size=(2, 2))(x)\n",
    "        # x = Dropout(0.25)(x)\n",
    "        x = Flatten()(x)\n",
    "        x = Dense(512, activation='elu')(x)\n",
    "        # x = Dropout(0.5)(x)\n",
    "        x = Dense(256, activation='elu')(x)\n",
    "        x = Dropout(0.25)(x)\n",
    "        x = Dense(1)(x)\n",
    "        # construct model\n",
    "        self.model = Model(inputs=[board_input, action_input], outputs=[x])\n",
    "        print(model.summary())\n",
    "        self.model.compile(loss='mse', optimizer=Adam(lr=self.LEARNING_RATE), metrics=['mse'])\n",
    "        return model, action_input, board_input\n",
    "    \n",
    "class ActorNetwork(object):\n",
    "    def __init__(self, sess, TAU, LEARNING_RATE):\n",
    "        self.sess = sess\n",
    "        self.TAU = TAU\n",
    "        self.LEARNING_RATE = LEARNING_RATE\n",
    "        \n",
    "        K.set_session(sess)\n",
    "\n",
    "        #Now create the model\n",
    "        self.model, self.weights, self.state = self.create_actor_network(state_size, action_size)   \n",
    "        self.target_model, self.target_weights, self.target_state = self.create_actor_network(state_size, action_size) \n",
    "        self.action_gradient = tf.placeholder(tf.float32,[None, 1])\n",
    "        self.params_grad = tf.gradients(self.model.output, self.weights, -self.action_gradient)\n",
    "        grads = zip(self.params_grad, self.weights)\n",
    "        self.optimize = tf.train.AdamOptimizer(self.LEARNING_RATE).apply_gradients(grads)\n",
    "        self.sess.run(tf.initialize_all_variables())\n",
    "\n",
    "    def train(self, states, action_grads):\n",
    "        self.sess.run(self.optimize, feed_dict={\n",
    "            self.state: states,\n",
    "            self.action_gradient: action_grads\n",
    "        })\n",
    "\n",
    "    def target_train(self):\n",
    "        actor_weights = self.model.get_weights()\n",
    "        actor_target_weights = self.target_model.get_weights()\n",
    "        for i in xrange(len(actor_weights)):\n",
    "            actor_target_weights[i] = self.TAU * actor_weights[i] + (1 - self.TAU)* actor_target_weights[i]\n",
    "        self.target_model.set_weights(actor_target_weights)\n",
    "\n",
    "    def create_actor_network(self):\n",
    "        board_input = Input(shape=(1, 7, 7))\n",
    "        x = Conv2D(16, (3, 3), activation='elu', padding='valid')(board_input)\n",
    "        x = Conv2D(32, (3, 3), activation='elu', padding='valid')(x)\n",
    "        x = Conv2DTranspose(32, (3, 3), activation='elu', padding='valid')(x)\n",
    "        x = Conv2DTranspose(16, (3, 3), activation='elu', padding='valid')(x)\n",
    "        x = Conv2D(2, (3, 3), activation='elu', padding='same')(x) # output which to move and move to where\n",
    "        x = Activation('softmax')(x)       \n",
    "        model = Model(input=[board_input],output=[x])\n",
    "        print(model.summary())\n",
    "        return model, model.trainable_weights, board_input\n",
    "    \n",
    "    def get_noised_action(self, board, epsilon, get_position=False, filter_invalid=False):  # get a ϵ-greedy tuple cooridinate\n",
    "        if random() < epsilon: # notice: Actor always only judge for turn 1\n",
    "            tmp_game = Ataxx(board) # suppose the turn has been switched to 1\n",
    "            random_move = choice(tmp_game.get_moves(1))\n",
    "            pos0 = random_move[0]\n",
    "            pos1 = random_move[1]\n",
    "        else:\n",
    "            action_prob = self.model.predict([board], batch_size=1, verbose=0)[0]\n",
    "            pos0 = unravel_index(action_prob[0].argmax(), action_prob[0].shape)\n",
    "            pos1 = unravel_index(action_prob[1].argmax(), action_prob[1].shape)\n",
    "            # implement filter_invalid here\n",
    "                \n",
    "        if get_postion:\n",
    "            return (pos0[0], pos0[1]), (pos1[0], pos1[1])\n",
    "        else: # give out array(2, 7, 7) one-hot\n",
    "            start_pos = np.zeros((1, 7, 7))\n",
    "            start_pos[0, pos0] = 1\n",
    "            end_pos = np.zeros((1, 7, 7))\n",
    "            end_pos[0, pos1] = 1\n",
    "            return np.concatenate((start_pos, end_pos), axis=0)"
   ]
  },
  {
   "cell_type": "code",
   "execution_count": 4,
   "metadata": {
    "collapsed": true
   },
   "outputs": [],
   "source": [
    "class Relay():\n",
    "    def __init__(max_size):\n",
    "        self.relay = []\n",
    "        self.max_size = max_size\n",
    "\n",
    "    def reset():\n",
    "        self.relay = []\n",
    "        \n",
    "    def add_sample(new_sample):\n",
    "        if self.relay >= max_size:\n",
    "            self.relay.pop(0)\n",
    "        self.relay.append(new_sample)\n",
    "    \n",
    "    def get_batch(batch_size):\n",
    "        if len(self.relay) < batch_size:\n",
    "            raise ValueError('relay not large enough')\n",
    "        else:\n",
    "            batch = choice(self.relay, batch_size, replace=False)\n",
    "            cur_state = np.array([item[0] for item in batch])\n",
    "            cur_action = np.array([item[1] for item in batch])\n",
    "            cur_reward = np.array([item[2] for item in batch])\n",
    "            new_state = np.array([item[3] for item in batch])\n",
    "            new_action = np.array([item[4] for item in batch])\n",
    "            return cur_state, cur_action, cur_reward, new_state, new_action\n",
    "    \n",
    "    def size(self):\n",
    "        return len(self.relay)"
   ]
  },
  {
   "cell_type": "code",
   "execution_count": 12,
   "metadata": {},
   "outputs": [],
   "source": [
    "def reinforcement_learning():\n",
    "    #Tensorflow GPU optimization\n",
    "    config = tf.ConfigProto()\n",
    "    config.gpu_options.allow_growth = True\n",
    "    sess = tf.Session(config=config)\n",
    "    from keras import backend as K\n",
    "    K.set_session(sess)\n",
    "    \n",
    "    RELAY_SIZE = 100000\n",
    "    BATCH_SIZE = 32\n",
    "    GAMMA = 0.99\n",
    "    TAU = 0.001     #Target Network HyperParameters\n",
    "    LRA = 0.0001    #Learning rate for Actor\n",
    "    LRC = 0.001     #Lerning rate for Critic\n",
    "\n",
    "    actor = ActorNetwork(sess, TAU, LRA)\n",
    "    critic = CriticNetwork(sess, TAU, LRC)\n",
    "    relay = Relay(RELAY_SIZE)\n",
    "    \n",
    "    for ep in range(10000):\n",
    "        game = Ataxx()\n",
    "        turn = -1 # start turn is -1\n",
    "        game.data = game.data * turn  # set the player constantly to 1\n",
    "        print(\"Episode : \" + str(ep) + \" Replay Buffer \" + str(relay.size()))\n",
    "\n",
    "        while abs(game.evaluate(1, 1)) != 0.01:\n",
    "            new_sample = [] # prepare to collect new sample\n",
    "            pos0, pos1 = actor.get_noised_action(game, EPSILON, get_position=True) # get proposed action\n",
    "            is_valid_move = True\n",
    "            try: # check if the movement is valid\n",
    "                new_state = game.simu_move_to(1, pos0, pos1)\n",
    "            except:\n",
    "                is_valid_move = False\n",
    "            \n",
    "            \n",
    "            # create new_sample\n",
    "            new_sample.append(game.data) # cur_state\n",
    "            start_pos = np.zeros((1, 7, 7))\n",
    "            start_pos[0, pos0] = 1\n",
    "            end_pos = np.zeros((1, 7, 7))\n",
    "            end_pos[0, pos1] = 1\n",
    "            new_sample.append(np.concatenate((start_pos, end_pos), axis=0)) # cur_action\n",
    "            if is_valid_move:\n",
    "                new_sample.append(game.evaluate(1, -1)) # cur_reward\n",
    "                new_sample.append(new_state) # new_state\n",
    "                game.move_to(1, pos0, pos1)\n",
    "                turn = -turn\n",
    "                game.data = game.data * turn\n",
    "                new_sample.append(actor.get_noised_action(game.data, epsilon=0)) # new_action (no ϵ-greedy)\n",
    "            else:\n",
    "                new_sample.append(-20) # 2 times worse reward than reward for a loss\n",
    "                new_sample.append(np.zeros((7, 7))) # if new_state is all zeros, then there is no new_state\n",
    "                new_sample.append(np.zeros((2, 7, 7))) # new_action, all zeors\n",
    "            relay.add_sample(new_sample)\n",
    "            \n",
    "            #Do the batch update\n",
    "            cur_state, cur_action, cur_reward, new_state, new_action = relay.get_batch(BATCH_SIZE)\n",
    "            q_target = np.zeros(BATCH_SIZE)\n",
    "                              \n",
    "            for k in range(len(batch)):\n",
    "                if new_state[k].all() == 0:\n",
    "                    q_target[k] = cur_reward[k]\n",
    "                else:\n",
    "                    q_new = critic.target_model.predict(inputs=[new_state[k], new_action[k]])[0]\n",
    "                    q_target[k] = cur_reward[k] + GAMMA*q_new\n",
    "       \n",
    "            loss += critic.model.train_on_batch([cur_state, cur_action], q_target) \n",
    "        \n",
    "            if not is_valid_step: # stop the game if the network gives wrong step\n",
    "                break\n",
    "                \n",
    "        print(\"TOTAL REWARD @ \" + str(i) +\"-th Episode  : Reward \" + str(total_reward))\n",
    "        print(\"Total Step: \" + str(step))\n",
    "        print(\"\")\n",
    "\n",
    "    env.end()  # This is for shutting down TORCS\n",
    "    print(\"Finish.\")"
   ]
  },
  {
   "cell_type": "code",
   "execution_count": 13,
   "metadata": {},
   "outputs": [
    {
     "ename": "NameError",
     "evalue": "name 'state_size' is not defined",
     "output_type": "error",
     "traceback": [
      "\u001b[0;31m---------------------------------------------------------------------------\u001b[0m",
      "\u001b[0;31mNameError\u001b[0m                                 Traceback (most recent call last)",
      "\u001b[0;32m<ipython-input-13-1bc1595be707>\u001b[0m in \u001b[0;36m<module>\u001b[0;34m()\u001b[0m\n\u001b[0;32m----> 1\u001b[0;31m \u001b[0mreinforcement_learning\u001b[0m\u001b[0;34m(\u001b[0m\u001b[0;34m)\u001b[0m\u001b[0;34m\u001b[0m\u001b[0m\n\u001b[0m",
      "\u001b[0;32m<ipython-input-12-cffb865addca>\u001b[0m in \u001b[0;36mreinforcement_learning\u001b[0;34m()\u001b[0m\n\u001b[1;32m     14\u001b[0m     \u001b[0mLRC\u001b[0m \u001b[0;34m=\u001b[0m \u001b[0;36m0.001\u001b[0m     \u001b[0;31m#Lerning rate for Critic\u001b[0m\u001b[0;34m\u001b[0m\u001b[0m\n\u001b[1;32m     15\u001b[0m \u001b[0;34m\u001b[0m\u001b[0m\n\u001b[0;32m---> 16\u001b[0;31m     \u001b[0mactor\u001b[0m \u001b[0;34m=\u001b[0m \u001b[0mActorNetwork\u001b[0m\u001b[0;34m(\u001b[0m\u001b[0msess\u001b[0m\u001b[0;34m,\u001b[0m \u001b[0mTAU\u001b[0m\u001b[0;34m,\u001b[0m \u001b[0mLRA\u001b[0m\u001b[0;34m)\u001b[0m\u001b[0;34m\u001b[0m\u001b[0m\n\u001b[0m\u001b[1;32m     17\u001b[0m     \u001b[0mcritic\u001b[0m \u001b[0;34m=\u001b[0m \u001b[0mCriticNetwork\u001b[0m\u001b[0;34m(\u001b[0m\u001b[0msess\u001b[0m\u001b[0;34m,\u001b[0m \u001b[0mTAU\u001b[0m\u001b[0;34m,\u001b[0m \u001b[0mLRC\u001b[0m\u001b[0;34m)\u001b[0m\u001b[0;34m\u001b[0m\u001b[0m\n\u001b[1;32m     18\u001b[0m     \u001b[0mrelay\u001b[0m \u001b[0;34m=\u001b[0m \u001b[0mRelay\u001b[0m\u001b[0;34m(\u001b[0m\u001b[0mRELAY_SIZE\u001b[0m\u001b[0;34m)\u001b[0m\u001b[0;34m\u001b[0m\u001b[0m\n",
      "\u001b[0;32m<ipython-input-3-e07de79923b0>\u001b[0m in \u001b[0;36m__init__\u001b[0;34m(self, sess, TAU, LEARNING_RATE)\u001b[0m\n\u001b[1;32m     57\u001b[0m \u001b[0;34m\u001b[0m\u001b[0m\n\u001b[1;32m     58\u001b[0m         \u001b[0;31m#Now create the model\u001b[0m\u001b[0;34m\u001b[0m\u001b[0;34m\u001b[0m\u001b[0m\n\u001b[0;32m---> 59\u001b[0;31m         \u001b[0mself\u001b[0m\u001b[0;34m.\u001b[0m\u001b[0mmodel\u001b[0m\u001b[0;34m,\u001b[0m \u001b[0mself\u001b[0m\u001b[0;34m.\u001b[0m\u001b[0mweights\u001b[0m\u001b[0;34m,\u001b[0m \u001b[0mself\u001b[0m\u001b[0;34m.\u001b[0m\u001b[0mstate\u001b[0m \u001b[0;34m=\u001b[0m \u001b[0mself\u001b[0m\u001b[0;34m.\u001b[0m\u001b[0mcreate_actor_network\u001b[0m\u001b[0;34m(\u001b[0m\u001b[0mstate_size\u001b[0m\u001b[0;34m,\u001b[0m \u001b[0maction_size\u001b[0m\u001b[0;34m)\u001b[0m\u001b[0;34m\u001b[0m\u001b[0m\n\u001b[0m\u001b[1;32m     60\u001b[0m         \u001b[0mself\u001b[0m\u001b[0;34m.\u001b[0m\u001b[0mtarget_model\u001b[0m\u001b[0;34m,\u001b[0m \u001b[0mself\u001b[0m\u001b[0;34m.\u001b[0m\u001b[0mtarget_weights\u001b[0m\u001b[0;34m,\u001b[0m \u001b[0mself\u001b[0m\u001b[0;34m.\u001b[0m\u001b[0mtarget_state\u001b[0m \u001b[0;34m=\u001b[0m \u001b[0mself\u001b[0m\u001b[0;34m.\u001b[0m\u001b[0mcreate_actor_network\u001b[0m\u001b[0;34m(\u001b[0m\u001b[0mstate_size\u001b[0m\u001b[0;34m,\u001b[0m \u001b[0maction_size\u001b[0m\u001b[0;34m)\u001b[0m\u001b[0;34m\u001b[0m\u001b[0m\n\u001b[1;32m     61\u001b[0m         \u001b[0mself\u001b[0m\u001b[0;34m.\u001b[0m\u001b[0maction_gradient\u001b[0m \u001b[0;34m=\u001b[0m \u001b[0mtf\u001b[0m\u001b[0;34m.\u001b[0m\u001b[0mplaceholder\u001b[0m\u001b[0;34m(\u001b[0m\u001b[0mtf\u001b[0m\u001b[0;34m.\u001b[0m\u001b[0mfloat32\u001b[0m\u001b[0;34m,\u001b[0m\u001b[0;34m[\u001b[0m\u001b[0;32mNone\u001b[0m\u001b[0;34m,\u001b[0m \u001b[0;36m1\u001b[0m\u001b[0;34m]\u001b[0m\u001b[0;34m)\u001b[0m\u001b[0;34m\u001b[0m\u001b[0m\n",
      "\u001b[0;31mNameError\u001b[0m: name 'state_size' is not defined"
     ]
    }
   ],
   "source": [
    "reinforcement_learning()"
   ]
  },
  {
   "cell_type": "code",
   "execution_count": 60,
   "metadata": {},
   "outputs": [],
   "source": [
    "game = Ataxx()"
   ]
  },
  {
   "cell_type": "code",
   "execution_count": 61,
   "metadata": {
    "scrolled": true
   },
   "outputs": [
    {
     "name": "stdout",
     "output_type": "stream",
     "text": [
      "0.0\n"
     ]
    },
    {
     "data": {
      "image/png": "[encoded data removed]",
      "text/plain": [
       "<matplotlib.figure.Figure at 0x7f0186057550>"
      ]
     },
     "metadata": {},
     "output_type": "display_data"
    },
    {
     "name": "stdout",
     "output_type": "stream",
     "text": [
      "-0.01\n"
     ]
    },
    {
     "data": {
      "image/png": "[encoded data removed]",
      "text/plain": [
       "<matplotlib.figure.Figure at 0x7f018622f3c8>"
      ]
     },
     "metadata": {},
     "output_type": "display_data"
    },
    {
     "name": "stdout",
     "output_type": "stream",
     "text": [
      "0.0\n"
     ]
    },
    {
     "data": {
      "image/png": "[encoded data removed]",
      "text/plain": [
       "<matplotlib.figure.Figure at 0x7f01860e2dd8>"
      ]
     },
     "metadata": {},
     "output_type": "display_data"
    },
    {
     "name": "stdout",
     "output_type": "stream",
     "text": [
      "-0.01\n"
     ]
    },
    {
     "data": {
      "image/png": "[encoded data removed]",
      "text/plain": [
       "<matplotlib.figure.Figure at 0x7f018606be80>"
      ]
     },
     "metadata": {},
     "output_type": "display_data"
    },
    {
     "name": "stdout",
     "output_type": "stream",
     "text": [
      "0.01\n"
     ]
    },
    {
     "data": {
      "image/png": "[encoded data removed]",
      "text/plain": [
       "<matplotlib.figure.Figure at 0x7f018619ee80>"
      ]
     },
     "metadata": {},
     "output_type": "display_data"
    },
    {
     "name": "stdout",
     "output_type": "stream",
     "text": [
      "-0.04\n"
     ]
    },
    {
     "data": {
      "image/png": "[encoded data removed]",
      "text/plain": [
       "<matplotlib.figure.Figure at 0x7f01862b1828>"
      ]
     },
     "metadata": {},
     "output_type": "display_data"
    },
    {
     "name": "stdout",
     "output_type": "stream",
     "text": [
      "-0.02\n"
     ]
    },
    {
     "data": {
      "image/png": "[encoded data removed]",
      "text/plain": [
       "<matplotlib.figure.Figure at 0x7f01860f8438>"
      ]
     },
     "metadata": {},
     "output_type": "display_data"
    },
    {
     "name": "stdout",
     "output_type": "stream",
     "text": [
      "-0.07\n"
     ]
    },
    {
     "data": {
      "image/png": "[encoded data removed]",
      "text/plain": [
       "<matplotlib.figure.Figure at 0x7f01863d0080>"
      ]
     },
     "metadata": {},
     "output_type": "display_data"
    },
    {
     "name": "stdout",
     "output_type": "stream",
     "text": [
      "-0.06\n"
     ]
    },
    {
     "data": {
      "image/png": "[encoded data removed]",
      "text/plain": [
       "<matplotlib.figure.Figure at 0x7f018632a470>"
      ]
     },
     "metadata": {},
     "output_type": "display_data"
    },
    {
     "name": "stdout",
     "output_type": "stream",
     "text": [
      "-0.07\n"
     ]
    },
    {
     "data": {
      "image/png": "[encoded data removed]",
      "text/plain": [
       "<matplotlib.figure.Figure at 0x7f018f399b38>"
      ]
     },
     "metadata": {},
     "output_type": "display_data"
    },
    {
     "name": "stdout",
     "output_type": "stream",
     "text": [
      "-0.06\n"
     ]
    },
    {
     "data": {
      "image/png": "[encoded data removed]",
      "text/plain": [
       "<matplotlib.figure.Figure at 0x7f01860439b0>"
      ]
     },
     "metadata": {},
     "output_type": "display_data"
    },
    {
     "name": "stdout",
     "output_type": "stream",
     "text": [
      "-0.08\n"
     ]
    },
    {
     "data": {
      "image/png": "[encoded data removed]",
      "text/plain": [
       "<matplotlib.figure.Figure at 0x7f018626d0f0>"
      ]
     },
     "metadata": {},
     "output_type": "display_data"
    },
    {
     "name": "stdout",
     "output_type": "stream",
     "text": [
      "-0.03\n"
     ]
    },
    {
     "data": {
      "image/png": "[encoded data removed]",
      "text/plain": [
       "<matplotlib.figure.Figure at 0x7f01884c6b38>"
      ]
     },
     "metadata": {},
     "output_type": "display_data"
    },
    {
     "name": "stdout",
     "output_type": "stream",
     "text": [
      "-0.09\n"
     ]
    },
    {
     "data": {
      "image/png": "[encoded data removed]",
      "text/plain": [
       "<matplotlib.figure.Figure at 0x7f01860e82e8>"
      ]
     },
     "metadata": {},
     "output_type": "display_data"
    },
    {
     "name": "stdout",
     "output_type": "stream",
     "text": [
      "-0.04\n"
     ]
    },
    {
     "data": {
      "image/png": "[encoded data removed]",
      "text/plain": [
       "<matplotlib.figure.Figure at 0x7f0186389f60>"
      ]
     },
     "metadata": {},
     "output_type": "display_data"
    },
    {
     "name": "stdout",
     "output_type": "stream",
     "text": [
      "-0.09\n"
     ]
    },
    {
     "data": {
      "image/png": "[encoded data removed]",
      "text/plain": [
       "<matplotlib.figure.Figure at 0x7f01861e0278>"
      ]
     },
     "metadata": {},
     "output_type": "display_data"
    },
    {
     "name": "stdout",
     "output_type": "stream",
     "text": [
      "-0.03\n"
     ]
    },
    {
     "data": {
      "image/png": "[encoded data removed]",
      "text/plain": [
       "<matplotlib.figure.Figure at 0x7f01860709e8>"
      ]
     },
     "metadata": {},
     "output_type": "display_data"
    },
    {
     "name": "stdout",
     "output_type": "stream",
     "text": [
      "-0.1\n"
     ]
    },
    {
     "data": {
      "image/png": "[encoded data removed]",
      "text/plain": [
       "<matplotlib.figure.Figure at 0x7f01863f8208>"
      ]
     },
     "metadata": {},
     "output_type": "display_data"
    },
    {
     "name": "stdout",
     "output_type": "stream",
     "text": [
      "-0.04\n"
     ]
    },
    {
     "data": {
      "image/png": "[encoded data removed]",
      "text/plain": [
       "<matplotlib.figure.Figure at 0x7f01863bac18>"
      ]
     },
     "metadata": {},
     "output_type": "display_data"
    },
    {
     "name": "stdout",
     "output_type": "stream",
     "text": [
      "-0.11\n"
     ]
    },
    {
     "data": {
      "image/png": "[encoded data removed]",
      "text/plain": [
       "<matplotlib.figure.Figure at 0x7f01863bc4e0>"
      ]
     },
     "metadata": {},
     "output_type": "display_data"
    },
    {
     "name": "stdout",
     "output_type": "stream",
     "text": [
      "-0.03\n"
     ]
    },
    {
     "data": {
      "image/png": "[encoded data removed]",
      "text/plain": [
       "<matplotlib.figure.Figure at 0x7f0185eb0d30>"
      ]
     },
     "metadata": {},
     "output_type": "display_data"
    },
    {
     "name": "stdout",
     "output_type": "stream",
     "text": [
      "-0.11\n"
     ]
    },
    {
     "data": {
      "image/png": "[encoded data removed]",
      "text/plain": [
       "<matplotlib.figure.Figure at 0x7f01862dc048>"
      ]
     },
     "metadata": {},
     "output_type": "display_data"
    },
    {
     "name": "stdout",
     "output_type": "stream",
     "text": [
      "-0.04\n"
     ]
    },
    {
     "data": {
      "image/png": "[encoded data removed]",
      "text/plain": [
       "<matplotlib.figure.Figure at 0x7f0188490c88>"
      ]
     },
     "metadata": {},
     "output_type": "display_data"
    },
    {
     "name": "stdout",
     "output_type": "stream",
     "text": [
      "-0.11\n"
     ]
    },
    {
     "data": {
      "image/png": "[encoded data removed]",
      "text/plain": [
       "<matplotlib.figure.Figure at 0x7f0186388d68>"
      ]
     },
     "metadata": {},
     "output_type": "display_data"
    },
    {
     "name": "stdout",
     "output_type": "stream",
     "text": [
      "-0.02\n"
     ]
    },
    {
     "data": {
      "image/png": "[encoded data removed]",
      "text/plain": [
       "<matplotlib.figure.Figure at 0x7f01861d45c0>"
      ]
     },
     "metadata": {},
     "output_type": "display_data"
    },
    {
     "name": "stdout",
     "output_type": "stream",
     "text": [
      "-0.11\n"
     ]
    },
    {
     "data": {
      "image/png": "[encoded data removed]",
      "text/plain": [
       "<matplotlib.figure.Figure at 0x7f018603c550>"
      ]
     },
     "metadata": {},
     "output_type": "display_data"
    },
    {
     "name": "stdout",
     "output_type": "stream",
     "text": [
      "-0.04\n"
     ]
    },
    {
     "data": {
      "image/png": "[encoded data removed]",
      "text/plain": [
       "<matplotlib.figure.Figure at 0x7f01862119b0>"
      ]
     },
     "metadata": {},
     "output_type": "display_data"
    },
    {
     "name": "stdout",
     "output_type": "stream",
     "text": [
      "-0.11\n"
     ]
    },
    {
     "data": {
      "image/png": "[encoded data removed]",
      "text/plain": [
       "<matplotlib.figure.Figure at 0x7f01884bf748>"
      ]
     },
     "metadata": {},
     "output_type": "display_data"
    },
    {
     "name": "stdout",
     "output_type": "stream",
     "text": [
      "-0.05\n"
     ]
    },
    {
     "data": {
      "image/png": "[encoded data removed]",
      "text/plain": [
       "<matplotlib.figure.Figure at 0x7f0186247fd0>"
      ]
     },
     "metadata": {},
     "output_type": "display_data"
    },
    {
     "name": "stdout",
     "output_type": "stream",
     "text": [
      "-0.11\n"
     ]
    },
    {
     "data": {
      "image/png": "[encoded data removed]",
      "text/plain": [
       "<matplotlib.figure.Figure at 0x7f018610ab38>"
      ]
     },
     "metadata": {},
     "output_type": "display_data"
    },
    {
     "name": "stdout",
     "output_type": "stream",
     "text": [
      "-0.04\n"
     ]
    },
    {
     "data": {
      "image/png": "[encoded data removed]",
      "text/plain": [
       "<matplotlib.figure.Figure at 0x7f0185ec2278>"
      ]
     },
     "metadata": {},
     "output_type": "display_data"
    },
    {
     "name": "stdout",
     "output_type": "stream",
     "text": [
      "-0.09\n"
     ]
    },
    {
     "data": {
      "image/png": "[encoded data removed]",
      "text/plain": [
       "<matplotlib.figure.Figure at 0x7f0186341eb8>"
      ]
     },
     "metadata": {},
     "output_type": "display_data"
    },
    {
     "name": "stdout",
     "output_type": "stream",
     "text": [
      "0.0\n"
     ]
    },
    {
     "data": {
      "image/png": "[encoded data removed]",
      "text/plain": [
       "<matplotlib.figure.Figure at 0x7f0185ff45f8>"
      ]
     },
     "metadata": {},
     "output_type": "display_data"
    },
    {
     "name": "stdout",
     "output_type": "stream",
     "text": [
      "-0.07\n"
     ]
    },
    {
     "data": {
      "image/png": "[encoded data removed]",
      "text/plain": [
       "<matplotlib.figure.Figure at 0x7f0186030d68>"
      ]
     },
     "metadata": {},
     "output_type": "display_data"
    },
    {
     "name": "stdout",
     "output_type": "stream",
     "text": [
      "0.01\n"
     ]
    },
    {
     "data": {
      "image/png": "[encoded data removed]",
      "text/plain": [
       "<matplotlib.figure.Figure at 0x7f0186408898>"
      ]
     },
     "metadata": {},
     "output_type": "display_data"
    },
    {
     "name": "stdout",
     "output_type": "stream",
     "text": [
      "-0.09\n"
     ]
    },
    {
     "data": {
      "image/png": "[encoded data removed]",
      "text/plain": [
       "<matplotlib.figure.Figure at 0x7f01862ca400>"
      ]
     },
     "metadata": {},
     "output_type": "display_data"
    },
    {
     "name": "stdout",
     "output_type": "stream",
     "text": [
      "-0.02\n"
     ]
    },
    {
     "data": {
      "image/png": "[encoded data removed]",
      "text/plain": [
       "<matplotlib.figure.Figure at 0x7f0188577390>"
      ]
     },
     "metadata": {},
     "output_type": "display_data"
    },
    {
     "name": "stdout",
     "output_type": "stream",
     "text": [
      "-0.08\n"
     ]
    },
    {
     "data": {
      "image/png": "[encoded data removed]",
      "text/plain": [
       "<matplotlib.figure.Figure at 0x7f0186377780>"
      ]
     },
     "metadata": {},
     "output_type": "display_data"
    },
    {
     "name": "stdout",
     "output_type": "stream",
     "text": [
      "0.03\n"
     ]
    },
    {
     "data": {
      "image/png": "[encoded data removed]",
      "text/plain": [
       "<matplotlib.figure.Figure at 0x7f018626dbe0>"
      ]
     },
     "metadata": {},
     "output_type": "display_data"
    },
    {
     "name": "stdout",
     "output_type": "stream",
     "text": [
      "-0.06\n"
     ]
    },
    {
     "data": {
      "image/png": "[encoded data removed]",
      "text/plain": [
       "<matplotlib.figure.Figure at 0x7f018603c630>"
      ]
     },
     "metadata": {},
     "output_type": "display_data"
    },
    {
     "name": "stdout",
     "output_type": "stream",
     "text": [
      "0.0\n"
     ]
    },
    {
     "data": {
      "image/png": "[encoded data removed]",
      "text/plain": [
       "<matplotlib.figure.Figure at 0x7f018634a2b0>"
      ]
     },
     "metadata": {},
     "output_type": "display_data"
    },
    {
     "name": "stdout",
     "output_type": "stream",
     "text": [
      "-0.09\n"
     ]
    },
    {
     "data": {
      "image/png": "[encoded data removed]",
      "text/plain": [
       "<matplotlib.figure.Figure at 0x7f0185f3e198>"
      ]
     },
     "metadata": {},
     "output_type": "display_data"
    },
    {
     "name": "stdout",
     "output_type": "stream",
     "text": [
      "-0.04\n"
     ]
    },
    {
     "data": {
      "image/png": "[encoded data removed]",
      "text/plain": [
       "<matplotlib.figure.Figure at 0x7f018622f5c0>"
      ]
     },
     "metadata": {},
     "output_type": "display_data"
    },
    {
     "name": "stdout",
     "output_type": "stream",
     "text": [
      "-0.09\n"
     ]
    },
    {
     "data": {
      "image/png": "[encoded data removed]",
      "text/plain": [
       "<matplotlib.figure.Figure at 0x7f0185f5abe0>"
      ]
     },
     "metadata": {},
     "output_type": "display_data"
    },
    {
     "name": "stdout",
     "output_type": "stream",
     "text": [
      "-0.02\n"
     ]
    },
    {
     "data": {
      "image/png": "[encoded data removed]",
      "text/plain": [
       "<matplotlib.figure.Figure at 0x7f018604ada0>"
      ]
     },
     "metadata": {},
     "output_type": "display_data"
    },
    {
     "name": "stdout",
     "output_type": "stream",
     "text": [
      "-0.08\n"
     ]
    },
    {
     "data": {
      "image/png": "[encoded data removed]",
      "text/plain": [
       "<matplotlib.figure.Figure at 0x7f01861aee10>"
      ]
     },
     "metadata": {},
     "output_type": "display_data"
    },
    {
     "name": "stdout",
     "output_type": "stream",
     "text": [
      "0.07\n"
     ]
    },
    {
     "data": {
      "image/png": "[encoded data removed]",
      "text/plain": [
       "<matplotlib.figure.Figure at 0x7f0186382fd0>"
      ]
     },
     "metadata": {},
     "output_type": "display_data"
    },
    {
     "name": "stdout",
     "output_type": "stream",
     "text": [
      "0.01\n"
     ]
    },
    {
     "data": {
      "image/png": "[encoded data removed]",
      "text/plain": [
       "<matplotlib.figure.Figure at 0x7f0186344a58>"
      ]
     },
     "metadata": {},
     "output_type": "display_data"
    },
    {
     "name": "stdout",
     "output_type": "stream",
     "text": [
      "0.1\n"
     ]
    },
    {
     "data": {
      "image/png": "[encoded data removed]",
      "text/plain": [
       "<matplotlib.figure.Figure at 0x7f01862f5978>"
      ]
     },
     "metadata": {},
     "output_type": "display_data"
    },
    {
     "name": "stdout",
     "output_type": "stream",
     "text": [
      "0.04\n"
     ]
    },
    {
     "data": {
      "image/png": "[encoded data removed]",
      "text/plain": [
       "<matplotlib.figure.Figure at 0x7f0185ed4b00>"
      ]
     },
     "metadata": {},
     "output_type": "display_data"
    },
    {
     "name": "stdout",
     "output_type": "stream",
     "text": [
      "0.12\n"
     ]
    },
    {
     "data": {
      "image/png": "[encoded data removed]",
      "text/plain": [
       "<matplotlib.figure.Figure at 0x7f0185ec0390>"
      ]
     },
     "metadata": {},
     "output_type": "display_data"
    },
    {
     "name": "stdout",
     "output_type": "stream",
     "text": [
      "-0.01\n"
     ]
    },
    {
     "data": {
      "image/png": "[encoded data removed]",
      "text/plain": [
       "<matplotlib.figure.Figure at 0x7f018625b7b8>"
      ]
     },
     "metadata": {},
     "output_type": "display_data"
    },
    {
     "name": "stdout",
     "output_type": "stream",
     "text": [
      "0.12\n"
     ]
    },
    {
     "data": {
      "image/png": "[encoded data removed]",
      "text/plain": [
       "<matplotlib.figure.Figure at 0x7f018621e8d0>"
      ]
     },
     "metadata": {},
     "output_type": "display_data"
    },
    {
     "name": "stdout",
     "output_type": "stream",
     "text": [
      "0.07\n"
     ]
    },
    {
     "data": {
      "image/png": "[encoded data removed]",
      "text/plain": [
       "<matplotlib.figure.Figure at 0x7f01861cec50>"
      ]
     },
     "metadata": {},
     "output_type": "display_data"
    },
    {
     "name": "stdout",
     "output_type": "stream",
     "text": [
      "0.15\n"
     ]
    },
    {
     "data": {
      "image/png": "[encoded data removed]",
      "text/plain": [
       "<matplotlib.figure.Figure at 0x7f0185eaed68>"
      ]
     },
     "metadata": {},
     "output_type": "display_data"
    },
    {
     "name": "stdout",
     "output_type": "stream",
     "text": [
      "0.0\n"
     ]
    },
    {
     "data": {
      "image/png": "[encoded data removed]",
      "text/plain": [
       "<matplotlib.figure.Figure at 0x7f01861c50f0>"
      ]
     },
     "metadata": {},
     "output_type": "display_data"
    },
    {
     "name": "stdout",
     "output_type": "stream",
     "text": [
      "0.07\n"
     ]
    },
    {
     "data": {
      "image/png": "[encoded data removed]",
      "text/plain": [
       "<matplotlib.figure.Figure at 0x7f0185f052e8>"
      ]
     },
     "metadata": {},
     "output_type": "display_data"
    },
    {
     "name": "stdout",
     "output_type": "stream",
     "text": [
      "-0.02\n"
     ]
    },
    {
     "data": {
      "image/png": "[encoded data removed]",
      "text/plain": [
       "<matplotlib.figure.Figure at 0x7f0186260908>"
      ]
     },
     "metadata": {},
     "output_type": "display_data"
    },
    {
     "name": "stdout",
     "output_type": "stream",
     "text": [
      "0.04\n"
     ]
    },
    {
     "data": {
      "image/png": "[encoded data removed]",
      "text/plain": [
       "<matplotlib.figure.Figure at 0x7f018638b400>"
      ]
     },
     "metadata": {},
     "output_type": "display_data"
    },
    {
     "name": "stdout",
     "output_type": "stream",
     "text": [
      "-0.04\n"
     ]
    },
    {
     "data": {
      "image/png": "[encoded data removed]",
      "text/plain": [
       "<matplotlib.figure.Figure at 0x7f0186222d30>"
      ]
     },
     "metadata": {},
     "output_type": "display_data"
    },
    {
     "name": "stdout",
     "output_type": "stream",
     "text": [
      "0.11\n"
     ]
    },
    {
     "data": {
      "image/png": "[encoded data removed]",
      "text/plain": [
       "<matplotlib.figure.Figure at 0x7f0186344c88>"
      ]
     },
     "metadata": {},
     "output_type": "display_data"
    },
    {
     "name": "stdout",
     "output_type": "stream",
     "text": [
      "0.05\n"
     ]
    },
    {
     "data": {
      "image/png": "[encoded data removed]",
      "text/plain": [
       "<matplotlib.figure.Figure at 0x7f01861c6dd8>"
      ]
     },
     "metadata": {},
     "output_type": "display_data"
    },
    {
     "name": "stdout",
     "output_type": "stream",
     "text": [
      "0.16\n"
     ]
    },
    {
     "data": {
      "image/png": "[encoded data removed]",
      "text/plain": [
       "<matplotlib.figure.Figure at 0x7f0185f488d0>"
      ]
     },
     "metadata": {},
     "output_type": "display_data"
    },
    {
     "name": "stdout",
     "output_type": "stream",
     "text": [
      "0.09\n"
     ]
    },
    {
     "data": {
      "image/png": "[encoded data removed]",
      "text/plain": [
       "<matplotlib.figure.Figure at 0x7f01862753c8>"
      ]
     },
     "metadata": {},
     "output_type": "display_data"
    },
    {
     "name": "stdout",
     "output_type": "stream",
     "text": [
      "0.17\n"
     ]
    },
    {
     "data": {
      "image/png": "[encoded data removed]",
      "text/plain": [
       "<matplotlib.figure.Figure at 0x7f01860856a0>"
      ]
     },
     "metadata": {},
     "output_type": "display_data"
    },
    {
     "name": "stdout",
     "output_type": "stream",
     "text": [
      "0.02\n"
     ]
    },
    {
     "data": {
      "image/png": "[encoded data removed]",
      "text/plain": [
       "<matplotlib.figure.Figure at 0x7f0185fe1518>"
      ]
     },
     "metadata": {},
     "output_type": "display_data"
    },
    {
     "name": "stdout",
     "output_type": "stream",
     "text": [
      "0.09\n"
     ]
    },
    {
     "data": {
      "image/png": "[encoded data removed]",
      "text/plain": [
       "<matplotlib.figure.Figure at 0x7f01862750b8>"
      ]
     },
     "metadata": {},
     "output_type": "display_data"
    },
    {
     "name": "stdout",
     "output_type": "stream",
     "text": [
      "0.02\n"
     ]
    },
    {
     "data": {
      "image/png": "[encoded data removed]",
      "text/plain": [
       "<matplotlib.figure.Figure at 0x7f01884c0550>"
      ]
     },
     "metadata": {},
     "output_type": "display_data"
    }
   ],
   "source": [
    "turn = -1\n",
    "while abs(game.evaluate(1, turn)) != 10:\n",
    "    print(game.evaluate(1, turn))\n",
    "    game.plot(True, turn)\n",
    "    best_move = game.get_greedy_move(turn)\n",
    "    game.move_to(turn, best_move[0], best_move[1])\n",
    "    turn = -turn\n",
    "    time.sleep(0.1)"
   ]
  },
  {
   "cell_type": "code",
   "execution_count": null,
   "metadata": {
    "collapsed": true
   },
   "outputs": [],
   "source": []
  }
 ],
 "metadata": {
  "kernelspec": {
   "display_name": "Python 3",
   "language": "python",
   "name": "python3"
  },
  "language_info": {
   "codemirror_mode": {
    "name": "ipython",
    "version": 3
   },
   "file_extension": ".py",
   "mimetype": "text/x-python",
   "name": "python",
   "nbconvert_exporter": "python",
   "pygments_lexer": "ipython3",
   "version": "3.5.4"
  }
 },
 "nbformat": 4,
 "nbformat_minor": 2
}
