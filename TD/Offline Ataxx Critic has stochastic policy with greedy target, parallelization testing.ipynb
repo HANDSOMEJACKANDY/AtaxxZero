{
 "cells": [
  {
   "cell_type": "code",
   "execution_count": 72,
   "metadata": {},
   "outputs": [],
   "source": [
    "import os\n",
    "import tensorflow as tf\n",
    "import itertools\n",
    "import numpy as np\n",
    "from multiprocessing import Pool, Value, Array\n",
    "from numpy import unravel_index\n",
    "from random import choice, random, sample\n",
    "from operator import itemgetter\n",
    "np.random.seed(1337)  # for reproducibility\n",
    "from keras.models import Sequential, Model, load_model\n",
    "from keras.layers import Input, BatchNormalization, Reshape\n",
    "from keras.layers import Dense, Dropout, Activation, Flatten, LocallyConnected2D\n",
    "from keras.layers import Conv2D, MaxPooling2D, AlphaDropout, ConvLSTM2D, AvgPool2D, Conv2DTranspose, UpSampling2D\n",
    "from keras.layers import add, concatenate, multiply\n",
    "from keras.initializers import VarianceScaling, RandomUniform\n",
    "from keras.optimizers import Adam, SGD, rmsprop\n",
    "from keras.preprocessing.image import ImageDataGenerator\n",
    "from keras.utils import np_utils, multi_gpu_model\n",
    "from keras.utils.vis_utils import plot_model\n",
    "from keras.engine.topology import Container\n",
    "from keras.optimizers import SGD, Adadelta, Adagrad\n",
    "from keras.regularizers import l1, l2\n",
    "import keras.backend as K\n",
    "K.set_image_dim_ordering('th')\n",
    "\n",
    "from keras.callbacks import Callback, ReduceLROnPlateau, LearningRateScheduler, TensorBoard, ModelCheckpoint\n",
    "import matplotlib.pyplot as plt\n",
    "import time\n",
    "%matplotlib notebook"
   ]
  },
  {
   "cell_type": "code",
   "execution_count": 2,
   "metadata": {
    "collapsed": true
   },
   "outputs": [],
   "source": [
    "class Ataxx:\n",
    "    def __init__(self, board=None):\n",
    "        if board is None:                  # if there is no initialization given\n",
    "            self.data = np.zeros((7, 7))   # then generate a board with starting init, and black(-1) takes first turn\n",
    "            self.data[0, 0] = -1           \n",
    "            self.data[6, 6] = -1\n",
    "            self.data[0, 6] = 1\n",
    "            self.data[6, 0] = 1\n",
    "        else:\n",
    "            self.data = board\n",
    "            \n",
    "    def get_feature_map(self, turn):\n",
    "        friendly_map = (self.data == turn).astype(float)\n",
    "        opponent_map = (self.data == -turn).astype(float)\n",
    "        return np.concatenate((friendly_map.reshape((1, 7, 7)), opponent_map.reshape((1, 7, 7))), axis=0)\n",
    "    \n",
    "    def get_mask(self, turn, init=0.001):   # zero(init) out all illegal move positions\n",
    "        moves = self.get_moves(turn)\n",
    "        moves = list(zip(*self.get_moves(turn)))\n",
    "        if len(moves) == 0:\n",
    "            return np.zeros((2, 7, 7))\n",
    "        else:\n",
    "            start_pos = tuple(zip(*moves[0]))\n",
    "            end_pos = tuple(zip(*moves[1]))\n",
    "            start_mask = np.ones((7, 7)) * init\n",
    "            start_mask[start_pos] = 1\n",
    "            end_mask = np.ones((7, 7)) * init\n",
    "            end_mask[end_pos] = 1\n",
    "            return np.concatenate((start_mask.reshape((1, 7, 7)), end_mask.reshape((1, 7, 7))), axis=0)\n",
    "    \n",
    "    def plot(self, is_next_move=False, turn=None):                        # plot the board\n",
    "        image = self.data.copy()\n",
    "        if is_next_move:\n",
    "            if turn not in [-1, 1]:\n",
    "                raise ValueError(\"Turn must be -1 or 1, or Must input a turn for next moves\")\n",
    "            else:\n",
    "                next_moves = self.get_moves(turn)\n",
    "                if len(next_moves) == 0:\n",
    "                    raise ValueError(\"Game is over already\")\n",
    "                next_pos = list(zip(*next_moves))[1]\n",
    "                for pos in next_pos:\n",
    "                    image[pos] = turn / 2\n",
    "        plt.imshow(image, cmap='gray')\n",
    "        plt.xticks(range(7), range(7))\n",
    "        plt.yticks(range(7), range(7))\n",
    "        plt.show()\n",
    "                \n",
    "    def is_valid(self, turn, pos):\n",
    "        if turn not in [-1, 1]:\n",
    "            raise ValueError(\"Turn must be -1 or 1\") \n",
    "        elif self.data[pos] != 0:\n",
    "            return False\n",
    "        else:\n",
    "            for dr in range(-2, 3):\n",
    "                for dc in range(-2, 3):\n",
    "                    pos_tmp = (pos[0]+dr, pos[1]+dc)\n",
    "                    if pos_tmp[0] >= 0 and pos_tmp[1] >= 0 and pos_tmp[0] < 7 and pos_tmp[1] < 7:\n",
    "                        if self.data[pos_tmp] == turn:  # convert any piece of the opponent to 'turn'\n",
    "                            return True\n",
    "            return False\n",
    "        \n",
    "    def get_moves(self, turn):\n",
    "        if turn not in [-1, 1]:\n",
    "            raise ValueError(\"Turn must be -1 or 1\")\n",
    "        else:\n",
    "            next_moves = []\n",
    "            for r in range(7):\n",
    "                for c in range(7):\n",
    "                    has_duplicate_move = False      # move within the radius of one of another friendly piece is called\n",
    "                    if self.is_valid(turn, (r, c)): # duplicate move\n",
    "                        for dr in range(-2, 3):\n",
    "                            for dc in range(-2, 3):\n",
    "                                if abs(dr) <= 1 and abs(dc) <=1 and has_duplicate_move: \n",
    "                                    continue        # no need to record same move again\n",
    "                                else:\n",
    "                                    pos_tmp = (r+dr, c+dc)\n",
    "                                    if pos_tmp[0] >= 0 and pos_tmp[1] >= 0 and pos_tmp[0] < 7 and pos_tmp[1] < 7:\n",
    "                                        if self.data[pos_tmp] == turn:\n",
    "                                            next_moves.append((pos_tmp, (r, c)))\n",
    "            return next_moves\n",
    "    \n",
    "    def get_greedy_move(self, turn):\n",
    "        moves = self.get_moves(turn)\n",
    "        if len(moves) == 0:\n",
    "            raise ValueError('No Possible Moves')\n",
    "        store_data = self.data.copy()\n",
    "        best_score = -1000000\n",
    "        for move in moves:\n",
    "            self.data = store_data.copy()\n",
    "            self.move_to(turn, move[0], move[1])\n",
    "            score = self.evaluate(turn, -turn)\n",
    "            if score > best_score:\n",
    "                best_move = move\n",
    "                best_score = score\n",
    "        self.data = store_data\n",
    "        return best_move\n",
    "        \n",
    "    def move_to(self, turn, pos0, pos1):\n",
    "        if turn not in [-1, 1]:\n",
    "            raise ValueError(\"Turn must be -1 or 1\") \n",
    "        elif not self.is_valid(turn, pos1):\n",
    "            raise ValueError(\"This move: \" + str((pos0, pos1)) + \" of turn: \" + str(turn) + \" is invalid\") \n",
    "        elif self.data[pos0] != turn:\n",
    "            raise ValueError(\"The starting position is not your piece\")\n",
    "        else:\n",
    "            dis = np.array(pos1) - np.array(pos0)    # check if is jump move or duplicate move\n",
    "            if abs(dis[0]) > 1 or abs(dis[1]) > 1:   # jump move\n",
    "                self.data[pos0] = 0\n",
    "                self.data[pos1] = turn\n",
    "            else:                                    # duplicate move\n",
    "                self.data[pos1] = turn\n",
    "            for dr in range(-1, 2):                  # infection mode!!!!\n",
    "                for dc in range(-1, 2):\n",
    "                    pos_tmp = (pos1[0]+dr, pos1[1]+dc)\n",
    "                    if pos_tmp[0] >= 0 and pos_tmp[1] >= 0 and pos_tmp[0] < 7 and pos_tmp[1] < 7:\n",
    "                        if self.data[pos_tmp] == -turn:  # convert any piece of the opponent to 'turn'\n",
    "                            self.data[pos_tmp] = turn\n",
    "                            \n",
    "    def simu_move_to(self, turn, pos0, pos1):\n",
    "        if turn not in [-1, 1]:\n",
    "            raise ValueError(\"Turn must be -1 or 1\") \n",
    "        elif not self.is_valid(turn, pos1):\n",
    "            raise ValueError(\"This move: \" + str((pos0, pos1)) + \" of turn: \" + str(turn) + \" is invalid\") \n",
    "        elif self.data[pos0] != turn:\n",
    "            raise ValueError(\"You are not moving your piece\")\n",
    "        else:\n",
    "            tmp_data = self.data.copy()\n",
    "            dis = np.array(pos1) - np.array(pos0)    # check if is jump move or duplicate move\n",
    "            if abs(dis[0]) > 1 or abs(dis[1]) > 1:   # jump move\n",
    "                tmp_data[pos0] = 0\n",
    "                tmp_data[pos1] = turn\n",
    "            else:                                    # duplicate move\n",
    "                tmp_data[pos1] = turn\n",
    "            for dr in range(-1, 2):                  # infection mode!!!!\n",
    "                for dc in range(-1, 2):\n",
    "                    pos_tmp = (pos1[0]+dr, pos1[1]+dc)\n",
    "                    if pos_tmp[0] >= 0 and pos_tmp[1] >= 0 and pos_tmp[0] < 7 and pos_tmp[1] < 7:\n",
    "                        if tmp_data[pos_tmp] == -turn:  # convert any piece of the opponent to 'turn'\n",
    "                            tmp_data[pos_tmp] = turn\n",
    "            return tmp_data\n",
    "    \n",
    "    def evaluate(self, turn, this_turn, max_score=100, min_score=0.1):\n",
    "        if turn not in [-1, 1]:\n",
    "            raise ValueError(\"Turn must be -1 or 1\") \n",
    "        else:\n",
    "            turn_no = 0\n",
    "            op_no = 0\n",
    "            for r in range(7):\n",
    "                for c in range(7):\n",
    "                    if self.data[r, c] == turn:\n",
    "                        turn_no += 1\n",
    "                    elif self.data[r, c] == -turn:\n",
    "                        op_no += 1\n",
    "            if turn_no + op_no == 49:\n",
    "                if turn_no > op_no:\n",
    "                    return max_score\n",
    "                else:\n",
    "                    return -max_score\n",
    "            else:\n",
    "                if len(self.get_moves(this_turn)) == 0:# if one of them can no longer move, count and end\n",
    "                    if turn_no > op_no:\n",
    "                        return max_score\n",
    "                    else:\n",
    "                        return -max_score\n",
    "                else:\n",
    "                    value = turn_no - op_no\n",
    "            return value * min_score"
   ]
  },
  {
   "cell_type": "code",
   "execution_count": 3,
   "metadata": {
    "collapsed": true
   },
   "outputs": [],
   "source": [
    "class Relay():\n",
    "    def __init__(self, max_size):\n",
    "        self.relay = []\n",
    "        self.max_size = max_size\n",
    "\n",
    "    def reset(self):\n",
    "        self.relay = []\n",
    "        \n",
    "    def add_sample(self, new_sample):\n",
    "        if len(self.relay) >= self.max_size:\n",
    "            self.relay.pop(0)\n",
    "        self.relay.append(new_sample)\n",
    "    \n",
    "    def get_batch(self, batch_size):\n",
    "        if len(self.relay) < batch_size:\n",
    "            print('not enough sample')\n",
    "            raise ValueError('relay not large enough')\n",
    "        else:\n",
    "            batch = sample(self.relay, batch_size)\n",
    "            # generate random array to decide the orientation of the data augmentation\n",
    "            is_flip = np.random.random(batch_size) < 0.5\n",
    "            rot_times = (np.random.random(batch_size) * 4).astype(int)\n",
    "            \n",
    "            cur_state = np.array([self.augmentation(item[0], is_flip[i], rot_times[i]) \n",
    "                                  for i, item in enumerate(batch)]).reshape(-1, 2, 7, 7)\n",
    "            cur_mask = np.array([self.augmentation(item[1], is_flip[i], rot_times[i])\n",
    "                                 for i, item in enumerate(batch)]).reshape(-1, 2, 7, 7)\n",
    "            cur_action = np.array([self.augmentation(item[2], is_flip[i], rot_times[i])\n",
    "                                   for i, item in enumerate(batch)]).reshape(-1, 2, 7, 7)\n",
    "            try:\n",
    "                cur_reward = np.array([item[3] for item in batch]).reshape(-1)\n",
    "                new_state = np.array([self.augmentation(item[4], is_flip[i], rot_times[i])\n",
    "                                      for i, item in enumerate(batch)]).reshape(-1, 2, 7, 7)\n",
    "                new_mask = np.array([self.augmentation(item[5], is_flip[i], rot_times[i])\n",
    "                                      for i, item in enumerate(batch)]).reshape(-1, 2, 7, 7)\n",
    "            except:\n",
    "                cur_reward = None\n",
    "                new_state = None\n",
    "                new_mask = None\n",
    "            return cur_state, cur_mask, cur_action, cur_reward, new_state, new_mask\n",
    "    \n",
    "    def augmentation(self, data, is_flip, rot_time): # data must have three dimentions and depth first\n",
    "        if data is None:\n",
    "            return None\n",
    "        else:\n",
    "            if is_flip:\n",
    "                data = np.fliplr(data)\n",
    "            data = np.rot90(data, k=rot_time, axes=(1, 2))\n",
    "            return data\n",
    "    \n",
    "    def size(self):\n",
    "        return len(self.relay)"
   ]
  },
  {
   "cell_type": "markdown",
   "metadata": {},
   "source": [
    "# BatchNormalization helps in hard-to-tune lr situations"
   ]
  },
  {
   "cell_type": "code",
   "execution_count": 322,
   "metadata": {
    "collapsed": true
   },
   "outputs": [],
   "source": [
    "def neg_log_loss(y_true, y_pred):\n",
    "    y_true = K.reshape(y_true, (-1, 1, 98))\n",
    "    y_pred = K.reshape(y_pred, (-1, 1, 98))\n",
    "    y_log = K.log(y_pred)\n",
    "    y_concate = K.concatenate([y_true, y_log], axis=1)\n",
    "    y_prod = K.prod(y_concate, axis=1)\n",
    "    return -K.sum(y_prod)\n",
    "\n",
    "\n",
    "class CriticNetwork(object):\n",
    "    def __init__(self, TAU=0.001, LEARNING_RATE=0):\n",
    "        self.TAU = TAU\n",
    "        self.LEARNING_RATE = LEARNING_RATE\n",
    "\n",
    "        #Now create the model\n",
    "        #with tf.device(\"/cpu:0\"):\n",
    "        self.model = self.create_critic_network() \n",
    "        self.target_model = self.create_critic_network() \n",
    "        self.target_model.set_weights(self.model.get_weights())\n",
    "        \n",
    "    def target_train(self):\n",
    "        critic_weights = self.model.get_weights()\n",
    "        critic_target_weights = self.target_model.get_weights()\n",
    "        for i in range(len(critic_weights)):\n",
    "            critic_target_weights[i] = self.TAU * critic_weights[i] + (1 - self.TAU)* critic_target_weights[i]\n",
    "        self.target_model.set_weights(critic_target_weights)\n",
    "\n",
    "    def create_critic_network(self):\n",
    "        board_input = Input(shape=(2, 7, 7))\n",
    "        x = Conv2D(32, (1, 1), activation='relu', padding='same')(board_input)\n",
    "        x = BatchNormalization(axis=1)(x)\n",
    "        board_feature = MaxPooling2D((2, 2))(x)\n",
    "\n",
    "        action_input = Input(shape=(2, 7, 7))\n",
    "        x = Conv2D(32, (1, 1), activation='relu', padding='same')(action_input)\n",
    "        x = BatchNormalization(axis=1)(x)\n",
    "        action_feature = MaxPooling2D((2, 2))(x)\n",
    "        \n",
    "        overall_feature = concatenate([board_input, action_input], axis=1)\n",
    "        x = Conv2D(64, (3, 3), activation='relu', padding='same')(overall_feature)\n",
    "        x = BatchNormalization(axis=1)(x)\n",
    "        x = MaxPooling2D((2, 2))(x)\n",
    "        \n",
    "        x = Conv2D(128, (3, 3), activation='relu', padding='same')(x)\n",
    "        x = BatchNormalization(axis=1)(x)\n",
    "        x = Conv2D(128, (3, 3), activation='relu', padding='same')(x)\n",
    "        x = BatchNormalization(axis=1)(x)\n",
    "        x = Flatten()(x)\n",
    "        \n",
    "        x = Dense(256, activation='relu')(x)\n",
    "        x = BatchNormalization(axis=1)(x)\n",
    "        x = Dense(1)(x)\n",
    "        # construct model\n",
    "        model = Model(inputs=[board_input, action_input], outputs=[x])\n",
    "        print(\"actor\")\n",
    "        print(model.summary())\n",
    "        # sgd = SGD(lr=self.LEARNING_RATE, decay=1e-6, momentum=0.9, nesterov=True)\n",
    "        model.compile(loss='mse', optimizer=Adam(lr=self.LEARNING_RATE), metrics=['mse'])\n",
    "        return model\n",
    "    \n",
    "class ActorNetwork(object):\n",
    "    def __init__(self, TAU=0.001, LEARNING_RATE=0, pretrain_epoch=2, is_train=True, \\\n",
    "                 file_name='target_actor_model.h5'):\n",
    "        if is_train:\n",
    "            self.TAU = TAU\n",
    "            self.LEARNING_RATE = LEARNING_RATE\n",
    "            \n",
    "            #Now create the model\n",
    "            self.model= self.create_actor_network()   \n",
    "            self.target_model= self.create_actor_network() \n",
    "            self.target_model.set_weights(self.model.get_weights())\n",
    "            if not pretrain_epoch == 0:\n",
    "                try:\n",
    "                    self.model.load_weights('pretrained_actor_model.h5')\n",
    "                    print(\"succesfully loaded the pretrained model\")\n",
    "                except:\n",
    "                    print(\"start to pre train with greedy\")\n",
    "                    self.learn_rules(batch_size=512, epochs=pretrain_epoch)\n",
    "                    self.model.save_weights('pretrained_actor_model.h5')\n",
    "        else:\n",
    "            try:\n",
    "                self.target_model = load_model(file_name)\n",
    "                print(\"successfully loaded trained target model\")\n",
    "            except:\n",
    "                raise ValueError('Can not load target actor model')\n",
    "    \n",
    "    def save(self):\n",
    "        self.target_model.save('target_actor_model.h5')\n",
    "\n",
    "    def update_target(self):\n",
    "        actor_weights = self.model.get_weights()\n",
    "        self.target_model.set_weights(actor_weights)\n",
    "\n",
    "    def create_actor_network(self):\n",
    "        board_input = Input(shape=(2, 7, 7))\n",
    "        mask_input = Input(shape=(2, 7, 7))\n",
    "        x = Conv2D(64, (3, 3), activation='relu', padding='same')(board_input)\n",
    "        x = BatchNormalization(axis=1)(x)\n",
    "        x = Conv2D(64, (3, 3), activation='relu', padding='same')(x)\n",
    "        x = BatchNormalization(axis=1)(x)\n",
    "        x = MaxPooling2D((2, 2))(x)\n",
    "        \n",
    "        x = Conv2D(128, (3, 3), activation='relu', padding='same')(x)\n",
    "        x = BatchNormalization(axis=1)(x)\n",
    "        x = Conv2D(128, (3, 3), activation='relu', padding='same')(x)\n",
    "        x = BatchNormalization(axis=1)(x)\n",
    "        x = Flatten()(x)\n",
    "        \n",
    "        x = Dense(98, activation='softplus')(x)\n",
    "        x = Reshape((2, 7, 7))(x) \n",
    "        x = multiply(inputs=[x, mask_input])     # this mask will mask any illegal move\n",
    "        x = Reshape((2, 49))(x)\n",
    "        x = Activation('softmax')(x)\n",
    "        x = Reshape((2, 7, 7))(x) \n",
    "        model = Model(input=[board_input, mask_input],output=[x])\n",
    "        print(model.summary())\n",
    "        # sgd = SGD(lr=self.LEARNING_RATE, decay=1e-6, momentum=0.9, nesterov=True, clipnorm=1.)\n",
    "        model.compile(loss=neg_log_loss, optimizer=Adam(lr=self.LEARNING_RATE))\n",
    "        return model\n",
    "    \n",
    "    def get_action_prob(self, feature_map, action_mask, is_target=False):\n",
    "        if not is_target:\n",
    "            return self.model.predict([np.reshape(feature_map, (1, 2, 7, 7)), \n",
    "                                      np.reshape(action_mask, (1, 2, 7, 7))])[0]\n",
    "        else:\n",
    "            return self.target_model.predict([np.reshape(feature_map, (1, 2, 7, 7)), \n",
    "                                      np.reshape(action_mask, (1, 2, 7, 7))])[0]\n",
    "    \n",
    "    def get_stochastic_action(self, feature_map, action_mask, is_target=False):\n",
    "        # get action_prob\n",
    "        action_prob = self.get_action_prob(feature_map, action_mask, is_target)\n",
    "        # get valid_moves list\n",
    "        game = Ataxx(board=feature_map[0] - feature_map[1])\n",
    "        valid_moves = game.get_moves(1)\n",
    "        index_list = range(len(valid_moves))\n",
    "        # store pred prob for each valid moves and sort it\n",
    "        valid_moves_prob = np.zeros(len(valid_moves))\n",
    "        for i, move in enumerate(valid_moves):\n",
    "            valid_moves_prob[i] = action_prob[0][move[0]] + action_prob[1][move[1]]\n",
    "        # noramlize probablity\n",
    "        valid_moves_prob = valid_moves_prob / valid_moves_prob.sum()\n",
    "        # sample a policy according to predicted prob\n",
    "        move_index = np.random.choice(range(len(valid_moves)), p=valid_moves_prob)\n",
    "        move = valid_moves[move_index]\n",
    "        # generate 7*7 pos map\n",
    "        start_pos = np.zeros((7, 7))\n",
    "        start_pos[move[0]] = 1\n",
    "        end_pos = np.zeros((7, 7))\n",
    "        end_pos[move[1]] = 1\n",
    "        return move[0], move[1], np.concatenate((start_pos.reshape(1, 7, 7), end_pos.reshape(1, 7, 7)), axis=0)\n",
    "    \n",
    "    def get_best_action(self, feature_map, action_mask, is_target=False, verbose=True):\n",
    "        # get action_prob\n",
    "        action_prob = self.get_action_prob(feature_map, action_mask, is_target)\n",
    "        # get valid_moves list\n",
    "        game = Ataxx(board=feature_map[0] - feature_map[1])\n",
    "        valid_moves = game.get_moves(1)\n",
    "        max_prob_sum = -1\n",
    "        pos0 = (0, 0)\n",
    "        pos1 = (0, 0)\n",
    "        for move in valid_moves:\n",
    "            tmp_prob_sum = action_prob[0][move[0]] + action_prob[1][move[1]]\n",
    "            if tmp_prob_sum > max_prob_sum:\n",
    "                max_prob_sum = tmp_prob_sum\n",
    "                pos0 = move[0]\n",
    "                pos1 = move[1]\n",
    "        \n",
    "        # output the max_prob\n",
    "        if verbose:\n",
    "            r = np.random.random()\n",
    "            if r < 0.01:\n",
    "                print(\"confidence of this best move is: \", max_prob_sum)\n",
    "            \n",
    "        # generate 7*7 pos map\n",
    "        start_pos = np.zeros((7, 7))\n",
    "        start_pos[pos0] = 1\n",
    "        end_pos = np.zeros((7, 7))\n",
    "        end_pos[pos1] = 1\n",
    "        \n",
    "        return pos0, pos1, np.concatenate((start_pos.reshape(1, 7, 7), end_pos.reshape(1, 7, 7)), axis=0)\n",
    "\n",
    "    def data_generator(self, batch_size, max_size=10000):\n",
    "        relay = Relay(max_size)\n",
    "        game = Ataxx()\n",
    "        turn = -1\n",
    "        i = 0\n",
    "        while True: \n",
    "            i += 1\n",
    "            new_sample = []\n",
    "            new_sample.append(game.get_feature_map(turn))\n",
    "            new_sample.append(game.get_mask(turn))\n",
    "            \n",
    "            try:\n",
    "                greedy_move = game.get_greedy_move(turn)\n",
    "            except:\n",
    "                game = Ataxx()\n",
    "                turn = -1\n",
    "                continue\n",
    "            start_prob_map = np.zeros((7, 7))\n",
    "            start_prob_map[greedy_move[0]] = 1\n",
    "            end_prob_map = np.zeros((7, 7))\n",
    "            end_prob_map[greedy_move[1]] = 1\n",
    "                \n",
    "            new_sample.append(np.concatenate((start_prob_map.reshape(1, 7, 7), end_prob_map.reshape(1, 7, 7)), axis=0))\n",
    "            new_sample.extend([None, None, None])\n",
    "            relay.add_sample(new_sample)\n",
    "            \n",
    "            move = choice(game.get_moves(turn))\n",
    "            game.move_to(turn, move[0], move[1])\n",
    "            turn = -turn\n",
    "            \n",
    "            if not i % 16 and relay.size() > batch_size*4:\n",
    "                state, mask, action, _, _, _ = relay.get_batch(batch_size)\n",
    "                yield [state, mask], action  \n",
    "                \n",
    "    def learn_rules(self, batch_size, epochs=10):\n",
    "        tmp_game = Ataxx()\n",
    "        print(\"trained action prob map predicted by initial model for a starting game\")\n",
    "        print(self.get_action_prob(tmp_game.get_feature_map(-1), tmp_game.get_mask(-1), is_target=True))\n",
    "        sgd = SGD(lr=0.1, decay=1e-6, momentum=0.9, nesterov=True)\n",
    "        gpu_model = multi_gpu_model(self.model, gpus=4)\n",
    "        gpu_model.compile(loss='categorical_crossentropy', optimizer=sgd, metrics=['acc'])\n",
    "        gpu_model.fit_generator(self.data_generator(batch_size), steps_per_epoch=256, epochs=epochs, \n",
    "                                    verbose=1,\n",
    "                                    validation_data=self.data_generator(32), \n",
    "                                    validation_steps=1,\n",
    "                                    workers=16,\n",
    "                                    use_multiprocessing=True,\n",
    "                                    callbacks=[ReduceLROnPlateau(cooldown=5, min_lr=0.01, patience=2)])\n",
    "        \n",
    "        # set target network and learning network to be the same\n",
    "        self.update_target()\n",
    "        \n",
    "        tmp_game = Ataxx()\n",
    "        print(\"trained action prob map predicted by initial model for a starting game\")\n",
    "        print(self.get_action_prob(tmp_game.get_feature_map(-1), tmp_game.get_mask(-1), is_target=True))"
   ]
  },
  {
   "cell_type": "code",
   "execution_count": 323,
   "metadata": {},
   "outputs": [],
   "source": [
    "def get_new_action(k):\n",
    "    if shared_new_state[k].any():\n",
    "        # generate new action using greedy policy\n",
    "        tmp_game = Ataxx(shared_new_state[k][0]-shared_new_state[k][1])\n",
    "        try:\n",
    "            move = tmp_game.get_greedy_move(1)\n",
    "        except:\n",
    "            print(shared_new_state[k])\n",
    "            raise \"shit\"\n",
    "        shared_new_action[k][0][move[0]] = 1\n",
    "        shared_new_action[k][1][move[1]] = 1\n",
    "    else:\n",
    "        shared_critic_sample_weight[k] = 10\n",
    "        shared_not_end_of_game[k] = 0\n",
    "    \n",
    "def copy_to_shared(shared_array, copied_array):\n",
    "    assert shared_array.size == copied_array.size\n",
    "    shape = shared_array.shape\n",
    "    if len(shape) > 1:\n",
    "        shared_array = shared_array.reshape(-1)\n",
    "        shared_array[:] = copied_array.reshape(-1)\n",
    "        shared_array = shared_array.reshape(*shape)\n",
    "    else:\n",
    "        shared_array[:] = copied_array\n",
    "    return shared_array\n",
    "\n",
    "def create_shared_array(shape):\n",
    "    shared_array_base = Array('f', int(np.prod(shape)), lock=False)\n",
    "    shared_array = np.ctypeslib.as_array(shared_array_base)\n",
    "    if len(shape) > 1:\n",
    "        shared_array = shared_array.reshape(*shape)\n",
    "    return shared_array\n",
    "    \n",
    "def shared_array(array):\n",
    "    shape = array.shape\n",
    "    shared_array_base = Array('f', array.size, lock=False)\n",
    "    shared_array = np.ctypeslib.as_array(shared_array_base)\n",
    "    if len(shape) > 1:\n",
    "        shared_array = shared_array.reshape(-1)\n",
    "        shared_array[:] = copied_array.reshape(-1)\n",
    "        shared_array = shared_array.reshape(*shape)\n",
    "    else:\n",
    "        shared_array[:] = copied_array\n",
    "    return shared_array"
   ]
  },
  {
   "cell_type": "code",
   "execution_count": 324,
   "metadata": {},
   "outputs": [],
   "source": [
    "BATCH_SIZE = 256\n",
    "\n",
    "shared_new_state = create_shared_array((BATCH_SIZE, 2, 7, 7))\n",
    "shared_new_action = create_shared_array((BATCH_SIZE, 2, 7, 7))\n",
    "shared_critic_sample_weight = create_shared_array((BATCH_SIZE,))\n",
    "shared_not_end_of_game = create_shared_array((BATCH_SIZE,))"
   ]
  },
  {
   "cell_type": "code",
   "execution_count": 325,
   "metadata": {},
   "outputs": [],
   "source": [
    "def reinforcement_learning(epochs=1000, check_point=True, step_per_epoch=50, \\\n",
    "                           BATCH_SIZE=64, TRAIN_BATCH_TIME=1, GAMMA=0.99, RELAY_SIZE=50000, TAU=0.001, LRA=0.0001, LRC=0.0001):        \n",
    "    # claim global variable\n",
    "    global shared_new_state, shared_critic_sample_weight, \\\n",
    "                            shared_not_end_of_game, shared_bias_sample_weight, shared_new_action\n",
    "   \n",
    "    # start formally\n",
    "    actor = ActorNetwork(TAU, LRA, 32)\n",
    "    critic = CriticNetwork(TAU, LRC)\n",
    "    relay = Relay(RELAY_SIZE)\n",
    "    max_score = 1\n",
    "    min_score = 0.01\n",
    "    \n",
    "    for ep in range(epochs):\n",
    "        reward = 0\n",
    "        step = 0\n",
    "\n",
    "        game = Ataxx()\n",
    "        turn = -1 # start turn is -1\n",
    "\n",
    "        while abs(game.evaluate(turn, turn, max_score, min_score)) != max_score:\n",
    "            new_sample = [] # prepare to collect new sample\n",
    "            \n",
    "            cur_feature = game.get_feature_map(turn)\n",
    "            cur_mask = game.get_mask(turn)\n",
    "            \n",
    "            pos0, pos1, cur_action = actor.get_stochastic_action(cur_feature, cur_mask) # get proposed action\n",
    "            \n",
    "            # new_state = game.simu_move_to(turn, pos0, pos1)\n",
    "            \n",
    "            # create new_sample and add that to relay\n",
    "            new_sample.append(cur_feature) # cur_state\n",
    "            new_sample.append(cur_mask) # cur_mask\n",
    "            new_sample.append(cur_action) # cur_action\n",
    "            \n",
    "            game.move_to(turn, pos0, pos1) # do the move here if the move is valid\n",
    "            turn = -turn # the turn now is the next turn, what we are learning for is -turn\n",
    "            \n",
    "            new_sample.append(game.evaluate(-turn, turn, max_score, min_score)) # cur_reward\n",
    "            if abs(new_sample[-1]) == max_score:\n",
    "                new_sample.append(np.zeros((2, 7, 7))) \n",
    "                new_sample.append(np.zeros((2, 7, 7))) \n",
    "            else:\n",
    "                new_sample.append(game.get_feature_map(turn)) # new_state\n",
    "                new_sample.append(game.get_mask(turn)) # new_mask\n",
    "                \n",
    "            relay.add_sample(new_sample)\n",
    "            step += 1\n",
    "        \n",
    "        print(\"Episode : \" + str(ep) + \" Replay Buffer \" + str(relay.size()))\n",
    "        print(\"TOTAL REWARD @ \" + str(ep) +\"-th Episode  : Reward \" + str(game.evaluate(1, turn, max_score, min_score)))\n",
    "        print(\"Total Step: \" + str(step))\n",
    "        \n",
    "        #Do the batch update....if possible\n",
    "        if relay.size() > BATCH_SIZE * 2:\n",
    "            for t in range(step_per_epoch):\n",
    "                cur_state, cur_mask, cur_action, \\\n",
    "                    cur_reward, new_state, new_mask = relay.get_batch(BATCH_SIZE)\n",
    "                q_target = cur_reward\n",
    "                \n",
    "                # set bias training weight and store all new actions\n",
    "                critic_sample_weight = np.ones(BATCH_SIZE)\n",
    "                bias_sample_weight = 10\n",
    "                new_action = np.zeros((BATCH_SIZE, 2, 7, 7))\n",
    "                not_end_of_game = np.ones(BATCH_SIZE)\n",
    "                \n",
    "                # do parallel action estimation\n",
    "                shared_new_state = copy_to_shared(shared_new_state, new_state)\n",
    "                shared_new_action = copy_to_shared(shared_new_action, new_action)\n",
    "                shared_critic_sample_weight = copy_to_shared(shared_critic_sample_weight, critic_sample_weight)\n",
    "                shared_not_end_of_game = copy_to_shared(shared_not_end_of_game, not_end_of_game)\n",
    "                \n",
    "                print(\"start searching new action\")\n",
    "                start = time.time()\n",
    "                with Pool(processes=8) as pool:\n",
    "                    pool.map(get_new_action, range(BATCH_SIZE), chunksize=32)\n",
    "                print(\"parallel: \", time.time()-start)\n",
    "                \n",
    "                new_action = shared_new_action.copy()\n",
    "                not_end_of_game = shared_not_end_of_game.copy()\n",
    "                print(\"end searching new action\")\n",
    "                        \n",
    "                q_new = critic.target_model.predict([new_state, new_action]).reshape(BATCH_SIZE)\n",
    "                q_target += - GAMMA*not_end_of_game*q_new\n",
    "                # log loss update weight equal to critic output    \n",
    "                actor_sample_weight = q_target\n",
    "                 \n",
    "                print(\"train start:\")\n",
    "                # train models\n",
    "                for nb in range(TRAIN_BATCH_TIME):\n",
    "                    print(\"critic loss\", critic.model.train_on_batch([cur_state, cur_action], q_target,\\\n",
    "                                                                     sample_weight=critic_sample_weight))\n",
    "                if ep > 100:\n",
    "                    print(\"actor loss\", actor.model.train_on_batch([cur_state, cur_mask], cur_action,\\\n",
    "                                                                    sample_weight=actor_sample_weight))\n",
    "                # update target critic models slowly for stability\n",
    "                critic.target_train()\n",
    "                \n",
    "                print(\"train end\")\n",
    "                # performance checking\n",
    "                for k in range(BATCH_SIZE):\n",
    "                    if not_end_of_game[k] == 0:\n",
    "                        q_p = critic.model.predict([cur_state[k].reshape(1, 2, 7, 7), \\\n",
    "                                             cur_action[k].reshape(1, 2, 7, 7)])[0]\n",
    "                        q_p_t = critic.target_model.predict([cur_state[k].reshape(1, 2, 7, 7), \\\n",
    "                                             cur_action[k].reshape(1, 2, 7, 7)])[0]\n",
    "                        print(\"should be {}, predicted: {}, target predicted: {}\".format(q_target[k], q_p, q_p_t))\n",
    "                        \n",
    "        # performance checking\n",
    "        if (ep + 1) % 10 == 0:\n",
    "            tmp_game = Ataxx()\n",
    "            print(\"trained action prob map predicted by initial model for a starting game\")\n",
    "            print(actor.get_action_prob(tmp_game.get_feature_map(-1), tmp_game.get_mask(-1), is_target=False))\n",
    "\n",
    "        # update and check point model\n",
    "        if ep % 150 == 0:\n",
    "            if check_point:\n",
    "                actor.save()\n",
    "            actor.update_target()\n",
    "\n",
    "    print(\"Finish.\")\n",
    "    actor.save()\n",
    "    return actor"
   ]
  },
  {
   "cell_type": "code",
   "execution_count": 326,
   "metadata": {
    "scrolled": true
   },
   "outputs": [
    {
     "name": "stderr",
     "output_type": "stream",
     "text": [
      "/home/yuze/anaconda3/envs/tensorflow/lib/python3.5/site-packages/ipykernel_launcher.py:114: UserWarning: Update your `Model` call to the Keras 2 API: `Model(outputs=[<tf.Tenso..., inputs=[<tf.Tenso...)`\n"
     ]
    },
    {
     "name": "stdout",
     "output_type": "stream",
     "text": [
      "__________________________________________________________________________________________________\n",
      "Layer (type)                    Output Shape         Param #     Connected to                     \n",
      "==================================================================================================\n",
      "input_725 (InputLayer)          (None, 2, 7, 7)      0                                            \n",
      "__________________________________________________________________________________________________\n",
      "conv2d_1627 (Conv2D)            (None, 64, 7, 7)     1216        input_725[0][0]                  \n",
      "__________________________________________________________________________________________________\n",
      "batch_normalization_1805 (Batch (None, 64, 7, 7)     256         conv2d_1627[0][0]                \n",
      "__________________________________________________________________________________________________\n",
      "conv2d_1628 (Conv2D)            (None, 64, 7, 7)     36928       batch_normalization_1805[0][0]   \n",
      "__________________________________________________________________________________________________\n",
      "batch_normalization_1806 (Batch (None, 64, 7, 7)     256         conv2d_1628[0][0]                \n",
      "__________________________________________________________________________________________________\n",
      "max_pooling2d_719 (MaxPooling2D (None, 64, 3, 3)     0           batch_normalization_1806[0][0]   \n",
      "__________________________________________________________________________________________________\n",
      "conv2d_1629 (Conv2D)            (None, 128, 3, 3)    73856       max_pooling2d_719[0][0]          \n",
      "__________________________________________________________________________________________________\n",
      "batch_normalization_1807 (Batch (None, 128, 3, 3)    512         conv2d_1629[0][0]                \n",
      "__________________________________________________________________________________________________\n",
      "conv2d_1630 (Conv2D)            (None, 128, 3, 3)    147584      batch_normalization_1807[0][0]   \n",
      "__________________________________________________________________________________________________\n",
      "batch_normalization_1808 (Batch (None, 128, 3, 3)    512         conv2d_1630[0][0]                \n",
      "__________________________________________________________________________________________________\n",
      "flatten_363 (Flatten)           (None, 1152)         0           batch_normalization_1808[0][0]   \n",
      "__________________________________________________________________________________________________\n",
      "dense_541 (Dense)               (None, 98)           112994      flatten_363[0][0]                \n",
      "__________________________________________________________________________________________________\n",
      "reshape_553 (Reshape)           (None, 2, 7, 7)      0           dense_541[0][0]                  \n",
      "__________________________________________________________________________________________________\n",
      "input_726 (InputLayer)          (None, 2, 7, 7)      0                                            \n",
      "__________________________________________________________________________________________________\n",
      "multiply_185 (Multiply)         (None, 2, 7, 7)      0           reshape_553[0][0]                \n",
      "                                                                 input_726[0][0]                  \n",
      "__________________________________________________________________________________________________\n",
      "reshape_554 (Reshape)           (None, 2, 49)        0           multiply_185[0][0]               \n",
      "__________________________________________________________________________________________________\n",
      "activation_185 (Activation)     (None, 2, 49)        0           reshape_554[0][0]                \n",
      "__________________________________________________________________________________________________\n",
      "reshape_555 (Reshape)           (None, 2, 7, 7)      0           activation_185[0][0]             \n",
      "==================================================================================================\n",
      "Total params: 374,114\n",
      "Trainable params: 373,346\n",
      "Non-trainable params: 768\n",
      "__________________________________________________________________________________________________\n",
      "None\n",
      "__________________________________________________________________________________________________\n",
      "Layer (type)                    Output Shape         Param #     Connected to                     \n",
      "==================================================================================================\n",
      "input_727 (InputLayer)          (None, 2, 7, 7)      0                                            \n",
      "__________________________________________________________________________________________________\n",
      "conv2d_1631 (Conv2D)            (None, 64, 7, 7)     1216        input_727[0][0]                  \n",
      "__________________________________________________________________________________________________\n",
      "batch_normalization_1809 (Batch (None, 64, 7, 7)     256         conv2d_1631[0][0]                \n",
      "__________________________________________________________________________________________________\n",
      "conv2d_1632 (Conv2D)            (None, 64, 7, 7)     36928       batch_normalization_1809[0][0]   \n",
      "__________________________________________________________________________________________________\n",
      "batch_normalization_1810 (Batch (None, 64, 7, 7)     256         conv2d_1632[0][0]                \n",
      "__________________________________________________________________________________________________\n",
      "max_pooling2d_720 (MaxPooling2D (None, 64, 3, 3)     0           batch_normalization_1810[0][0]   \n",
      "__________________________________________________________________________________________________\n",
      "conv2d_1633 (Conv2D)            (None, 128, 3, 3)    73856       max_pooling2d_720[0][0]          \n",
      "__________________________________________________________________________________________________\n",
      "batch_normalization_1811 (Batch (None, 128, 3, 3)    512         conv2d_1633[0][0]                \n",
      "__________________________________________________________________________________________________\n",
      "conv2d_1634 (Conv2D)            (None, 128, 3, 3)    147584      batch_normalization_1811[0][0]   \n",
      "__________________________________________________________________________________________________\n",
      "batch_normalization_1812 (Batch (None, 128, 3, 3)    512         conv2d_1634[0][0]                \n",
      "__________________________________________________________________________________________________\n",
      "flatten_364 (Flatten)           (None, 1152)         0           batch_normalization_1812[0][0]   \n",
      "__________________________________________________________________________________________________\n",
      "dense_542 (Dense)               (None, 98)           112994      flatten_364[0][0]                \n",
      "__________________________________________________________________________________________________\n",
      "reshape_556 (Reshape)           (None, 2, 7, 7)      0           dense_542[0][0]                  \n",
      "__________________________________________________________________________________________________\n",
      "input_728 (InputLayer)          (None, 2, 7, 7)      0                                            \n",
      "__________________________________________________________________________________________________\n",
      "multiply_186 (Multiply)         (None, 2, 7, 7)      0           reshape_556[0][0]                \n",
      "                                                                 input_728[0][0]                  \n",
      "__________________________________________________________________________________________________\n",
      "reshape_557 (Reshape)           (None, 2, 49)        0           multiply_186[0][0]               \n",
      "__________________________________________________________________________________________________\n",
      "activation_186 (Activation)     (None, 2, 49)        0           reshape_557[0][0]                \n",
      "__________________________________________________________________________________________________\n",
      "reshape_558 (Reshape)           (None, 2, 7, 7)      0           activation_186[0][0]             \n",
      "==================================================================================================\n",
      "Total params: 374,114\n",
      "Trainable params: 373,346\n",
      "Non-trainable params: 768\n",
      "__________________________________________________________________________________________________\n",
      "None\n"
     ]
    },
    {
     "name": "stdout",
     "output_type": "stream",
     "text": [
      "succesfully loaded the pretrained model\n",
      "actor\n",
      "__________________________________________________________________________________________________\n",
      "Layer (type)                    Output Shape         Param #     Connected to                     \n",
      "==================================================================================================\n",
      "input_729 (InputLayer)          (None, 2, 7, 7)      0                                            \n",
      "__________________________________________________________________________________________________\n",
      "input_730 (InputLayer)          (None, 2, 7, 7)      0                                            \n",
      "__________________________________________________________________________________________________\n",
      "concatenate_179 (Concatenate)   (None, 4, 7, 7)      0           input_729[0][0]                  \n",
      "                                                                 input_730[0][0]                  \n",
      "__________________________________________________________________________________________________\n",
      "conv2d_1637 (Conv2D)            (None, 64, 7, 7)     2368        concatenate_179[0][0]            \n",
      "__________________________________________________________________________________________________\n",
      "batch_normalization_1815 (Batch (None, 64, 7, 7)     256         conv2d_1637[0][0]                \n",
      "__________________________________________________________________________________________________\n",
      "max_pooling2d_723 (MaxPooling2D (None, 64, 3, 3)     0           batch_normalization_1815[0][0]   \n",
      "__________________________________________________________________________________________________\n",
      "conv2d_1638 (Conv2D)            (None, 128, 3, 3)    73856       max_pooling2d_723[0][0]          \n",
      "__________________________________________________________________________________________________\n",
      "batch_normalization_1816 (Batch (None, 128, 3, 3)    512         conv2d_1638[0][0]                \n",
      "__________________________________________________________________________________________________\n",
      "conv2d_1639 (Conv2D)            (None, 128, 3, 3)    147584      batch_normalization_1816[0][0]   \n",
      "__________________________________________________________________________________________________\n",
      "batch_normalization_1817 (Batch (None, 128, 3, 3)    512         conv2d_1639[0][0]                \n",
      "__________________________________________________________________________________________________\n",
      "flatten_365 (Flatten)           (None, 1152)         0           batch_normalization_1817[0][0]   \n",
      "__________________________________________________________________________________________________\n",
      "dense_543 (Dense)               (None, 256)          295168      flatten_365[0][0]                \n",
      "__________________________________________________________________________________________________\n",
      "batch_normalization_1818 (Batch (None, 256)          1024        dense_543[0][0]                  \n",
      "__________________________________________________________________________________________________\n",
      "dense_544 (Dense)               (None, 1)            257         batch_normalization_1818[0][0]   \n",
      "==================================================================================================\n",
      "Total params: 521,537\n",
      "Trainable params: 520,385\n",
      "Non-trainable params: 1,152\n",
      "__________________________________________________________________________________________________\n",
      "None\n",
      "actor\n",
      "__________________________________________________________________________________________________\n",
      "Layer (type)                    Output Shape         Param #     Connected to                     \n",
      "==================================================================================================\n",
      "input_731 (InputLayer)          (None, 2, 7, 7)      0                                            \n",
      "__________________________________________________________________________________________________\n",
      "input_732 (InputLayer)          (None, 2, 7, 7)      0                                            \n",
      "__________________________________________________________________________________________________\n",
      "concatenate_180 (Concatenate)   (None, 4, 7, 7)      0           input_731[0][0]                  \n",
      "                                                                 input_732[0][0]                  \n",
      "__________________________________________________________________________________________________\n",
      "conv2d_1642 (Conv2D)            (None, 64, 7, 7)     2368        concatenate_180[0][0]            \n",
      "__________________________________________________________________________________________________\n",
      "batch_normalization_1821 (Batch (None, 64, 7, 7)     256         conv2d_1642[0][0]                \n",
      "__________________________________________________________________________________________________\n",
      "max_pooling2d_726 (MaxPooling2D (None, 64, 3, 3)     0           batch_normalization_1821[0][0]   \n",
      "__________________________________________________________________________________________________\n",
      "conv2d_1643 (Conv2D)            (None, 128, 3, 3)    73856       max_pooling2d_726[0][0]          \n",
      "__________________________________________________________________________________________________\n",
      "batch_normalization_1822 (Batch (None, 128, 3, 3)    512         conv2d_1643[0][0]                \n",
      "__________________________________________________________________________________________________\n",
      "conv2d_1644 (Conv2D)            (None, 128, 3, 3)    147584      batch_normalization_1822[0][0]   \n",
      "__________________________________________________________________________________________________\n",
      "batch_normalization_1823 (Batch (None, 128, 3, 3)    512         conv2d_1644[0][0]                \n",
      "__________________________________________________________________________________________________\n",
      "flatten_366 (Flatten)           (None, 1152)         0           batch_normalization_1823[0][0]   \n",
      "__________________________________________________________________________________________________\n",
      "dense_545 (Dense)               (None, 256)          295168      flatten_366[0][0]                \n",
      "__________________________________________________________________________________________________\n",
      "batch_normalization_1824 (Batch (None, 256)          1024        dense_545[0][0]                  \n",
      "__________________________________________________________________________________________________\n",
      "dense_546 (Dense)               (None, 1)            257         batch_normalization_1824[0][0]   \n",
      "==================================================================================================\n",
      "Total params: 521,537\n",
      "Trainable params: 520,385\n",
      "Non-trainable params: 1,152\n",
      "__________________________________________________________________________________________________\n",
      "None\n",
      "Episode : 0 Replay Buffer 8\n",
      "TOTAL REWARD @ 0-th Episode  : Reward 1\n",
      "Total Step: 8\n",
      "Episode : 1 Replay Buffer 132\n",
      "TOTAL REWARD @ 1-th Episode  : Reward 1\n",
      "Total Step: 124\n",
      "Episode : 2 Replay Buffer 245\n",
      "TOTAL REWARD @ 2-th Episode  : Reward 1\n",
      "Total Step: 113\n",
      "Episode : 3 Replay Buffer 369\n",
      "TOTAL REWARD @ 3-th Episode  : Reward -1\n",
      "Total Step: 124\n",
      "Episode : 4 Replay Buffer 505\n",
      "TOTAL REWARD @ 4-th Episode  : Reward -1\n",
      "Total Step: 136\n",
      "Episode : 5 Replay Buffer 658\n",
      "TOTAL REWARD @ 5-th Episode  : Reward -1\n",
      "Total Step: 153\n",
      "start searching new action\n",
      "parallel:  5.093015909194946\n",
      "end searching new action\n",
      "train start:\n",
      "critic loss [2.0050175, 2.0050175]\n",
      "critic loss [1.5199186, 1.5199186]\n",
      "critic loss [1.1143274, 1.1143274]\n",
      "critic loss [0.8225174, 0.8225174]\n",
      "critic loss [0.61781693, 0.61781693]\n",
      "train end\n",
      "should be -1.0, predicted: [ 0.00790164], target predicted: [-0.00323143]\n",
      "should be 1.0, predicted: [-0.01276188], target predicted: [-0.05733582]\n",
      "should be 1.0, predicted: [-0.01040456], target predicted: [-0.05107924]\n",
      "should be -1.0, predicted: [ 0.00317537], target predicted: [-0.02715114]\n",
      "start searching new action\n",
      "parallel:  4.83695387840271\n",
      "end searching new action\n",
      "train start:\n",
      "critic loss [1.7099936, 1.7099936]\n",
      "critic loss [1.5378661, 1.5378661]\n",
      "critic loss [1.3263874, 1.3263874]\n",
      "critic loss [1.1052158, 1.1052158]\n",
      "critic loss [0.89195788, 0.89195788]\n",
      "train end\n",
      "should be -1.0, predicted: [-0.00566333], target predicted: [-0.02419161]\n",
      "should be 1.0, predicted: [-0.02176858], target predicted: [-0.00835229]\n",
      "start searching new action\n"
     ]
    },
    {
     "name": "stdout",
     "output_type": "stream",
     "text": [
      "parallel:  5.206294059753418\n",
      "end searching new action\n",
      "train start:\n",
      "critic loss [1.3276932, 1.3276932]\n",
      "critic loss [1.2194471, 1.2194471]\n",
      "critic loss [1.079219, 1.079219]\n",
      "critic loss [0.92827517, 0.92827517]\n",
      "critic loss [0.77941382, 0.77941382]\n",
      "train end\n",
      "start searching new action\n",
      "parallel:  5.764585971832275\n",
      "end searching new action\n",
      "train start:\n",
      "critic loss [1.090366, 1.090366]\n",
      "critic loss [1.0091166, 1.0091166]\n",
      "critic loss [0.90208018, 0.90208018]\n",
      "critic loss [0.78226006, 0.78226006]\n",
      "critic loss [0.6605503, 0.6605503]\n",
      "train end\n",
      "should be 1.0, predicted: [-0.01628328], target predicted: [-0.01310851]\n",
      "should be 1.0, predicted: [-0.05803046], target predicted: [-0.06062647]\n",
      "should be -1.0, predicted: [-0.03427317], target predicted: [-0.03811194]\n",
      "should be 1.0, predicted: [ 0.00250271], target predicted: [-0.05087981]\n",
      "start searching new action\n",
      "parallel:  4.959354877471924\n",
      "end searching new action\n",
      "train start:\n",
      "critic loss [1.01903, 1.01903]\n",
      "critic loss [0.95781839, 0.95781839]\n",
      "critic loss [0.86741984, 0.86741984]\n",
      "critic loss [0.76069361, 0.76069361]\n",
      "critic loss [0.64910507, 0.64910507]\n",
      "train end\n",
      "should be 1.0, predicted: [ 0.0142787], target predicted: [-0.05068143]\n",
      "start searching new action\n",
      "parallel:  5.038033962249756\n",
      "end searching new action\n",
      "train start:\n",
      "critic loss [0.89367396, 0.89367396]\n",
      "critic loss [0.84370148, 0.84370148]\n",
      "critic loss [0.7683869, 0.7683869]\n",
      "critic loss [0.67701173, 0.67701173]\n",
      "critic loss [0.57747781, 0.57747781]\n",
      "train end\n",
      "should be -1.0, predicted: [-0.04532516], target predicted: [-0.0271797]\n",
      "should be -1.0, predicted: [-0.07294652], target predicted: [-0.02873396]\n",
      "start searching new action\n",
      "parallel:  4.761659622192383\n",
      "end searching new action\n",
      "train start:\n",
      "critic loss [0.77617919, 0.77617919]\n",
      "critic loss [0.72440732, 0.72440732]\n",
      "critic loss [0.65152156, 0.65152156]\n",
      "critic loss [0.56750095, 0.56750095]\n",
      "critic loss [0.48083636, 0.48083636]\n",
      "train end\n",
      "should be 1.0, predicted: [-0.04379679], target predicted: [-0.00589726]\n",
      "should be -1.0, predicted: [-0.03105031], target predicted: [-0.01651874]\n",
      "should be -1.0, predicted: [-0.03595906], target predicted: [-0.02307244]\n",
      "start searching new action\n",
      "parallel:  4.642300605773926\n",
      "end searching new action\n",
      "train start:\n",
      "critic loss [0.74526787, 0.74526787]\n",
      "critic loss [0.70688248, 0.70688248]\n",
      "critic loss [0.64710939, 0.64710939]\n",
      "critic loss [0.57281548, 0.57281548]\n",
      "critic loss [0.49091399, 0.49091399]\n",
      "train end\n",
      "should be 1.0, predicted: [-0.00068722], target predicted: [-0.01652751]\n",
      "should be -1.0, predicted: [-0.01537198], target predicted: [-0.02812809]\n",
      "Episode : 6 Replay Buffer 666\n",
      "TOTAL REWARD @ 6-th Episode  : Reward 1\n",
      "Total Step: 8\n",
      "start searching new action\n",
      "parallel:  5.054286956787109\n",
      "end searching new action\n",
      "train start:\n",
      "critic loss [0.66394717, 0.66394717]\n",
      "critic loss [0.61856997, 0.61856997]\n",
      "critic loss [0.55536193, 0.55536193]\n",
      "critic loss [0.48192847, 0.48192847]\n",
      "critic loss [0.40655717, 0.40655717]\n",
      "train end\n",
      "should be 1.0, predicted: [-0.02096951], target predicted: [-0.01797824]\n",
      "should be -1.0, predicted: [-0.03466126], target predicted: [-0.0280368]\n",
      "should be 1.0, predicted: [-0.06594495], target predicted: [-0.03528971]\n",
      "start searching new action\n",
      "parallel:  4.698575973510742\n",
      "end searching new action\n",
      "train start:\n",
      "critic loss [0.60573602, 0.60573602]\n",
      "critic loss [0.57157534, 0.57157534]\n",
      "critic loss [0.52147275, 0.52147275]\n",
      "critic loss [0.46146134, 0.46146134]\n",
      "critic loss [0.39670473, 0.39670473]\n",
      "train end\n",
      "should be 1.0, predicted: [-0.04176593], target predicted: [-0.01945201]\n",
      "should be 1.0, predicted: [-0.10498514], target predicted: [-0.02268002]\n",
      "should be -1.0, predicted: [-0.08630081], target predicted: [-0.03400363]\n",
      "start searching new action\n",
      "parallel:  4.871505260467529\n",
      "end searching new action\n",
      "train start:\n",
      "critic loss [0.55574858, 0.55574858]\n",
      "critic loss [0.52751279, 0.52751279]\n",
      "critic loss [0.48187762, 0.48187762]\n",
      "critic loss [0.42672935, 0.42672935]\n",
      "critic loss [0.36872792, 0.36872792]\n",
      "train end\n",
      "should be -1.0, predicted: [-0.09379257], target predicted: [-0.04499434]\n",
      "should be -1.0, predicted: [-0.01114158], target predicted: [ 0.00547334]\n",
      "should be 1.0, predicted: [-0.00299332], target predicted: [-0.0611229]\n",
      "start searching new action\n",
      "parallel:  5.176031589508057\n",
      "end searching new action\n",
      "train start:\n",
      "critic loss [0.53741342, 0.53741342]\n",
      "critic loss [0.50616711, 0.50616711]\n",
      "critic loss [0.46006778, 0.46006778]\n",
      "critic loss [0.40464458, 0.40464458]\n",
      "critic loss [0.34483558, 0.34483558]\n",
      "train end\n",
      "should be -1.0, predicted: [-0.08459236], target predicted: [-0.01322182]\n",
      "should be 1.0, predicted: [-0.10223033], target predicted: [-0.00892701]\n",
      "start searching new action\n",
      "parallel:  5.16623592376709\n",
      "end searching new action\n",
      "train start:\n",
      "critic loss [0.49648893, 0.49648893]\n",
      "critic loss [0.47218657, 0.47218657]\n",
      "critic loss [0.43164968, 0.43164968]\n",
      "critic loss [0.38032874, 0.38032874]\n",
      "critic loss [0.3237817, 0.3237817]\n",
      "train end\n",
      "start searching new action\n",
      "parallel:  4.850252628326416\n",
      "end searching new action\n",
      "train start:\n",
      "critic loss [0.4564566, 0.4564566]\n",
      "critic loss [0.4330031, 0.4330031]\n",
      "critic loss [0.39745215, 0.39745215]\n",
      "critic loss [0.35375085, 0.35375085]\n",
      "critic loss [0.30597198, 0.30597198]\n",
      "train end\n",
      "should be 1.0, predicted: [-0.06981351], target predicted: [-0.02274978]\n",
      "start searching new action\n",
      "parallel:  5.0534508228302\n",
      "end searching new action\n",
      "train start:\n",
      "critic loss [0.47831935, 0.47831935]\n",
      "critic loss [0.44690007, 0.44690007]\n",
      "critic loss [0.40253603, 0.40253603]\n",
      "critic loss [0.35356542, 0.35356542]\n",
      "critic loss [0.30531096, 0.30531096]\n",
      "train end\n",
      "should be 1.0, predicted: [-0.12245003], target predicted: [-0.01611203]\n",
      "should be -1.0, predicted: [-0.19856924], target predicted: [-0.03950479]\n",
      "should be 1.0, predicted: [-0.0765774], target predicted: [-0.04452282]\n",
      "start searching new action\n",
      "parallel:  5.354936361312866\n",
      "end searching new action\n",
      "train start:\n",
      "critic loss [0.55790895, 0.55790895]\n",
      "critic loss [0.53222024, 0.53222024]\n",
      "critic loss [0.48430651, 0.48430651]\n",
      "critic loss [0.42154121, 0.42154121]\n",
      "critic loss [0.35349014, 0.35349014]\n",
      "train end\n",
      "should be 1.0, predicted: [-0.07275137], target predicted: [-0.01945182]\n",
      "should be 1.0, predicted: [-0.05461954], target predicted: [-0.00463883]\n",
      "Episode : 7 Replay Buffer 808\n",
      "TOTAL REWARD @ 7-th Episode  : Reward -1\n",
      "Total Step: 142\n",
      "start searching new action\n",
      "parallel:  4.990979194641113\n",
      "end searching new action\n",
      "train start:\n",
      "critic loss [0.48528421, 0.48528421]\n",
      "critic loss [0.45086843, 0.45086843]\n",
      "critic loss [0.40795374, 0.40795374]\n",
      "critic loss [0.36147222, 0.36147222]\n",
      "critic loss [0.31428686, 0.31428686]\n",
      "train end\n",
      "should be 1.0, predicted: [-0.02621488], target predicted: [-0.01172901]\n",
      "should be -1.0, predicted: [-0.12694974], target predicted: [-0.03890492]\n",
      "should be -1.0, predicted: [-0.03897207], target predicted: [-0.04323777]\n",
      "start searching new action\n",
      "parallel:  4.7614662647247314\n",
      "end searching new action\n",
      "train start:\n",
      "critic loss [0.40670979, 0.40670979]\n",
      "critic loss [0.39458698, 0.39458698]\n",
      "critic loss [0.36544734, 0.36544734]\n",
      "critic loss [0.3243382, 0.3243382]\n",
      "critic loss [0.27717242, 0.27717242]\n",
      "train end\n",
      "should be -1.0, predicted: [-0.07432172], target predicted: [-0.03182271]\n",
      "should be -1.0, predicted: [-0.1655086], target predicted: [-0.04775307]\n",
      "start searching new action\n",
      "parallel:  4.7403647899627686\n",
      "end searching new action\n",
      "train start:\n",
      "critic loss [0.37901667, 0.37901667]\n",
      "critic loss [0.35598364, 0.35598364]\n",
      "critic loss [0.32320964, 0.32320964]\n",
      "critic loss [0.28476512, 0.28476512]\n",
      "critic loss [0.24400862, 0.24400862]\n",
      "train end\n",
      "should be -1.0, predicted: [-0.15425017], target predicted: [-0.04205709]\n",
      "should be 1.0, predicted: [-0.06386013], target predicted: [-0.03183657]\n",
      "should be 1.0, predicted: [-0.12297605], target predicted: [-0.05629833]\n",
      "start searching new action\n",
      "parallel:  5.385596990585327\n",
      "end searching new action\n",
      "train start:\n",
      "critic loss [0.36850646, 0.36850646]\n",
      "critic loss [0.35129818, 0.35129818]\n",
      "critic loss [0.32403755, 0.32403755]\n",
      "critic loss [0.28988972, 0.28988972]\n",
      "critic loss [0.2514663, 0.2514663]\n",
      "train end\n",
      "should be 1.0, predicted: [-0.09624686], target predicted: [-0.06605117]\n",
      "should be 1.0, predicted: [-0.03574463], target predicted: [-0.06533381]\n",
      "should be 1.0, predicted: [-0.05050243], target predicted: [-0.02559482]\n",
      "should be 1.0, predicted: [-0.06341171], target predicted: [-0.01328867]\n",
      "start searching new action\n"
     ]
    },
    {
     "name": "stdout",
     "output_type": "stream",
     "text": [
      "parallel:  4.8944313526153564\n",
      "end searching new action\n",
      "train start:\n",
      "critic loss [0.35773462, 0.35773462]\n",
      "critic loss [0.34168339, 0.34168339]\n",
      "critic loss [0.31341696, 0.31341696]\n",
      "critic loss [0.27723169, 0.27723169]\n",
      "critic loss [0.23739862, 0.23739862]\n",
      "train end\n",
      "should be 1.0, predicted: [-0.08137163], target predicted: [-0.01987305]\n",
      "should be -1.0, predicted: [-0.12944566], target predicted: [-0.03659132]\n",
      "should be -1.0, predicted: [-0.14403622], target predicted: [-0.04814728]\n",
      "start searching new action\n",
      "parallel:  5.153991937637329\n",
      "end searching new action\n",
      "train start:\n",
      "critic loss [0.33795491, 0.33795491]\n",
      "critic loss [0.31981331, 0.31981331]\n",
      "critic loss [0.29205531, 0.29205531]\n",
      "critic loss [0.2582922, 0.2582922]\n",
      "critic loss [0.22194526, 0.22194526]\n",
      "train end\n",
      "should be 1.0, predicted: [-0.00291192], target predicted: [-0.07104695]\n",
      "should be 1.0, predicted: [ 0.01122755], target predicted: [-0.02206147]\n",
      "start searching new action\n",
      "parallel:  5.470264673233032\n",
      "end searching new action\n",
      "train start:\n",
      "critic loss [0.357723, 0.357723]\n",
      "critic loss [0.33860666, 0.33860666]\n",
      "critic loss [0.30697036, 0.30697036]\n",
      "critic loss [0.26783305, 0.26783305]\n",
      "critic loss [0.22612409, 0.22612409]\n",
      "train end\n",
      "should be -1.0, predicted: [-0.09673876], target predicted: [-0.04155486]\n",
      "should be -1.0, predicted: [-0.1433766], target predicted: [-0.05838979]\n",
      "start searching new action\n",
      "parallel:  4.841187477111816\n",
      "end searching new action\n",
      "train start:\n",
      "critic loss [0.30597508, 0.30597508]\n",
      "critic loss [0.29525793, 0.29525793]\n",
      "critic loss [0.27474666, 0.27474666]\n",
      "critic loss [0.24668166, 0.24668166]\n",
      "critic loss [0.21382874, 0.21382874]\n",
      "train end\n",
      "should be 1.0, predicted: [-0.0946461], target predicted: [-0.02851585]\n",
      "should be -1.0, predicted: [-0.1801261], target predicted: [-0.0616918]\n",
      "Episode : 8 Replay Buffer 943\n",
      "TOTAL REWARD @ 8-th Episode  : Reward 1\n",
      "Total Step: 135\n",
      "start searching new action\n",
      "parallel:  4.988809823989868\n",
      "end searching new action\n",
      "train start:\n",
      "critic loss [0.31839001, 0.31839001]\n",
      "critic loss [0.30198306, 0.30198306]\n",
      "critic loss [0.27576095, 0.27576095]\n",
      "critic loss [0.2431974, 0.2431974]\n",
      "critic loss [0.20779763, 0.20779763]\n",
      "train end\n",
      "should be -1.0, predicted: [-0.06726906], target predicted: [-0.01880777]\n",
      "should be -1.0, predicted: [-0.19518387], target predicted: [-0.06758752]\n",
      "should be -1.0, predicted: [-0.2015063], target predicted: [-0.04792292]\n",
      "start searching new action\n",
      "parallel:  5.170051336288452\n",
      "end searching new action\n",
      "train start:\n",
      "critic loss [0.45838886, 0.45838886]\n",
      "critic loss [0.43744358, 0.43744358]\n",
      "critic loss [0.40169382, 0.40169382]\n",
      "critic loss [0.35595736, 0.35595736]\n",
      "critic loss [0.3050307, 0.3050307]\n",
      "train end\n",
      "should be -1.0, predicted: [-0.16263844], target predicted: [-0.03363532]\n",
      "should be 1.0, predicted: [-0.10036428], target predicted: [-0.04811576]\n",
      "start searching new action\n",
      "parallel:  5.002472639083862\n",
      "end searching new action\n",
      "train start:\n",
      "critic loss [0.35429621, 0.35429621]\n",
      "critic loss [0.33449, 0.33449]\n",
      "critic loss [0.30350798, 0.30350798]\n",
      "critic loss [0.26595089, 0.26595089]\n",
      "critic loss [0.22591315, 0.22591315]\n",
      "train end\n",
      "should be -1.0, predicted: [-0.05704432], target predicted: [-0.04921611]\n",
      "should be 1.0, predicted: [-0.07496225], target predicted: [-0.08418006]\n",
      "start searching new action\n",
      "parallel:  5.0183937549591064\n",
      "end searching new action\n",
      "train start:\n",
      "critic loss [0.29903582, 0.29903582]\n",
      "critic loss [0.28573778, 0.28573778]\n",
      "critic loss [0.26287103, 0.26287103]\n",
      "critic loss [0.23374665, 0.23374665]\n",
      "critic loss [0.20162252, 0.20162252]\n",
      "train end\n",
      "should be -1.0, predicted: [-0.1706192], target predicted: [-0.03198244]\n",
      "start searching new action\n",
      "parallel:  4.666041851043701\n",
      "end searching new action\n",
      "train start:\n",
      "critic loss [0.31229252, 0.31229252]\n",
      "critic loss [0.2964527, 0.2964527]\n",
      "critic loss [0.2700808, 0.2700808]\n",
      "critic loss [0.23712328, 0.23712328]\n",
      "critic loss [0.20125061, 0.20125061]\n",
      "train end\n",
      "should be -1.0, predicted: [-0.40927109], target predicted: [-0.0456942]\n",
      "should be 1.0, predicted: [ 0.0342202], target predicted: [-0.04594576]\n",
      "should be -1.0, predicted: [-0.14710781], target predicted: [-0.05537368]\n",
      "should be 1.0, predicted: [-0.16247548], target predicted: [-0.07665427]\n",
      "start searching new action\n",
      "parallel:  4.948047399520874\n",
      "end searching new action\n",
      "train start:\n",
      "critic loss [0.30958158, 0.30958158]\n",
      "critic loss [0.29603997, 0.29603997]\n",
      "critic loss [0.27195886, 0.27195886]\n",
      "critic loss [0.24115635, 0.24115635]\n",
      "critic loss [0.20734528, 0.20734528]\n",
      "train end\n",
      "should be -1.0, predicted: [-0.10682437], target predicted: [-0.06922027]\n",
      "should be -1.0, predicted: [ 0.03869799], target predicted: [-0.02854741]\n",
      "should be -1.0, predicted: [ 0.05821911], target predicted: [-0.05599563]\n",
      "start searching new action\n",
      "parallel:  5.08392596244812\n",
      "end searching new action\n",
      "train start:\n",
      "critic loss [0.25903168, 0.25903168]\n",
      "critic loss [0.24906248, 0.24906248]\n",
      "critic loss [0.23050365, 0.23050365]\n",
      "critic loss [0.20565468, 0.20565468]\n",
      "critic loss [0.17722254, 0.17722254]\n",
      "train end\n",
      "should be -1.0, predicted: [-0.28085664], target predicted: [-0.05748915]\n",
      "should be -1.0, predicted: [-0.11467376], target predicted: [-0.07313054]\n",
      "should be -1.0, predicted: [-0.14229928], target predicted: [-0.06999946]\n",
      "start searching new action\n",
      "parallel:  4.859924793243408\n",
      "end searching new action\n",
      "train start:\n",
      "critic loss [0.28992677, 0.28992677]\n",
      "critic loss [0.27428555, 0.27428555]\n",
      "critic loss [0.24816385, 0.24816385]\n",
      "critic loss [0.21676856, 0.21676856]\n",
      "critic loss [0.18456821, 0.18456821]\n",
      "train end\n",
      "should be 1.0, predicted: [ 0.08056063], target predicted: [-0.01520013]\n",
      "Episode : 9 Replay Buffer 1074\n",
      "TOTAL REWARD @ 9-th Episode  : Reward -1\n",
      "Total Step: 131\n",
      "start searching new action\n",
      "parallel:  4.659708499908447\n",
      "end searching new action\n",
      "train start:\n",
      "critic loss [0.26822579, 0.26822579]\n",
      "critic loss [0.25528875, 0.25528875]\n",
      "critic loss [0.23576297, 0.23576297]\n",
      "critic loss [0.21166696, 0.21166696]\n",
      "critic loss [0.18470922, 0.18470922]\n",
      "train end\n",
      "should be -1.0, predicted: [-0.04086035], target predicted: [-0.0630097]\n",
      "start searching new action\n",
      "parallel:  5.240176439285278\n",
      "end searching new action\n",
      "train start:\n",
      "critic loss [0.33436546, 0.33436546]\n",
      "critic loss [0.31925315, 0.31925315]\n",
      "critic loss [0.29231125, 0.29231125]\n",
      "critic loss [0.25778264, 0.25778264]\n",
      "critic loss [0.21997812, 0.21997812]\n",
      "train end\n",
      "should be -1.0, predicted: [-0.20327537], target predicted: [-0.06084315]\n",
      "start searching new action\n",
      "parallel:  4.755383253097534\n",
      "end searching new action\n",
      "train start:\n",
      "critic loss [0.30475301, 0.30475301]\n",
      "critic loss [0.28674233, 0.28674233]\n",
      "critic loss [0.26083234, 0.26083234]\n",
      "critic loss [0.23012161, 0.23012161]\n",
      "critic loss [0.19715314, 0.19715314]\n",
      "train end\n",
      "should be 1.0, predicted: [-0.14409363], target predicted: [-0.07135003]\n",
      "should be -1.0, predicted: [-0.26529932], target predicted: [-0.05792106]\n",
      "should be 1.0, predicted: [-0.21987337], target predicted: [-0.07363658]\n",
      "should be -1.0, predicted: [-0.01259088], target predicted: [-0.06783468]\n",
      "start searching new action\n",
      "parallel:  4.942435264587402\n",
      "end searching new action\n",
      "train start:\n",
      "critic loss [0.27013361, 0.27013361]\n",
      "critic loss [0.25669044, 0.25669044]\n",
      "critic loss [0.23483703, 0.23483703]\n",
      "critic loss [0.20735964, 0.20735964]\n",
      "critic loss [0.17724366, 0.17724366]\n",
      "train end\n",
      "should be 1.0, predicted: [-0.20141678], target predicted: [-0.12664197]\n",
      "start searching new action\n",
      "parallel:  4.966407060623169\n",
      "end searching new action\n",
      "train start:\n",
      "critic loss [0.24917765, 0.24917765]\n",
      "critic loss [0.23752062, 0.23752062]\n",
      "critic loss [0.21768203, 0.21768203]\n",
      "critic loss [0.19224527, 0.19224527]\n",
      "critic loss [0.16401261, 0.16401261]\n",
      "train end\n",
      "should be -1.0, predicted: [-0.2159446], target predicted: [-0.07489814]\n",
      "start searching new action\n",
      "parallel:  5.176814556121826\n",
      "end searching new action\n",
      "train start:\n",
      "critic loss [0.24635594, 0.24635594]\n",
      "critic loss [0.23299675, 0.23299675]\n",
      "critic loss [0.21183522, 0.21183522]\n",
      "critic loss [0.18591362, 0.18591362]\n",
      "critic loss [0.1581234, 0.1581234]\n",
      "train end\n",
      "should be 1.0, predicted: [ 0.08488879], target predicted: [-0.00957389]\n",
      "should be -1.0, predicted: [-0.1047698], target predicted: [-0.07757329]\n",
      "start searching new action\n",
      "parallel:  5.3730244636535645\n",
      "end searching new action\n",
      "train start:\n",
      "critic loss [0.27556449, 0.27556449]\n",
      "critic loss [0.26447895, 0.26447895]\n",
      "critic loss [0.24313243, 0.24313243]\n"
     ]
    },
    {
     "name": "stdout",
     "output_type": "stream",
     "text": [
      "critic loss [0.21464291, 0.21464291]\n",
      "critic loss [0.18279703, 0.18279703]\n",
      "train end\n",
      "should be -1.0, predicted: [-0.28160262], target predicted: [-0.04748452]\n",
      "start searching new action\n",
      "parallel:  4.968129634857178\n",
      "end searching new action\n",
      "train start:\n",
      "critic loss [0.20465341, 0.20465341]\n",
      "critic loss [0.19467455, 0.19467455]\n",
      "critic loss [0.17802815, 0.17802815]\n",
      "critic loss [0.15717392, 0.15717392]\n",
      "critic loss [0.13434877, 0.13434877]\n",
      "train end\n",
      "trained action prob map predicted by initial model for a starting game\n",
      "[[[  4.74112213e-01   2.26922257e-05   2.26965531e-05   2.27042383e-05\n",
      "     2.27350483e-05   2.27338787e-05   2.27408837e-05]\n",
      "  [  2.26641296e-05   2.26761731e-05   2.26807788e-05   2.26782704e-05\n",
      "     2.26923112e-05   2.26754364e-05   2.26919437e-05]\n",
      "  [  2.26959673e-05   2.26813627e-05   2.26909906e-05   2.27196615e-05\n",
      "     2.26813627e-05   2.27250348e-05   2.27216751e-05]\n",
      "  [  2.26802822e-05   2.26970733e-05   2.26941702e-05   2.27356777e-05\n",
      "     2.26868360e-05   2.26920074e-05   2.26653192e-05]\n",
      "  [  2.27070759e-05   2.26959892e-05   2.27087858e-05   2.27081146e-05\n",
      "     2.26819029e-05   2.26802822e-05   2.26823795e-05]\n",
      "  [  2.26989559e-05   2.27345718e-05   2.27030705e-05   2.26948650e-05\n",
      "     2.26772954e-05   2.26720204e-05   2.26805842e-05]\n",
      "  [  2.27240380e-05   2.27167784e-05   2.27282835e-05   2.27107557e-05\n",
      "     2.27012497e-05   2.27108649e-05   5.24820864e-01]]\n",
      "\n",
      " [[  5.30890065e-06   2.43577495e-01   3.70782247e-04   5.29176987e-06\n",
      "     5.30149373e-06   5.33865295e-06   5.31094656e-06]\n",
      "  [  2.21260354e-01   2.91966181e-03   2.83988629e-04   5.29082126e-06\n",
      "     5.30004809e-06   5.32802278e-06   5.33553748e-06]\n",
      "  [  1.19629158e-02   9.70500405e-04   6.16961974e-04   5.29672297e-06\n",
      "     5.29645513e-06   5.31079968e-06   5.31439173e-06]\n",
      "  [  5.31146861e-06   5.29903218e-06   5.29799627e-06   5.29409181e-06\n",
      "     5.30052785e-06   5.30095258e-06   5.31148862e-06]\n",
      "  [  5.31533988e-06   5.30711350e-06   5.29831959e-06   5.29709678e-06\n",
      "     7.30250671e-04   1.83936302e-03   3.16087641e-02]\n",
      "  [  5.34265564e-06   5.32914055e-06   5.29665294e-06   5.29044337e-06\n",
      "     3.61872662e-04   2.41949013e-03   2.64097214e-01]\n",
      "  [  5.31199476e-06   5.33111233e-06   5.29154795e-06   5.29103772e-06\n",
      "     7.13270856e-04   2.16091990e-01   5.31098249e-06]]]\n",
      "Episode : 10 Replay Buffer 1209\n",
      "TOTAL REWARD @ 10-th Episode  : Reward -1\n",
      "Total Step: 135\n",
      "start searching new action\n",
      "parallel:  4.656067132949829\n",
      "end searching new action\n",
      "train start:\n",
      "critic loss [0.25968102, 0.25968102]\n",
      "critic loss [0.25108635, 0.25108635]\n",
      "critic loss [0.23265329, 0.23265329]\n",
      "critic loss [0.20731211, 0.20731211]\n",
      "critic loss [0.17849733, 0.17849733]\n",
      "train end\n",
      "should be 1.0, predicted: [ 0.15005393], target predicted: [ 0.00653797]\n",
      "start searching new action\n",
      "parallel:  4.766298055648804\n",
      "end searching new action\n",
      "train start:\n",
      "critic loss [0.28239828, 0.28239828]\n",
      "critic loss [0.26736167, 0.26736167]\n",
      "critic loss [0.2425704, 0.2425704]\n",
      "critic loss [0.21168831, 0.21168831]\n",
      "critic loss [0.17831106, 0.17831106]\n",
      "train end\n",
      "should be 1.0, predicted: [ 0.04036436], target predicted: [-0.03022538]\n",
      "should be 1.0, predicted: [-0.16205554], target predicted: [-0.08933917]\n",
      "should be 1.0, predicted: [ 0.03099652], target predicted: [-0.08456675]\n",
      "start searching new action\n",
      "parallel:  5.157017469406128\n",
      "end searching new action\n",
      "train start:\n",
      "critic loss [0.20327395, 0.20327395]\n",
      "critic loss [0.19499676, 0.19499676]\n",
      "critic loss [0.18044728, 0.18044728]\n",
      "critic loss [0.1612439, 0.1612439]\n",
      "critic loss [0.13944289, 0.13944289]\n",
      "train end\n",
      "should be -1.0, predicted: [-0.42367783], target predicted: [-0.09474158]\n",
      "should be -1.0, predicted: [-0.35911876], target predicted: [-0.09747487]\n",
      "should be 1.0, predicted: [ 0.09302675], target predicted: [-0.00306365]\n",
      "start searching new action\n",
      "parallel:  4.840133905410767\n",
      "end searching new action\n",
      "train start:\n",
      "critic loss [0.19082506, 0.19082506]\n",
      "critic loss [0.18270534, 0.18270534]\n",
      "critic loss [0.16785105, 0.16785105]\n",
      "critic loss [0.14845, 0.14845]\n",
      "critic loss [0.12701182, 0.12701182]\n",
      "train end\n",
      "should be 1.0, predicted: [-0.11310984], target predicted: [-0.04395726]\n",
      "should be 1.0, predicted: [-0.18277852], target predicted: [-0.01315537]\n",
      "should be 1.0, predicted: [-0.34185696], target predicted: [-0.10201698]\n",
      "start searching new action\n",
      "parallel:  5.054956912994385\n",
      "end searching new action\n",
      "train start:\n",
      "critic loss [0.2694084, 0.2694084]\n",
      "critic loss [0.25894237, 0.25894237]\n",
      "critic loss [0.23749658, 0.23749658]\n",
      "critic loss [0.20863983, 0.20863983]\n",
      "critic loss [0.17654569, 0.17654569]\n",
      "train end\n",
      "should be -1.0, predicted: [-0.31118515], target predicted: [-0.08855917]\n",
      "start searching new action\n",
      "parallel:  4.937518119812012\n",
      "end searching new action\n",
      "train start:\n",
      "critic loss [0.19423884, 0.19423884]\n",
      "critic loss [0.18428865, 0.18428865]\n",
      "critic loss [0.16888718, 0.16888718]\n",
      "critic loss [0.1498975, 0.1498975]\n",
      "critic loss [0.12928832, 0.12928832]\n",
      "train end\n",
      "should be 1.0, predicted: [-0.08601779], target predicted: [-0.08061515]\n",
      "should be 1.0, predicted: [-0.12532787], target predicted: [-0.02320378]\n",
      "should be 1.0, predicted: [-0.13634217], target predicted: [-0.02644983]\n",
      "start searching new action\n",
      "parallel:  4.635651350021362\n",
      "end searching new action\n",
      "train start:\n",
      "critic loss [0.22664237, 0.22664237]\n",
      "critic loss [0.21929272, 0.21929272]\n",
      "critic loss [0.20352274, 0.20352274]\n",
      "critic loss [0.18161324, 0.18161324]\n",
      "critic loss [0.15628725, 0.15628725]\n",
      "train end\n",
      "should be -1.0, predicted: [-0.06270766], target predicted: [-0.06887455]\n",
      "should be -1.0, predicted: [-0.4942911], target predicted: [-0.1020262]\n",
      "should be 1.0, predicted: [ 0.42272264], target predicted: [-0.04546415]\n",
      "start searching new action\n",
      "parallel:  5.268971681594849\n",
      "end searching new action\n",
      "train start:\n",
      "critic loss [0.2213158, 0.2213158]\n",
      "critic loss [0.20861071, 0.20861071]\n",
      "critic loss [0.18967137, 0.18967137]\n",
      "critic loss [0.16720711, 0.16720711]\n",
      "critic loss [0.14359948, 0.14359948]\n",
      "train end\n",
      "Episode : 11 Replay Buffer 1326\n",
      "TOTAL REWARD @ 11-th Episode  : Reward -1\n",
      "Total Step: 117\n",
      "start searching new action\n",
      "parallel:  5.058777093887329\n",
      "end searching new action\n",
      "train start:\n",
      "critic loss [0.19248945, 0.19248945]\n",
      "critic loss [0.18588024, 0.18588024]\n",
      "critic loss [0.17237839, 0.17237839]\n",
      "critic loss [0.15391311, 0.15391311]\n",
      "critic loss [0.13277489, 0.13277489]\n",
      "train end\n",
      "should be -1.0, predicted: [-0.0095335], target predicted: [-0.07578652]\n",
      "should be 1.0, predicted: [-0.15625994], target predicted: [-0.04044789]\n",
      "start searching new action\n",
      "parallel:  5.032243967056274\n",
      "end searching new action\n",
      "train start:\n",
      "critic loss [0.2109009, 0.2109009]\n",
      "critic loss [0.2003663, 0.2003663]\n",
      "critic loss [0.1831215, 0.1831215]\n",
      "critic loss [0.16178039, 0.16178039]\n",
      "critic loss [0.13874307, 0.13874307]\n",
      "train end\n",
      "should be -1.0, predicted: [-0.14729813], target predicted: [-0.06874878]\n",
      "should be -1.0, predicted: [-0.30381081], target predicted: [-0.10896892]\n",
      "should be -1.0, predicted: [-0.367165], target predicted: [-0.09490171]\n",
      "start searching new action\n",
      "parallel:  5.053805351257324\n",
      "end searching new action\n",
      "train start:\n",
      "critic loss [0.26103458, 0.26103458]\n",
      "critic loss [0.24912846, 0.24912846]\n",
      "critic loss [0.22767222, 0.22767222]\n",
      "critic loss [0.2005237, 0.2005237]\n",
      "critic loss [0.171472, 0.171472]\n",
      "train end\n",
      "should be -1.0, predicted: [-0.05203759], target predicted: [-0.07049637]\n",
      "should be 1.0, predicted: [ 0.21413174], target predicted: [-0.07142093]\n",
      "should be 1.0, predicted: [ 0.01947779], target predicted: [-0.10153542]\n",
      "start searching new action\n",
      "parallel:  5.039780378341675\n",
      "end searching new action\n",
      "train start:\n",
      "critic loss [0.17345667, 0.17345667]\n",
      "critic loss [0.16895859, 0.16895859]\n",
      "critic loss [0.157262, 0.157262]\n",
      "critic loss [0.14021774, 0.14021774]\n",
      "critic loss [0.12066256, 0.12066256]\n",
      "train end\n",
      "should be -1.0, predicted: [-0.24092077], target predicted: [-0.09730465]\n",
      "should be 1.0, predicted: [ 0.2258786], target predicted: [-0.07487629]\n",
      "start searching new action\n",
      "parallel:  4.859323501586914\n",
      "end searching new action\n",
      "train start:\n",
      "critic loss [0.23618412, 0.23618412]\n",
      "critic loss [0.22409838, 0.22409838]\n",
      "critic loss [0.20499612, 0.20499612]\n",
      "critic loss [0.18154345, 0.18154345]\n",
      "critic loss [0.15615334, 0.15615334]\n",
      "train end\n",
      "should be -1.0, predicted: [ 0.12891521], target predicted: [-0.07366439]\n",
      "should be -1.0, predicted: [ 0.0372773], target predicted: [-0.06213806]\n",
      "should be 1.0, predicted: [ 0.64906836], target predicted: [-0.04262913]\n",
      "start searching new action\n"
     ]
    },
    {
     "name": "stdout",
     "output_type": "stream",
     "text": [
      "parallel:  4.8446266651153564\n",
      "end searching new action\n",
      "train start:\n",
      "critic loss [0.23725957, 0.23725957]\n",
      "critic loss [0.22777602, 0.22777602]\n",
      "critic loss [0.2080909, 0.2080909]\n",
      "critic loss [0.18192329, 0.18192329]\n",
      "critic loss [0.15304814, 0.15304814]\n",
      "train end\n",
      "should be 1.0, predicted: [-0.07417167], target predicted: [-0.12482727]\n",
      "should be 1.0, predicted: [-0.00110338], target predicted: [-0.04758056]\n",
      "should be 1.0, predicted: [-0.43703386], target predicted: [-0.1324794]\n",
      "start searching new action\n",
      "parallel:  4.634826421737671\n",
      "end searching new action\n",
      "train start:\n",
      "critic loss [0.19931599, 0.19931599]\n",
      "critic loss [0.1929602, 0.1929602]\n",
      "critic loss [0.1806674, 0.1806674]\n",
      "critic loss [0.16348462, 0.16348462]\n",
      "critic loss [0.14291388, 0.14291388]\n",
      "train end\n",
      "should be -1.0, predicted: [-0.19343328], target predicted: [-0.07379746]\n",
      "should be 1.0, predicted: [ 0.1420355], target predicted: [-0.06870671]\n",
      "should be -1.0, predicted: [ 0.0022503], target predicted: [-0.07518084]\n",
      "start searching new action\n",
      "parallel:  5.13686203956604\n",
      "end searching new action\n",
      "train start:\n",
      "critic loss [0.16994902, 0.16994902]\n",
      "critic loss [0.16095394, 0.16095394]\n",
      "critic loss [0.14719667, 0.14719667]\n",
      "critic loss [0.13047232, 0.13047232]\n",
      "critic loss [0.11240038, 0.11240038]\n",
      "train end\n",
      "should be -1.0, predicted: [-0.32891002], target predicted: [-0.09275553]\n",
      "should be 1.0, predicted: [-0.10723338], target predicted: [-0.08205771]\n",
      "Episode : 12 Replay Buffer 1454\n",
      "TOTAL REWARD @ 12-th Episode  : Reward -1\n",
      "Total Step: 128\n",
      "start searching new action\n",
      "parallel:  4.847326040267944\n",
      "end searching new action\n",
      "train start:\n",
      "critic loss [0.19007283, 0.19007283]\n",
      "critic loss [0.18340166, 0.18340166]\n",
      "critic loss [0.16978328, 0.16978328]\n",
      "critic loss [0.15121594, 0.15121594]\n",
      "critic loss [0.13004351, 0.13004351]\n",
      "train end\n",
      "should be 1.0, predicted: [-0.11226091], target predicted: [-0.101601]\n",
      "should be -1.0, predicted: [-0.19325399], target predicted: [-0.07606664]\n",
      "should be -1.0, predicted: [-0.52213025], target predicted: [-0.10776979]\n",
      "start searching new action\n",
      "parallel:  4.851251602172852\n",
      "end searching new action\n",
      "train start:\n",
      "critic loss [0.18830037, 0.18830037]\n",
      "critic loss [0.17903009, 0.17903009]\n",
      "critic loss [0.16408926, 0.16408926]\n",
      "critic loss [0.1458188, 0.1458188]\n",
      "critic loss [0.12631968, 0.12631968]\n",
      "train end\n",
      "should be -1.0, predicted: [-0.19858144], target predicted: [-0.07940807]\n",
      "should be 1.0, predicted: [-0.02024528], target predicted: [-0.082173]\n",
      "should be -1.0, predicted: [-0.31395498], target predicted: [-0.0643729]\n",
      "start searching new action\n",
      "parallel:  4.742132902145386\n",
      "end searching new action\n",
      "train start:\n",
      "critic loss [0.19285099, 0.19285099]\n",
      "critic loss [0.18230276, 0.18230276]\n",
      "critic loss [0.16693361, 0.16693361]\n",
      "critic loss [0.14899634, 0.14899634]\n",
      "critic loss [0.13012663, 0.13012663]\n",
      "train end\n",
      "should be 1.0, predicted: [-0.50237179], target predicted: [-0.11513811]\n",
      "should be 1.0, predicted: [-0.21569416], target predicted: [-0.03607228]\n",
      "start searching new action\n",
      "parallel:  4.979265213012695\n",
      "end searching new action\n",
      "train start:\n",
      "critic loss [0.21099365, 0.21099365]\n",
      "critic loss [0.20406179, 0.20406179]\n",
      "critic loss [0.18851282, 0.18851282]\n",
      "critic loss [0.16734818, 0.16734818]\n",
      "critic loss [0.14391212, 0.14391212]\n",
      "train end\n",
      "should be -1.0, predicted: [-0.52766287], target predicted: [-0.11003448]\n",
      "should be 1.0, predicted: [-0.08076223], target predicted: [-0.01392969]\n",
      "start searching new action\n",
      "parallel:  4.726423978805542\n",
      "end searching new action\n",
      "train start:\n",
      "critic loss [0.19074742, 0.19074742]\n",
      "critic loss [0.18029, 0.18029]\n",
      "critic loss [0.16570485, 0.16570485]\n",
      "critic loss [0.14867632, 0.14867632]\n",
      "critic loss [0.13043866, 0.13043866]\n",
      "train end\n",
      "should be 1.0, predicted: [-0.44598356], target predicted: [-0.10111609]\n",
      "start searching new action\n",
      "parallel:  5.0926432609558105\n",
      "end searching new action\n",
      "train start:\n",
      "critic loss [0.20831515, 0.20831515]\n",
      "critic loss [0.20025209, 0.20025209]\n",
      "critic loss [0.18341342, 0.18341342]\n",
      "critic loss [0.16146035, 0.16146035]\n",
      "critic loss [0.13799916, 0.13799916]\n",
      "train end\n",
      "should be -1.0, predicted: [-0.02352682], target predicted: [-0.0584728]\n",
      "should be 1.0, predicted: [-0.30507284], target predicted: [-0.11679419]\n",
      "should be -1.0, predicted: [ 0.03487822], target predicted: [-0.0707855]\n",
      "should be -1.0, predicted: [-0.57269281], target predicted: [-0.08569609]\n",
      "start searching new action\n",
      "parallel:  5.161136865615845\n",
      "end searching new action\n",
      "train start:\n",
      "critic loss [0.15062013, 0.15062013]\n",
      "critic loss [0.14073677, 0.14073677]\n",
      "critic loss [0.12737259, 0.12737259]\n",
      "critic loss [0.11220989, 0.11220989]\n",
      "critic loss [0.096740089, 0.096740089]\n",
      "train end\n",
      "should be 1.0, predicted: [-0.40344483], target predicted: [-0.12077529]\n",
      "start searching new action\n",
      "parallel:  5.2291224002838135\n",
      "end searching new action\n",
      "train start:\n",
      "critic loss [0.17867294, 0.17867294]\n",
      "critic loss [0.17400473, 0.17400473]\n",
      "critic loss [0.16048676, 0.16048676]\n",
      "critic loss [0.14114809, 0.14114809]\n",
      "critic loss [0.11952746, 0.11952746]\n",
      "train end\n",
      "should be 1.0, predicted: [ 0.00220204], target predicted: [-0.00030778]\n",
      "should be 1.0, predicted: [ 0.4181098], target predicted: [-0.05028363]\n",
      "should be -1.0, predicted: [-0.08843893], target predicted: [-0.10006461]\n",
      "should be 1.0, predicted: [-0.13807619], target predicted: [-0.11434293]\n",
      "Episode : 13 Replay Buffer 1474\n",
      "TOTAL REWARD @ 13-th Episode  : Reward 1\n",
      "Total Step: 20\n",
      "start searching new action\n",
      "parallel:  4.942423105239868\n",
      "end searching new action\n",
      "train start:\n",
      "critic loss [0.130799, 0.130799]\n",
      "critic loss [0.12418177, 0.12418177]\n",
      "critic loss [0.11482732, 0.11482732]\n",
      "critic loss [0.10388775, 0.10388775]\n",
      "critic loss [0.092177026, 0.092177026]\n",
      "train end\n",
      "should be 1.0, predicted: [-0.25995067], target predicted: [-0.14606836]\n",
      "should be 1.0, predicted: [ 0.13478032], target predicted: [-0.03727794]\n",
      "should be 1.0, predicted: [ 0.10474343], target predicted: [-0.07471102]\n",
      "should be 1.0, predicted: [-0.02115168], target predicted: [-0.06219041]\n",
      "start searching new action\n",
      "parallel:  4.627086162567139\n",
      "end searching new action\n",
      "train start:\n",
      "critic loss [0.12497455, 0.12497455]\n",
      "critic loss [0.12177382, 0.12177382]\n",
      "critic loss [0.11294023, 0.11294023]\n",
      "critic loss [0.10012543, 0.10012543]\n",
      "critic loss [0.085427515, 0.085427515]\n",
      "train end\n",
      "should be 1.0, predicted: [-0.11345248], target predicted: [-0.11380182]\n",
      "should be -1.0, predicted: [-0.0413998], target predicted: [-0.07280902]\n",
      "should be 1.0, predicted: [-0.19700994], target predicted: [-0.14686637]\n",
      "start searching new action\n",
      "parallel:  4.536822557449341\n",
      "end searching new action\n",
      "train start:\n",
      "critic loss [0.1580486, 0.1580486]\n",
      "critic loss [0.15158568, 0.15158568]\n",
      "critic loss [0.14117995, 0.14117995]\n",
      "critic loss [0.12798809, 0.12798809]\n",
      "critic loss [0.11301462, 0.11301462]\n",
      "train end\n",
      "should be -1.0, predicted: [-0.27579442], target predicted: [-0.13430485]\n",
      "should be -1.0, predicted: [ 0.14555448], target predicted: [-0.06597404]\n",
      "should be 1.0, predicted: [ 0.22086452], target predicted: [-0.03875974]\n",
      "should be 1.0, predicted: [ 0.13317484], target predicted: [-0.09732869]\n",
      "should be -1.0, predicted: [-0.34715316], target predicted: [-0.11319348]\n",
      "start searching new action\n",
      "parallel:  4.656437397003174\n",
      "end searching new action\n",
      "train start:\n",
      "critic loss [0.13716049, 0.13716049]\n",
      "critic loss [0.13255297, 0.13255297]\n",
      "critic loss [0.12268401, 0.12268401]\n",
      "critic loss [0.10924713, 0.10924713]\n",
      "critic loss [0.094068311, 0.094068311]\n",
      "train end\n",
      "should be 1.0, predicted: [-0.07504281], target predicted: [-0.09368051]\n",
      "should be -1.0, predicted: [-0.19956055], target predicted: [-0.1090068]\n",
      "start searching new action\n",
      "parallel:  4.643531560897827\n",
      "end searching new action\n",
      "train start:\n",
      "critic loss [0.1347179, 0.1347179]\n",
      "critic loss [0.12748438, 0.12748438]\n",
      "critic loss [0.11638872, 0.11638872]\n",
      "critic loss [0.10301573, 0.10301573]\n",
      "critic loss [0.088683739, 0.088683739]\n",
      "train end\n",
      "should be 1.0, predicted: [ 0.49847484], target predicted: [-0.1260933]\n",
      "should be -1.0, predicted: [-0.04130768], target predicted: [-0.07545862]\n",
      "should be -1.0, predicted: [-0.26082146], target predicted: [-0.10125993]\n",
      "start searching new action\n",
      "parallel:  5.255956649780273\n",
      "end searching new action\n",
      "train start:\n",
      "critic loss [0.15880267, 0.15880267]\n",
      "critic loss [0.1528488, 0.1528488]\n",
      "critic loss [0.14199471, 0.14199471]\n",
      "critic loss [0.127757, 0.127757]\n"
     ]
    },
    {
     "name": "stdout",
     "output_type": "stream",
     "text": [
      "critic loss [0.11179192, 0.11179192]\n",
      "train end\n",
      "should be 1.0, predicted: [-0.28418604], target predicted: [-0.09746232]\n",
      "should be -1.0, predicted: [ 0.02860368], target predicted: [-0.06046311]\n",
      "start searching new action\n",
      "parallel:  4.830202579498291\n",
      "end searching new action\n",
      "train start:\n",
      "critic loss [0.13725778, 0.13725778]\n",
      "critic loss [0.1334141, 0.1334141]\n",
      "critic loss [0.12445987, 0.12445987]\n",
      "critic loss [0.11163615, 0.11163615]\n",
      "critic loss [0.096559644, 0.096559644]\n",
      "train end\n",
      "should be 1.0, predicted: [-0.00596986], target predicted: [-0.09710479]\n",
      "start searching new action\n",
      "parallel:  5.557433605194092\n",
      "end searching new action\n",
      "train start:\n",
      "critic loss [0.1520505, 0.1520505]\n",
      "critic loss [0.1451038, 0.1451038]\n",
      "critic loss [0.13299754, 0.13299754]\n",
      "critic loss [0.11795804, 0.11795804]\n",
      "critic loss [0.10193408, 0.10193408]\n",
      "train end\n",
      "should be 1.0, predicted: [ 0.02433676], target predicted: [-0.01649312]\n",
      "Episode : 14 Replay Buffer 1604\n",
      "TOTAL REWARD @ 14-th Episode  : Reward -1\n",
      "Total Step: 130\n",
      "start searching new action\n",
      "parallel:  5.0785815715789795\n",
      "end searching new action\n",
      "train start:\n",
      "critic loss [0.16268684, 0.16268684]\n",
      "critic loss [0.15823956, 0.15823956]\n",
      "critic loss [0.14829513, 0.14829513]\n",
      "critic loss [0.13408035, 0.13408035]\n",
      "critic loss [0.11725999, 0.11725999]\n",
      "train end\n",
      "should be -1.0, predicted: [ 0.11317999], target predicted: [-0.06458083]\n",
      "should be -1.0, predicted: [-0.3780632], target predicted: [-0.08590364]\n",
      "should be 1.0, predicted: [-0.23409557], target predicted: [-0.10375124]\n",
      "start searching new action\n",
      "parallel:  4.94059419631958\n",
      "end searching new action\n",
      "train start:\n",
      "critic loss [0.1222051, 0.1222051]\n",
      "critic loss [0.11706164, 0.11706164]\n",
      "critic loss [0.10822687, 0.10822687]\n",
      "critic loss [0.096815363, 0.096815363]\n",
      "critic loss [0.084066033, 0.084066033]\n",
      "train end\n",
      "should be -1.0, predicted: [ 0.11557087], target predicted: [-0.02771447]\n",
      "should be 1.0, predicted: [-0.35160553], target predicted: [-0.13131124]\n",
      "should be 1.0, predicted: [ 0.02660391], target predicted: [-0.04237939]\n",
      "start searching new action\n",
      "parallel:  4.7331438064575195\n",
      "end searching new action\n",
      "train start:\n",
      "critic loss [0.14258076, 0.14258076]\n",
      "critic loss [0.13663957, 0.13663957]\n",
      "critic loss [0.12638216, 0.12638216]\n",
      "critic loss [0.11328116, 0.11328116]\n",
      "critic loss [0.09870325, 0.09870325]\n",
      "train end\n",
      "should be -1.0, predicted: [-0.37026846], target predicted: [-0.08356056]\n",
      "should be 1.0, predicted: [ 0.7636441], target predicted: [-0.0428166]\n",
      "start searching new action\n",
      "parallel:  4.865389585494995\n",
      "end searching new action\n",
      "train start:\n",
      "critic loss [0.15649451, 0.15649451]\n",
      "critic loss [0.1475596, 0.1475596]\n",
      "critic loss [0.13306393, 0.13306393]\n",
      "critic loss [0.1157375, 0.1157375]\n",
      "critic loss [0.098094352, 0.098094352]\n",
      "train end\n",
      "should be 1.0, predicted: [-0.04058776], target predicted: [-0.12427025]\n",
      "should be 1.0, predicted: [ 0.06758083], target predicted: [-0.00194645]\n",
      "should be -1.0, predicted: [-0.3527588], target predicted: [-0.10923978]\n",
      "start searching new action\n",
      "parallel:  5.282088994979858\n",
      "end searching new action\n",
      "train start:\n",
      "critic loss [0.14642076, 0.14642076]\n",
      "critic loss [0.14120744, 0.14120744]\n",
      "critic loss [0.13141036, 0.13141036]\n",
      "critic loss [0.11843301, 0.11843301]\n",
      "critic loss [0.10378483, 0.10378483]\n",
      "train end\n",
      "should be -1.0, predicted: [-0.02362708], target predicted: [-0.08936799]\n",
      "start searching new action\n",
      "parallel:  5.57952880859375\n",
      "end searching new action\n",
      "train start:\n",
      "critic loss [0.15203559, 0.15203559]\n",
      "critic loss [0.14416315, 0.14416315]\n",
      "critic loss [0.1316566, 0.1316566]\n",
      "critic loss [0.11627839, 0.11627839]\n",
      "critic loss [0.099829525, 0.099829525]\n",
      "train end\n",
      "should be -1.0, predicted: [-0.28658825], target predicted: [-0.0975975]\n",
      "should be 1.0, predicted: [ 0.1198194], target predicted: [-0.00222889]\n",
      "start searching new action\n",
      "parallel:  5.261265277862549\n",
      "end searching new action\n",
      "train start:\n",
      "critic loss [0.1523231, 0.1523231]\n",
      "critic loss [0.14517187, 0.14517187]\n",
      "critic loss [0.13286497, 0.13286497]\n",
      "critic loss [0.11762088, 0.11762088]\n",
      "critic loss [0.101446, 0.101446]\n",
      "train end\n",
      "should be -1.0, predicted: [-0.02949314], target predicted: [-0.04803806]\n",
      "start searching new action\n",
      "parallel:  4.684889554977417\n",
      "end searching new action\n",
      "train start:\n",
      "critic loss [0.17895639, 0.17895639]\n",
      "critic loss [0.1716274, 0.1716274]\n",
      "critic loss [0.15838867, 0.15838867]\n",
      "critic loss [0.14114794, 0.14114794]\n",
      "critic loss [0.12196302, 0.12196302]\n",
      "train end\n",
      "should be 1.0, predicted: [-0.34639147], target predicted: [-0.04286454]\n",
      "should be -1.0, predicted: [ 0.29455459], target predicted: [-0.07909279]\n",
      "should be 1.0, predicted: [ 0.29308689], target predicted: [-0.1247802]\n",
      "should be -1.0, predicted: [-0.13054346], target predicted: [-0.0905618]\n",
      "Episode : 15 Replay Buffer 1655\n",
      "TOTAL REWARD @ 15-th Episode  : Reward -1\n",
      "Total Step: 51\n",
      "start searching new action\n",
      "parallel:  4.865530252456665\n",
      "end searching new action\n",
      "train start:\n",
      "critic loss [0.12778941, 0.12778941]\n",
      "critic loss [0.11990736, 0.11990736]\n",
      "critic loss [0.10905123, 0.10905123]\n",
      "critic loss [0.096735813, 0.096735813]\n",
      "critic loss [0.084015056, 0.084015056]\n",
      "train end\n",
      "should be 1.0, predicted: [ 0.70136142], target predicted: [ 0.01728194]\n",
      "should be -1.0, predicted: [-0.25127077], target predicted: [-0.10527638]\n",
      "should be 1.0, predicted: [ 0.49812645], target predicted: [-0.13465546]\n",
      "should be 1.0, predicted: [ 0.24999309], target predicted: [-0.03654554]\n",
      "start searching new action\n",
      "parallel:  5.692093133926392\n",
      "end searching new action\n",
      "train start:\n",
      "critic loss [0.15220697, 0.15220697]\n",
      "critic loss [0.14673278, 0.14673278]\n",
      "critic loss [0.13560349, 0.13560349]\n",
      "critic loss [0.12052083, 0.12052083]\n",
      "critic loss [0.10342167, 0.10342167]\n",
      "train end\n",
      "should be 1.0, predicted: [-0.02301994], target predicted: [ 0.02263261]\n",
      "should be -1.0, predicted: [-0.40648216], target predicted: [-0.09883843]\n",
      "should be 1.0, predicted: [-0.19840896], target predicted: [-0.16335554]\n",
      "should be 1.0, predicted: [-0.1539259], target predicted: [-0.12413345]\n",
      "should be 1.0, predicted: [ 0.12181907], target predicted: [-0.02273158]\n",
      "should be 1.0, predicted: [ 0.07627853], target predicted: [-0.01614502]\n",
      "start searching new action\n",
      "parallel:  5.0534327030181885\n",
      "end searching new action\n",
      "train start:\n",
      "critic loss [0.14444588, 0.14444588]\n",
      "critic loss [0.13648507, 0.13648507]\n",
      "critic loss [0.12483191, 0.12483191]\n",
      "critic loss [0.11158462, 0.11158462]\n",
      "critic loss [0.098396659, 0.098396659]\n",
      "train end\n",
      "should be -1.0, predicted: [-0.53162307], target predicted: [-0.10678837]\n",
      "should be -1.0, predicted: [-0.11863885], target predicted: [-0.07231872]\n",
      "start searching new action\n",
      "parallel:  5.389777660369873\n",
      "end searching new action\n",
      "train start:\n",
      "critic loss [0.14310232, 0.14310232]\n",
      "critic loss [0.13888046, 0.13888046]\n",
      "critic loss [0.12852672, 0.12852672]\n",
      "critic loss [0.11388694, 0.11388694]\n",
      "critic loss [0.097277835, 0.097277835]\n",
      "train end\n",
      "should be 1.0, predicted: [-0.02722089], target predicted: [-0.10825235]\n",
      "should be 1.0, predicted: [ 0.0461657], target predicted: [-0.02759662]\n",
      "should be 1.0, predicted: [ 0.21260074], target predicted: [-0.1066341]\n",
      "start searching new action\n",
      "parallel:  4.972280979156494\n",
      "end searching new action\n",
      "train start:\n",
      "critic loss [0.1530806, 0.1530806]\n",
      "critic loss [0.14602844, 0.14602844]\n",
      "critic loss [0.13542581, 0.13542581]\n",
      "critic loss [0.12249504, 0.12249504]\n",
      "critic loss [0.10818851, 0.10818851]\n",
      "train end\n",
      "should be 1.0, predicted: [-0.30355123], target predicted: [-0.04153712]\n",
      "should be 1.0, predicted: [ 0.5545218], target predicted: [-0.00610388]\n",
      "should be 1.0, predicted: [-0.27781358], target predicted: [-0.14377266]\n",
      "should be -1.0, predicted: [-0.03841083], target predicted: [-0.10907674]\n",
      "start searching new action\n",
      "parallel:  5.141148567199707\n",
      "end searching new action\n",
      "train start:\n",
      "critic loss [0.16334739, 0.16334739]\n",
      "critic loss [0.15562434, 0.15562434]\n",
      "critic loss [0.14139666, 0.14139666]\n",
      "critic loss [0.12380542, 0.12380542]\n",
      "critic loss [0.10594439, 0.10594439]\n",
      "train end\n",
      "should be 1.0, predicted: [ 0.04397404], target predicted: [ 0.0323512]\n",
      "should be 1.0, predicted: [ 0.07162033], target predicted: [-0.04859421]\n",
      "start searching new action\n",
      "parallel:  5.652019262313843\n",
      "end searching new action\n",
      "train start:\n",
      "critic loss [0.110309, 0.110309]\n",
      "critic loss [0.1065947, 0.1065947]\n",
      "critic loss [0.09959612, 0.09959612]\n"
     ]
    },
    {
     "name": "stdout",
     "output_type": "stream",
     "text": [
      "critic loss [0.090094268, 0.090094268]\n",
      "critic loss [0.078962401, 0.078962401]\n",
      "train end\n",
      "should be 1.0, predicted: [-0.06382359], target predicted: [-0.01679523]\n",
      "start searching new action\n",
      "parallel:  5.237726211547852\n",
      "end searching new action\n",
      "train start:\n",
      "critic loss [0.15528658, 0.15528658]\n",
      "critic loss [0.14834271, 0.14834271]\n",
      "critic loss [0.13571616, 0.13571616]\n",
      "critic loss [0.11963509, 0.11963509]\n",
      "critic loss [0.10236551, 0.10236551]\n",
      "train end\n",
      "should be -1.0, predicted: [-0.2188129], target predicted: [-0.09858786]\n",
      "Episode : 16 Replay Buffer 1686\n",
      "TOTAL REWARD @ 16-th Episode  : Reward -1\n",
      "Total Step: 31\n",
      "start searching new action\n",
      "parallel:  4.8484156131744385\n",
      "end searching new action\n",
      "train start:\n",
      "critic loss [0.11017087, 0.11017087]\n",
      "critic loss [0.10647884, 0.10647884]\n",
      "critic loss [0.10045733, 0.10045733]\n",
      "critic loss [0.09237875, 0.09237875]\n",
      "critic loss [0.082613878, 0.082613878]\n",
      "train end\n",
      "should be 1.0, predicted: [-0.31595674], target predicted: [-0.10976981]\n",
      "should be -1.0, predicted: [-0.28685209], target predicted: [-0.10192559]\n",
      "start searching new action\n",
      "parallel:  5.156028985977173\n",
      "end searching new action\n",
      "train start:\n",
      "critic loss [0.11072106, 0.11072106]\n",
      "critic loss [0.10660933, 0.10660933]\n",
      "critic loss [0.098999195, 0.098999195]\n",
      "critic loss [0.089097381, 0.089097381]\n",
      "critic loss [0.078074351, 0.078074351]\n",
      "train end\n",
      "should be -1.0, predicted: [-0.47213504], target predicted: [-0.0757698]\n",
      "should be 1.0, predicted: [ 0.35257044], target predicted: [-0.06646681]\n",
      "should be 1.0, predicted: [ 0.07952069], target predicted: [-0.15930185]\n",
      "start searching new action\n",
      "parallel:  5.156871318817139\n",
      "end searching new action\n",
      "train start:\n",
      "critic loss [0.15108635, 0.15108635]\n",
      "critic loss [0.14327054, 0.14327054]\n",
      "critic loss [0.13161437, 0.13161437]\n",
      "critic loss [0.11781615, 0.11781615]\n",
      "critic loss [0.10329852, 0.10329852]\n",
      "train end\n",
      "should be 1.0, predicted: [ 0.31401709], target predicted: [-0.09098799]\n",
      "should be 1.0, predicted: [ 0.23721728], target predicted: [-0.15525565]\n",
      "should be 1.0, predicted: [ 0.48755562], target predicted: [-0.02054201]\n",
      "start searching new action\n",
      "parallel:  4.848214626312256\n",
      "end searching new action\n",
      "train start:\n",
      "critic loss [0.1248159, 0.1248159]\n",
      "critic loss [0.12162861, 0.12162861]\n",
      "critic loss [0.11324774, 0.11324774]\n",
      "critic loss [0.10120086, 0.10120086]\n",
      "critic loss [0.087405667, 0.087405667]\n",
      "train end\n",
      "should be 1.0, predicted: [ 0.50693053], target predicted: [-0.04821428]\n",
      "should be -1.0, predicted: [-0.79292268], target predicted: [-0.114686]\n",
      "start searching new action\n",
      "parallel:  4.524695873260498\n",
      "end searching new action\n",
      "train start:\n",
      "critic loss [0.10408851, 0.10408851]\n",
      "critic loss [0.098634213, 0.098634213]\n",
      "critic loss [0.088644832, 0.088644832]\n",
      "critic loss [0.076583609, 0.076583609]\n",
      "critic loss [0.064923525, 0.064923525]\n",
      "train end\n",
      "should be 1.0, predicted: [-0.1938944], target predicted: [-0.04463543]\n",
      "should be 1.0, predicted: [ 0.02491539], target predicted: [-0.08897744]\n",
      "start searching new action\n",
      "parallel:  4.541888952255249\n",
      "end searching new action\n",
      "train start:\n",
      "critic loss [0.1166122, 0.1166122]\n",
      "critic loss [0.11528817, 0.11528817]\n",
      "critic loss [0.10908552, 0.10908552]\n",
      "critic loss [0.098589964, 0.098589964]\n",
      "critic loss [0.0854619, 0.0854619]\n",
      "train end\n",
      "should be 1.0, predicted: [ 0.17377478], target predicted: [-0.09348712]\n",
      "should be 1.0, predicted: [ 0.22156605], target predicted: [-0.08822385]\n",
      "start searching new action\n",
      "parallel:  5.2282774448394775\n",
      "end searching new action\n",
      "train start:\n",
      "critic loss [0.1303288, 0.1303288]\n",
      "critic loss [0.12502046, 0.12502046]\n",
      "critic loss [0.11578856, 0.11578856]\n",
      "critic loss [0.10415891, 0.10415891]\n",
      "critic loss [0.091378465, 0.091378465]\n",
      "train end\n",
      "should be 1.0, predicted: [ 0.1943842], target predicted: [-0.12940298]\n",
      "should be 1.0, predicted: [ 0.65022385], target predicted: [-0.01331679]\n",
      "should be -1.0, predicted: [-0.66308868], target predicted: [-0.08028787]\n",
      "should be 1.0, predicted: [ 0.39574024], target predicted: [-0.11527602]\n",
      "should be -1.0, predicted: [-0.64330441], target predicted: [-0.12579381]\n",
      "start searching new action\n",
      "parallel:  5.539659023284912\n",
      "end searching new action\n",
      "train start:\n",
      "critic loss [0.15079764, 0.15079764]\n",
      "critic loss [0.14546783, 0.14546783]\n",
      "critic loss [0.13410212, 0.13410212]\n",
      "critic loss [0.11879896, 0.11879896]\n",
      "critic loss [0.10193345, 0.10193345]\n",
      "train end\n",
      "should be -1.0, predicted: [-0.22614396], target predicted: [-0.06801072]\n",
      "should be -1.0, predicted: [-0.16953407], target predicted: [-0.09796683]\n",
      "should be 1.0, predicted: [ 0.17212091], target predicted: [-0.12509207]\n",
      "should be 1.0, predicted: [ 0.26114741], target predicted: [-0.01153935]\n",
      "Episode : 17 Replay Buffer 1708\n",
      "TOTAL REWARD @ 17-th Episode  : Reward 1\n",
      "Total Step: 22\n",
      "start searching new action\n",
      "parallel:  4.808441400527954\n",
      "end searching new action\n",
      "train start:\n",
      "critic loss [0.12213818, 0.12213818]\n",
      "critic loss [0.11670931, 0.11670931]\n",
      "critic loss [0.10845932, 0.10845932]\n",
      "critic loss [0.099030003, 0.099030003]\n",
      "critic loss [0.089114487, 0.089114487]\n",
      "train end\n",
      "should be -1.0, predicted: [-0.62780797], target predicted: [-0.07942597]\n",
      "should be 1.0, predicted: [ 0.42767656], target predicted: [-0.00651444]\n",
      "start searching new action\n",
      "parallel:  5.265408992767334\n",
      "end searching new action\n",
      "train start:\n",
      "critic loss [0.13451779, 0.13451779]\n",
      "critic loss [0.13008195, 0.13008195]\n",
      "critic loss [0.11892851, 0.11892851]\n",
      "critic loss [0.10415881, 0.10415881]\n",
      "critic loss [0.089173317, 0.089173317]\n",
      "train end\n",
      "should be 1.0, predicted: [-0.02372065], target predicted: [-0.0136009]\n",
      "should be -1.0, predicted: [-0.40854868], target predicted: [-0.13317601]\n",
      "should be 1.0, predicted: [ 0.20618439], target predicted: [-0.0323026]\n",
      "start searching new action\n",
      "parallel:  4.669123411178589\n",
      "end searching new action\n",
      "train start:\n",
      "critic loss [0.12450413, 0.12450413]\n",
      "critic loss [0.11877904, 0.11877904]\n",
      "critic loss [0.11168132, 0.11168132]\n",
      "critic loss [0.10324033, 0.10324033]\n",
      "critic loss [0.09318687, 0.09318687]\n",
      "train end\n",
      "should be 1.0, predicted: [-0.49135759], target predicted: [-0.04568696]\n",
      "should be -1.0, predicted: [-1.07336771], target predicted: [-0.0922464]\n",
      "start searching new action\n",
      "parallel:  4.966493129730225\n",
      "end searching new action\n",
      "train start:\n",
      "critic loss [0.10485176, 0.10485176]\n",
      "critic loss [0.099866569, 0.099866569]\n",
      "critic loss [0.091395661, 0.091395661]\n",
      "critic loss [0.081418835, 0.081418835]\n",
      "critic loss [0.071439683, 0.071439683]\n",
      "train end\n",
      "should be 1.0, predicted: [ 0.1690771], target predicted: [ 0.00744154]\n",
      "should be -1.0, predicted: [-0.32060066], target predicted: [-0.12823953]\n",
      "should be 1.0, predicted: [ 0.21937156], target predicted: [-0.01075607]\n",
      "should be 1.0, predicted: [ 0.56802684], target predicted: [-0.11969361]\n",
      "should be -1.0, predicted: [-0.82189488], target predicted: [-0.08184253]\n",
      "start searching new action\n",
      "parallel:  5.218984127044678\n",
      "end searching new action\n",
      "train start:\n",
      "critic loss [0.10426188, 0.10426188]\n",
      "critic loss [0.10129952, 0.10129952]\n",
      "critic loss [0.095771268, 0.095771268]\n",
      "critic loss [0.088026345, 0.088026345]\n",
      "critic loss [0.078600049, 0.078600049]\n",
      "train end\n",
      "should be 1.0, predicted: [ 0.3144587], target predicted: [ 0.06906153]\n",
      "should be 1.0, predicted: [ 0.25761068], target predicted: [-0.0416952]\n",
      "start searching new action\n",
      "parallel:  4.873581886291504\n",
      "end searching new action\n",
      "train start:\n",
      "critic loss [0.11804245, 0.11804245]\n",
      "critic loss [0.11082929, 0.11082929]\n",
      "critic loss [0.099749908, 0.099749908]\n",
      "critic loss [0.087342471, 0.087342471]\n",
      "critic loss [0.075408354, 0.075408354]\n",
      "train end\n",
      "should be -1.0, predicted: [-0.87603146], target predicted: [-0.1351435]\n",
      "should be 1.0, predicted: [ 0.17631717], target predicted: [-0.08198468]\n",
      "should be 1.0, predicted: [ 0.53058398], target predicted: [-0.07725552]\n",
      "start searching new action\n",
      "parallel:  5.352565765380859\n",
      "end searching new action\n",
      "train start:\n",
      "critic loss [0.094829977, 0.094829977]\n",
      "critic loss [0.093187623, 0.093187623]\n",
      "critic loss [0.087562352, 0.087562352]\n",
      "critic loss [0.078965969, 0.078965969]\n",
      "critic loss [0.069020681, 0.069020681]\n",
      "train end\n",
      "should be -1.0, predicted: [-0.68056875], target predicted: [-0.26721641]\n",
      "start searching new action\n",
      "parallel:  5.069077253341675\n",
      "end searching new action\n",
      "train start:\n",
      "critic loss [0.09660136, 0.09660136]\n",
      "critic loss [0.0931715, 0.0931715]\n",
      "critic loss [0.087049991, 0.087049991]\n",
      "critic loss [0.078829989, 0.078829989]\n"
     ]
    },
    {
     "name": "stdout",
     "output_type": "stream",
     "text": [
      "critic loss [0.069278628, 0.069278628]\n",
      "train end\n",
      "should be 1.0, predicted: [-0.14791445], target predicted: [ 0.03613409]\n",
      "should be -1.0, predicted: [-0.55429089], target predicted: [-0.06543928]\n",
      "Episode : 18 Replay Buffer 1824\n",
      "TOTAL REWARD @ 18-th Episode  : Reward 1\n",
      "Total Step: 116\n",
      "start searching new action\n",
      "parallel:  4.748749017715454\n",
      "end searching new action\n",
      "train start:\n",
      "critic loss [0.086356021, 0.086356021]\n",
      "critic loss [0.081105985, 0.081105985]\n",
      "critic loss [0.073599964, 0.073599964]\n",
      "critic loss [0.065480813, 0.065480813]\n",
      "critic loss [0.057820059, 0.057820059]\n",
      "train end\n",
      "should be 1.0, predicted: [ 0.35811564], target predicted: [ 0.01535946]\n",
      "should be 1.0, predicted: [-0.1983508], target predicted: [-0.08804176]\n",
      "start searching new action\n",
      "parallel:  5.371851205825806\n",
      "end searching new action\n",
      "train start:\n",
      "critic loss [0.097843543, 0.097843543]\n",
      "critic loss [0.095267765, 0.095267765]\n",
      "critic loss [0.089575663, 0.089575663]\n",
      "critic loss [0.081456333, 0.081456333]\n",
      "critic loss [0.071748525, 0.071748525]\n",
      "train end\n",
      "should be 1.0, predicted: [ 0.15447338], target predicted: [ 0.04113106]\n",
      "should be 1.0, predicted: [ 0.31251669], target predicted: [-0.08511616]\n",
      "should be 1.0, predicted: [ 0.34391162], target predicted: [-0.0143373]\n",
      "start searching new action\n",
      "parallel:  4.945998430252075\n",
      "end searching new action\n",
      "train start:\n",
      "critic loss [0.11227348, 0.11227348]\n",
      "critic loss [0.10726221, 0.10726221]\n",
      "critic loss [0.098483875, 0.098483875]\n",
      "critic loss [0.087711401, 0.087711401]\n",
      "critic loss [0.076494113, 0.076494113]\n",
      "train end\n",
      "should be 1.0, predicted: [-0.11842452], target predicted: [-0.01110476]\n",
      "should be 1.0, predicted: [-0.02056039], target predicted: [-0.02153317]\n",
      "should be -1.0, predicted: [-0.0632033], target predicted: [-0.00393652]\n",
      "start searching new action\n",
      "parallel:  4.739670753479004\n",
      "end searching new action\n",
      "train start:\n",
      "critic loss [0.090934515, 0.090934515]\n",
      "critic loss [0.08820039, 0.08820039]\n",
      "critic loss [0.08204025, 0.08204025]\n",
      "critic loss [0.073456436, 0.073456436]\n",
      "critic loss [0.063740887, 0.063740887]\n",
      "train end\n",
      "should be 1.0, predicted: [ 0.56234944], target predicted: [-0.01659756]\n",
      "should be -1.0, predicted: [-0.31975573], target predicted: [-0.1401079]\n",
      "start searching new action\n",
      "parallel:  5.1282525062561035\n",
      "end searching new action\n",
      "train start:\n",
      "critic loss [0.088576861, 0.088576861]\n",
      "critic loss [0.08513996, 0.08513996]\n",
      "critic loss [0.077358343, 0.077358343]\n",
      "critic loss [0.067534566, 0.067534566]\n",
      "critic loss [0.057948019, 0.057948019]\n",
      "train end\n",
      "should be 1.0, predicted: [ 0.10139172], target predicted: [-0.04136501]\n",
      "should be 1.0, predicted: [ 0.40705609], target predicted: [-0.03853308]\n",
      "should be -1.0, predicted: [-0.23377234], target predicted: [-0.06663788]\n",
      "start searching new action\n",
      "parallel:  5.0570104122161865\n",
      "end searching new action\n",
      "train start:\n",
      "critic loss [0.079013549, 0.079013549]\n",
      "critic loss [0.078273006, 0.078273006]\n",
      "critic loss [0.075001009, 0.075001009]\n",
      "critic loss [0.069074549, 0.069074549]\n",
      "critic loss [0.061017308, 0.061017308]\n",
      "train end\n",
      "should be 1.0, predicted: [ 0.43354723], target predicted: [-0.12807336]\n",
      "start searching new action\n",
      "parallel:  5.143601179122925\n",
      "end searching new action\n",
      "train start:\n",
      "critic loss [0.12088442, 0.12088442]\n",
      "critic loss [0.11329769, 0.11329769]\n",
      "critic loss [0.10289061, 0.10289061]\n",
      "critic loss [0.091846526, 0.091846526]\n",
      "critic loss [0.081319198, 0.081319198]\n",
      "train end\n",
      "should be 1.0, predicted: [-0.11554211], target predicted: [-0.0310316]\n",
      "should be -1.0, predicted: [-0.2249893], target predicted: [-0.02782612]\n",
      "start searching new action\n",
      "parallel:  5.142263889312744\n",
      "end searching new action\n",
      "train start:\n",
      "critic loss [0.08626388, 0.08626388]\n",
      "critic loss [0.084030092, 0.084030092]\n",
      "critic loss [0.079810493, 0.079810493]\n",
      "critic loss [0.073674127, 0.073674127]\n",
      "critic loss [0.065969288, 0.065969288]\n",
      "train end\n",
      "should be 1.0, predicted: [-0.10701375], target predicted: [-0.10537423]\n",
      "should be -1.0, predicted: [-0.6217016], target predicted: [-0.06512971]\n",
      "should be 1.0, predicted: [ 0.34088907], target predicted: [ 0.01974785]\n",
      "Episode : 19 Replay Buffer 1865\n",
      "TOTAL REWARD @ 19-th Episode  : Reward -1\n",
      "Total Step: 41\n",
      "start searching new action\n",
      "parallel:  5.025648355484009\n",
      "end searching new action\n",
      "train start:\n",
      "critic loss [0.092502408, 0.092502408]\n",
      "critic loss [0.089318857, 0.089318857]\n",
      "critic loss [0.083583936, 0.083583936]\n",
      "critic loss [0.076105885, 0.076105885]\n",
      "critic loss [0.067625478, 0.067625478]\n",
      "train end\n",
      "should be -1.0, predicted: [-0.58788931], target predicted: [-0.12811412]\n",
      "should be 1.0, predicted: [ 0.40438527], target predicted: [-0.11493117]\n",
      "should be 1.0, predicted: [ 0.50926602], target predicted: [ 0.00077661]\n",
      "should be 1.0, predicted: [ 0.20503184], target predicted: [-0.024039]\n",
      "start searching new action\n",
      "parallel:  4.7519049644470215\n",
      "end searching new action\n",
      "train start:\n",
      "critic loss [0.094798341, 0.094798341]\n",
      "critic loss [0.09107767, 0.09107767]\n",
      "critic loss [0.084092662, 0.084092662]\n",
      "critic loss [0.075083524, 0.075083524]\n",
      "critic loss [0.065333202, 0.065333202]\n",
      "train end\n",
      "should be 1.0, predicted: [ 0.49596691], target predicted: [-0.00226445]\n",
      "should be -1.0, predicted: [-0.59272879], target predicted: [-0.11766981]\n",
      "should be -1.0, predicted: [-0.3605229], target predicted: [-0.03215745]\n",
      "should be 1.0, predicted: [ 0.68628144], target predicted: [-0.00569744]\n",
      "start searching new action\n",
      "parallel:  5.091742038726807\n",
      "end searching new action\n",
      "train start:\n",
      "critic loss [0.072206587, 0.072206587]\n",
      "critic loss [0.070688076, 0.070688076]\n",
      "critic loss [0.066280328, 0.066280328]\n",
      "critic loss [0.059806291, 0.059806291]\n",
      "critic loss [0.052368395, 0.052368395]\n",
      "train end\n",
      "should be 1.0, predicted: [ 0.57153523], target predicted: [-0.01843831]\n",
      "should be 1.0, predicted: [ 0.49763027], target predicted: [-0.02614231]\n",
      "should be 1.0, predicted: [ 0.20145954], target predicted: [ 0.03061758]\n",
      "start searching new action\n",
      "parallel:  5.098254680633545\n",
      "end searching new action\n",
      "train start:\n",
      "critic loss [0.087836727, 0.087836727]\n",
      "critic loss [0.083421245, 0.083421245]\n",
      "critic loss [0.077238157, 0.077238157]\n",
      "critic loss [0.0699929, 0.0699929]\n",
      "critic loss [0.062115151, 0.062115151]\n",
      "train end\n",
      "should be 1.0, predicted: [ 0.40260351], target predicted: [-0.05467328]\n",
      "should be 1.0, predicted: [ 0.45649803], target predicted: [ 0.00104153]\n",
      "should be 1.0, predicted: [ 0.54530871], target predicted: [-0.06042726]\n",
      "should be 1.0, predicted: [ 0.4037627], target predicted: [ 0.05239972]\n",
      "start searching new action\n",
      "parallel:  4.932798624038696\n",
      "end searching new action\n",
      "train start:\n",
      "critic loss [0.088992439, 0.088992439]\n",
      "critic loss [0.085260913, 0.085260913]\n",
      "critic loss [0.077641279, 0.077641279]\n",
      "critic loss [0.068155102, 0.068155102]\n",
      "critic loss [0.058654007, 0.058654007]\n",
      "train end\n",
      "should be -1.0, predicted: [-1.03489327], target predicted: [-0.0266714]\n",
      "should be 1.0, predicted: [ 0.59642178], target predicted: [-0.06738821]\n",
      "should be 1.0, predicted: [ 0.50071865], target predicted: [-0.01735506]\n",
      "should be 1.0, predicted: [ 0.59678125], target predicted: [ 0.03784604]\n",
      "start searching new action\n",
      "parallel:  4.888052701950073\n",
      "end searching new action\n",
      "train start:\n",
      "critic loss [0.10231436, 0.10231436]\n",
      "critic loss [0.1011056, 0.1011056]\n",
      "critic loss [0.095496804, 0.095496804]\n",
      "critic loss [0.086330034, 0.086330034]\n",
      "critic loss [0.075343758, 0.075343758]\n",
      "train end\n",
      "should be 1.0, predicted: [ 0.67621464], target predicted: [-0.01605855]\n",
      "should be 1.0, predicted: [ 0.24743147], target predicted: [-0.03230225]\n",
      "should be 1.0, predicted: [ 0.3523801], target predicted: [ 0.00816324]\n",
      "should be -1.0, predicted: [ 0.05772136], target predicted: [-0.05841824]\n",
      "start searching new action\n",
      "parallel:  4.983627557754517\n",
      "end searching new action\n",
      "train start:\n",
      "critic loss [0.078121752, 0.078121752]\n",
      "critic loss [0.071796618, 0.071796618]\n",
      "critic loss [0.064874187, 0.064874187]\n",
      "critic loss [0.058474477, 0.058474477]\n",
      "critic loss [0.052664552, 0.052664552]\n",
      "train end\n",
      "should be 1.0, predicted: [ 0.40128559], target predicted: [-0.00742483]\n",
      "start searching new action\n",
      "parallel:  5.360265016555786\n",
      "end searching new action\n",
      "train start:\n",
      "critic loss [0.10245267, 0.10245267]\n",
      "critic loss [0.098585978, 0.098585978]\n",
      "critic loss [0.088392533, 0.088392533]\n",
      "critic loss [0.075499311, 0.075499311]\n",
      "critic loss [0.063519374, 0.063519374]\n",
      "train end\n",
      "should be 1.0, predicted: [ 0.57243377], target predicted: [ 0.01652563]\n",
      "trained action prob map predicted by initial model for a starting game\n",
      "[[[  4.74112213e-01   2.26922257e-05   2.26965531e-05   2.27042383e-05\n",
      "     2.27350483e-05   2.27338787e-05   2.27408837e-05]\n",
      "  [  2.26641296e-05   2.26761731e-05   2.26807788e-05   2.26782704e-05\n",
      "     2.26923112e-05   2.26754364e-05   2.26919437e-05]\n",
      "  [  2.26959673e-05   2.26813627e-05   2.26909906e-05   2.27196615e-05\n",
      "     2.26813627e-05   2.27250348e-05   2.27216751e-05]\n",
      "  [  2.26802822e-05   2.26970733e-05   2.26941702e-05   2.27356777e-05\n",
      "     2.26868360e-05   2.26920074e-05   2.26653192e-05]\n",
      "  [  2.27070759e-05   2.26959892e-05   2.27087858e-05   2.27081146e-05\n",
      "     2.26819029e-05   2.26802822e-05   2.26823795e-05]\n",
      "  [  2.26989559e-05   2.27345718e-05   2.27030705e-05   2.26948650e-05\n",
      "     2.26772954e-05   2.26720204e-05   2.26805842e-05]\n",
      "  [  2.27240380e-05   2.27167784e-05   2.27282835e-05   2.27107557e-05\n",
      "     2.27012497e-05   2.27108649e-05   5.24820864e-01]]\n",
      "\n",
      " [[  5.30890065e-06   2.43577495e-01   3.70782247e-04   5.29176987e-06\n",
      "     5.30149373e-06   5.33865295e-06   5.31094656e-06]\n",
      "  [  2.21260354e-01   2.91966181e-03   2.83988629e-04   5.29082126e-06\n",
      "     5.30004809e-06   5.32802278e-06   5.33553748e-06]\n",
      "  [  1.19629158e-02   9.70500405e-04   6.16961974e-04   5.29672297e-06\n",
      "     5.29645513e-06   5.31079968e-06   5.31439173e-06]\n",
      "  [  5.31146861e-06   5.29903218e-06   5.29799627e-06   5.29409181e-06\n",
      "     5.30052785e-06   5.30095258e-06   5.31148862e-06]\n",
      "  [  5.31533988e-06   5.30711350e-06   5.29831959e-06   5.29709678e-06\n",
      "     7.30250671e-04   1.83936302e-03   3.16087641e-02]\n",
      "  [  5.34265564e-06   5.32914055e-06   5.29665294e-06   5.29044337e-06\n",
      "     3.61872662e-04   2.41949013e-03   2.64097214e-01]\n",
      "  [  5.31199476e-06   5.33111233e-06   5.29154795e-06   5.29103772e-06\n",
      "     7.13270856e-04   2.16091990e-01   5.31098249e-06]]]\n"
     ]
    },
    {
     "name": "stdout",
     "output_type": "stream",
     "text": [
      "Episode : 20 Replay Buffer 2002\n",
      "TOTAL REWARD @ 20-th Episode  : Reward 1\n",
      "Total Step: 137\n",
      "start searching new action\n",
      "parallel:  5.629457712173462\n",
      "end searching new action\n",
      "train start:\n",
      "critic loss [0.095000036, 0.095000036]\n",
      "critic loss [0.092954896, 0.092954896]\n",
      "critic loss [0.089259416, 0.089259416]\n",
      "critic loss [0.083189458, 0.083189458]\n",
      "critic loss [0.074598543, 0.074598543]\n",
      "train end\n",
      "should be 1.0, predicted: [ 0.35609585], target predicted: [ 0.01805073]\n",
      "should be 1.0, predicted: [ 0.46581718], target predicted: [-0.11809993]\n",
      "should be 1.0, predicted: [ 0.19100559], target predicted: [-0.02271636]\n",
      "start searching new action\n",
      "parallel:  5.1454761028289795\n",
      "end searching new action\n",
      "train start:\n",
      "critic loss [0.088101588, 0.088101588]\n",
      "critic loss [0.081244908, 0.081244908]\n",
      "critic loss [0.071560077, 0.071560077]\n",
      "critic loss [0.061930098, 0.061930098]\n",
      "critic loss [0.054066483, 0.054066483]\n",
      "train end\n",
      "should be -1.0, predicted: [-0.55203545], target predicted: [-0.05915496]\n",
      "should be 1.0, predicted: [ 0.45542154], target predicted: [ 0.04598111]\n",
      "should be 1.0, predicted: [ 0.69927937], target predicted: [-0.01713659]\n",
      "should be 1.0, predicted: [ 0.54528886], target predicted: [-0.14465097]\n",
      "start searching new action\n",
      "parallel:  5.685985565185547\n",
      "end searching new action\n",
      "train start:\n",
      "critic loss [0.093813144, 0.093813144]\n",
      "critic loss [0.093414694, 0.093414694]\n",
      "critic loss [0.088687219, 0.088687219]\n",
      "critic loss [0.080042019, 0.080042019]\n",
      "critic loss [0.068910062, 0.068910062]\n",
      "train end\n",
      "should be 1.0, predicted: [ 0.18302296], target predicted: [-0.01542905]\n",
      "should be 1.0, predicted: [ 0.20275353], target predicted: [-0.03889866]\n",
      "should be -1.0, predicted: [-0.7324841], target predicted: [-0.11131881]\n",
      "should be 1.0, predicted: [ 0.53271723], target predicted: [-0.08317807]\n",
      "start searching new action\n",
      "parallel:  4.8820600509643555\n",
      "end searching new action\n",
      "train start:\n",
      "critic loss [0.084657341, 0.084657341]\n",
      "critic loss [0.079372779, 0.079372779]\n",
      "critic loss [0.072860666, 0.072860666]\n",
      "critic loss [0.066023871, 0.066023871]\n",
      "critic loss [0.059219379, 0.059219379]\n",
      "train end\n",
      "should be 1.0, predicted: [ 0.41728514], target predicted: [-0.05345402]\n",
      "should be 1.0, predicted: [ 0.11782554], target predicted: [-0.18780996]\n",
      "start searching new action\n",
      "parallel:  5.038063287734985\n",
      "end searching new action\n",
      "train start:\n",
      "critic loss [0.075477242, 0.075477242]\n",
      "critic loss [0.072493434, 0.072493434]\n",
      "critic loss [0.065811463, 0.065811463]\n",
      "critic loss [0.057015702, 0.057015702]\n",
      "critic loss [0.047906738, 0.047906738]\n",
      "train end\n",
      "should be 1.0, predicted: [ 0.38987112], target predicted: [ 0.02948944]\n",
      "should be -1.0, predicted: [-0.46011668], target predicted: [-0.0081068]\n",
      "start searching new action\n",
      "parallel:  5.33588981628418\n",
      "end searching new action\n",
      "train start:\n",
      "critic loss [0.09079542, 0.09079542]\n",
      "critic loss [0.086282775, 0.086282775]\n",
      "critic loss [0.080339313, 0.080339313]\n",
      "critic loss [0.073535532, 0.073535532]\n",
      "critic loss [0.066154622, 0.066154622]\n",
      "train end\n",
      "should be 1.0, predicted: [ 0.65593052], target predicted: [ 0.00085753]\n",
      "start searching new action\n",
      "parallel:  5.0638885498046875\n",
      "end searching new action\n",
      "train start:\n",
      "critic loss [0.094178259, 0.094178259]\n",
      "critic loss [0.089956269, 0.089956269]\n",
      "critic loss [0.082229495, 0.082229495]\n",
      "critic loss [0.072748341, 0.072748341]\n",
      "critic loss [0.063155659, 0.063155659]\n",
      "train end\n",
      "should be 1.0, predicted: [ 0.87238234], target predicted: [-0.01213158]\n",
      "should be -1.0, predicted: [-0.61682487], target predicted: [-0.04120797]\n",
      "should be 1.0, predicted: [ 0.47607175], target predicted: [-0.14860685]\n",
      "should be 1.0, predicted: [ 0.66511077], target predicted: [-0.0521812]\n",
      "should be 1.0, predicted: [ 0.90602309], target predicted: [ 0.01114444]\n",
      "start searching new action\n",
      "parallel:  5.0250232219696045\n",
      "end searching new action\n",
      "train start:\n",
      "critic loss [0.095946595, 0.095946595]\n",
      "critic loss [0.092008837, 0.092008837]\n",
      "critic loss [0.084832683, 0.084832683]\n",
      "critic loss [0.075757913, 0.075757913]\n",
      "critic loss [0.066155747, 0.066155747]\n",
      "train end\n",
      "should be -1.0, predicted: [-0.73861432], target predicted: [ 0.01290772]\n",
      "should be 1.0, predicted: [ 0.29214871], target predicted: [ 0.07961608]\n",
      "should be 1.0, predicted: [ 0.61723143], target predicted: [-0.03887777]\n",
      "should be 1.0, predicted: [ 0.51001263], target predicted: [-0.14071029]\n",
      "should be -1.0, predicted: [-0.72635877], target predicted: [-0.07564069]\n",
      "Episode : 21 Replay Buffer 2119\n",
      "TOTAL REWARD @ 21-th Episode  : Reward 1\n",
      "Total Step: 117\n",
      "start searching new action\n",
      "parallel:  5.08326268196106\n",
      "end searching new action\n",
      "train start:\n",
      "critic loss [0.081997134, 0.081997134]\n",
      "critic loss [0.077417314, 0.077417314]\n",
      "critic loss [0.071634308, 0.071634308]\n",
      "critic loss [0.065536231, 0.065536231]\n",
      "critic loss [0.059433013, 0.059433013]\n",
      "train end\n",
      "start searching new action\n",
      "parallel:  4.853454113006592\n",
      "end searching new action\n",
      "train start:\n",
      "critic loss [0.098000035, 0.098000035]\n",
      "critic loss [0.096037224, 0.096037224]\n",
      "critic loss [0.089527138, 0.089527138]\n",
      "critic loss [0.079876058, 0.079876058]\n",
      "critic loss [0.068924949, 0.068924949]\n",
      "train end\n",
      "should be 1.0, predicted: [ 0.81502146], target predicted: [-0.0552444]\n",
      "should be -1.0, predicted: [-0.26355404], target predicted: [-0.11325173]\n",
      "start searching new action\n",
      "parallel:  5.236170768737793\n",
      "end searching new action\n",
      "train start:\n",
      "critic loss [0.083456255, 0.083456255]\n",
      "critic loss [0.080395445, 0.080395445]\n",
      "critic loss [0.075066753, 0.075066753]\n",
      "critic loss [0.067990065, 0.067990065]\n",
      "critic loss [0.059883893, 0.059883893]\n",
      "train end\n",
      "should be -1.0, predicted: [-0.7971859], target predicted: [ 0.01489946]\n",
      "start searching new action\n",
      "parallel:  4.854398965835571\n",
      "end searching new action\n",
      "train start:\n",
      "critic loss [0.10413551, 0.10413551]\n",
      "critic loss [0.10040353, 0.10040353]\n",
      "critic loss [0.093321696, 0.093321696]\n",
      "critic loss [0.083971374, 0.083971374]\n",
      "critic loss [0.073549591, 0.073549591]\n",
      "train end\n",
      "should be -1.0, predicted: [-0.54886079], target predicted: [-0.12054244]\n",
      "should be -1.0, predicted: [-0.27072802], target predicted: [-0.06645764]\n",
      "start searching new action\n",
      "parallel:  4.855398654937744\n",
      "end searching new action\n",
      "train start:\n",
      "critic loss [0.088441715, 0.088441715]\n",
      "critic loss [0.08519356, 0.08519356]\n",
      "critic loss [0.079430342, 0.079430342]\n",
      "critic loss [0.072004832, 0.072004832]\n",
      "critic loss [0.063754261, 0.063754261]\n",
      "train end\n",
      "should be 1.0, predicted: [ 0.22243127], target predicted: [-0.06453355]\n",
      "should be 1.0, predicted: [ 0.50440472], target predicted: [ 0.05826483]\n",
      "should be 1.0, predicted: [ 0.53341627], target predicted: [-0.04739844]\n",
      "should be -1.0, predicted: [-0.7538799], target predicted: [ 0.0176014]\n",
      "start searching new action\n",
      "parallel:  5.5470054149627686\n",
      "end searching new action\n",
      "train start:\n",
      "critic loss [0.06904529, 0.06904529]\n",
      "critic loss [0.066726282, 0.066726282]\n",
      "critic loss [0.061741151, 0.061741151]\n",
      "critic loss [0.055118635, 0.055118635]\n",
      "critic loss [0.047962129, 0.047962129]\n",
      "train end\n",
      "should be 1.0, predicted: [ 1.13872349], target predicted: [ 0.02813989]\n",
      "should be -1.0, predicted: [-0.87665874], target predicted: [ 0.01878308]\n",
      "start searching new action\n",
      "parallel:  5.136390686035156\n",
      "end searching new action\n",
      "train start:\n",
      "critic loss [0.078354076, 0.078354076]\n",
      "critic loss [0.074283019, 0.074283019]\n",
      "critic loss [0.068590008, 0.068590008]\n",
      "critic loss [0.061977539, 0.061977539]\n",
      "critic loss [0.05502668, 0.05502668]\n",
      "train end\n",
      "should be 1.0, predicted: [ 0.61057323], target predicted: [-0.0277418]\n",
      "should be 1.0, predicted: [ 0.54056257], target predicted: [ 0.0029047]\n",
      "should be 1.0, predicted: [ 0.50361127], target predicted: [-0.11820798]\n",
      "start searching new action\n",
      "parallel:  5.152026653289795\n",
      "end searching new action\n",
      "train start:\n",
      "critic loss [0.087900773, 0.087900773]\n",
      "critic loss [0.085680068, 0.085680068]\n",
      "critic loss [0.080450237, 0.080450237]\n",
      "critic loss [0.073002122, 0.073002122]\n",
      "critic loss [0.064285852, 0.064285852]\n",
      "train end\n",
      "should be 1.0, predicted: [ 0.71330094], target predicted: [ 0.02863347]\n",
      "should be 1.0, predicted: [ 0.28521621], target predicted: [-0.106275]\n",
      "Episode : 22 Replay Buffer 2126\n",
      "TOTAL REWARD @ 22-th Episode  : Reward -1\n",
      "Total Step: 7\n",
      "start searching new action\n",
      "parallel:  4.92487096786499\n",
      "end searching new action\n",
      "train start:\n",
      "critic loss [0.07035026, 0.07035026]\n",
      "critic loss [0.067031376, 0.067031376]\n",
      "critic loss [0.061959811, 0.061959811]\n"
     ]
    },
    {
     "name": "stdout",
     "output_type": "stream",
     "text": [
      "critic loss [0.055793345, 0.055793345]\n",
      "critic loss [0.049116299, 0.049116299]\n",
      "train end\n",
      "should be 1.0, predicted: [ 0.88650304], target predicted: [-0.04859492]\n",
      "should be -1.0, predicted: [-0.61027104], target predicted: [ 0.03516929]\n",
      "should be 1.0, predicted: [ 0.76964784], target predicted: [ 0.04792517]\n",
      "should be 1.0, predicted: [ 0.23736525], target predicted: [-0.01991968]\n",
      "start searching new action\n",
      "parallel:  5.32866907119751\n",
      "end searching new action\n",
      "train start:\n",
      "critic loss [0.083332911, 0.083332911]\n",
      "critic loss [0.080385402, 0.080385402]\n",
      "critic loss [0.075138837, 0.075138837]\n",
      "critic loss [0.068310842, 0.068310842]\n",
      "critic loss [0.060626727, 0.060626727]\n",
      "train end\n",
      "should be -1.0, predicted: [-0.67733127], target predicted: [-0.14631107]\n",
      "start searching new action\n",
      "parallel:  4.558441162109375\n",
      "end searching new action\n",
      "train start:\n",
      "critic loss [0.076513253, 0.076513253]\n",
      "critic loss [0.074055329, 0.074055329]\n",
      "critic loss [0.069250494, 0.069250494]\n",
      "critic loss [0.062856413, 0.062856413]\n",
      "critic loss [0.055741839, 0.055741839]\n",
      "train end\n",
      "should be 1.0, predicted: [ 0.38865167], target predicted: [ 0.03834098]\n",
      "should be 1.0, predicted: [ 0.37592587], target predicted: [-0.01883123]\n",
      "should be 1.0, predicted: [ 0.5391506], target predicted: [-0.15246713]\n",
      "should be 1.0, predicted: [ 0.6519596], target predicted: [ 0.09066816]\n",
      "should be 1.0, predicted: [ 0.71269864], target predicted: [-0.19911715]\n",
      "start searching new action\n",
      "parallel:  5.359622478485107\n",
      "end searching new action\n",
      "train start:\n",
      "critic loss [0.070243835, 0.070243835]\n",
      "critic loss [0.068350516, 0.068350516]\n",
      "critic loss [0.064817503, 0.064817503]\n",
      "critic loss [0.059940197, 0.059940197]\n",
      "critic loss [0.054072406, 0.054072406]\n",
      "train end\n",
      "should be 1.0, predicted: [ 0.77751374], target predicted: [ 0.01014574]\n",
      "should be -1.0, predicted: [-0.21937796], target predicted: [-0.15160356]\n",
      "should be 1.0, predicted: [ 0.26934853], target predicted: [-0.06098345]\n",
      "should be 1.0, predicted: [ 0.30757755], target predicted: [-0.0838991]\n",
      "should be 1.0, predicted: [ 0.53457141], target predicted: [-0.04956806]\n",
      "start searching new action\n",
      "parallel:  4.961367607116699\n",
      "end searching new action\n",
      "train start:\n",
      "critic loss [0.086565822, 0.086565822]\n",
      "critic loss [0.082901746, 0.082901746]\n",
      "critic loss [0.076656245, 0.076656245]\n",
      "critic loss [0.068933696, 0.068933696]\n",
      "critic loss [0.060773283, 0.060773283]\n",
      "train end\n",
      "should be -1.0, predicted: [-0.43146777], target predicted: [ 0.00851404]\n",
      "should be 1.0, predicted: [ 0.48531038], target predicted: [ 0.09357058]\n",
      "start searching new action\n",
      "parallel:  5.4616312980651855\n",
      "end searching new action\n",
      "train start:\n",
      "critic loss [0.095246479, 0.095246479]\n",
      "critic loss [0.09247268, 0.09247268]\n",
      "critic loss [0.085793942, 0.085793942]\n",
      "critic loss [0.076605566, 0.076605566]\n",
      "critic loss [0.066568896, 0.066568896]\n",
      "train end\n",
      "should be 1.0, predicted: [ 0.42249846], target predicted: [-0.02224118]\n",
      "should be -1.0, predicted: [-0.61117309], target predicted: [-0.09563038]\n",
      "should be -1.0, predicted: [ 0.1191774], target predicted: [-0.11754626]\n",
      "start searching new action\n",
      "parallel:  5.130062580108643\n",
      "end searching new action\n",
      "train start:\n",
      "critic loss [0.070877358, 0.070877358]\n",
      "critic loss [0.068835735, 0.068835735]\n",
      "critic loss [0.065488838, 0.065488838]\n",
      "critic loss [0.060919836, 0.060919836]\n",
      "critic loss [0.055273525, 0.055273525]\n",
      "train end\n",
      "should be 1.0, predicted: [ 0.63848788], target predicted: [ 0.05844545]\n",
      "should be -1.0, predicted: [-0.77016073], target predicted: [-0.07020612]\n",
      "should be -1.0, predicted: [-0.56742293], target predicted: [ 0.02394987]\n",
      "should be 1.0, predicted: [ 0.37386987], target predicted: [-0.08132987]\n",
      "should be 1.0, predicted: [ 0.77238315], target predicted: [-0.02397481]\n",
      "start searching new action\n",
      "parallel:  5.298226833343506\n",
      "end searching new action\n",
      "train start:\n",
      "critic loss [0.08155863, 0.08155863]\n",
      "critic loss [0.077412784, 0.077412784]\n",
      "critic loss [0.070702016, 0.070702016]\n",
      "critic loss [0.062928535, 0.062928535]\n",
      "critic loss [0.055236578, 0.055236578]\n",
      "train end\n",
      "should be 1.0, predicted: [ 0.57889992], target predicted: [ 0.03064947]\n",
      "should be 1.0, predicted: [ 0.56405473], target predicted: [-0.05838966]\n",
      "Episode : 23 Replay Buffer 2140\n",
      "TOTAL REWARD @ 23-th Episode  : Reward 1\n",
      "Total Step: 14\n",
      "start searching new action\n",
      "parallel:  5.537051439285278\n",
      "end searching new action\n",
      "train start:\n",
      "critic loss [0.062766865, 0.062766865]\n",
      "critic loss [0.06004091, 0.06004091]\n",
      "critic loss [0.056293577, 0.056293577]\n",
      "critic loss [0.05187428, 0.05187428]\n",
      "critic loss [0.046951301, 0.046951301]\n",
      "train end\n",
      "should be -1.0, predicted: [-0.66829854], target predicted: [ 0.03167607]\n",
      "should be 1.0, predicted: [ 0.93230742], target predicted: [-0.05409929]\n",
      "should be -1.0, predicted: [-0.52815235], target predicted: [-0.05849648]\n",
      "should be -1.0, predicted: [-0.51564491], target predicted: [-0.02353811]\n",
      "start searching new action\n",
      "parallel:  4.708511829376221\n",
      "end searching new action\n",
      "train start:\n",
      "critic loss [0.067846902, 0.067846902]\n",
      "critic loss [0.065391317, 0.065391317]\n",
      "critic loss [0.060513951, 0.060513951]\n",
      "critic loss [0.054204956, 0.054204956]\n",
      "critic loss [0.047442634, 0.047442634]\n",
      "train end\n",
      "should be 1.0, predicted: [ 0.73155707], target predicted: [ 0.0781081]\n",
      "should be -1.0, predicted: [-0.9469344], target predicted: [-0.14973542]\n",
      "should be 1.0, predicted: [ 0.6260851], target predicted: [ 0.00792034]\n",
      "start searching new action\n",
      "parallel:  4.874948501586914\n",
      "end searching new action\n",
      "train start:\n",
      "critic loss [0.093104966, 0.093104966]\n",
      "critic loss [0.090019867, 0.090019867]\n",
      "critic loss [0.083199993, 0.083199993]\n",
      "critic loss [0.074069664, 0.074069664]\n",
      "critic loss [0.064246342, 0.064246342]\n",
      "train end\n",
      "should be 1.0, predicted: [ 0.13811035], target predicted: [ 0.09864624]\n",
      "should be 1.0, predicted: [ 0.68530059], target predicted: [-0.0447783]\n",
      "should be -1.0, predicted: [-0.33006638], target predicted: [-0.20818628]\n",
      "start searching new action\n",
      "parallel:  5.375513792037964\n",
      "end searching new action\n",
      "train start:\n",
      "critic loss [0.071481228, 0.071481228]\n",
      "critic loss [0.069530234, 0.069530234]\n",
      "critic loss [0.065233506, 0.065233506]\n",
      "critic loss [0.059185058, 0.059185058]\n",
      "critic loss [0.052319884, 0.052319884]\n",
      "train end\n",
      "should be 1.0, predicted: [ 0.80521923], target predicted: [ 0.00722406]\n",
      "should be -1.0, predicted: [ 0.03546883], target predicted: [-0.02237996]\n",
      "should be 1.0, predicted: [ 1.01633203], target predicted: [ 0.06243283]\n",
      "start searching new action\n",
      "parallel:  5.035522699356079\n",
      "end searching new action\n",
      "train start:\n",
      "critic loss [0.080083758, 0.080083758]\n",
      "critic loss [0.076257788, 0.076257788]\n",
      "critic loss [0.070000045, 0.070000045]\n",
      "critic loss [0.062575415, 0.062575415]\n",
      "critic loss [0.054910351, 0.054910351]\n",
      "train end\n",
      "should be 1.0, predicted: [ 1.04521525], target predicted: [-0.09177983]\n",
      "should be 1.0, predicted: [ 0.67342728], target predicted: [-0.22974166]\n",
      "start searching new action\n",
      "parallel:  4.747498035430908\n",
      "end searching new action\n",
      "train start:\n",
      "critic loss [0.080784582, 0.080784582]\n",
      "critic loss [0.078380756, 0.078380756]\n",
      "critic loss [0.072736517, 0.072736517]\n",
      "critic loss [0.064927734, 0.064927734]\n",
      "critic loss [0.056273852, 0.056273852]\n",
      "train end\n",
      "should be 1.0, predicted: [ 0.89479762], target predicted: [ 0.06528242]\n",
      "should be -1.0, predicted: [-0.6849733], target predicted: [-0.01312607]\n",
      "should be 1.0, predicted: [ 0.53353828], target predicted: [ 0.06964532]\n",
      "should be 1.0, predicted: [ 0.7817691], target predicted: [-0.01749162]\n",
      "should be -1.0, predicted: [-0.50176626], target predicted: [ 0.02116932]\n",
      "should be -1.0, predicted: [-0.55773538], target predicted: [-0.14496751]\n",
      "start searching new action\n",
      "parallel:  5.2077250480651855\n",
      "end searching new action\n",
      "train start:\n",
      "critic loss [0.077282235, 0.077282235]\n",
      "critic loss [0.07499519, 0.07499519]\n",
      "critic loss [0.070733912, 0.070733912]\n",
      "critic loss [0.064884543, 0.064884543]\n",
      "critic loss [0.05795978, 0.05795978]\n",
      "train end\n",
      "should be -1.0, predicted: [-0.37317917], target predicted: [-0.05861146]\n",
      "should be -1.0, predicted: [ 0.70229799], target predicted: [-0.15676099]\n",
      "should be 1.0, predicted: [ 0.98619533], target predicted: [-0.04706134]\n",
      "should be 1.0, predicted: [ 0.12767807], target predicted: [-0.14767991]\n",
      "start searching new action\n",
      "parallel:  5.225819826126099\n",
      "end searching new action\n",
      "train start:\n",
      "critic loss [0.068236262, 0.068236262]\n",
      "critic loss [0.066588148, 0.066588148]\n",
      "critic loss [0.062945634, 0.062945634]\n",
      "critic loss [0.057829723, 0.057829723]\n"
     ]
    },
    {
     "name": "stdout",
     "output_type": "stream",
     "text": [
      "critic loss [0.051803432, 0.051803432]\n",
      "train end\n",
      "should be 1.0, predicted: [ 0.84452957], target predicted: [-0.04163935]\n",
      "should be 1.0, predicted: [ 0.62805367], target predicted: [-0.05743261]\n",
      "should be 1.0, predicted: [ 0.66851878], target predicted: [ 0.0147237]\n",
      "Episode : 24 Replay Buffer 2319\n",
      "TOTAL REWARD @ 24-th Episode  : Reward -1\n",
      "Total Step: 179\n",
      "start searching new action\n",
      "parallel:  4.467976331710815\n",
      "end searching new action\n",
      "train start:\n",
      "critic loss [0.10367907, 0.10367907]\n",
      "critic loss [0.099344343, 0.099344343]\n",
      "critic loss [0.091712892, 0.091712892]\n",
      "critic loss [0.082363576, 0.082363576]\n",
      "critic loss [0.072671019, 0.072671019]\n",
      "train end\n",
      "should be 1.0, predicted: [ 0.38470691], target predicted: [-0.23737763]\n",
      "should be 1.0, predicted: [ 0.44237658], target predicted: [ 0.0015172]\n",
      "start searching new action\n",
      "parallel:  4.989029169082642\n",
      "end searching new action\n",
      "train start:\n",
      "critic loss [0.086940445, 0.086940445]\n",
      "critic loss [0.084518686, 0.084518686]\n",
      "critic loss [0.079346053, 0.079346053]\n",
      "critic loss [0.072077624, 0.072077624]\n",
      "critic loss [0.063730106, 0.063730106]\n",
      "train end\n",
      "should be 1.0, predicted: [ 0.68054885], target predicted: [ 0.06521074]\n",
      "start searching new action\n",
      "parallel:  4.7760608196258545\n",
      "end searching new action\n",
      "train start:\n",
      "critic loss [0.08210846, 0.08210846]\n",
      "critic loss [0.07753469, 0.07753469]\n",
      "critic loss [0.071484827, 0.071484827]\n",
      "critic loss [0.06495291, 0.06495291]\n",
      "critic loss [0.058336861, 0.058336861]\n",
      "train end\n",
      "should be -1.0, predicted: [-0.2725352], target predicted: [-0.05932501]\n",
      "should be -1.0, predicted: [-0.58224982], target predicted: [-0.12511787]\n",
      "should be -1.0, predicted: [-0.85838389], target predicted: [-0.01073091]\n",
      "should be 1.0, predicted: [ 0.13620487], target predicted: [ 0.06395496]\n",
      "should be 1.0, predicted: [ 0.25487211], target predicted: [-0.09478192]\n",
      "start searching new action\n",
      "parallel:  4.961780786514282\n",
      "end searching new action\n",
      "train start:\n",
      "critic loss [0.068648867, 0.068648867]\n",
      "critic loss [0.066884764, 0.066884764]\n",
      "critic loss [0.06245717, 0.06245717]\n",
      "critic loss [0.056297369, 0.056297369]\n",
      "critic loss [0.049540926, 0.049540926]\n",
      "train end\n",
      "should be 1.0, predicted: [ 0.47357965], target predicted: [ 0.14949267]\n",
      "should be 1.0, predicted: [ 0.77988482], target predicted: [-0.04025045]\n",
      "start searching new action\n",
      "parallel:  4.9615702629089355\n",
      "end searching new action\n",
      "train start:\n",
      "critic loss [0.093433306, 0.093433306]\n",
      "critic loss [0.087027058, 0.087027058]\n",
      "critic loss [0.079256512, 0.079256512]\n",
      "critic loss [0.071599446, 0.071599446]\n",
      "critic loss [0.064672723, 0.064672723]\n",
      "train end\n",
      "should be -1.0, predicted: [-0.4453724], target predicted: [-0.07813999]\n",
      "should be -1.0, predicted: [ 0.39931342], target predicted: [-0.06181155]\n",
      "start searching new action\n",
      "parallel:  4.645428419113159\n",
      "end searching new action\n",
      "train start:\n",
      "critic loss [0.079583429, 0.079583429]\n",
      "critic loss [0.078925937, 0.078925937]\n",
      "critic loss [0.07374727, 0.07374727]\n",
      "critic loss [0.065361783, 0.065361783]\n",
      "critic loss [0.05575265, 0.05575265]\n",
      "train end\n",
      "should be 1.0, predicted: [ 0.87620676], target predicted: [-0.24213681]\n",
      "should be 1.0, predicted: [-0.02944452], target predicted: [-0.11114226]\n",
      "start searching new action\n",
      "parallel:  4.876872301101685\n",
      "end searching new action\n",
      "train start:\n",
      "critic loss [0.074426509, 0.074426509]\n",
      "critic loss [0.070688114, 0.070688114]\n",
      "critic loss [0.065795116, 0.065795116]\n",
      "critic loss [0.060328484, 0.060328484]\n",
      "critic loss [0.054443464, 0.054443464]\n",
      "train end\n",
      "should be 1.0, predicted: [ 1.12154162], target predicted: [ 0.05446225]\n",
      "start searching new action\n",
      "parallel:  4.861128568649292\n",
      "end searching new action\n",
      "train start:\n",
      "critic loss [0.074363098, 0.074363098]\n",
      "critic loss [0.07305444, 0.07305444]\n",
      "critic loss [0.069227338, 0.069227338]\n",
      "critic loss [0.063578382, 0.063578382]\n",
      "critic loss [0.056946486, 0.056946486]\n",
      "train end\n",
      "should be -1.0, predicted: [-0.32050338], target predicted: [ 0.03756226]\n",
      "Episode : 25 Replay Buffer 2482\n",
      "TOTAL REWARD @ 25-th Episode  : Reward -1\n",
      "Total Step: 163\n",
      "start searching new action\n",
      "parallel:  5.55047607421875\n",
      "end searching new action\n",
      "train start:\n",
      "critic loss [0.065425396, 0.065425396]\n",
      "critic loss [0.06244662, 0.06244662]\n",
      "critic loss [0.058453579, 0.058453579]\n",
      "critic loss [0.053846613, 0.053846613]\n",
      "critic loss [0.048705999, 0.048705999]\n",
      "train end\n",
      "should be 1.0, predicted: [ 0.17284679], target predicted: [ 0.13678797]\n",
      "should be 1.0, predicted: [ 0.61869335], target predicted: [ 0.01558131]\n",
      "should be 1.0, predicted: [ 0.57365865], target predicted: [-0.03056276]\n",
      "should be 1.0, predicted: [ 0.5221386], target predicted: [-0.10913987]\n",
      "start searching new action\n"
     ]
    },
    {
     "name": "stderr",
     "output_type": "stream",
     "text": [
      "Process ForkPoolWorker-15592:\n",
      "Process ForkPoolWorker-15591:\n",
      "Traceback (most recent call last):\n",
      "Traceback (most recent call last):\n",
      "  File \"/home/yuze/anaconda3/envs/tensorflow/lib/python3.5/multiprocessing/process.py\", line 252, in _bootstrap\n",
      "    self.run()\n"
     ]
    },
    {
     "ename": "KeyboardInterrupt",
     "evalue": "",
     "output_type": "error",
     "traceback": [
      "\u001b[0;31m---------------------------------------------------------------------------\u001b[0m",
      "\u001b[0;31mKeyboardInterrupt\u001b[0m                         Traceback (most recent call last)",
      "\u001b[0;32m<ipython-input-326-f6d1f883369b>\u001b[0m in \u001b[0;36m<module>\u001b[0;34m()\u001b[0m\n\u001b[1;32m      1\u001b[0m actor = reinforcement_learning(epochs=2000, check_point=True, step_per_epoch=8, \n\u001b[0;32m----> 2\u001b[0;31m                                RELAY_SIZE=50000, BATCH_SIZE=BATCH_SIZE, TRAIN_BATCH_TIME=5, LRC=5e-5, LRA=1e-5, TAU=0.01)\n\u001b[0m",
      "\u001b[0;32m<ipython-input-325-eabd30c317e0>\u001b[0m in \u001b[0;36mreinforcement_learning\u001b[0;34m(epochs, check_point, step_per_epoch, BATCH_SIZE, TRAIN_BATCH_TIME, GAMMA, RELAY_SIZE, TAU, LRA, LRC)\u001b[0m\n\u001b[1;32m     70\u001b[0m                 \u001b[0mprint\u001b[0m\u001b[0;34m(\u001b[0m\u001b[0;34m\"start searching new action\"\u001b[0m\u001b[0;34m)\u001b[0m\u001b[0;34m\u001b[0m\u001b[0m\n\u001b[1;32m     71\u001b[0m                 \u001b[0mstart\u001b[0m \u001b[0;34m=\u001b[0m \u001b[0mtime\u001b[0m\u001b[0;34m.\u001b[0m\u001b[0mtime\u001b[0m\u001b[0;34m(\u001b[0m\u001b[0;34m)\u001b[0m\u001b[0;34m\u001b[0m\u001b[0m\n\u001b[0;32m---> 72\u001b[0;31m                 \u001b[0;32mwith\u001b[0m \u001b[0mPool\u001b[0m\u001b[0;34m(\u001b[0m\u001b[0mprocesses\u001b[0m\u001b[0;34m=\u001b[0m\u001b[0;36m8\u001b[0m\u001b[0;34m)\u001b[0m \u001b[0;32mas\u001b[0m \u001b[0mpool\u001b[0m\u001b[0;34m:\u001b[0m\u001b[0;34m\u001b[0m\u001b[0m\n\u001b[0m\u001b[1;32m     73\u001b[0m                     \u001b[0mpool\u001b[0m\u001b[0;34m.\u001b[0m\u001b[0mmap\u001b[0m\u001b[0;34m(\u001b[0m\u001b[0mget_new_action\u001b[0m\u001b[0;34m,\u001b[0m \u001b[0mrange\u001b[0m\u001b[0;34m(\u001b[0m\u001b[0mBATCH_SIZE\u001b[0m\u001b[0;34m)\u001b[0m\u001b[0;34m,\u001b[0m \u001b[0mchunksize\u001b[0m\u001b[0;34m=\u001b[0m\u001b[0;36m32\u001b[0m\u001b[0;34m)\u001b[0m\u001b[0;34m\u001b[0m\u001b[0m\n\u001b[1;32m     74\u001b[0m                 \u001b[0mprint\u001b[0m\u001b[0;34m(\u001b[0m\u001b[0;34m\"parallel: \"\u001b[0m\u001b[0;34m,\u001b[0m \u001b[0mtime\u001b[0m\u001b[0;34m.\u001b[0m\u001b[0mtime\u001b[0m\u001b[0;34m(\u001b[0m\u001b[0;34m)\u001b[0m\u001b[0;34m-\u001b[0m\u001b[0mstart\u001b[0m\u001b[0;34m)\u001b[0m\u001b[0;34m\u001b[0m\u001b[0m\n",
      "\u001b[0;32m~/anaconda3/envs/tensorflow/lib/python3.5/multiprocessing/context.py\u001b[0m in \u001b[0;36mPool\u001b[0;34m(self, processes, initializer, initargs, maxtasksperchild)\u001b[0m\n\u001b[1;32m    116\u001b[0m         \u001b[0;32mfrom\u001b[0m \u001b[0;34m.\u001b[0m\u001b[0mpool\u001b[0m \u001b[0;32mimport\u001b[0m \u001b[0mPool\u001b[0m\u001b[0;34m\u001b[0m\u001b[0m\n\u001b[1;32m    117\u001b[0m         return Pool(processes, initializer, initargs, maxtasksperchild,\n\u001b[0;32m--> 118\u001b[0;31m                     context=self.get_context())\n\u001b[0m\u001b[1;32m    119\u001b[0m \u001b[0;34m\u001b[0m\u001b[0m\n\u001b[1;32m    120\u001b[0m     \u001b[0;32mdef\u001b[0m \u001b[0mRawValue\u001b[0m\u001b[0;34m(\u001b[0m\u001b[0mself\u001b[0m\u001b[0;34m,\u001b[0m \u001b[0mtypecode_or_type\u001b[0m\u001b[0;34m,\u001b[0m \u001b[0;34m*\u001b[0m\u001b[0margs\u001b[0m\u001b[0;34m)\u001b[0m\u001b[0;34m:\u001b[0m\u001b[0;34m\u001b[0m\u001b[0m\n",
      "\u001b[0;32m~/anaconda3/envs/tensorflow/lib/python3.5/multiprocessing/pool.py\u001b[0m in \u001b[0;36m__init__\u001b[0;34m(self, processes, initializer, initargs, maxtasksperchild, context)\u001b[0m\n\u001b[1;32m    172\u001b[0m         \u001b[0mself\u001b[0m\u001b[0;34m.\u001b[0m\u001b[0m_processes\u001b[0m \u001b[0;34m=\u001b[0m \u001b[0mprocesses\u001b[0m\u001b[0;34m\u001b[0m\u001b[0m\n\u001b[1;32m    173\u001b[0m         \u001b[0mself\u001b[0m\u001b[0;34m.\u001b[0m\u001b[0m_pool\u001b[0m \u001b[0;34m=\u001b[0m \u001b[0;34m[\u001b[0m\u001b[0;34m]\u001b[0m\u001b[0;34m\u001b[0m\u001b[0m\n\u001b[0;32m--> 174\u001b[0;31m         \u001b[0mself\u001b[0m\u001b[0;34m.\u001b[0m\u001b[0m_repopulate_pool\u001b[0m\u001b[0;34m(\u001b[0m\u001b[0;34m)\u001b[0m\u001b[0;34m\u001b[0m\u001b[0m\n\u001b[0m\u001b[1;32m    175\u001b[0m \u001b[0;34m\u001b[0m\u001b[0m\n\u001b[1;32m    176\u001b[0m         self._worker_handler = threading.Thread(\n",
      "\u001b[0;32m~/anaconda3/envs/tensorflow/lib/python3.5/multiprocessing/pool.py\u001b[0m in \u001b[0;36m_repopulate_pool\u001b[0;34m(self)\u001b[0m\n\u001b[1;32m    237\u001b[0m             \u001b[0mw\u001b[0m\u001b[0;34m.\u001b[0m\u001b[0mname\u001b[0m \u001b[0;34m=\u001b[0m \u001b[0mw\u001b[0m\u001b[0;34m.\u001b[0m\u001b[0mname\u001b[0m\u001b[0;34m.\u001b[0m\u001b[0mreplace\u001b[0m\u001b[0;34m(\u001b[0m\u001b[0;34m'Process'\u001b[0m\u001b[0;34m,\u001b[0m \u001b[0;34m'PoolWorker'\u001b[0m\u001b[0;34m)\u001b[0m\u001b[0;34m\u001b[0m\u001b[0m\n\u001b[1;32m    238\u001b[0m             \u001b[0mw\u001b[0m\u001b[0;34m.\u001b[0m\u001b[0mdaemon\u001b[0m \u001b[0;34m=\u001b[0m \u001b[0;32mTrue\u001b[0m\u001b[0;34m\u001b[0m\u001b[0m\n\u001b[0;32m--> 239\u001b[0;31m             \u001b[0mw\u001b[0m\u001b[0;34m.\u001b[0m\u001b[0mstart\u001b[0m\u001b[0;34m(\u001b[0m\u001b[0;34m)\u001b[0m\u001b[0;34m\u001b[0m\u001b[0m\n\u001b[0m\u001b[1;32m    240\u001b[0m             \u001b[0mutil\u001b[0m\u001b[0;34m.\u001b[0m\u001b[0mdebug\u001b[0m\u001b[0;34m(\u001b[0m\u001b[0;34m'added worker'\u001b[0m\u001b[0;34m)\u001b[0m\u001b[0;34m\u001b[0m\u001b[0m\n\u001b[1;32m    241\u001b[0m \u001b[0;34m\u001b[0m\u001b[0m\n",
      "\u001b[0;32m~/anaconda3/envs/tensorflow/lib/python3.5/multiprocessing/process.py\u001b[0m in \u001b[0;36mstart\u001b[0;34m(self)\u001b[0m\n\u001b[1;32m    103\u001b[0m                \u001b[0;34m'daemonic processes are not allowed to have children'\u001b[0m\u001b[0;34m\u001b[0m\u001b[0m\n\u001b[1;32m    104\u001b[0m         \u001b[0m_cleanup\u001b[0m\u001b[0;34m(\u001b[0m\u001b[0;34m)\u001b[0m\u001b[0;34m\u001b[0m\u001b[0m\n\u001b[0;32m--> 105\u001b[0;31m         \u001b[0mself\u001b[0m\u001b[0;34m.\u001b[0m\u001b[0m_popen\u001b[0m \u001b[0;34m=\u001b[0m \u001b[0mself\u001b[0m\u001b[0;34m.\u001b[0m\u001b[0m_Popen\u001b[0m\u001b[0;34m(\u001b[0m\u001b[0mself\u001b[0m\u001b[0;34m)\u001b[0m\u001b[0;34m\u001b[0m\u001b[0m\n\u001b[0m\u001b[1;32m    106\u001b[0m         \u001b[0mself\u001b[0m\u001b[0;34m.\u001b[0m\u001b[0m_sentinel\u001b[0m \u001b[0;34m=\u001b[0m \u001b[0mself\u001b[0m\u001b[0;34m.\u001b[0m\u001b[0m_popen\u001b[0m\u001b[0;34m.\u001b[0m\u001b[0msentinel\u001b[0m\u001b[0;34m\u001b[0m\u001b[0m\n\u001b[1;32m    107\u001b[0m         \u001b[0;31m# Avoid a refcycle if the target function holds an indirect\u001b[0m\u001b[0;34m\u001b[0m\u001b[0;34m\u001b[0m\u001b[0m\n",
      "\u001b[0;32m~/anaconda3/envs/tensorflow/lib/python3.5/multiprocessing/context.py\u001b[0m in \u001b[0;36m_Popen\u001b[0;34m(process_obj)\u001b[0m\n\u001b[1;32m    265\u001b[0m         \u001b[0;32mdef\u001b[0m \u001b[0m_Popen\u001b[0m\u001b[0;34m(\u001b[0m\u001b[0mprocess_obj\u001b[0m\u001b[0;34m)\u001b[0m\u001b[0;34m:\u001b[0m\u001b[0;34m\u001b[0m\u001b[0m\n\u001b[1;32m    266\u001b[0m             \u001b[0;32mfrom\u001b[0m \u001b[0;34m.\u001b[0m\u001b[0mpopen_fork\u001b[0m \u001b[0;32mimport\u001b[0m \u001b[0mPopen\u001b[0m\u001b[0;34m\u001b[0m\u001b[0m\n\u001b[0;32m--> 267\u001b[0;31m             \u001b[0;32mreturn\u001b[0m \u001b[0mPopen\u001b[0m\u001b[0;34m(\u001b[0m\u001b[0mprocess_obj\u001b[0m\u001b[0;34m)\u001b[0m\u001b[0;34m\u001b[0m\u001b[0m\n\u001b[0m\u001b[1;32m    268\u001b[0m \u001b[0;34m\u001b[0m\u001b[0m\n\u001b[1;32m    269\u001b[0m     \u001b[0;32mclass\u001b[0m \u001b[0mSpawnProcess\u001b[0m\u001b[0;34m(\u001b[0m\u001b[0mprocess\u001b[0m\u001b[0;34m.\u001b[0m\u001b[0mBaseProcess\u001b[0m\u001b[0;34m)\u001b[0m\u001b[0;34m:\u001b[0m\u001b[0;34m\u001b[0m\u001b[0m\n",
      "\u001b[0;32m~/anaconda3/envs/tensorflow/lib/python3.5/multiprocessing/popen_fork.py\u001b[0m in \u001b[0;36m__init__\u001b[0;34m(self, process_obj)\u001b[0m\n\u001b[1;32m     18\u001b[0m         \u001b[0msys\u001b[0m\u001b[0;34m.\u001b[0m\u001b[0mstderr\u001b[0m\u001b[0;34m.\u001b[0m\u001b[0mflush\u001b[0m\u001b[0;34m(\u001b[0m\u001b[0;34m)\u001b[0m\u001b[0;34m\u001b[0m\u001b[0m\n\u001b[1;32m     19\u001b[0m         \u001b[0mself\u001b[0m\u001b[0;34m.\u001b[0m\u001b[0mreturncode\u001b[0m \u001b[0;34m=\u001b[0m \u001b[0;32mNone\u001b[0m\u001b[0;34m\u001b[0m\u001b[0m\n\u001b[0;32m---> 20\u001b[0;31m         \u001b[0mself\u001b[0m\u001b[0;34m.\u001b[0m\u001b[0m_launch\u001b[0m\u001b[0;34m(\u001b[0m\u001b[0mprocess_obj\u001b[0m\u001b[0;34m)\u001b[0m\u001b[0;34m\u001b[0m\u001b[0m\n\u001b[0m\u001b[1;32m     21\u001b[0m \u001b[0;34m\u001b[0m\u001b[0m\n\u001b[1;32m     22\u001b[0m     \u001b[0;32mdef\u001b[0m \u001b[0mduplicate_for_child\u001b[0m\u001b[0;34m(\u001b[0m\u001b[0mself\u001b[0m\u001b[0;34m,\u001b[0m \u001b[0mfd\u001b[0m\u001b[0;34m)\u001b[0m\u001b[0;34m:\u001b[0m\u001b[0;34m\u001b[0m\u001b[0m\n",
      "\u001b[0;32m~/anaconda3/envs/tensorflow/lib/python3.5/multiprocessing/popen_fork.py\u001b[0m in \u001b[0;36m_launch\u001b[0;34m(self, process_obj)\u001b[0m\n\u001b[1;32m     65\u001b[0m         \u001b[0mcode\u001b[0m \u001b[0;34m=\u001b[0m \u001b[0;36m1\u001b[0m\u001b[0;34m\u001b[0m\u001b[0m\n\u001b[1;32m     66\u001b[0m         \u001b[0mparent_r\u001b[0m\u001b[0;34m,\u001b[0m \u001b[0mchild_w\u001b[0m \u001b[0;34m=\u001b[0m \u001b[0mos\u001b[0m\u001b[0;34m.\u001b[0m\u001b[0mpipe\u001b[0m\u001b[0;34m(\u001b[0m\u001b[0;34m)\u001b[0m\u001b[0;34m\u001b[0m\u001b[0m\n\u001b[0;32m---> 67\u001b[0;31m         \u001b[0mself\u001b[0m\u001b[0;34m.\u001b[0m\u001b[0mpid\u001b[0m \u001b[0;34m=\u001b[0m \u001b[0mos\u001b[0m\u001b[0;34m.\u001b[0m\u001b[0mfork\u001b[0m\u001b[0;34m(\u001b[0m\u001b[0;34m)\u001b[0m\u001b[0;34m\u001b[0m\u001b[0m\n\u001b[0m\u001b[1;32m     68\u001b[0m         \u001b[0;32mif\u001b[0m \u001b[0mself\u001b[0m\u001b[0;34m.\u001b[0m\u001b[0mpid\u001b[0m \u001b[0;34m==\u001b[0m \u001b[0;36m0\u001b[0m\u001b[0;34m:\u001b[0m\u001b[0;34m\u001b[0m\u001b[0m\n\u001b[1;32m     69\u001b[0m             \u001b[0;32mtry\u001b[0m\u001b[0;34m:\u001b[0m\u001b[0;34m\u001b[0m\u001b[0m\n",
      "\u001b[0;31mKeyboardInterrupt\u001b[0m: "
     ]
    },
    {
     "name": "stderr",
     "output_type": "stream",
     "text": [
      "  File \"/home/yuze/anaconda3/envs/tensorflow/lib/python3.5/multiprocessing/process.py\", line 252, in _bootstrap\n",
      "    self.run()\n",
      "  File \"/home/yuze/anaconda3/envs/tensorflow/lib/python3.5/multiprocessing/process.py\", line 93, in run\n",
      "    self._target(*self._args, **self._kwargs)\n",
      "  File \"/home/yuze/anaconda3/envs/tensorflow/lib/python3.5/multiprocessing/process.py\", line 93, in run\n",
      "    self._target(*self._args, **self._kwargs)\n",
      "  File \"/home/yuze/anaconda3/envs/tensorflow/lib/python3.5/multiprocessing/pool.py\", line 108, in worker\n",
      "    task = get()\n",
      "  File \"/home/yuze/anaconda3/envs/tensorflow/lib/python3.5/multiprocessing/pool.py\", line 108, in worker\n",
      "    task = get()\n",
      "  File \"/home/yuze/anaconda3/envs/tensorflow/lib/python3.5/multiprocessing/queues.py\", line 335, in get\n",
      "    res = self._reader.recv_bytes()\n",
      "  File \"/home/yuze/anaconda3/envs/tensorflow/lib/python3.5/multiprocessing/queues.py\", line 334, in get\n",
      "    with self._rlock:\n",
      "  File \"/home/yuze/anaconda3/envs/tensorflow/lib/python3.5/multiprocessing/connection.py\", line 216, in recv_bytes\n",
      "    buf = self._recv_bytes(maxlength)\n",
      "  File \"/home/yuze/anaconda3/envs/tensorflow/lib/python3.5/multiprocessing/synchronize.py\", line 96, in __enter__\n",
      "    return self._semlock.__enter__()\n",
      "  File \"/home/yuze/anaconda3/envs/tensorflow/lib/python3.5/multiprocessing/connection.py\", line 407, in _recv_bytes\n",
      "    buf = self._recv(4)\n",
      "KeyboardInterrupt\n",
      "  File \"/home/yuze/anaconda3/envs/tensorflow/lib/python3.5/multiprocessing/connection.py\", line 379, in _recv\n",
      "    chunk = read(handle, remaining)\n",
      "KeyboardInterrupt\n"
     ]
    }
   ],
   "source": [
    "actor = reinforcement_learning(epochs=2000, check_point=True, step_per_epoch=8, \n",
    "                               RELAY_SIZE=50000, BATCH_SIZE=BATCH_SIZE, TRAIN_BATCH_TIME=5, LRC=5e-5, LRA=1e-5, TAU=0.01)"
   ]
  },
  {
   "cell_type": "code",
   "execution_count": null,
   "metadata": {},
   "outputs": [],
   "source": [
    "def plus(k):\n",
    "    for i in range(100000):\n",
    "        k = np.sqrt(k)\n",
    "%time list(map(plus, range(10)))"
   ]
  },
  {
   "cell_type": "code",
   "execution_count": 250,
   "metadata": {},
   "outputs": [
    {
     "name": "stdout",
     "output_type": "stream",
     "text": [
      "CPU times: user 2.27 ms, sys: 8.57 ms, total: 10.8 ms\n",
      "Wall time: 167 ms\n"
     ]
    }
   ],
   "source": [
    "with Pool(processes=24) as pool:\n",
    "    %time pool.map(plus, range(10))"
   ]
  },
  {
   "cell_type": "markdown",
   "metadata": {},
   "source": [
    "## Ideas:\n",
    "1. when comes to new state in training, we should make sure we use target network for both actor and crtic model, in order to have more stability\n",
    "2. We might will need to keep relay_size smaller so that actor can always learn on a more recent version of target actor network\n",
    "3. Normalizing that action probability so that the chosen action becomes 1 while other actions becomes 0 is reasonable, because firstly, it makes it easier for crtic model to get a stable output and maintain the property of discrete policys, at least a same critic output for the same choice of policy, secondly, it still helps the guiding of the training on policy model, cuz bad gradient still will be passed if the critic output is bad, and as long as we train for only a few times (maybe one is the most reasonable one..), the property of discrete policy maintains even if we do not change the action mask. \n",
    "4. The confidence of the target model of its prediction seems to be a good indication for convergence, cuz that's the only indicator that is monotonic during the training process。。。。\n",
    "5. The natural phenomenom of training is that, in the begining, loss for actor is close to 0, as critic is just initialized and its output will always be that. For a while, constant increase will be observed in actor loss, as critic is starting to learn larger values while actor is still basically a random picker. After a while, when critic loss has decreased a lot, actor loss should also start to decrease, and this period should be the actual training for actor model.\n",
    "6. During training, it can be helpful to set the sample weight for 1 and -1 to be very large, cuz it is (1)the hardest to learn considering the around zero init, and (2) most important way to understand rules\n",
    "7. Setting learning rate for critic to be higher might be reasonable as it helps q converge faster\n"
   ]
  },
  {
   "cell_type": "code",
   "execution_count": 27,
   "metadata": {},
   "outputs": [
    {
     "name": "stdout",
     "output_type": "stream",
     "text": [
      "successfully loaded trained target model\n"
     ]
    },
    {
     "name": "stderr",
     "output_type": "stream",
     "text": [
      "/home/yuze/anaconda3/envs/tensorflow/lib/python3.5/site-packages/keras/models.py:252: UserWarning: No training configuration found in save file: the model was *not* compiled. Compile it manually.\n",
      "  warnings.warn('No training configuration found in save file: '\n"
     ]
    }
   ],
   "source": [
    "actor = ActorNetwork(is_train=False)"
   ]
  },
  {
   "cell_type": "code",
   "execution_count": null,
   "metadata": {
    "scrolled": true
   },
   "outputs": [
    {
     "name": "stdout",
     "output_type": "stream",
     "text": [
      "-1 is actor\n",
      "0.0\n"
     ]
    },
    {
     "data": {
      "image/png": "[encoded data removed]",
      "text/plain": [
       "<matplotlib.figure.Figure at 0x7f22f84ba4e0>"
      ]
     },
     "metadata": {},
     "output_type": "display_data"
    },
    {
     "name": "stdout",
     "output_type": "stream",
     "text": [
      "0.1\n"
     ]
    },
    {
     "data": {
      "image/png": "[encoded data removed]",
      "text/plain": [
       "<matplotlib.figure.Figure at 0x7f22f8466c50>"
      ]
     },
     "metadata": {},
     "output_type": "display_data"
    },
    {
     "name": "stdout",
     "output_type": "stream",
     "text": [
      "0.0\n"
     ]
    },
    {
     "data": {
      "image/png": "[encoded data removed]",
      "text/plain": [
       "<matplotlib.figure.Figure at 0x7f22f77c1518>"
      ]
     },
     "metadata": {},
     "output_type": "display_data"
    },
    {
     "name": "stdout",
     "output_type": "stream",
     "text": [
      "0.0\n"
     ]
    },
    {
     "data": {
      "image/png": "[encoded data removed]",
      "text/plain": [
       "<matplotlib.figure.Figure at 0x7f22f77d83c8>"
      ]
     },
     "metadata": {},
     "output_type": "display_data"
    },
    {
     "name": "stdout",
     "output_type": "stream",
     "text": [
      "0.0\n"
     ]
    },
    {
     "data": {
      "image/png": "[encoded data removed]",
      "text/plain": [
       "<matplotlib.figure.Figure at 0x7f22f7329eb8>"
      ]
     },
     "metadata": {},
     "output_type": "display_data"
    },
    {
     "name": "stdout",
     "output_type": "stream",
     "text": [
      "0.0\n"
     ]
    },
    {
     "data": {
      "image/png": "[encoded data removed]",
      "text/plain": [
       "<matplotlib.figure.Figure at 0x7f22f7330f60>"
      ]
     },
     "metadata": {},
     "output_type": "display_data"
    },
    {
     "name": "stdout",
     "output_type": "stream",
     "text": [
      "-0.2\n"
     ]
    },
    {
     "data": {
      "image/png": "[encoded data removed]",
      "text/plain": [
       "<matplotlib.figure.Figure at 0x7f22f730a470>"
      ]
     },
     "metadata": {},
     "output_type": "display_data"
    },
    {
     "name": "stdout",
     "output_type": "stream",
     "text": [
      "0.0\n"
     ]
    },
    {
     "data": {
      "image/png": "[encoded data removed]",
      "text/plain": [
       "<matplotlib.figure.Figure at 0x7f22f74b4d68>"
      ]
     },
     "metadata": {},
     "output_type": "display_data"
    },
    {
     "name": "stdout",
     "output_type": "stream",
     "text": [
      "-0.2\n"
     ]
    },
    {
     "data": {
      "image/png": "[encoded data removed]",
      "text/plain": [
       "<matplotlib.figure.Figure at 0x7f22f74c9e10>"
      ]
     },
     "metadata": {},
     "output_type": "display_data"
    },
    {
     "name": "stdout",
     "output_type": "stream",
     "text": [
      "-0.2\n"
     ]
    },
    {
     "data": {
      "image/png": "[encoded data removed]",
      "text/plain": [
       "<matplotlib.figure.Figure at 0x7f22f74d7550>"
      ]
     },
     "metadata": {},
     "output_type": "display_data"
    },
    {
     "name": "stdout",
     "output_type": "stream",
     "text": [
      "-0.4\n"
     ]
    },
    {
     "data": {
      "image/png": "[encoded data removed]",
      "text/plain": [
       "<matplotlib.figure.Figure at 0x7f22f74f9c18>"
      ]
     },
     "metadata": {},
     "output_type": "display_data"
    },
    {
     "name": "stdout",
     "output_type": "stream",
     "text": [
      "-0.30000000000000004\n"
     ]
    },
    {
     "data": {
      "image/png": "[encoded data removed]",
      "text/plain": [
       "<matplotlib.figure.Figure at 0x7f22f750b4e0>"
      ]
     },
     "metadata": {},
     "output_type": "display_data"
    },
    {
     "name": "stdout",
     "output_type": "stream",
     "text": [
      "-0.30000000000000004\n"
     ]
    },
    {
     "data": {
      "image/png": "[encoded data removed]",
      "text/plain": [
       "<matplotlib.figure.Figure at 0x7f22f7520f28>"
      ]
     },
     "metadata": {},
     "output_type": "display_data"
    },
    {
     "name": "stdout",
     "output_type": "stream",
     "text": [
      "-0.2\n"
     ]
    },
    {
     "data": {
      "image/png": "[encoded data removed]",
      "text/plain": [
       "<matplotlib.figure.Figure at 0x7f22f72b3198>"
      ]
     },
     "metadata": {},
     "output_type": "display_data"
    },
    {
     "name": "stdout",
     "output_type": "stream",
     "text": [
      "-0.2\n"
     ]
    },
    {
     "data": {
      "image/png": "[encoded data removed]",
      "text/plain": [
       "<matplotlib.figure.Figure at 0x7f22f72b7b70>"
      ]
     },
     "metadata": {},
     "output_type": "display_data"
    },
    {
     "name": "stdout",
     "output_type": "stream",
     "text": [
      "-0.2\n"
     ]
    },
    {
     "data": {
      "image/png": "[encoded data removed]",
      "text/plain": [
       "<matplotlib.figure.Figure at 0x7f22f72e5f28>"
      ]
     },
     "metadata": {},
     "output_type": "display_data"
    },
    {
     "name": "stdout",
     "output_type": "stream",
     "text": [
      "-0.5\n"
     ]
    },
    {
     "data": {
      "image/png": "[encoded data removed]",
      "text/plain": [
       "<matplotlib.figure.Figure at 0x7f22f71b9860>"
      ]
     },
     "metadata": {},
     "output_type": "display_data"
    },
    {
     "name": "stdout",
     "output_type": "stream",
     "text": [
      "-0.2\n"
     ]
    },
    {
     "data": {
      "image/png": "[encoded data removed]",
      "text/plain": [
       "<matplotlib.figure.Figure at 0x7f22f71c3518>"
      ]
     },
     "metadata": {},
     "output_type": "display_data"
    },
    {
     "name": "stdout",
     "output_type": "stream",
     "text": [
      "-0.2\n"
     ]
    },
    {
     "data": {
      "image/png": "[encoded data removed]",
      "text/plain": [
       "<matplotlib.figure.Figure at 0x7f22f71e2dd8>"
      ]
     },
     "metadata": {},
     "output_type": "display_data"
    },
    {
     "name": "stdout",
     "output_type": "stream",
     "text": [
      "0.0\n"
     ]
    },
    {
     "data": {
      "image/png": "[encoded data removed]",
      "text/plain": [
       "<matplotlib.figure.Figure at 0x7f22f763b9b0>"
      ]
     },
     "metadata": {},
     "output_type": "display_data"
    },
    {
     "name": "stdout",
     "output_type": "stream",
     "text": [
      "-0.4\n"
     ]
    },
    {
     "data": {
      "image/png": "[encoded data removed]",
      "text/plain": [
       "<matplotlib.figure.Figure at 0x7f22f7334710>"
      ]
     },
     "metadata": {},
     "output_type": "display_data"
    },
    {
     "name": "stdout",
     "output_type": "stream",
     "text": [
      "-0.30000000000000004\n"
     ]
    },
    {
     "data": {
      "image/png": "[encoded data removed]",
      "text/plain": [
       "<matplotlib.figure.Figure at 0x7f22f7603c88>"
      ]
     },
     "metadata": {},
     "output_type": "display_data"
    },
    {
     "name": "stdout",
     "output_type": "stream",
     "text": [
      "-0.30000000000000004\n"
     ]
    },
    {
     "data": {
      "image/png": "[encoded data removed]",
      "text/plain": [
       "<matplotlib.figure.Figure at 0x7f22f7008cc0>"
      ]
     },
     "metadata": {},
     "output_type": "display_data"
    },
    {
     "name": "stdout",
     "output_type": "stream",
     "text": [
      "0.2\n"
     ]
    },
    {
     "data": {
      "image/png": "[encoded data removed]",
      "text/plain": [
       "<matplotlib.figure.Figure at 0x7f22f744add8>"
      ]
     },
     "metadata": {},
     "output_type": "display_data"
    },
    {
     "name": "stdout",
     "output_type": "stream",
     "text": [
      "0.1\n"
     ]
    },
    {
     "data": {
      "image/png": "[encoded data removed]",
      "text/plain": [
       "<matplotlib.figure.Figure at 0x7f22f75dd1d0>"
      ]
     },
     "metadata": {},
     "output_type": "display_data"
    },
    {
     "name": "stdout",
     "output_type": "stream",
     "text": [
      "0.2\n"
     ]
    },
    {
     "data": {
      "image/png": "[encoded data removed]",
      "text/plain": [
       "<matplotlib.figure.Figure at 0x7f22f73c0518>"
      ]
     },
     "metadata": {},
     "output_type": "display_data"
    },
    {
     "name": "stdout",
     "output_type": "stream",
     "text": [
      "0.2\n"
     ]
    },
    {
     "data": {
      "image/png": "[encoded data removed]",
      "text/plain": [
       "<matplotlib.figure.Figure at 0x7f22f7420438>"
      ]
     },
     "metadata": {},
     "output_type": "display_data"
    },
    {
     "name": "stdout",
     "output_type": "stream",
     "text": [
      "0.30000000000000004\n"
     ]
    },
    {
     "data": {
      "image/png": "[encoded data removed]",
      "text/plain": [
       "<matplotlib.figure.Figure at 0x7f22f76a6048>"
      ]
     },
     "metadata": {},
     "output_type": "display_data"
    },
    {
     "name": "stdout",
     "output_type": "stream",
     "text": [
      "0.1\n"
     ]
    },
    {
     "data": {
      "image/png": "[encoded data removed]",
      "text/plain": [
       "<matplotlib.figure.Figure at 0x7f22f6f91358>"
      ]
     },
     "metadata": {},
     "output_type": "display_data"
    },
    {
     "name": "stdout",
     "output_type": "stream",
     "text": [
      "0.5\n"
     ]
    },
    {
     "data": {
      "image/png": "[encoded data removed]",
      "text/plain": [
       "<matplotlib.figure.Figure at 0x7f22f58f5e48>"
      ]
     },
     "metadata": {},
     "output_type": "display_data"
    },
    {
     "name": "stdout",
     "output_type": "stream",
     "text": [
      "0.0\n"
     ]
    },
    {
     "data": {
      "image/png": "[encoded data removed]",
      "text/plain": [
       "<matplotlib.figure.Figure at 0x7f22f76e0630>"
      ]
     },
     "metadata": {},
     "output_type": "display_data"
    },
    {
     "name": "stdout",
     "output_type": "stream",
     "text": [
      "0.5\n"
     ]
    },
    {
     "data": {
      "image/png": "[encoded data removed]",
      "text/plain": [
       "<matplotlib.figure.Figure at 0x7f22f76d8748>"
      ]
     },
     "metadata": {},
     "output_type": "display_data"
    },
    {
     "name": "stdout",
     "output_type": "stream",
     "text": [
      "0.0\n"
     ]
    },
    {
     "data": {
      "image/png": "[encoded data removed]",
      "text/plain": [
       "<matplotlib.figure.Figure at 0x7f22f7571be0>"
      ]
     },
     "metadata": {},
     "output_type": "display_data"
    },
    {
     "name": "stdout",
     "output_type": "stream",
     "text": [
      "1.0\n"
     ]
    },
    {
     "data": {
      "image/png": "[encoded data removed]",
      "text/plain": [
       "<matplotlib.figure.Figure at 0x7f22f7492080>"
      ]
     },
     "metadata": {},
     "output_type": "display_data"
    },
    {
     "name": "stdout",
     "output_type": "stream",
     "text": [
      "0.7000000000000001\n"
     ]
    },
    {
     "data": {
      "image/png": "[encoded data removed]",
      "text/plain": [
       "<matplotlib.figure.Figure at 0x7f22f75986a0>"
      ]
     },
     "metadata": {},
     "output_type": "display_data"
    },
    {
     "name": "stdout",
     "output_type": "stream",
     "text": [
      "0.9\n"
     ]
    },
    {
     "data": {
      "image/png": "[encoded data removed]",
      "text/plain": [
       "<matplotlib.figure.Figure at 0x7f22f6efc208>"
      ]
     },
     "metadata": {},
     "output_type": "display_data"
    },
    {
     "name": "stdout",
     "output_type": "stream",
     "text": [
      "-0.30000000000000004\n"
     ]
    },
    {
     "data": {
      "image/png": "[encoded data removed]",
      "text/plain": [
       "<matplotlib.figure.Figure at 0x7f22f70c8208>"
      ]
     },
     "metadata": {},
     "output_type": "display_data"
    },
    {
     "name": "stdout",
     "output_type": "stream",
     "text": [
      "-0.30000000000000004\n"
     ]
    },
    {
     "data": {
      "image/png": "[encoded data removed]",
      "text/plain": [
       "<matplotlib.figure.Figure at 0x7f22f598bf98>"
      ]
     },
     "metadata": {},
     "output_type": "display_data"
    },
    {
     "name": "stdout",
     "output_type": "stream",
     "text": [
      "-0.8\n"
     ]
    },
    {
     "data": {
      "image/png": "[encoded data removed]",
      "text/plain": [
       "<matplotlib.figure.Figure at 0x7f22f77000b8>"
      ]
     },
     "metadata": {},
     "output_type": "display_data"
    },
    {
     "name": "stdout",
     "output_type": "stream",
     "text": [
      "0.4\n"
     ]
    },
    {
     "data": {
      "image/png": "[encoded data removed]",
      "text/plain": [
       "<matplotlib.figure.Figure at 0x7f22f737e320>"
      ]
     },
     "metadata": {},
     "output_type": "display_data"
    },
    {
     "name": "stdout",
     "output_type": "stream",
     "text": [
      "-0.2\n"
     ]
    },
    {
     "data": {
      "image/png": "[encoded data removed]",
      "text/plain": [
       "<matplotlib.figure.Figure at 0x7f22f7281eb8>"
      ]
     },
     "metadata": {},
     "output_type": "display_data"
    },
    {
     "name": "stdout",
     "output_type": "stream",
     "text": [
      "0.4\n"
     ]
    },
    {
     "data": {
      "image/png": "[encoded data removed]",
      "text/plain": [
       "<matplotlib.figure.Figure at 0x7f22f717cf60>"
      ]
     },
     "metadata": {},
     "output_type": "display_data"
    },
    {
     "name": "stdout",
     "output_type": "stream",
     "text": [
      "0.1\n"
     ]
    },
    {
     "data": {
      "image/png": "[encoded data removed]",
      "text/plain": [
       "<matplotlib.figure.Figure at 0x7f22f71ab4e0>"
      ]
     },
     "metadata": {},
     "output_type": "display_data"
    },
    {
     "name": "stdout",
     "output_type": "stream",
     "text": [
      "0.5\n"
     ]
    },
    {
     "data": {
      "image/png": "[encoded data removed]",
      "text/plain": [
       "<matplotlib.figure.Figure at 0x7f22f70f2d68>"
      ]
     },
     "metadata": {},
     "output_type": "display_data"
    },
    {
     "name": "stdout",
     "output_type": "stream",
     "text": [
      "0.1\n"
     ]
    },
    {
     "data": {
      "image/png": "[encoded data removed]",
      "text/plain": [
       "<matplotlib.figure.Figure at 0x7f22f712e438>"
      ]
     },
     "metadata": {},
     "output_type": "display_data"
    },
    {
     "name": "stdout",
     "output_type": "stream",
     "text": [
      "0.30000000000000004\n"
     ]
    },
    {
     "data": {
      "image/png": "[encoded data removed]",
      "text/plain": [
       "<matplotlib.figure.Figure at 0x7f22f5813828>"
      ]
     },
     "metadata": {},
     "output_type": "display_data"
    },
    {
     "name": "stdout",
     "output_type": "stream",
     "text": [
      "0.30000000000000004\n"
     ]
    },
    {
     "data": {
      "image/png": "[encoded data removed]",
      "text/plain": [
       "<matplotlib.figure.Figure at 0x7f22f712e358>"
      ]
     },
     "metadata": {},
     "output_type": "display_data"
    },
    {
     "name": "stdout",
     "output_type": "stream",
     "text": [
      "0.7000000000000001\n"
     ]
    },
    {
     "data": {
      "image/png": "[encoded data removed]",
      "text/plain": [
       "<matplotlib.figure.Figure at 0x7f22f6eb2160>"
      ]
     },
     "metadata": {},
     "output_type": "display_data"
    },
    {
     "name": "stdout",
     "output_type": "stream",
     "text": [
      "0.6000000000000001\n"
     ]
    },
    {
     "data": {
      "image/png": "[encoded data removed]",
      "text/plain": [
       "<matplotlib.figure.Figure at 0x7f22f6f36e48>"
      ]
     },
     "metadata": {},
     "output_type": "display_data"
    },
    {
     "name": "stdout",
     "output_type": "stream",
     "text": [
      "0.6000000000000001\n"
     ]
    },
    {
     "data": {
      "image/png": "[encoded data removed]",
      "text/plain": [
       "<matplotlib.figure.Figure at 0x7f22f59180f0>"
      ]
     },
     "metadata": {},
     "output_type": "display_data"
    },
    {
     "name": "stdout",
     "output_type": "stream",
     "text": [
      "0.2\n"
     ]
    },
    {
     "data": {
      "image/png": "[encoded data removed]",
      "text/plain": [
       "<matplotlib.figure.Figure at 0x7f22f59c2710>"
      ]
     },
     "metadata": {},
     "output_type": "display_data"
    },
    {
     "name": "stdout",
     "output_type": "stream",
     "text": [
      "1.2000000000000002\n"
     ]
    },
    {
     "data": {
      "image/png": "[encoded data removed]",
      "text/plain": [
       "<matplotlib.figure.Figure at 0x7f22f5956ef0>"
      ]
     },
     "metadata": {},
     "output_type": "display_data"
    },
    {
     "name": "stdout",
     "output_type": "stream",
     "text": [
      "0.8\n"
     ]
    },
    {
     "data": {
      "image/png": "[encoded data removed]",
      "text/plain": [
       "<matplotlib.figure.Figure at 0x7f22f5897f98>"
      ]
     },
     "metadata": {},
     "output_type": "display_data"
    },
    {
     "name": "stdout",
     "output_type": "stream",
     "text": [
      "1.2000000000000002\n"
     ]
    },
    {
     "data": {
      "image/png": "[encoded data removed]",
      "text/plain": [
       "<matplotlib.figure.Figure at 0x7f22f5972d68>"
      ]
     },
     "metadata": {},
     "output_type": "display_data"
    },
    {
     "name": "stdout",
     "output_type": "stream",
     "text": [
      "0.5\n"
     ]
    },
    {
     "data": {
      "image/png": "[encoded data removed]",
      "text/plain": [
       "<matplotlib.figure.Figure at 0x7f22f70522b0>"
      ]
     },
     "metadata": {},
     "output_type": "display_data"
    },
    {
     "name": "stdout",
     "output_type": "stream",
     "text": [
      "0.5\n"
     ]
    },
    {
     "data": {
      "image/png": "[encoded data removed]",
      "text/plain": [
       "<matplotlib.figure.Figure at 0x7f22f5757e80>"
      ]
     },
     "metadata": {},
     "output_type": "display_data"
    },
    {
     "name": "stdout",
     "output_type": "stream",
     "text": [
      "-0.30000000000000004\n"
     ]
    },
    {
     "data": {
      "image/png": "[encoded data removed]",
      "text/plain": [
       "<matplotlib.figure.Figure at 0x7f22f219e748>"
      ]
     },
     "metadata": {},
     "output_type": "display_data"
    },
    {
     "name": "stdout",
     "output_type": "stream",
     "text": [
      "0.30000000000000004\n"
     ]
    },
    {
     "data": {
      "image/png": "[encoded data removed]",
      "text/plain": [
       "<matplotlib.figure.Figure at 0x7f22f7140fd0>"
      ]
     },
     "metadata": {},
     "output_type": "display_data"
    },
    {
     "name": "stdout",
     "output_type": "stream",
     "text": [
      "0.0\n"
     ]
    },
    {
     "data": {
      "image/png": "[encoded data removed]",
      "text/plain": [
       "<matplotlib.figure.Figure at 0x7f22f7083cf8>"
      ]
     },
     "metadata": {},
     "output_type": "display_data"
    },
    {
     "name": "stdout",
     "output_type": "stream",
     "text": [
      "0.30000000000000004\n"
     ]
    },
    {
     "data": {
      "image/png": "[encoded data removed]",
      "text/plain": [
       "<matplotlib.figure.Figure at 0x7f22f70a8be0>"
      ]
     },
     "metadata": {},
     "output_type": "display_data"
    },
    {
     "name": "stdout",
     "output_type": "stream",
     "text": [
      "-0.7000000000000001\n"
     ]
    },
    {
     "data": {
      "image/png": "[encoded data removed]",
      "text/plain": [
       "<matplotlib.figure.Figure at 0x7f22f30f2f60>"
      ]
     },
     "metadata": {},
     "output_type": "display_data"
    },
    {
     "name": "stdout",
     "output_type": "stream",
     "text": [
      "-0.7000000000000001\n"
     ]
    },
    {
     "data": {
      "image/png": "[encoded data removed]",
      "text/plain": [
       "<matplotlib.figure.Figure at 0x7f22f5845a90>"
      ]
     },
     "metadata": {},
     "output_type": "display_data"
    },
    {
     "name": "stdout",
     "output_type": "stream",
     "text": [
      "-1.2000000000000002\n"
     ]
    },
    {
     "data": {
      "image/png": "[encoded data removed]",
      "text/plain": [
       "<matplotlib.figure.Figure at 0x7f22f55c9828>"
      ]
     },
     "metadata": {},
     "output_type": "display_data"
    },
    {
     "name": "stdout",
     "output_type": "stream",
     "text": [
      "-0.30000000000000004\n"
     ]
    },
    {
     "data": {
      "image/png": "[encoded data removed]",
      "text/plain": [
       "<matplotlib.figure.Figure at 0x7f22f550b208>"
      ]
     },
     "metadata": {},
     "output_type": "display_data"
    },
    {
     "name": "stdout",
     "output_type": "stream",
     "text": [
      "-0.6000000000000001\n"
     ]
    },
    {
     "data": {
      "image/png": "[encoded data removed]",
      "text/plain": [
       "<matplotlib.figure.Figure at 0x7f22f5536550>"
      ]
     },
     "metadata": {},
     "output_type": "display_data"
    },
    {
     "name": "stdout",
     "output_type": "stream",
     "text": [
      "0.2\n"
     ]
    },
    {
     "data": {
      "image/png": "[encoded data removed]",
      "text/plain": [
       "<matplotlib.figure.Figure at 0x7f22f4e01d30>"
      ]
     },
     "metadata": {},
     "output_type": "display_data"
    },
    {
     "name": "stdout",
     "output_type": "stream",
     "text": [
      "0.2\n"
     ]
    },
    {
     "data": {
      "image/png": "[encoded data removed]",
      "text/plain": [
       "<matplotlib.figure.Figure at 0x7f22f71f2eb8>"
      ]
     },
     "metadata": {},
     "output_type": "display_data"
    },
    {
     "name": "stdout",
     "output_type": "stream",
     "text": [
      "1.4000000000000001\n"
     ]
    },
    {
     "data": {
      "image/png": "[encoded data removed]",
      "text/plain": [
       "<matplotlib.figure.Figure at 0x7f22f722efd0>"
      ]
     },
     "metadata": {},
     "output_type": "display_data"
    },
    {
     "name": "stdout",
     "output_type": "stream",
     "text": [
      "0.2\n"
     ]
    },
    {
     "data": {
      "image/png": "[encoded data removed]",
      "text/plain": [
       "<matplotlib.figure.Figure at 0x7f22f5278c18>"
      ]
     },
     "metadata": {},
     "output_type": "display_data"
    },
    {
     "name": "stdout",
     "output_type": "stream",
     "text": [
      "0.6000000000000001\n"
     ]
    },
    {
     "data": {
      "image/png": "[encoded data removed]",
      "text/plain": [
       "<matplotlib.figure.Figure at 0x7f22f5674da0>"
      ]
     },
     "metadata": {},
     "output_type": "display_data"
    },
    {
     "name": "stdout",
     "output_type": "stream",
     "text": [
      "0.0\n"
     ]
    },
    {
     "data": {
      "image/png": "[encoded data removed]",
      "text/plain": [
       "<matplotlib.figure.Figure at 0x7f22f542dfd0>"
      ]
     },
     "metadata": {},
     "output_type": "display_data"
    },
    {
     "name": "stdout",
     "output_type": "stream",
     "text": [
      "0.2\n"
     ]
    },
    {
     "data": {
      "image/png": "[encoded data removed]",
      "text/plain": [
       "<matplotlib.figure.Figure at 0x7f22f52dd908>"
      ]
     },
     "metadata": {},
     "output_type": "display_data"
    },
    {
     "name": "stdout",
     "output_type": "stream",
     "text": [
      "-0.6000000000000001\n"
     ]
    },
    {
     "data": {
      "image/png": "[encoded data removed]",
      "text/plain": [
       "<matplotlib.figure.Figure at 0x7f22f3557be0>"
      ]
     },
     "metadata": {},
     "output_type": "display_data"
    },
    {
     "name": "stdout",
     "output_type": "stream",
     "text": [
      "0.7000000000000001\n"
     ]
    },
    {
     "data": {
      "image/png": "[encoded data removed]",
      "text/plain": [
       "<matplotlib.figure.Figure at 0x7f22f234c828>"
      ]
     },
     "metadata": {},
     "output_type": "display_data"
    },
    {
     "name": "stdout",
     "output_type": "stream",
     "text": [
      "0.7000000000000001\n"
     ]
    },
    {
     "data": {
      "image/png": "[encoded data removed]",
      "text/plain": [
       "<matplotlib.figure.Figure at 0x7f22f2356ac8>"
      ]
     },
     "metadata": {},
     "output_type": "display_data"
    },
    {
     "name": "stdout",
     "output_type": "stream",
     "text": [
      "0.7000000000000001\n"
     ]
    },
    {
     "data": {
      "image/png": "[encoded data removed]",
      "text/plain": [
       "<matplotlib.figure.Figure at 0x7f22f3d8ac50>"
      ]
     },
     "metadata": {},
     "output_type": "display_data"
    },
    {
     "name": "stdout",
     "output_type": "stream",
     "text": [
      "0.5\n"
     ]
    },
    {
     "data": {
      "image/png": "[encoded data removed]",
      "text/plain": [
       "<matplotlib.figure.Figure at 0x7f22f28b8780>"
      ]
     },
     "metadata": {},
     "output_type": "display_data"
    },
    {
     "name": "stdout",
     "output_type": "stream",
     "text": [
      "0.5\n"
     ]
    },
    {
     "data": {
      "image/png": "[encoded data removed]",
      "text/plain": [
       "<matplotlib.figure.Figure at 0x7f22f561ce10>"
      ]
     },
     "metadata": {},
     "output_type": "display_data"
    },
    {
     "name": "stdout",
     "output_type": "stream",
     "text": [
      "-0.1\n"
     ]
    },
    {
     "data": {
      "image/png": "[encoded data removed]",
      "text/plain": [
       "<matplotlib.figure.Figure at 0x7f22f2e33278>"
      ]
     },
     "metadata": {},
     "output_type": "display_data"
    },
    {
     "name": "stdout",
     "output_type": "stream",
     "text": [
      "0.30000000000000004\n"
     ]
    },
    {
     "data": {
      "image/png": "[encoded data removed]",
      "text/plain": [
       "<matplotlib.figure.Figure at 0x7f22f4309d68>"
      ]
     },
     "metadata": {},
     "output_type": "display_data"
    },
    {
     "name": "stdout",
     "output_type": "stream",
     "text": [
      "-0.9\n"
     ]
    },
    {
     "data": {
      "image/png": "[encoded data removed]",
      "text/plain": [
       "<matplotlib.figure.Figure at 0x7f22f518eeb8>"
      ]
     },
     "metadata": {},
     "output_type": "display_data"
    },
    {
     "name": "stdout",
     "output_type": "stream",
     "text": [
      "-0.30000000000000004\n"
     ]
    },
    {
     "data": {
      "image/png": "[encoded data removed]",
      "text/plain": [
       "<matplotlib.figure.Figure at 0x7f22f514b5f8>"
      ]
     },
     "metadata": {},
     "output_type": "display_data"
    },
    {
     "name": "stdout",
     "output_type": "stream",
     "text": [
      "-0.6000000000000001\n"
     ]
    },
    {
     "data": {
      "image/png": "[encoded data removed]",
      "text/plain": [
       "<matplotlib.figure.Figure at 0x7f22f51762e8>"
      ]
     },
     "metadata": {},
     "output_type": "display_data"
    },
    {
     "name": "stdout",
     "output_type": "stream",
     "text": [
      "0.6000000000000001\n"
     ]
    },
    {
     "data": {
      "image/png": "[encoded data removed]",
      "text/plain": [
       "<matplotlib.figure.Figure at 0x7f22f55854e0>"
      ]
     },
     "metadata": {},
     "output_type": "display_data"
    },
    {
     "name": "stdout",
     "output_type": "stream",
     "text": [
      "0.2\n"
     ]
    },
    {
     "data": {
      "image/png": "[encoded data removed]",
      "text/plain": [
       "<matplotlib.figure.Figure at 0x7f22f55af4a8>"
      ]
     },
     "metadata": {},
     "output_type": "display_data"
    },
    {
     "name": "stdout",
     "output_type": "stream",
     "text": [
      "0.8\n"
     ]
    },
    {
     "data": {
      "image/png": "[encoded data removed]",
      "text/plain": [
       "<matplotlib.figure.Figure at 0x7f22f54f8c88>"
      ]
     },
     "metadata": {},
     "output_type": "display_data"
    },
    {
     "name": "stdout",
     "output_type": "stream",
     "text": [
      "-0.2\n"
     ]
    },
    {
     "data": {
      "image/png": "[encoded data removed]",
      "text/plain": [
       "<matplotlib.figure.Figure at 0x7f22f5383ef0>"
      ]
     },
     "metadata": {},
     "output_type": "display_data"
    },
    {
     "name": "stdout",
     "output_type": "stream",
     "text": [
      "0.30000000000000004\n"
     ]
    },
    {
     "data": {
      "image/png": "[encoded data removed]",
      "text/plain": [
       "<matplotlib.figure.Figure at 0x7f22f5107ef0>"
      ]
     },
     "metadata": {},
     "output_type": "display_data"
    },
    {
     "name": "stdout",
     "output_type": "stream",
     "text": [
      "-0.1\n"
     ]
    },
    {
     "data": {
      "image/png": "[encoded data removed]",
      "text/plain": [
       "<matplotlib.figure.Figure at 0x7f22f27353c8>"
      ]
     },
     "metadata": {},
     "output_type": "display_data"
    },
    {
     "name": "stdout",
     "output_type": "stream",
     "text": [
      "0.7000000000000001\n"
     ]
    },
    {
     "data": {
      "image/png": "[encoded data removed]",
      "text/plain": [
       "<matplotlib.figure.Figure at 0x7f22f51e6cf8>"
      ]
     },
     "metadata": {},
     "output_type": "display_data"
    },
    {
     "name": "stdout",
     "output_type": "stream",
     "text": [
      "0.30000000000000004\n"
     ]
    },
    {
     "data": {
      "image/png": "[encoded data removed]",
      "text/plain": [
       "<matplotlib.figure.Figure at 0x7f22f545bf98>"
      ]
     },
     "metadata": {},
     "output_type": "display_data"
    },
    {
     "name": "stdout",
     "output_type": "stream",
     "text": [
      "1.4000000000000001\n"
     ]
    },
    {
     "data": {
      "image/png": "[encoded data removed]",
      "text/plain": [
       "<matplotlib.figure.Figure at 0x7f22f521cfd0>"
      ]
     },
     "metadata": {},
     "output_type": "display_data"
    },
    {
     "name": "stdout",
     "output_type": "stream",
     "text": [
      "1.1\n"
     ]
    },
    {
     "data": {
      "image/png": "[encoded data removed]",
      "text/plain": [
       "<matplotlib.figure.Figure at 0x7f22f3c0fa90>"
      ]
     },
     "metadata": {},
     "output_type": "display_data"
    },
    {
     "name": "stdout",
     "output_type": "stream",
     "text": [
      "1.7000000000000002\n"
     ]
    },
    {
     "data": {
      "image/png": "[encoded data removed]",
      "text/plain": [
       "<matplotlib.figure.Figure at 0x7f22f2b80898>"
      ]
     },
     "metadata": {},
     "output_type": "display_data"
    },
    {
     "name": "stdout",
     "output_type": "stream",
     "text": [
      "0.7000000000000001\n"
     ]
    },
    {
     "data": {
      "image/png": "[encoded data removed]",
      "text/plain": [
       "<matplotlib.figure.Figure at 0x7f22f3c0c400>"
      ]
     },
     "metadata": {},
     "output_type": "display_data"
    },
    {
     "name": "stdout",
     "output_type": "stream",
     "text": [
      "1.7000000000000002\n"
     ]
    },
    {
     "data": {
      "image/png": "[encoded data removed]",
      "text/plain": [
       "<matplotlib.figure.Figure at 0x7f22f45f1550>"
      ]
     },
     "metadata": {},
     "output_type": "display_data"
    },
    {
     "name": "stdout",
     "output_type": "stream",
     "text": [
      "0.5\n"
     ]
    },
    {
     "data": {
      "image/png": "[encoded data removed]",
      "text/plain": [
       "<matplotlib.figure.Figure at 0x7f22f52891d0>"
      ]
     },
     "metadata": {},
     "output_type": "display_data"
    },
    {
     "name": "stdout",
     "output_type": "stream",
     "text": [
      "0.5\n"
     ]
    },
    {
     "data": {
      "image/png": "[encoded data removed]",
      "text/plain": [
       "<matplotlib.figure.Figure at 0x7f22f50c1f28>"
      ]
     },
     "metadata": {},
     "output_type": "display_data"
    },
    {
     "name": "stdout",
     "output_type": "stream",
     "text": [
      "0.0\n"
     ]
    },
    {
     "data": {
      "image/png": "[encoded data removed]",
      "text/plain": [
       "<matplotlib.figure.Figure at 0x7f22f50e16d8>"
      ]
     },
     "metadata": {},
     "output_type": "display_data"
    },
    {
     "name": "stdout",
     "output_type": "stream",
     "text": [
      "1.1\n"
     ]
    },
    {
     "data": {
      "image/png": "[encoded data removed]",
      "text/plain": [
       "<matplotlib.figure.Figure at 0x7f22f4b6ccc0>"
      ]
     },
     "metadata": {},
     "output_type": "display_data"
    },
    {
     "name": "stdout",
     "output_type": "stream",
     "text": [
      "-0.1\n"
     ]
    },
    {
     "data": {
      "image/png": "[encoded data removed]",
      "text/plain": [
       "<matplotlib.figure.Figure at 0x7f22f4068e48>"
      ]
     },
     "metadata": {},
     "output_type": "display_data"
    },
    {
     "name": "stdout",
     "output_type": "stream",
     "text": [
      "0.7000000000000001\n"
     ]
    },
    {
     "data": {
      "image/png": "[encoded data removed]",
      "text/plain": [
       "<matplotlib.figure.Figure at 0x7f22f5568f60>"
      ]
     },
     "metadata": {},
     "output_type": "display_data"
    },
    {
     "name": "stdout",
     "output_type": "stream",
     "text": [
      "0.0\n"
     ]
    },
    {
     "data": {
      "image/png": "[encoded data removed]",
      "text/plain": [
       "<matplotlib.figure.Figure at 0x7f22f48817b8>"
      ]
     },
     "metadata": {},
     "output_type": "display_data"
    },
    {
     "name": "stdout",
     "output_type": "stream",
     "text": [
      "0.6000000000000001\n"
     ]
    },
    {
     "data": {
      "image/png": "[encoded data removed]",
      "text/plain": [
       "<matplotlib.figure.Figure at 0x7f22f56dc0b8>"
      ]
     },
     "metadata": {},
     "output_type": "display_data"
    },
    {
     "name": "stdout",
     "output_type": "stream",
     "text": [
      "-0.2\n"
     ]
    },
    {
     "data": {
      "image/png": "[encoded data removed]",
      "text/plain": [
       "<matplotlib.figure.Figure at 0x7f22f54b7ac8>"
      ]
     },
     "metadata": {},
     "output_type": "display_data"
    },
    {
     "name": "stdout",
     "output_type": "stream",
     "text": [
      "0.0\n"
     ]
    },
    {
     "data": {
      "image/png": "[encoded data removed]",
      "text/plain": [
       "<matplotlib.figure.Figure at 0x7f22f54b6358>"
      ]
     },
     "metadata": {},
     "output_type": "display_data"
    },
    {
     "name": "stdout",
     "output_type": "stream",
     "text": [
      "-0.7000000000000001\n"
     ]
    },
    {
     "data": {
      "image/png": "[encoded data removed]",
      "text/plain": [
       "<matplotlib.figure.Figure at 0x7f22f568a0b8>"
      ]
     },
     "metadata": {},
     "output_type": "display_data"
    },
    {
     "name": "stdout",
     "output_type": "stream",
     "text": [
      "0.2\n"
     ]
    },
    {
     "data": {
      "image/png": "[encoded data removed]",
      "text/plain": [
       "<matplotlib.figure.Figure at 0x7f22f56aff60>"
      ]
     },
     "metadata": {},
     "output_type": "display_data"
    },
    {
     "name": "stdout",
     "output_type": "stream",
     "text": [
      "-0.2\n"
     ]
    },
    {
     "data": {
      "image/png": "[encoded data removed]",
      "text/plain": [
       "<matplotlib.figure.Figure at 0x7f22f1f19e48>"
      ]
     },
     "metadata": {},
     "output_type": "display_data"
    },
    {
     "name": "stdout",
     "output_type": "stream",
     "text": [
      "0.8\n"
     ]
    },
    {
     "data": {
      "image/png": "[encoded data removed]",
      "text/plain": [
       "<matplotlib.figure.Figure at 0x7f22e657c9b0>"
      ]
     },
     "metadata": {},
     "output_type": "display_data"
    },
    {
     "name": "stdout",
     "output_type": "stream",
     "text": [
      "0.2\n"
     ]
    },
    {
     "data": {
      "image/png": "[encoded data removed]",
      "text/plain": [
       "<matplotlib.figure.Figure at 0x7f22e6531dd8>"
      ]
     },
     "metadata": {},
     "output_type": "display_data"
    },
    {
     "name": "stdout",
     "output_type": "stream",
     "text": [
      "1.0\n"
     ]
    },
    {
     "data": {
      "image/png": "[encoded data removed]",
      "text/plain": [
       "<matplotlib.figure.Figure at 0x7f22e64e6ef0>"
      ]
     },
     "metadata": {},
     "output_type": "display_data"
    },
    {
     "name": "stdout",
     "output_type": "stream",
     "text": [
      "0.0\n"
     ]
    },
    {
     "data": {
      "image/png": "[encoded data removed]",
      "text/plain": [
       "<matplotlib.figure.Figure at 0x7f22e648c7f0>"
      ]
     },
     "metadata": {},
     "output_type": "display_data"
    },
    {
     "name": "stdout",
     "output_type": "stream",
     "text": [
      "0.6000000000000001\n"
     ]
    },
    {
     "data": {
      "image/png": "[encoded data removed]",
      "text/plain": [
       "<matplotlib.figure.Figure at 0x7f22e6454ba8>"
      ]
     },
     "metadata": {},
     "output_type": "display_data"
    },
    {
     "name": "stdout",
     "output_type": "stream",
     "text": [
      "0.1\n"
     ]
    },
    {
     "data": {
      "image/png": "[encoded data removed]",
      "text/plain": [
       "<matplotlib.figure.Figure at 0x7f22e640f978>"
      ]
     },
     "metadata": {},
     "output_type": "display_data"
    },
    {
     "name": "stdout",
     "output_type": "stream",
     "text": [
      "1.0\n"
     ]
    },
    {
     "data": {
      "image/png": "[encoded data removed]",
      "text/plain": [
       "<matplotlib.figure.Figure at 0x7f22e6435550>"
      ]
     },
     "metadata": {},
     "output_type": "display_data"
    },
    {
     "name": "stdout",
     "output_type": "stream",
     "text": [
      "0.7000000000000001\n"
     ]
    },
    {
     "data": {
      "image/png": "[encoded data removed]",
      "text/plain": [
       "<matplotlib.figure.Figure at 0x7f22e63fcc50>"
      ]
     },
     "metadata": {},
     "output_type": "display_data"
    },
    {
     "name": "stdout",
     "output_type": "stream",
     "text": [
      "0.7000000000000001\n"
     ]
    },
    {
     "data": {
      "image/png": "[encoded data removed]",
      "text/plain": [
       "<matplotlib.figure.Figure at 0x7f22e63b0d68>"
      ]
     },
     "metadata": {},
     "output_type": "display_data"
    },
    {
     "name": "stdout",
     "output_type": "stream",
     "text": [
      "0.0\n"
     ]
    },
    {
     "data": {
      "image/png": "[encoded data removed]",
      "text/plain": [
       "<matplotlib.figure.Figure at 0x7f22e634e7b8>"
      ]
     },
     "metadata": {},
     "output_type": "display_data"
    },
    {
     "name": "stdout",
     "output_type": "stream",
     "text": [
      "0.5\n"
     ]
    },
    {
     "data": {
      "image/png": "[encoded data removed]",
      "text/plain": [
       "<matplotlib.figure.Figure at 0x7f22e631fba8>"
      ]
     },
     "metadata": {},
     "output_type": "display_data"
    },
    {
     "name": "stdout",
     "output_type": "stream",
     "text": [
      "-0.30000000000000004\n"
     ]
    },
    {
     "data": {
      "image/png": "[encoded data removed]",
      "text/plain": [
       "<matplotlib.figure.Figure at 0x7f22e62d7d30>"
      ]
     },
     "metadata": {},
     "output_type": "display_data"
    },
    {
     "name": "stdout",
     "output_type": "stream",
     "text": [
      "1.3\n"
     ]
    },
    {
     "data": {
      "image/png": "[encoded data removed]",
      "text/plain": [
       "<matplotlib.figure.Figure at 0x7f22e628beb8>"
      ]
     },
     "metadata": {},
     "output_type": "display_data"
    },
    {
     "name": "stdout",
     "output_type": "stream",
     "text": [
      "0.9\n"
     ]
    },
    {
     "data": {
      "image/png": "[encoded data removed]",
      "text/plain": [
       "<matplotlib.figure.Figure at 0x7f22e62aa278>"
      ]
     },
     "metadata": {},
     "output_type": "display_data"
    },
    {
     "name": "stdout",
     "output_type": "stream",
     "text": [
      "0.9\n"
     ]
    },
    {
     "data": {
      "image/png": "[encoded data removed]",
      "text/plain": [
       "<matplotlib.figure.Figure at 0x7f22e6264390>"
      ]
     },
     "metadata": {},
     "output_type": "display_data"
    },
    {
     "name": "stdout",
     "output_type": "stream",
     "text": [
      "-0.1\n"
     ]
    },
    {
     "data": {
      "image/png": "[encoded data removed]",
      "text/plain": [
       "<matplotlib.figure.Figure at 0x7f22e6239278>"
      ]
     },
     "metadata": {},
     "output_type": "display_data"
    }
   ],
   "source": [
    "game = Ataxx()\n",
    "turn = -1\n",
    "print(\"-1 is actor\")\n",
    "while abs(game.evaluate(turn, turn)) != 100:\n",
    "    print(game.evaluate(-1, turn))\n",
    "    game.plot()\n",
    "    with tf.device(\"/cpu:0\"):\n",
    "        pos0, pos1, _ = actor.get_stochastic_action(game.get_feature_map(turn), game.get_mask(turn), \\\n",
    "                                              is_target=True)\n",
    "    game.move_to(turn, pos0, pos1)\n",
    "    turn = -turn\n",
    "    time.sleep(0.1)\n",
    "print(game.evaluate(-1, turn))"
   ]
  },
  {
   "cell_type": "code",
   "execution_count": 9,
   "metadata": {
    "scrolled": true
   },
   "outputs": [
    {
     "name": "stdout",
     "output_type": "stream",
     "text": [
      "1 is actor\n",
      "0.0\n"
     ]
    },
    {
     "data": {
      "image/png": "[encoded data removed]",
      "text/plain": [
       "<matplotlib.figure.Figure at 0x7f010c05def0>"
      ]
     },
     "metadata": {},
     "output_type": "display_data"
    },
    {
     "name": "stdout",
     "output_type": "stream",
     "text": [
      "0.1\n"
     ]
    },
    {
     "data": {
      "image/png": "[encoded data removed]",
      "text/plain": [
       "<matplotlib.figure.Figure at 0x7f00d46bbb70>"
      ]
     },
     "metadata": {},
     "output_type": "display_data"
    },
    {
     "name": "stdout",
     "output_type": "stream",
     "text": [
      "predicted prob for this move is: 0.239719\n",
      "0.1\n"
     ]
    },
    {
     "data": {
      "image/png": "[encoded data removed]",
      "text/plain": [
       "<matplotlib.figure.Figure at 0x7f010c011f28>"
      ]
     },
     "metadata": {},
     "output_type": "display_data"
    },
    {
     "name": "stdout",
     "output_type": "stream",
     "text": [
      "0.2\n"
     ]
    },
    {
     "data": {
      "image/png": "[encoded data removed]",
      "text/plain": [
       "<matplotlib.figure.Figure at 0x7f00d4761c88>"
      ]
     },
     "metadata": {},
     "output_type": "display_data"
    },
    {
     "name": "stdout",
     "output_type": "stream",
     "text": [
      "predicted prob for this move is: 0.410743\n",
      "0.2\n"
     ]
    },
    {
     "data": {
      "image/png": "[encoded data removed]",
      "text/plain": [
       "<matplotlib.figure.Figure at 0x7f00d434cdd8>"
      ]
     },
     "metadata": {},
     "output_type": "display_data"
    },
    {
     "name": "stdout",
     "output_type": "stream",
     "text": [
      "0.5\n"
     ]
    },
    {
     "data": {
      "image/png": "[encoded data removed]",
      "text/plain": [
       "<matplotlib.figure.Figure at 0x7f00d46d1400>"
      ]
     },
     "metadata": {},
     "output_type": "display_data"
    },
    {
     "name": "stdout",
     "output_type": "stream",
     "text": [
      "predicted prob for this move is: 0.166497\n",
      "0.5\n"
     ]
    },
    {
     "data": {
      "image/png": "[encoded data removed]",
      "text/plain": [
       "<matplotlib.figure.Figure at 0x7f00d46207b8>"
      ]
     },
     "metadata": {},
     "output_type": "display_data"
    },
    {
     "name": "stdout",
     "output_type": "stream",
     "text": [
      "100\n"
     ]
    }
   ],
   "source": [
    "game = Ataxx()\n",
    "turn = -1\n",
    "print(\"1 is actor\")\n",
    "while abs(game.evaluate(turn, turn)) != 100:\n",
    "    print(game.evaluate(-1, turn))\n",
    "    game.plot()\n",
    "    if turn == -1:\n",
    "        best_move = game.get_greedy_move(turn)\n",
    "        game.move_to(turn, best_move[0], best_move[1])\n",
    "    else:\n",
    "        pos0, pos1, _ = actor.get_noised_action(game, turn, 0, is_target=True)\n",
    "        game.move_to(turn, pos0, pos1)\n",
    "    turn = -turn\n",
    "    time.sleep(0.1)\n",
    "print(game.evaluate(-1, turn))"
   ]
  },
  {
   "cell_type": "code",
   "execution_count": 29,
   "metadata": {
    "scrolled": true
   },
   "outputs": [
    {
     "name": "stdout",
     "output_type": "stream",
     "text": [
      "-1 is actor\n",
      "0.0\n"
     ]
    },
    {
     "data": {
      "image/png": "[encoded data removed]",
      "text/plain": [
       "<matplotlib.figure.Figure at 0x7eff09c2d128>"
      ]
     },
     "metadata": {},
     "output_type": "display_data"
    },
    {
     "name": "stdout",
     "output_type": "stream",
     "text": [
      "predicted prob for this move is: 0.0500829\n",
      "0.1\n"
     ]
    },
    {
     "data": {
      "image/png": "[encoded data removed]",
      "text/plain": [
       "<matplotlib.figure.Figure at 0x7eff09bcc908>"
      ]
     },
     "metadata": {},
     "output_type": "display_data"
    },
    {
     "name": "stdout",
     "output_type": "stream",
     "text": [
      "0.0\n"
     ]
    },
    {
     "data": {
      "image/png": "[encoded data removed]",
      "text/plain": [
       "<matplotlib.figure.Figure at 0x7eff09b81c88>"
      ]
     },
     "metadata": {},
     "output_type": "display_data"
    },
    {
     "name": "stdout",
     "output_type": "stream",
     "text": [
      "predicted prob for this move is: 0.0497656\n",
      "0.1\n"
     ]
    },
    {
     "data": {
      "image/png": "[encoded data removed]",
      "text/plain": [
       "<matplotlib.figure.Figure at 0x7eff09b36d30>"
      ]
     },
     "metadata": {},
     "output_type": "display_data"
    },
    {
     "name": "stdout",
     "output_type": "stream",
     "text": [
      "0.0\n"
     ]
    },
    {
     "data": {
      "image/png": "[encoded data removed]",
      "text/plain": [
       "<matplotlib.figure.Figure at 0x7eff09b6df60>"
      ]
     },
     "metadata": {},
     "output_type": "display_data"
    },
    {
     "name": "stdout",
     "output_type": "stream",
     "text": [
      "predicted prob for this move is: 0.0490917\n",
      "0.0\n"
     ]
    },
    {
     "data": {
      "image/png": "[encoded data removed]",
      "text/plain": [
       "<matplotlib.figure.Figure at 0x7eff09b23dd8>"
      ]
     },
     "metadata": {},
     "output_type": "display_data"
    },
    {
     "name": "stdout",
     "output_type": "stream",
     "text": [
      "-0.2\n"
     ]
    },
    {
     "data": {
      "image/png": "[encoded data removed]",
      "text/plain": [
       "<matplotlib.figure.Figure at 0x7eff09adb860>"
      ]
     },
     "metadata": {},
     "output_type": "display_data"
    },
    {
     "name": "stdout",
     "output_type": "stream",
     "text": [
      "predicted prob for this move is: 0.0481683\n",
      "-0.2\n"
     ]
    },
    {
     "data": {
      "image/png": "[encoded data removed]",
      "text/plain": [
       "<matplotlib.figure.Figure at 0x7eff09a92908>"
      ]
     },
     "metadata": {},
     "output_type": "display_data"
    },
    {
     "name": "stdout",
     "output_type": "stream",
     "text": [
      "-0.7000000000000001\n"
     ]
    },
    {
     "data": {
      "image/png": "[encoded data removed]",
      "text/plain": [
       "<matplotlib.figure.Figure at 0x7eff09aad5c0>"
      ]
     },
     "metadata": {},
     "output_type": "display_data"
    },
    {
     "name": "stdout",
     "output_type": "stream",
     "text": [
      "predicted prob for this move is: 0.0457362\n",
      "-0.6000000000000001\n"
     ]
    },
    {
     "data": {
      "image/png": "[encoded data removed]",
      "text/plain": [
       "<matplotlib.figure.Figure at 0x7eff099ff9e8>"
      ]
     },
     "metadata": {},
     "output_type": "display_data"
    },
    {
     "name": "stdout",
     "output_type": "stream",
     "text": [
      "-0.7000000000000001\n"
     ]
    },
    {
     "data": {
      "image/png": "[encoded data removed]",
      "text/plain": [
       "<matplotlib.figure.Figure at 0x7eff099b3e48>"
      ]
     },
     "metadata": {},
     "output_type": "display_data"
    },
    {
     "name": "stdout",
     "output_type": "stream",
     "text": [
      "predicted prob for this move is: 0.0453432\n",
      "-0.7000000000000001\n"
     ]
    },
    {
     "data": {
      "image/png": "[encoded data removed]",
      "text/plain": [
       "<matplotlib.figure.Figure at 0x7eff099ebe80>"
      ]
     },
     "metadata": {},
     "output_type": "display_data"
    },
    {
     "name": "stdout",
     "output_type": "stream",
     "text": [
      "-0.9\n"
     ]
    },
    {
     "data": {
      "image/png": "[encoded data removed]",
      "text/plain": [
       "<matplotlib.figure.Figure at 0x7eff099a2ac8>"
      ]
     },
     "metadata": {},
     "output_type": "display_data"
    },
    {
     "name": "stdout",
     "output_type": "stream",
     "text": [
      "predicted prob for this move is: 0.0476256\n",
      "-0.8\n"
     ]
    },
    {
     "data": {
      "image/png": "[encoded data removed]",
      "text/plain": [
       "<matplotlib.figure.Figure at 0x7eff09956cc0>"
      ]
     },
     "metadata": {},
     "output_type": "display_data"
    },
    {
     "name": "stdout",
     "output_type": "stream",
     "text": [
      "-100\n"
     ]
    }
   ],
   "source": [
    "game = Ataxx()\n",
    "turn = -1\n",
    "print(\"-1 is actor\")\n",
    "while abs(game.evaluate(turn, turn)) != 100:\n",
    "    print(game.evaluate(-1, turn))\n",
    "    game.plot()\n",
    "    if turn == 1:\n",
    "        best_move = game.get_greedy_move(turn)\n",
    "        game.move_to(turn, best_move[0], best_move[1])\n",
    "    else:\n",
    "        pos0, pos1, _ = actor.get_noised_action(game, turn, 0, is_target=True)\n",
    "        game.move_to(turn, pos0, pos1)\n",
    "    turn = -turn\n",
    "    time.sleep(0.1)\n",
    "print(game.evaluate(-1, turn))"
   ]
  },
  {
   "cell_type": "code",
   "execution_count": null,
   "metadata": {
    "collapsed": true
   },
   "outputs": [],
   "source": []
  },
  {
   "cell_type": "code",
   "execution_count": 50,
   "metadata": {
    "collapsed": true
   },
   "outputs": [],
   "source": [
    "graph = 0\n",
    "\n",
    "def reinforcement_data_generator(actor_model, actor_target, critic_model, critic_target, relay, \\\n",
    "                                 train_critic=True, step_per_episode=50, \\\n",
    "                                 BATCH_SIZE=64, GAMMA=0.99, RELAY_SIZE=10000): \n",
    "    global graph\n",
    "    with graph.as_default():\n",
    "        max_score = 1\n",
    "        min_score = 0.02\n",
    "        policy_mask_init = 0.01\n",
    "\n",
    "        actor = ActorNetwork(target_model=actor_target, model=actor_model)\n",
    "        critic = CriticNetwork(target_model=critic_target, model=actor_model)\n",
    "        print(\"actor critic prepared\")\n",
    "\n",
    "        while True:\n",
    "            reward = 0\n",
    "            step = 0\n",
    "\n",
    "            game = Ataxx()\n",
    "            turn = -1 # start turn is -1\n",
    "\n",
    "            while abs(game.evaluate(turn, turn, max_score, min_score)) != max_score:\n",
    "                new_sample = [] # prepare to collect new sample\n",
    "\n",
    "                pos0, pos1, cur_action_mask = actor.get_noised_action(game, turn, epsilon=0.1, mask_init=policy_mask_init, verbose=0) # get proposed action\n",
    "\n",
    "                new_state = game.simu_move_to(turn, pos0, pos1)\n",
    "\n",
    "                # create new_sample and add that to relay\n",
    "                new_sample.append(game.get_feature_map(turn)) # cur_state\n",
    "                new_sample.append(game.get_mask(turn)) # cur_mask\n",
    "                new_sample.append(actor.get_action_prob(game, turn)) # cur_action\n",
    "                new_sample.append(cur_action_mask) # cur_action_mask\n",
    "\n",
    "                game.move_to(turn, pos0, pos1) # do the move here if the move is valid\n",
    "                turn = -turn # the turn now is the next turn, what we are learning for is -turn\n",
    "\n",
    "                new_sample.append(game.evaluate(-turn, turn, max_score, min_score)) # cur_reward\n",
    "                if abs(new_sample[-1]) == max_score:\n",
    "                    new_sample.append(None) \n",
    "                else:\n",
    "                    new_sample.append(game.get_feature_map(turn)) # new_state\n",
    "\n",
    "                relay.add_sample(new_sample)\n",
    "\n",
    "            if relay.size() > BATCH_SIZE:\n",
    "                for t in range(step_per_episode):\n",
    "                    cur_state, cur_mask, cur_action, cur_action_mask, \\\n",
    "                        cur_reward, new_state = relay.get_batch(BATCH_SIZE)\n",
    "                    q_target = np.zeros(BATCH_SIZE)\n",
    "\n",
    "                    for k in range(BATCH_SIZE):\n",
    "                        if new_state[k] is None:\n",
    "                            q_target[k] = cur_reward[k]\n",
    "                        else:\n",
    "                            # generate new action\n",
    "                            board = new_state[k][0] - new_state[k][1]\n",
    "                            tmp_game = Ataxx(board) # recover the game board\n",
    "\n",
    "                            new_action, new_action_mask = actor.get_noised_action(tmp_game, 1, epsilon=0, return_position=False, \n",
    "                                                                        mask_init=policy_mask_init, is_target=True, verbose=False)\n",
    "                            q_new = critic.target_model.predict([new_state[k].reshape(1, 2, 7, 7), \n",
    "                                                                new_action.reshape(1, 2, 7, 7),\n",
    "                                                                new_action_mask.reshape(1, 2, 7, 7)])[0]\n",
    "                            q_target[k] = cur_reward[k] - GAMMA*q_new # cuz this q_new is for the opponent\n",
    "                    if train_critic:\n",
    "                        yield [cur_state, cur_action, cur_action_mask], q_target\n",
    "                    else:\n",
    "                        yield [cur_state, cur_mask, cur_action_mask], np.zeros(BATCH_SIZE)\n",
    "\n",
    "def actor_critic_trainer(epochs=1000, check_point=True, steps_per_epoch=50, \\\n",
    "                           BATCH_SIZE=64, TRAIN_BATCH_TIME=1, GAMMA=0.99, RELAY_SIZE=10000, TAU=0.001, LRA=0.0001, LRC=0.0001): \n",
    "    actor = ActorNetwork(TAU, LRA, 0)\n",
    "    critic = CriticNetwork(TAU, LRC)\n",
    "    relay = Relay(RELAY_SIZE)\n",
    "    global graph\n",
    "    graph = tf.get_default_graph()\n",
    "\n",
    "    with tf.device('/cpu'):\n",
    "        actor_critic_model = Model(inputs=[actor.model.inputs[0], actor.model.inputs[1], critic.frozen_model.inputs[2]],\n",
    "                                   outputs=[critic.frozen_model([actor.model.inputs[0], actor.model.outputs[0], critic.frozen_model.inputs[2]])])\n",
    "        sgd = SGD(lr=LRA, decay=5e-7, momentum=0.9, nesterov=True)\n",
    "        actor_critic_model.compile(loss=neg_linear_loss, optimizer=sgd)\n",
    "    gpu_ac_model = multi_gpu_model(actor_critic_model, gpus=4)\n",
    "    gpu_ac_model.compile(loss=neg_linear_loss, optimizer=Adam(lr=LRA))\n",
    "    print(gpu_ac_model.summary())\n",
    "    \n",
    "    for ep in range(epochs):\n",
    "        critic.gpu_model.fit_generator(reinforcement_data_generator(actor.model, actor.target_model, \\\n",
    "                                                                    critic.model, critic.target_model, \\\n",
    "                                                                    relay, train_critic=True, \\\n",
    "                                                                    step_per_episode=50, \\\n",
    "                                                                    BATCH_SIZE=256, GAMMA=0.99, RELAY_SIZE=RELAY_SIZE),\\\n",
    "                                       verbose=1, steps_per_epoch=steps_per_epoch, \\\n",
    "                                       #workers=8, use_multiprocessing=True\n",
    "                                      )\n",
    "        gpu_ac_model.fit_generator(reinforcement_data_generator(actor.model, actor.target_model, \\\n",
    "                                                                critic.model, critic.target_model, \\\n",
    "                                                                relay, train_critic=False, \\\n",
    "                                                                step_per_episode=50, \\\n",
    "                                                                BATCH_SIZE=256, GAMMA=0.99, RELAY_SIZE=RELAY_SIZE),\\\n",
    "                                   verbose=1, steps_per_epoch=steps_per_epoch, \\\n",
    "                                   #workers=8, use_multiprocessing=True\n",
    "                                  )\n",
    "        actor.target_train()\n",
    "        critic.target_train()\n",
    "        \n",
    "        if check_point:\n",
    "            actor.save()\n",
    "        tmp_game = Ataxx()\n",
    "        print(\"trained action prob map predicted by initial model for a starting game\")\n",
    "        print(actor.get_action_prob(tmp_game, -1, is_target=True))"
   ]
  },
  {
   "cell_type": "code",
   "execution_count": null,
   "metadata": {
    "collapsed": true
   },
   "outputs": [],
   "source": []
  },
  {
   "cell_type": "code",
   "execution_count": 51,
   "metadata": {
    "scrolled": true
   },
   "outputs": [
    {
     "name": "stderr",
     "output_type": "stream",
     "text": [
      "/home/yuze/anaconda3/envs/tensorflow/lib/python3.5/site-packages/ipykernel_launcher.py:121: UserWarning: Update your `Model` call to the Keras 2 API: `Model(outputs=[<tf.Tenso..., inputs=[<tf.Tenso...)`\n"
     ]
    },
    {
     "name": "stdout",
     "output_type": "stream",
     "text": [
      "__________________________________________________________________________________________________\n",
      "Layer (type)                    Output Shape         Param #     Connected to                     \n",
      "==================================================================================================\n",
      "input_153 (InputLayer)          (None, 2, 7, 7)      0                                            \n",
      "__________________________________________________________________________________________________\n",
      "conv2d_242 (Conv2D)             (None, 64, 5, 5)     1216        input_153[0][0]                  \n",
      "__________________________________________________________________________________________________\n",
      "batch_normalization_271 (BatchN (None, 64, 5, 5)     256         conv2d_242[0][0]                 \n",
      "__________________________________________________________________________________________________\n",
      "conv2d_243 (Conv2D)             (None, 64, 5, 5)     36928       batch_normalization_271[0][0]    \n",
      "__________________________________________________________________________________________________\n",
      "batch_normalization_272 (BatchN (None, 64, 5, 5)     256         conv2d_243[0][0]                 \n",
      "__________________________________________________________________________________________________\n",
      "conv2d_244 (Conv2D)             (None, 128, 3, 3)    73856       batch_normalization_272[0][0]    \n",
      "__________________________________________________________________________________________________\n",
      "batch_normalization_273 (BatchN (None, 128, 3, 3)    512         conv2d_244[0][0]                 \n",
      "__________________________________________________________________________________________________\n",
      "conv2d_245 (Conv2D)             (None, 128, 3, 3)    147584      batch_normalization_273[0][0]    \n",
      "__________________________________________________________________________________________________\n",
      "batch_normalization_274 (BatchN (None, 128, 3, 3)    512         conv2d_245[0][0]                 \n",
      "__________________________________________________________________________________________________\n",
      "flatten_61 (Flatten)            (None, 1152)         0           batch_normalization_274[0][0]    \n",
      "__________________________________________________________________________________________________\n",
      "dense_91 (Dense)                (None, 98)           112994      flatten_61[0][0]                 \n",
      "__________________________________________________________________________________________________\n",
      "reshape_91 (Reshape)            (None, 2, 7, 7)      0           dense_91[0][0]                   \n",
      "__________________________________________________________________________________________________\n",
      "input_154 (InputLayer)          (None, 2, 7, 7)      0                                            \n",
      "__________________________________________________________________________________________________\n",
      "multiply_61 (Multiply)          (None, 2, 7, 7)      0           reshape_91[0][0]                 \n",
      "                                                                 input_154[0][0]                  \n",
      "__________________________________________________________________________________________________\n",
      "reshape_92 (Reshape)            (None, 2, 49)        0           multiply_61[0][0]                \n",
      "__________________________________________________________________________________________________\n",
      "activation_31 (Activation)      (None, 2, 49)        0           reshape_92[0][0]                 \n",
      "__________________________________________________________________________________________________\n",
      "reshape_93 (Reshape)            (None, 2, 7, 7)      0           activation_31[0][0]              \n",
      "==================================================================================================\n",
      "Total params: 374,114\n",
      "Trainable params: 373,346\n",
      "Non-trainable params: 768\n",
      "__________________________________________________________________________________________________\n",
      "None\n",
      "__________________________________________________________________________________________________\n",
      "Layer (type)                    Output Shape         Param #     Connected to                     \n",
      "==================================================================================================\n",
      "input_155 (InputLayer)          (None, 2, 7, 7)      0                                            \n",
      "__________________________________________________________________________________________________\n",
      "conv2d_246 (Conv2D)             (None, 64, 5, 5)     1216        input_155[0][0]                  \n",
      "__________________________________________________________________________________________________\n",
      "batch_normalization_275 (BatchN (None, 64, 5, 5)     256         conv2d_246[0][0]                 \n",
      "__________________________________________________________________________________________________\n",
      "conv2d_247 (Conv2D)             (None, 64, 5, 5)     36928       batch_normalization_275[0][0]    \n",
      "__________________________________________________________________________________________________\n",
      "batch_normalization_276 (BatchN (None, 64, 5, 5)     256         conv2d_247[0][0]                 \n",
      "__________________________________________________________________________________________________\n",
      "conv2d_248 (Conv2D)             (None, 128, 3, 3)    73856       batch_normalization_276[0][0]    \n",
      "__________________________________________________________________________________________________\n",
      "batch_normalization_277 (BatchN (None, 128, 3, 3)    512         conv2d_248[0][0]                 \n",
      "__________________________________________________________________________________________________\n",
      "conv2d_249 (Conv2D)             (None, 128, 3, 3)    147584      batch_normalization_277[0][0]    \n",
      "__________________________________________________________________________________________________\n",
      "batch_normalization_278 (BatchN (None, 128, 3, 3)    512         conv2d_249[0][0]                 \n",
      "__________________________________________________________________________________________________\n",
      "flatten_62 (Flatten)            (None, 1152)         0           batch_normalization_278[0][0]    \n",
      "__________________________________________________________________________________________________\n",
      "dense_92 (Dense)                (None, 98)           112994      flatten_62[0][0]                 \n",
      "__________________________________________________________________________________________________\n",
      "reshape_94 (Reshape)            (None, 2, 7, 7)      0           dense_92[0][0]                   \n",
      "__________________________________________________________________________________________________\n",
      "input_156 (InputLayer)          (None, 2, 7, 7)      0                                            \n",
      "__________________________________________________________________________________________________\n",
      "multiply_62 (Multiply)          (None, 2, 7, 7)      0           reshape_94[0][0]                 \n",
      "                                                                 input_156[0][0]                  \n",
      "__________________________________________________________________________________________________\n",
      "reshape_95 (Reshape)            (None, 2, 49)        0           multiply_62[0][0]                \n",
      "__________________________________________________________________________________________________\n",
      "activation_32 (Activation)      (None, 2, 49)        0           reshape_95[0][0]                 \n",
      "__________________________________________________________________________________________________\n",
      "reshape_96 (Reshape)            (None, 2, 7, 7)      0           activation_32[0][0]              \n",
      "==================================================================================================\n",
      "Total params: 374,114\n",
      "Trainable params: 373,346\n",
      "Non-trainable params: 768\n",
      "__________________________________________________________________________________________________\n",
      "None\n",
      "__________________________________________________________________________________________________\n",
      "Layer (type)                    Output Shape         Param #     Connected to                     \n",
      "==================================================================================================\n",
      "input_158 (InputLayer)          (None, 2, 7, 7)      0                                            \n",
      "__________________________________________________________________________________________________\n",
      "input_159 (InputLayer)          (None, 2, 7, 7)      0                                            \n",
      "__________________________________________________________________________________________________\n",
      "multiply_63 (Multiply)          (None, 2, 7, 7)      0           input_158[0][0]                  \n",
      "                                                                 input_159[0][0]                  \n",
      "__________________________________________________________________________________________________\n",
      "input_157 (InputLayer)          (None, 2, 7, 7)      0                                            \n",
      "__________________________________________________________________________________________________\n",
      "concatenate_31 (Concatenate)    (None, 4, 7, 7)      0           multiply_63[0][0]                \n",
      "                                                                 input_157[0][0]                  \n",
      "__________________________________________________________________________________________________\n",
      "conv2d_250 (Conv2D)             (None, 128, 5, 5)    4736        concatenate_31[0][0]             \n",
      "__________________________________________________________________________________________________\n",
      "batch_normalization_279 (BatchN (None, 128, 5, 5)    512         conv2d_250[0][0]                 \n",
      "__________________________________________________________________________________________________\n",
      "conv2d_251 (Conv2D)             (None, 64, 5, 5)     73792       batch_normalization_279[0][0]    \n",
      "__________________________________________________________________________________________________\n",
      "batch_normalization_280 (BatchN (None, 64, 5, 5)     256         conv2d_251[0][0]                 \n",
      "__________________________________________________________________________________________________\n",
      "conv2d_252 (Conv2D)             (None, 128, 3, 3)    73856       batch_normalization_280[0][0]    \n",
      "__________________________________________________________________________________________________\n",
      "batch_normalization_281 (BatchN (None, 128, 3, 3)    512         conv2d_252[0][0]                 \n",
      "__________________________________________________________________________________________________\n",
      "conv2d_253 (Conv2D)             (None, 128, 3, 3)    147584      batch_normalization_281[0][0]    \n",
      "__________________________________________________________________________________________________\n",
      "batch_normalization_282 (BatchN (None, 128, 3, 3)    512         conv2d_253[0][0]                 \n",
      "__________________________________________________________________________________________________\n",
      "flatten_63 (Flatten)            (None, 1152)         0           batch_normalization_282[0][0]    \n",
      "__________________________________________________________________________________________________\n",
      "dense_93 (Dense)                (None, 512)          590336      flatten_63[0][0]                 \n",
      "__________________________________________________________________________________________________\n",
      "batch_normalization_283 (BatchN (None, 512)          2048        dense_93[0][0]                   \n",
      "__________________________________________________________________________________________________\n",
      "dense_94 (Dense)                (None, 1)            513         batch_normalization_283[0][0]    \n",
      "==================================================================================================\n",
      "Total params: 894,657\n",
      "Trainable params: 892,737\n",
      "Non-trainable params: 1,920\n",
      "__________________________________________________________________________________________________\n",
      "None\n"
     ]
    },
    {
     "name": "stdout",
     "output_type": "stream",
     "text": [
      "__________________________________________________________________________________________________\n",
      "Layer (type)                    Output Shape         Param #     Connected to                     \n",
      "==================================================================================================\n",
      "input_161 (InputLayer)          (None, 2, 7, 7)      0                                            \n",
      "__________________________________________________________________________________________________\n",
      "input_162 (InputLayer)          (None, 2, 7, 7)      0                                            \n",
      "__________________________________________________________________________________________________\n",
      "multiply_64 (Multiply)          (None, 2, 7, 7)      0           input_161[0][0]                  \n",
      "                                                                 input_162[0][0]                  \n",
      "__________________________________________________________________________________________________\n",
      "input_160 (InputLayer)          (None, 2, 7, 7)      0                                            \n",
      "__________________________________________________________________________________________________\n",
      "concatenate_32 (Concatenate)    (None, 4, 7, 7)      0           multiply_64[0][0]                \n",
      "                                                                 input_160[0][0]                  \n",
      "__________________________________________________________________________________________________\n",
      "conv2d_254 (Conv2D)             (None, 128, 5, 5)    4736        concatenate_32[0][0]             \n",
      "__________________________________________________________________________________________________\n",
      "batch_normalization_284 (BatchN (None, 128, 5, 5)    512         conv2d_254[0][0]                 \n",
      "__________________________________________________________________________________________________\n",
      "conv2d_255 (Conv2D)             (None, 64, 5, 5)     73792       batch_normalization_284[0][0]    \n",
      "__________________________________________________________________________________________________\n",
      "batch_normalization_285 (BatchN (None, 64, 5, 5)     256         conv2d_255[0][0]                 \n",
      "__________________________________________________________________________________________________\n",
      "conv2d_256 (Conv2D)             (None, 128, 3, 3)    73856       batch_normalization_285[0][0]    \n",
      "__________________________________________________________________________________________________\n",
      "batch_normalization_286 (BatchN (None, 128, 3, 3)    512         conv2d_256[0][0]                 \n",
      "__________________________________________________________________________________________________\n",
      "conv2d_257 (Conv2D)             (None, 128, 3, 3)    147584      batch_normalization_286[0][0]    \n",
      "__________________________________________________________________________________________________\n",
      "batch_normalization_287 (BatchN (None, 128, 3, 3)    512         conv2d_257[0][0]                 \n",
      "__________________________________________________________________________________________________\n",
      "flatten_64 (Flatten)            (None, 1152)         0           batch_normalization_287[0][0]    \n",
      "__________________________________________________________________________________________________\n",
      "dense_95 (Dense)                (None, 512)          590336      flatten_64[0][0]                 \n",
      "__________________________________________________________________________________________________\n",
      "batch_normalization_288 (BatchN (None, 512)          2048        dense_95[0][0]                   \n",
      "__________________________________________________________________________________________________\n",
      "dense_96 (Dense)                (None, 1)            513         batch_normalization_288[0][0]    \n",
      "==================================================================================================\n",
      "Total params: 894,657\n",
      "Trainable params: 892,737\n",
      "Non-trainable params: 1,920\n",
      "__________________________________________________________________________________________________\n",
      "None\n",
      "__________________________________________________________________________________________________\n",
      "Layer (type)                    Output Shape         Param #     Connected to                     \n",
      "==================================================================================================\n",
      "input_153 (InputLayer)          (None, 2, 7, 7)      0                                            \n",
      "__________________________________________________________________________________________________\n",
      "input_154 (InputLayer)          (None, 2, 7, 7)      0                                            \n",
      "__________________________________________________________________________________________________\n",
      "input_159 (InputLayer)          (None, 2, 7, 7)      0                                            \n",
      "__________________________________________________________________________________________________\n",
      "lambda_322 (Lambda)             (None, 2, 7, 7)      0           input_153[0][0]                  \n",
      "__________________________________________________________________________________________________\n",
      "lambda_323 (Lambda)             (None, 2, 7, 7)      0           input_154[0][0]                  \n",
      "__________________________________________________________________________________________________\n",
      "lambda_324 (Lambda)             (None, 2, 7, 7)      0           input_159[0][0]                  \n",
      "__________________________________________________________________________________________________\n",
      "lambda_325 (Lambda)             (None, 2, 7, 7)      0           input_153[0][0]                  \n",
      "__________________________________________________________________________________________________\n",
      "lambda_326 (Lambda)             (None, 2, 7, 7)      0           input_154[0][0]                  \n",
      "__________________________________________________________________________________________________\n",
      "lambda_327 (Lambda)             (None, 2, 7, 7)      0           input_159[0][0]                  \n",
      "__________________________________________________________________________________________________\n",
      "lambda_328 (Lambda)             (None, 2, 7, 7)      0           input_153[0][0]                  \n",
      "__________________________________________________________________________________________________\n",
      "lambda_329 (Lambda)             (None, 2, 7, 7)      0           input_154[0][0]                  \n",
      "__________________________________________________________________________________________________\n",
      "lambda_330 (Lambda)             (None, 2, 7, 7)      0           input_159[0][0]                  \n",
      "__________________________________________________________________________________________________\n",
      "lambda_331 (Lambda)             (None, 2, 7, 7)      0           input_153[0][0]                  \n",
      "__________________________________________________________________________________________________\n",
      "lambda_332 (Lambda)             (None, 2, 7, 7)      0           input_154[0][0]                  \n",
      "__________________________________________________________________________________________________\n",
      "lambda_333 (Lambda)             (None, 2, 7, 7)      0           input_159[0][0]                  \n",
      "__________________________________________________________________________________________________\n",
      "model_118 (Model)               (None, 1)            1268771     lambda_322[0][0]                 \n",
      "                                                                 lambda_323[0][0]                 \n",
      "                                                                 lambda_324[0][0]                 \n",
      "                                                                 lambda_325[0][0]                 \n",
      "                                                                 lambda_326[0][0]                 \n",
      "                                                                 lambda_327[0][0]                 \n",
      "                                                                 lambda_328[0][0]                 \n",
      "                                                                 lambda_329[0][0]                 \n",
      "                                                                 lambda_330[0][0]                 \n",
      "                                                                 lambda_331[0][0]                 \n",
      "                                                                 lambda_332[0][0]                 \n",
      "                                                                 lambda_333[0][0]                 \n",
      "__________________________________________________________________________________________________\n",
      "model_116 (Concatenate)         (None, 1)            0           model_118[1][0]                  \n",
      "                                                                 model_118[2][0]                  \n",
      "                                                                 model_118[3][0]                  \n",
      "                                                                 model_118[4][0]                  \n",
      "==================================================================================================\n",
      "Total params: 1,268,771\n",
      "Trainable params: 373,346\n",
      "Non-trainable params: 895,425\n",
      "__________________________________________________________________________________________________\n",
      "None\n",
      "actor critic prepared\n",
      "Epoch 1/1\n"
     ]
    },
    {
     "name": "stdout",
     "output_type": "stream",
     "text": [
      "50/50 [==============================] - 127s 3s/step - loss: 1.9434 - mean_squared_error: 1.9434\n"
     ]
    },
    {
     "name": "stderr",
     "output_type": "stream",
     "text": [
      "Exception ignored in: <generator object reinforcement_data_generator at 0x7f765f58e468>\n",
      "Traceback (most recent call last):\n",
      "  File \"<ipython-input-50-b196c6d99be7>\", line 67, in reinforcement_data_generator\n",
      "  File \"/home/yuze/anaconda3/envs/tensorflow/lib/python3.5/contextlib.py\", line 77, in __exit__\n",
      "    self.gen.throw(type, value, traceback)\n",
      "  File \"/home/yuze/.local/lib/python3.5/site-packages/tensorflow/python/framework/ops.py\", line 4342, in get_controller\n",
      "    if self.stack[-1] is not default:\n",
      "IndexError: list index out of range\n"
     ]
    },
    {
     "name": "stdout",
     "output_type": "stream",
     "text": [
      "actor critic preparedEpoch 1/1\n",
      "\n",
      "50/50 [==============================] - 117s 2s/step - loss: -1.4782e-08\n"
     ]
    },
    {
     "name": "stderr",
     "output_type": "stream",
     "text": [
      "Exception ignored in: <generator object reinforcement_data_generator at 0x7f765f58e468>\n",
      "Traceback (most recent call last):\n",
      "  File \"<ipython-input-50-b196c6d99be7>\", line 67, in reinforcement_data_generator\n",
      "  File \"/home/yuze/anaconda3/envs/tensorflow/lib/python3.5/contextlib.py\", line 77, in __exit__\n",
      "    self.gen.throw(type, value, traceback)\n",
      "  File \"/home/yuze/.local/lib/python3.5/site-packages/tensorflow/python/framework/ops.py\", line 4342, in get_controller\n",
      "    if self.stack[-1] is not default:\n",
      "IndexError: list index out of range\n"
     ]
    },
    {
     "name": "stdout",
     "output_type": "stream",
     "text": [
      "trained action prob map predicted by initial model for a starting game\n",
      "[[[ 0.020408    0.020408    0.020408    0.020408    0.020408    0.020408\n",
      "    0.020408  ]\n",
      "  [ 0.020408    0.020408    0.020408    0.020408    0.020408    0.020408\n",
      "    0.020408  ]\n",
      "  [ 0.020408    0.020408    0.020408    0.020408    0.020408    0.020408\n",
      "    0.020408  ]\n",
      "  [ 0.020408    0.020408    0.020408    0.020408    0.020408    0.020408\n",
      "    0.020408  ]\n",
      "  [ 0.020408    0.020408    0.020408    0.020408    0.020408    0.020408\n",
      "    0.020408  ]\n",
      "  [ 0.020408    0.020408    0.020408    0.020408    0.020408    0.020408\n",
      "    0.020408  ]\n",
      "  [ 0.020408    0.020408    0.020408    0.020408    0.020408    0.020408\n",
      "    0.02041597]]\n",
      "\n",
      " [[ 0.02040417  0.02040417  0.02040417  0.02040417  0.02040417  0.02040417\n",
      "    0.02040417]\n",
      "  [ 0.02042603  0.02042381  0.02041361  0.02040417  0.02040417  0.02040417\n",
      "    0.02040417]\n",
      "  [ 0.02040417  0.02042197  0.02040417  0.02040417  0.02040417  0.02040417\n",
      "    0.02040417]\n",
      "  [ 0.02040417  0.02040417  0.02040417  0.02040417  0.02040417  0.02040417\n",
      "    0.02040417]\n",
      "  [ 0.02040417  0.02040417  0.02040417  0.02040417  0.02040834  0.02040417\n",
      "    0.02040417]\n",
      "  [ 0.02040417  0.02040417  0.02040417  0.02040417  0.02044211  0.02040417\n",
      "    0.02041998]\n",
      "  [ 0.02040417  0.02040417  0.02040417  0.02040417  0.02041306  0.02046458\n",
      "    0.02040417]]]\n",
      "actor critic preparedEpoch 1/1\n",
      "\n",
      "50/50 [==============================] - 107s 2s/step - loss: 1.9005 - mean_squared_error: 1.9005\n"
     ]
    },
    {
     "name": "stderr",
     "output_type": "stream",
     "text": [
      "Exception ignored in: <generator object reinforcement_data_generator at 0x7f7653a4b0f8>\n",
      "Traceback (most recent call last):\n",
      "  File \"<ipython-input-50-b196c6d99be7>\", line 67, in reinforcement_data_generator\n",
      "  File \"/home/yuze/anaconda3/envs/tensorflow/lib/python3.5/contextlib.py\", line 77, in __exit__\n",
      "    self.gen.throw(type, value, traceback)\n",
      "  File \"/home/yuze/.local/lib/python3.5/site-packages/tensorflow/python/framework/ops.py\", line 4342, in get_controller\n",
      "    if self.stack[-1] is not default:\n",
      "IndexError: list index out of range\n"
     ]
    },
    {
     "name": "stdout",
     "output_type": "stream",
     "text": [
      "actor critic prepared\n",
      "Epoch 1/1\n",
      "50/50 [==============================] - 108s 2s/step - loss: -3.7905e-09\n"
     ]
    },
    {
     "name": "stderr",
     "output_type": "stream",
     "text": [
      "Exception ignored in: <generator object reinforcement_data_generator at 0x7f7653a4b0f8>\n",
      "Traceback (most recent call last):\n",
      "  File \"<ipython-input-50-b196c6d99be7>\", line 67, in reinforcement_data_generator\n",
      "  File \"/home/yuze/anaconda3/envs/tensorflow/lib/python3.5/contextlib.py\", line 77, in __exit__\n",
      "    self.gen.throw(type, value, traceback)\n",
      "  File \"/home/yuze/.local/lib/python3.5/site-packages/tensorflow/python/framework/ops.py\", line 4342, in get_controller\n",
      "    if self.stack[-1] is not default:\n",
      "IndexError: list index out of range\n"
     ]
    },
    {
     "name": "stdout",
     "output_type": "stream",
     "text": [
      "trained action prob map predicted by initial model for a starting game\n",
      "[[[ 0.02040799  0.02040799  0.02040799  0.02040799  0.02040799  0.02040799\n",
      "    0.02040799]\n",
      "  [ 0.02040799  0.02040799  0.02040799  0.02040799  0.02040799  0.02040799\n",
      "    0.02040799]\n",
      "  [ 0.02040799  0.02040799  0.02040799  0.02040799  0.02040799  0.02040799\n",
      "    0.02040799]\n",
      "  [ 0.02040799  0.02040799  0.02040799  0.02040799  0.02040799  0.02040799\n",
      "    0.02040799]\n",
      "  [ 0.02040799  0.02040799  0.02040799  0.02040799  0.02040799  0.02040799\n",
      "    0.02040799]\n",
      "  [ 0.02040799  0.02040799  0.02040799  0.02040799  0.02040799  0.02040799\n",
      "    0.02040799]\n",
      "  [ 0.02040799  0.02040799  0.02040799  0.02040799  0.02040799  0.02040799\n",
      "    0.0204167 ]]\n",
      "\n",
      " [[ 0.02040579  0.02040579  0.0204107   0.02040579  0.02040579  0.02040579\n",
      "    0.02040579]\n",
      "  [ 0.020414    0.02040579  0.02042309  0.02040579  0.02040579  0.02040579\n",
      "    0.02040579]\n",
      "  [ 0.02040579  0.02040579  0.02040579  0.02040579  0.02040579  0.02040579\n",
      "    0.02040579]\n",
      "  [ 0.02040579  0.02040579  0.02040579  0.02040579  0.02040579  0.02040579\n",
      "    0.02040579]\n",
      "  [ 0.02040579  0.02040579  0.02040579  0.02040579  0.02041027  0.02040908\n",
      "    0.02040579]\n",
      "  [ 0.02040579  0.02040579  0.02040579  0.02040579  0.02041807  0.02040579\n",
      "    0.02041265]\n",
      "  [ 0.02040579  0.02040579  0.02040579  0.02040579  0.02042044  0.02045006\n",
      "    0.02040579]]]\n",
      "actor critic prepared\n",
      "Epoch 1/1\n",
      "50/50 [==============================] - 108s 2s/step - loss: 1.8741 - mean_squared_error: 1.8741\n"
     ]
    },
    {
     "name": "stderr",
     "output_type": "stream",
     "text": [
      "Exception ignored in: <generator object reinforcement_data_generator at 0x7f7653a4b1a8>\n",
      "Traceback (most recent call last):\n",
      "  File \"<ipython-input-50-b196c6d99be7>\", line 67, in reinforcement_data_generator\n",
      "  File \"/home/yuze/anaconda3/envs/tensorflow/lib/python3.5/contextlib.py\", line 77, in __exit__\n",
      "    self.gen.throw(type, value, traceback)\n",
      "  File \"/home/yuze/.local/lib/python3.5/site-packages/tensorflow/python/framework/ops.py\", line 4342, in get_controller\n",
      "    if self.stack[-1] is not default:\n",
      "IndexError: list index out of range\n"
     ]
    },
    {
     "name": "stdout",
     "output_type": "stream",
     "text": [
      "actor critic preparedEpoch 1/1\n",
      "\n",
      "50/50 [==============================] - 107s 2s/step - loss: 1.4529e-09\n"
     ]
    },
    {
     "name": "stderr",
     "output_type": "stream",
     "text": [
      "Exception ignored in: <generator object reinforcement_data_generator at 0x7f7653a4b1a8>\n",
      "Traceback (most recent call last):\n",
      "  File \"<ipython-input-50-b196c6d99be7>\", line 67, in reinforcement_data_generator\n",
      "  File \"/home/yuze/anaconda3/envs/tensorflow/lib/python3.5/contextlib.py\", line 77, in __exit__\n",
      "    self.gen.throw(type, value, traceback)\n",
      "  File \"/home/yuze/.local/lib/python3.5/site-packages/tensorflow/python/framework/ops.py\", line 4342, in get_controller\n",
      "    if self.stack[-1] is not default:\n",
      "IndexError: list index out of range\n"
     ]
    },
    {
     "name": "stdout",
     "output_type": "stream",
     "text": [
      "trained action prob map predicted by initial model for a starting game\n",
      "[[[ 0.02040795  0.02040795  0.02040795  0.02040795  0.02040795  0.02040795\n",
      "    0.02040795]\n",
      "  [ 0.02040795  0.02040795  0.02040795  0.02040795  0.02040795  0.02040795\n",
      "    0.02040795]\n",
      "  [ 0.02040795  0.02040795  0.02040795  0.02040795  0.02040795  0.02040795\n",
      "    0.02040795]\n",
      "  [ 0.02040795  0.02040795  0.02040795  0.02040795  0.02040795  0.02040795\n",
      "    0.02040795]\n",
      "  [ 0.02040795  0.02040795  0.02040795  0.02040795  0.02040795  0.02040795\n",
      "    0.02040795]\n",
      "  [ 0.02040795  0.02040795  0.02040795  0.02040795  0.02040795  0.02040795\n",
      "    0.02040795]\n",
      "  [ 0.02040795  0.02040795  0.02040795  0.02040795  0.02040795  0.02040795\n",
      "    0.02041829]]\n",
      "\n",
      " [[ 0.02040545  0.02040545  0.02043251  0.02040545  0.02040545  0.02040545\n",
      "    0.02040545]\n",
      "  [ 0.02040545  0.02040545  0.02042651  0.02040545  0.02040545  0.02040545\n",
      "    0.02040545]\n",
      "  [ 0.02040545  0.02040545  0.02040961  0.02040545  0.02040545  0.02040545\n",
      "    0.02040545]\n",
      "  [ 0.02040545  0.02040545  0.02040545  0.02040545  0.02040545  0.02040545\n",
      "    0.02040545]\n",
      "  [ 0.02040545  0.02040545  0.02040545  0.02040545  0.02041438  0.02041737\n",
      "    0.0204167 ]\n",
      "  [ 0.02040545  0.02040545  0.02040545  0.02040545  0.02040545  0.02040545\n",
      "    0.02040545]\n",
      "  [ 0.02040545  0.02040545  0.02040545  0.02040545  0.02042462  0.02043479\n",
      "    0.02040545]]]\n",
      "actor critic preparedEpoch 1/1\n",
      "\n",
      "50/50 [==============================] - 105s 2s/step - loss: 1.8885 - mean_squared_error: 1.8885\n"
     ]
    },
    {
     "name": "stderr",
     "output_type": "stream",
     "text": [
      "Exception ignored in: <generator object reinforcement_data_generator at 0x7f7653a4b0f8>\n",
      "Traceback (most recent call last):\n",
      "  File \"<ipython-input-50-b196c6d99be7>\", line 67, in reinforcement_data_generator\n",
      "  File \"/home/yuze/anaconda3/envs/tensorflow/lib/python3.5/contextlib.py\", line 77, in __exit__\n",
      "    self.gen.throw(type, value, traceback)\n",
      "  File \"/home/yuze/.local/lib/python3.5/site-packages/tensorflow/python/framework/ops.py\", line 4342, in get_controller\n",
      "    if self.stack[-1] is not default:\n",
      "IndexError: list index out of range\n"
     ]
    },
    {
     "name": "stdout",
     "output_type": "stream",
     "text": [
      "actor critic prepared\n",
      "Epoch 1/1\n",
      "50/50 [==============================] - 106s 2s/step - loss: -7.9488e-09\n"
     ]
    },
    {
     "name": "stderr",
     "output_type": "stream",
     "text": [
      "Exception ignored in: <generator object reinforcement_data_generator at 0x7f7653a4b0f8>\n",
      "Traceback (most recent call last):\n",
      "  File \"<ipython-input-50-b196c6d99be7>\", line 67, in reinforcement_data_generator\n",
      "  File \"/home/yuze/anaconda3/envs/tensorflow/lib/python3.5/contextlib.py\", line 77, in __exit__\n",
      "    self.gen.throw(type, value, traceback)\n",
      "  File \"/home/yuze/.local/lib/python3.5/site-packages/tensorflow/python/framework/ops.py\", line 4342, in get_controller\n",
      "    if self.stack[-1] is not default:\n",
      "IndexError: list index out of range\n"
     ]
    },
    {
     "name": "stdout",
     "output_type": "stream",
     "text": [
      "trained action prob map predicted by initial model for a starting game\n",
      "[[[ 0.02040797  0.02040797  0.02040797  0.02040797  0.02040797  0.02040797\n",
      "    0.02040797]\n",
      "  [ 0.02040797  0.02040797  0.02040797  0.02040797  0.02040797  0.02040797\n",
      "    0.02040797]\n",
      "  [ 0.02040797  0.02040797  0.02040797  0.02040797  0.02040797  0.02040797\n",
      "    0.02040797]\n",
      "  [ 0.02040797  0.02040797  0.02040797  0.02040797  0.02040797  0.02040797\n",
      "    0.02040797]\n",
      "  [ 0.02040797  0.02040797  0.02040797  0.02040797  0.02040797  0.02040797\n",
      "    0.02040797]\n",
      "  [ 0.02040797  0.02040797  0.02040797  0.02040797  0.02040797  0.02040797\n",
      "    0.02040797]\n",
      "  [ 0.02040797  0.02040797  0.02040797  0.02040797  0.02040797  0.02040797\n",
      "    0.02041747]]\n",
      "\n",
      " [[ 0.02040438  0.02040438  0.02045121  0.02040438  0.02040438  0.02040438\n",
      "    0.02040438]\n",
      "  [ 0.02040438  0.02040438  0.02042737  0.02040438  0.02040438  0.02040438\n",
      "    0.02040438]\n",
      "  [ 0.02040438  0.02040438  0.02041601  0.02040438  0.02040438  0.02040438\n",
      "    0.02040438]\n",
      "  [ 0.02040438  0.02040438  0.02040438  0.02040438  0.02040438  0.02040438\n",
      "    0.02040438]\n",
      "  [ 0.02040438  0.02040438  0.02040438  0.02040438  0.02041714  0.02042492\n",
      "    0.02043577]\n",
      "  [ 0.02040438  0.02040438  0.02040438  0.02040438  0.02040438  0.02040438\n",
      "    0.02040438]\n",
      "  [ 0.02040438  0.02040438  0.02040438  0.02040438  0.02042987  0.02041817\n",
      "    0.02040438]]]\n",
      "actor critic prepared\n",
      "Epoch 1/1\n",
      "50/50 [==============================] - 105s 2s/step - loss: 1.9131 - mean_squared_error: 1.9131\n"
     ]
    },
    {
     "name": "stderr",
     "output_type": "stream",
     "text": [
      "Exception ignored in: <generator object reinforcement_data_generator at 0x7f7653a4b048>\n",
      "Traceback (most recent call last):\n",
      "  File \"<ipython-input-50-b196c6d99be7>\", line 67, in reinforcement_data_generator\n",
      "  File \"/home/yuze/anaconda3/envs/tensorflow/lib/python3.5/contextlib.py\", line 77, in __exit__\n",
      "    self.gen.throw(type, value, traceback)\n",
      "  File \"/home/yuze/.local/lib/python3.5/site-packages/tensorflow/python/framework/ops.py\", line 4342, in get_controller\n",
      "    if self.stack[-1] is not default:\n",
      "IndexError: list index out of range\n"
     ]
    },
    {
     "name": "stdout",
     "output_type": "stream",
     "text": [
      "actor critic preparedEpoch 1/1\n",
      "\n",
      "50/50 [==============================] - 106s 2s/step - loss: 1.4668e-09\n"
     ]
    },
    {
     "name": "stderr",
     "output_type": "stream",
     "text": [
      "Exception ignored in: <generator object reinforcement_data_generator at 0x7f7653a4b048>\n",
      "Traceback (most recent call last):\n",
      "  File \"<ipython-input-50-b196c6d99be7>\", line 67, in reinforcement_data_generator\n",
      "  File \"/home/yuze/anaconda3/envs/tensorflow/lib/python3.5/contextlib.py\", line 77, in __exit__\n",
      "    self.gen.throw(type, value, traceback)\n",
      "  File \"/home/yuze/.local/lib/python3.5/site-packages/tensorflow/python/framework/ops.py\", line 4342, in get_controller\n",
      "    if self.stack[-1] is not default:\n",
      "IndexError: list index out of range\n"
     ]
    },
    {
     "name": "stdout",
     "output_type": "stream",
     "text": [
      "trained action prob map predicted by initial model for a starting game\n",
      "[[[ 0.02040808  0.02040808  0.02040808  0.02040808  0.02040808  0.02040808\n",
      "    0.02040808]\n",
      "  [ 0.02040808  0.02040808  0.02040808  0.02040808  0.02040808  0.02040808\n",
      "    0.02040808]\n",
      "  [ 0.02040808  0.02040808  0.02040808  0.02040808  0.02040808  0.02040808\n",
      "    0.02040808]\n",
      "  [ 0.02040808  0.02040808  0.02040808  0.02040808  0.02040808  0.02040808\n",
      "    0.02040808]\n",
      "  [ 0.02040808  0.02040808  0.02040808  0.02040808  0.02040808  0.02040808\n",
      "    0.02040808]\n",
      "  [ 0.02040808  0.02040808  0.02040808  0.02040808  0.02040808  0.02040808\n",
      "    0.02040808]\n",
      "  [ 0.02040808  0.02040808  0.02040808  0.02040808  0.02040808  0.02040808\n",
      "    0.02041208]]\n",
      "\n",
      " [[ 0.02040343  0.02040343  0.0204699   0.02040343  0.02040343  0.02040343\n",
      "    0.02040343]\n",
      "  [ 0.02040343  0.02040343  0.02042824  0.02040343  0.02040343  0.02040343\n",
      "    0.02040343]\n",
      "  [ 0.02040343  0.02040343  0.02042096  0.02040343  0.02040343  0.02040343\n",
      "    0.02040343]\n",
      "  [ 0.02040343  0.02040343  0.02040343  0.02040343  0.02040343  0.02040343\n",
      "    0.02040343]\n",
      "  [ 0.02040343  0.02040343  0.02040343  0.02040343  0.02041731  0.02043231\n",
      "    0.02045276]\n",
      "  [ 0.02040343  0.02040343  0.02040343  0.02040343  0.02040343  0.02040343\n",
      "    0.02040343]\n",
      "  [ 0.02040343  0.02040343  0.02040343  0.02040343  0.02043461  0.02040343\n",
      "    0.02040343]]]\n",
      "actor critic prepared\n",
      "Epoch 1/1\n",
      "50/50 [==============================] - 104s 2s/step - loss: 1.8693 - mean_squared_error: 1.8693\n"
     ]
    },
    {
     "name": "stderr",
     "output_type": "stream",
     "text": [
      "Exception ignored in: <generator object reinforcement_data_generator at 0x7f7653a4b048>\n",
      "Traceback (most recent call last):\n",
      "  File \"<ipython-input-50-b196c6d99be7>\", line 67, in reinforcement_data_generator\n",
      "  File \"/home/yuze/anaconda3/envs/tensorflow/lib/python3.5/contextlib.py\", line 77, in __exit__\n",
      "    self.gen.throw(type, value, traceback)\n",
      "  File \"/home/yuze/.local/lib/python3.5/site-packages/tensorflow/python/framework/ops.py\", line 4342, in get_controller\n",
      "    if self.stack[-1] is not default:\n",
      "IndexError: list index out of range\n"
     ]
    },
    {
     "name": "stdout",
     "output_type": "stream",
     "text": [
      "actor critic prepared\n",
      "Epoch 1/1\n",
      "50/50 [==============================] - 105s 2s/step - loss: -6.9197e-09\n"
     ]
    },
    {
     "name": "stderr",
     "output_type": "stream",
     "text": [
      "Exception ignored in: <generator object reinforcement_data_generator at 0x7f7653a4b048>\n",
      "Traceback (most recent call last):\n",
      "  File \"<ipython-input-50-b196c6d99be7>\", line 67, in reinforcement_data_generator\n",
      "  File \"/home/yuze/anaconda3/envs/tensorflow/lib/python3.5/contextlib.py\", line 77, in __exit__\n",
      "    self.gen.throw(type, value, traceback)\n",
      "  File \"/home/yuze/.local/lib/python3.5/site-packages/tensorflow/python/framework/ops.py\", line 4342, in get_controller\n",
      "    if self.stack[-1] is not default:\n",
      "IndexError: list index out of range\n"
     ]
    },
    {
     "name": "stdout",
     "output_type": "stream",
     "text": [
      "trained action prob map predicted by initial model for a starting game\n",
      "[[[ 0.02041005  0.02040812  0.02040812  0.02040812  0.02040812  0.02040812\n",
      "    0.02040812]\n",
      "  [ 0.02040812  0.02040812  0.02040812  0.02040812  0.02040812  0.02040812\n",
      "    0.02040812]\n",
      "  [ 0.02040812  0.02040812  0.02040812  0.02040812  0.02040812  0.02040812\n",
      "    0.02040812]\n",
      "  [ 0.02040812  0.02040812  0.02040812  0.02040812  0.02040812  0.02040812\n",
      "    0.02040812]\n",
      "  [ 0.02040812  0.02040812  0.02040812  0.02040812  0.02040812  0.02040812\n",
      "    0.02040812]\n",
      "  [ 0.02040812  0.02040812  0.02040812  0.02040812  0.02040812  0.02040812\n",
      "    0.02040812]\n",
      "  [ 0.02040812  0.02040812  0.02040812  0.02040812  0.02040812  0.02040812\n",
      "    0.02040812]]\n",
      "\n",
      " [[ 0.02040233  0.02040233  0.02048798  0.02040233  0.02040233  0.02040233\n",
      "    0.02040233]\n",
      "  [ 0.02040233  0.02040233  0.02042876  0.02040233  0.02040233  0.02040233\n",
      "    0.02040233]\n",
      "  [ 0.02040233  0.02040233  0.02042454  0.02040233  0.02040233  0.02040233\n",
      "    0.02040233]\n",
      "  [ 0.02040233  0.02040233  0.02040233  0.02040233  0.02040233  0.02040233\n",
      "    0.02040233]\n",
      "  [ 0.02040233  0.02040233  0.02040233  0.02040233  0.0204162   0.02043694\n",
      "    0.02046934]\n",
      "  [ 0.02040233  0.02040233  0.02040233  0.02040233  0.02040233  0.02040233\n",
      "    0.02040233]\n",
      "  [ 0.02040233  0.02040233  0.02040233  0.02040233  0.02043841  0.02040233\n",
      "    0.02040233]]]\n",
      "actor critic prepared\n",
      "Epoch 1/1\n",
      "50/50 [==============================] - 104s 2s/step - loss: 1.8862 - mean_squared_error: 1.8862\n"
     ]
    },
    {
     "name": "stderr",
     "output_type": "stream",
     "text": [
      "Exception ignored in: <generator object reinforcement_data_generator at 0x7f7653a4b1a8>\n",
      "Traceback (most recent call last):\n",
      "  File \"<ipython-input-50-b196c6d99be7>\", line 67, in reinforcement_data_generator\n",
      "  File \"/home/yuze/anaconda3/envs/tensorflow/lib/python3.5/contextlib.py\", line 77, in __exit__\n",
      "    self.gen.throw(type, value, traceback)\n",
      "  File \"/home/yuze/.local/lib/python3.5/site-packages/tensorflow/python/framework/ops.py\", line 4342, in get_controller\n",
      "    if self.stack[-1] is not default:\n",
      "IndexError: list index out of range\n"
     ]
    },
    {
     "name": "stdout",
     "output_type": "stream",
     "text": [
      "actor critic prepared\n",
      "Epoch 1/1\n",
      "50/50 [==============================] - 105s 2s/step - loss: -9.8068e-09\n"
     ]
    },
    {
     "name": "stderr",
     "output_type": "stream",
     "text": [
      "Exception ignored in: <generator object reinforcement_data_generator at 0x7f7653a4b1a8>\n",
      "Traceback (most recent call last):\n",
      "  File \"<ipython-input-50-b196c6d99be7>\", line 67, in reinforcement_data_generator\n",
      "  File \"/home/yuze/anaconda3/envs/tensorflow/lib/python3.5/contextlib.py\", line 77, in __exit__\n",
      "    self.gen.throw(type, value, traceback)\n",
      "  File \"/home/yuze/.local/lib/python3.5/site-packages/tensorflow/python/framework/ops.py\", line 4342, in get_controller\n",
      "    if self.stack[-1] is not default:\n",
      "IndexError: list index out of range\n"
     ]
    },
    {
     "name": "stdout",
     "output_type": "stream",
     "text": [
      "trained action prob map predicted by initial model for a starting game\n",
      "[[[ 0.02041354  0.02040805  0.02040805  0.02040805  0.02040805  0.02040805\n",
      "    0.02040805]\n",
      "  [ 0.02040805  0.02040805  0.02040805  0.02040805  0.02040805  0.02040805\n",
      "    0.02040805]\n",
      "  [ 0.02040805  0.02040805  0.02040805  0.02040805  0.02040805  0.02040805\n",
      "    0.02040805]\n",
      "  [ 0.02040805  0.02040805  0.02040805  0.02040805  0.02040805  0.02040805\n",
      "    0.02040805]\n",
      "  [ 0.02040805  0.02040805  0.02040805  0.02040805  0.02040805  0.02040805\n",
      "    0.02040805]\n",
      "  [ 0.02040805  0.02040805  0.02040805  0.02040805  0.02040805  0.02040805\n",
      "    0.02040805]\n",
      "  [ 0.02040805  0.02040805  0.02040805  0.02040805  0.02040805  0.02040805\n",
      "    0.02040805]]\n",
      "\n",
      " [[ 0.02040141  0.02040141  0.02050594  0.02040141  0.02040141  0.02040141\n",
      "    0.02040141]\n",
      "  [ 0.02040141  0.02040141  0.02043002  0.02040141  0.02040141  0.02040141\n",
      "    0.02040141]\n",
      "  [ 0.02040141  0.02040141  0.02042576  0.02040141  0.02040141  0.02040141\n",
      "    0.02040141]\n",
      "  [ 0.02040141  0.02040141  0.02040141  0.02040141  0.02040141  0.02040141\n",
      "    0.02040141]\n",
      "  [ 0.02040141  0.02040141  0.02040141  0.02040141  0.02041747  0.02043911\n",
      "    0.02048358]\n",
      "  [ 0.02040141  0.02040141  0.02040141  0.02040141  0.02040141  0.02040141\n",
      "    0.02040141]\n",
      "  [ 0.02040141  0.02040141  0.02040141  0.02040141  0.02043884  0.02040141\n",
      "    0.02040141]]]\n",
      "actor critic prepared\n",
      "Epoch 1/1\n",
      "50/50 [==============================] - 104s 2s/step - loss: 1.9133 - mean_squared_error: 1.9133\n"
     ]
    },
    {
     "name": "stderr",
     "output_type": "stream",
     "text": [
      "Exception ignored in: <generator object reinforcement_data_generator at 0x7f7653a4b0f8>\n",
      "Traceback (most recent call last):\n",
      "  File \"<ipython-input-50-b196c6d99be7>\", line 67, in reinforcement_data_generator\n",
      "  File \"/home/yuze/anaconda3/envs/tensorflow/lib/python3.5/contextlib.py\", line 77, in __exit__\n",
      "    self.gen.throw(type, value, traceback)\n",
      "  File \"/home/yuze/.local/lib/python3.5/site-packages/tensorflow/python/framework/ops.py\", line 4342, in get_controller\n",
      "    if self.stack[-1] is not default:\n",
      "IndexError: list index out of range\n"
     ]
    },
    {
     "name": "stdout",
     "output_type": "stream",
     "text": [
      "actor critic prepared\n",
      "Epoch 1/1\n",
      "50/50 [==============================] - 104s 2s/step - loss: -3.1758e-09\n"
     ]
    },
    {
     "name": "stderr",
     "output_type": "stream",
     "text": [
      "Exception ignored in: <generator object reinforcement_data_generator at 0x7f7653a4b0f8>\n",
      "Traceback (most recent call last):\n",
      "  File \"<ipython-input-50-b196c6d99be7>\", line 67, in reinforcement_data_generator\n",
      "  File \"/home/yuze/anaconda3/envs/tensorflow/lib/python3.5/contextlib.py\", line 77, in __exit__\n",
      "    self.gen.throw(type, value, traceback)\n",
      "  File \"/home/yuze/.local/lib/python3.5/site-packages/tensorflow/python/framework/ops.py\", line 4342, in get_controller\n",
      "    if self.stack[-1] is not default:\n",
      "IndexError: list index out of range\n"
     ]
    },
    {
     "name": "stdout",
     "output_type": "stream",
     "text": [
      "trained action prob map predicted by initial model for a starting game\n",
      "[[[ 0.02041675  0.02040798  0.02040798  0.02040798  0.02040798  0.02040798\n",
      "    0.02040798]\n",
      "  [ 0.02040798  0.02040798  0.02040798  0.02040798  0.02040798  0.02040798\n",
      "    0.02040798]\n",
      "  [ 0.02040798  0.02040798  0.02040798  0.02040798  0.02040798  0.02040798\n",
      "    0.02040798]\n",
      "  [ 0.02040798  0.02040798  0.02040798  0.02040798  0.02040798  0.02040798\n",
      "    0.02040798]\n",
      "  [ 0.02040798  0.02040798  0.02040798  0.02040798  0.02040798  0.02040798\n",
      "    0.02040798]\n",
      "  [ 0.02040798  0.02040798  0.02040798  0.02040798  0.02040798  0.02040798\n",
      "    0.02040798]\n",
      "  [ 0.02040798  0.02040798  0.02040798  0.02040798  0.02040798  0.02040798\n",
      "    0.02040798]]\n",
      "\n",
      " [[ 0.02040056  0.02040056  0.02052318  0.02040056  0.02040056  0.02040056\n",
      "    0.02040056]\n",
      "  [ 0.02040056  0.02040056  0.02043022  0.02040056  0.02040056  0.02040056\n",
      "    0.02040056]\n",
      "  [ 0.02040056  0.02040056  0.02042694  0.02040056  0.02040056  0.02040056\n",
      "    0.02040056]\n",
      "  [ 0.02040056  0.02040056  0.02040056  0.02040056  0.02040056  0.02040056\n",
      "    0.02040056]\n",
      "  [ 0.02040056  0.02040056  0.02040056  0.02040056  0.02041909  0.02044208\n",
      "    0.02049584]\n",
      "  [ 0.02040056  0.02040056  0.02040056  0.02040056  0.02040056  0.02040056\n",
      "    0.02040056]\n",
      "  [ 0.02040056  0.02040056  0.02040056  0.02040056  0.02043908  0.02040056\n",
      "    0.02040056]]]\n",
      "actor critic preparedEpoch 1/1\n",
      "\n",
      "50/50 [==============================] - 104s 2s/step - loss: 1.9040 - mean_squared_error: 1.9040\n"
     ]
    },
    {
     "name": "stderr",
     "output_type": "stream",
     "text": [
      "Exception ignored in: <generator object reinforcement_data_generator at 0x7f7653a4b1a8>\n",
      "Traceback (most recent call last):\n",
      "  File \"<ipython-input-50-b196c6d99be7>\", line 67, in reinforcement_data_generator\n",
      "  File \"/home/yuze/anaconda3/envs/tensorflow/lib/python3.5/contextlib.py\", line 77, in __exit__\n",
      "    self.gen.throw(type, value, traceback)\n",
      "  File \"/home/yuze/.local/lib/python3.5/site-packages/tensorflow/python/framework/ops.py\", line 4342, in get_controller\n",
      "    if self.stack[-1] is not default:\n",
      "IndexError: list index out of range\n"
     ]
    },
    {
     "name": "stdout",
     "output_type": "stream",
     "text": [
      "actor critic prepared\n",
      "Epoch 1/1\n",
      "50/50 [==============================] - 105s 2s/step - loss: 1.5972e-08\n"
     ]
    },
    {
     "name": "stderr",
     "output_type": "stream",
     "text": [
      "Exception ignored in: <generator object reinforcement_data_generator at 0x7f7653a4b1a8>\n",
      "Traceback (most recent call last):\n",
      "  File \"<ipython-input-50-b196c6d99be7>\", line 67, in reinforcement_data_generator\n",
      "  File \"/home/yuze/anaconda3/envs/tensorflow/lib/python3.5/contextlib.py\", line 77, in __exit__\n",
      "    self.gen.throw(type, value, traceback)\n",
      "  File \"/home/yuze/.local/lib/python3.5/site-packages/tensorflow/python/framework/ops.py\", line 4342, in get_controller\n",
      "    if self.stack[-1] is not default:\n",
      "IndexError: list index out of range\n"
     ]
    },
    {
     "name": "stdout",
     "output_type": "stream",
     "text": [
      "trained action prob map predicted by initial model for a starting game\n",
      "[[[ 0.02041998  0.02040792  0.02040792  0.02040792  0.02040792  0.02040792\n",
      "    0.02040792]\n",
      "  [ 0.02040792  0.02040792  0.02040792  0.02040792  0.02040792  0.02040792\n",
      "    0.02040792]\n",
      "  [ 0.02040792  0.02040792  0.02040792  0.02040792  0.02040792  0.02040792\n",
      "    0.02040792]\n",
      "  [ 0.02040792  0.02040792  0.02040792  0.02040792  0.02040792  0.02040792\n",
      "    0.02040792]\n",
      "  [ 0.02040792  0.02040792  0.02040792  0.02040792  0.02040792  0.02040792\n",
      "    0.02040792]\n",
      "  [ 0.02040792  0.02040792  0.02040792  0.02040792  0.02040792  0.02040792\n",
      "    0.02040792]\n",
      "  [ 0.02040792  0.02040792  0.02040792  0.02040792  0.02040792  0.02040792\n",
      "    0.02040792]]\n",
      "\n",
      " [[ 0.02039975  0.02039975  0.02053815  0.02039975  0.02039975  0.02039975\n",
      "    0.02039975]\n",
      "  [ 0.02039975  0.02039975  0.02043092  0.02039975  0.02039975  0.02039975\n",
      "    0.02039975]\n",
      "  [ 0.02039975  0.02039975  0.02042914  0.02039975  0.02039975  0.02039975\n",
      "    0.02039975]\n",
      "  [ 0.02039975  0.02039975  0.02039975  0.02039975  0.02039975  0.02039975\n",
      "    0.02039975]\n",
      "  [ 0.02039975  0.02039975  0.02039975  0.02039975  0.02042235  0.02044396\n",
      "    0.02050617]\n",
      "  [ 0.02039975  0.02039975  0.02039975  0.02039975  0.02039975  0.02039975\n",
      "    0.02039975]\n",
      "  [ 0.02039975  0.02039975  0.02039975  0.02039975  0.02043989  0.02039975\n",
      "    0.02039975]]]\n",
      "actor critic prepared\n",
      "Epoch 1/1\n",
      "50/50 [==============================] - 104s 2s/step - loss: 1.9266 - mean_squared_error: 1.9266\n"
     ]
    },
    {
     "name": "stderr",
     "output_type": "stream",
     "text": [
      "Exception ignored in: <generator object reinforcement_data_generator at 0x7f7653a4b1a8>\n",
      "Traceback (most recent call last):\n",
      "  File \"<ipython-input-50-b196c6d99be7>\", line 67, in reinforcement_data_generator\n",
      "  File \"/home/yuze/anaconda3/envs/tensorflow/lib/python3.5/contextlib.py\", line 77, in __exit__\n",
      "    self.gen.throw(type, value, traceback)\n",
      "  File \"/home/yuze/.local/lib/python3.5/site-packages/tensorflow/python/framework/ops.py\", line 4342, in get_controller\n",
      "    if self.stack[-1] is not default:\n",
      "IndexError: list index out of range\n"
     ]
    },
    {
     "name": "stdout",
     "output_type": "stream",
     "text": [
      "actor critic preparedEpoch 1/1\n",
      "\n",
      "50/50 [==============================] - 104s 2s/step - loss: -2.9756e-09\n"
     ]
    },
    {
     "name": "stderr",
     "output_type": "stream",
     "text": [
      "Exception ignored in: <generator object reinforcement_data_generator at 0x7f7653a4b1a8>\n",
      "Traceback (most recent call last):\n",
      "  File \"<ipython-input-50-b196c6d99be7>\", line 67, in reinforcement_data_generator\n",
      "  File \"/home/yuze/anaconda3/envs/tensorflow/lib/python3.5/contextlib.py\", line 77, in __exit__\n",
      "    self.gen.throw(type, value, traceback)\n",
      "  File \"/home/yuze/.local/lib/python3.5/site-packages/tensorflow/python/framework/ops.py\", line 4342, in get_controller\n",
      "    if self.stack[-1] is not default:\n",
      "IndexError: list index out of range\n"
     ]
    },
    {
     "name": "stdout",
     "output_type": "stream",
     "text": [
      "trained action prob map predicted by initial model for a starting game\n",
      "[[[ 0.0204231   0.02040785  0.02040785  0.02040785  0.02040785  0.02040785\n",
      "    0.02040785]\n",
      "  [ 0.02040785  0.02040785  0.02040785  0.02040785  0.02040785  0.02040785\n",
      "    0.02040785]\n",
      "  [ 0.02040785  0.02040785  0.02040785  0.02040785  0.02040785  0.02040785\n",
      "    0.02040785]\n",
      "  [ 0.02040785  0.02040785  0.02040785  0.02040785  0.02040785  0.02040785\n",
      "    0.02040785]\n",
      "  [ 0.02040785  0.02040785  0.02040785  0.02040785  0.02040785  0.02040785\n",
      "    0.02040785]\n",
      "  [ 0.02040785  0.02040785  0.02040785  0.02040785  0.02040785  0.02040785\n",
      "    0.02040785]\n",
      "  [ 0.02040785  0.02040785  0.02040785  0.02040785  0.02040785  0.02040785\n",
      "    0.02040785]]\n",
      "\n",
      " [[ 0.02039894  0.02040579  0.0205518   0.02039894  0.02039894  0.02039894\n",
      "    0.02039894]\n",
      "  [ 0.02039894  0.02039894  0.02043077  0.02039894  0.02039894  0.02039894\n",
      "    0.02039894]\n",
      "  [ 0.02039894  0.02039894  0.02042754  0.02039894  0.02039894  0.02039894\n",
      "    0.02039894]\n",
      "  [ 0.02039894  0.02039894  0.02039894  0.02039894  0.02039894  0.02039894\n",
      "    0.02039894]\n",
      "  [ 0.02039894  0.02039894  0.02039894  0.02039894  0.02042607  0.02044458\n",
      "    0.02051677]\n",
      "  [ 0.02039894  0.02039894  0.02039894  0.02039894  0.02039894  0.02039894\n",
      "    0.02039894]\n",
      "  [ 0.02039894  0.02039894  0.02039894  0.02039894  0.02044013  0.02039894\n",
      "    0.02039894]]]\n",
      "actor critic prepared\n",
      "Epoch 1/1\n",
      "50/50 [==============================] - 103s 2s/step - loss: 1.9029 - mean_squared_error: 1.9029\n"
     ]
    },
    {
     "name": "stderr",
     "output_type": "stream",
     "text": [
      "Exception ignored in: <generator object reinforcement_data_generator at 0x7f7653a4b0f8>\n",
      "Traceback (most recent call last):\n",
      "  File \"<ipython-input-50-b196c6d99be7>\", line 67, in reinforcement_data_generator\n",
      "  File \"/home/yuze/anaconda3/envs/tensorflow/lib/python3.5/contextlib.py\", line 77, in __exit__\n",
      "    self.gen.throw(type, value, traceback)\n",
      "  File \"/home/yuze/.local/lib/python3.5/site-packages/tensorflow/python/framework/ops.py\", line 4342, in get_controller\n",
      "    if self.stack[-1] is not default:\n",
      "IndexError: list index out of range\n"
     ]
    },
    {
     "name": "stdout",
     "output_type": "stream",
     "text": [
      "actor critic preparedEpoch 1/1\n",
      "\n",
      "50/50 [==============================] - 103s 2s/step - loss: -3.9209e-09\n"
     ]
    },
    {
     "name": "stderr",
     "output_type": "stream",
     "text": [
      "Exception ignored in: <generator object reinforcement_data_generator at 0x7f7653a4b0f8>\n",
      "Traceback (most recent call last):\n",
      "  File \"<ipython-input-50-b196c6d99be7>\", line 67, in reinforcement_data_generator\n",
      "  File \"/home/yuze/anaconda3/envs/tensorflow/lib/python3.5/contextlib.py\", line 77, in __exit__\n",
      "    self.gen.throw(type, value, traceback)\n",
      "  File \"/home/yuze/.local/lib/python3.5/site-packages/tensorflow/python/framework/ops.py\", line 4342, in get_controller\n",
      "    if self.stack[-1] is not default:\n",
      "IndexError: list index out of range\n"
     ]
    },
    {
     "name": "stdout",
     "output_type": "stream",
     "text": [
      "trained action prob map predicted by initial model for a starting game\n",
      "[[[ 0.02042691  0.02040777  0.02040777  0.02040777  0.02040777  0.02040777\n",
      "    0.02040777]\n",
      "  [ 0.02040777  0.02040777  0.02040777  0.02040777  0.02040777  0.02040777\n",
      "    0.02040777]\n",
      "  [ 0.02040777  0.02040777  0.02040777  0.02040777  0.02040777  0.02040777\n",
      "    0.02040777]\n",
      "  [ 0.02040777  0.02040777  0.02040777  0.02040777  0.02040777  0.02040777\n",
      "    0.02040777]\n",
      "  [ 0.02040777  0.02040777  0.02040777  0.02040777  0.02040777  0.02040777\n",
      "    0.02040777]\n",
      "  [ 0.02040777  0.02040777  0.02040777  0.02040777  0.02040777  0.02040777\n",
      "    0.02040777]\n",
      "  [ 0.02040777  0.02040777  0.02040777  0.02040777  0.02040777  0.02040777\n",
      "    0.02040777]]\n",
      "\n",
      " [[ 0.02039819  0.02041248  0.02056349  0.02039819  0.02039819  0.02039819\n",
      "    0.02039819]\n",
      "  [ 0.02039819  0.02039819  0.0204301   0.02039819  0.02039819  0.02039819\n",
      "    0.02039819]\n",
      "  [ 0.02039819  0.02039819  0.02042566  0.02039819  0.02039819  0.02039819\n",
      "    0.02039819]\n",
      "  [ 0.02039819  0.02039819  0.02039819  0.02039819  0.02039819  0.02039819\n",
      "    0.02039819]\n",
      "  [ 0.02039819  0.02039819  0.02039819  0.02039819  0.02042924  0.02044515\n",
      "    0.02052702]\n",
      "  [ 0.02039819  0.02039819  0.02039819  0.02039819  0.02039819  0.02039819\n",
      "    0.02039819]\n",
      "  [ 0.02039819  0.02039819  0.02039819  0.02039819  0.02044106  0.02039819\n",
      "    0.02039819]]]\n",
      "actor critic prepared\n",
      "Epoch 1/1\n",
      "50/50 [==============================] - 102s 2s/step - loss: 1.9039 - mean_squared_error: 1.9039\n"
     ]
    },
    {
     "name": "stderr",
     "output_type": "stream",
     "text": [
      "Exception ignored in: <generator object reinforcement_data_generator at 0x7f7653a4b048>\n",
      "Traceback (most recent call last):\n",
      "  File \"<ipython-input-50-b196c6d99be7>\", line 67, in reinforcement_data_generator\n",
      "  File \"/home/yuze/anaconda3/envs/tensorflow/lib/python3.5/contextlib.py\", line 77, in __exit__\n",
      "    self.gen.throw(type, value, traceback)\n",
      "  File \"/home/yuze/.local/lib/python3.5/site-packages/tensorflow/python/framework/ops.py\", line 4342, in get_controller\n",
      "    if self.stack[-1] is not default:\n",
      "IndexError: list index out of range\n"
     ]
    },
    {
     "name": "stdout",
     "output_type": "stream",
     "text": [
      "actor critic prepared\n",
      "Epoch 1/1\n",
      "50/50 [==============================] - 102s 2s/step - loss: 3.9442e-09\n"
     ]
    },
    {
     "name": "stderr",
     "output_type": "stream",
     "text": [
      "Exception ignored in: <generator object reinforcement_data_generator at 0x7f7653a4b048>\n",
      "Traceback (most recent call last):\n",
      "  File \"<ipython-input-50-b196c6d99be7>\", line 67, in reinforcement_data_generator\n",
      "  File \"/home/yuze/anaconda3/envs/tensorflow/lib/python3.5/contextlib.py\", line 77, in __exit__\n",
      "    self.gen.throw(type, value, traceback)\n",
      "  File \"/home/yuze/.local/lib/python3.5/site-packages/tensorflow/python/framework/ops.py\", line 4342, in get_controller\n",
      "    if self.stack[-1] is not default:\n",
      "IndexError: list index out of range\n"
     ]
    },
    {
     "name": "stdout",
     "output_type": "stream",
     "text": [
      "trained action prob map predicted by initial model for a starting game\n",
      "[[[ 0.0204308   0.02040769  0.02040769  0.02040769  0.02040769  0.02040769\n",
      "    0.02040769]\n",
      "  [ 0.02040769  0.02040769  0.02040769  0.02040769  0.02040769  0.02040769\n",
      "    0.02040769]\n",
      "  [ 0.02040769  0.02040769  0.02040769  0.02040769  0.02040769  0.02040769\n",
      "    0.02040769]\n",
      "  [ 0.02040769  0.02040769  0.02040769  0.02040769  0.02040769  0.02040769\n",
      "    0.02040769]\n",
      "  [ 0.02040769  0.02040769  0.02040769  0.02040769  0.02040769  0.02040769\n",
      "    0.02040769]\n",
      "  [ 0.02040769  0.02040769  0.02040769  0.02040769  0.02040769  0.02040769\n",
      "    0.02040769]\n",
      "  [ 0.02040769  0.02040769  0.02040769  0.02040769  0.02040769  0.02040769\n",
      "    0.02040769]]\n",
      "\n",
      " [[ 0.02039758  0.02041801  0.02057318  0.02039758  0.02039758  0.02039758\n",
      "    0.02039758]\n",
      "  [ 0.02039758  0.02039758  0.02042926  0.02039758  0.02039758  0.02039758\n",
      "    0.02039758]\n",
      "  [ 0.02039758  0.02039758  0.02042391  0.02039758  0.02039758  0.02039758\n",
      "    0.02039758]\n",
      "  [ 0.02039758  0.02039758  0.02039758  0.02039758  0.02039758  0.02039758\n",
      "    0.02039758]\n",
      "  [ 0.02039758  0.02039758  0.02039758  0.02039758  0.02043105  0.02044749\n",
      "    0.02053571]\n",
      "  [ 0.02039758  0.02039758  0.02039758  0.02039758  0.02039758  0.02039758\n",
      "    0.02039758]\n",
      "  [ 0.02039758  0.02039758  0.02039758  0.02039758  0.02044047  0.02039758\n",
      "    0.02039758]]]\n",
      "actor critic preparedEpoch 1/1\n",
      "\n",
      "50/50 [==============================] - 101s 2s/step - loss: 1.8972 - mean_squared_error: 1.8972\n"
     ]
    },
    {
     "name": "stderr",
     "output_type": "stream",
     "text": [
      "Exception ignored in: <generator object reinforcement_data_generator at 0x7f7653a4b1a8>\n",
      "Traceback (most recent call last):\n",
      "  File \"<ipython-input-50-b196c6d99be7>\", line 67, in reinforcement_data_generator\n",
      "  File \"/home/yuze/anaconda3/envs/tensorflow/lib/python3.5/contextlib.py\", line 77, in __exit__\n",
      "    self.gen.throw(type, value, traceback)\n",
      "  File \"/home/yuze/.local/lib/python3.5/site-packages/tensorflow/python/framework/ops.py\", line 4342, in get_controller\n",
      "    if self.stack[-1] is not default:\n",
      "IndexError: list index out of range\n"
     ]
    },
    {
     "name": "stdout",
     "output_type": "stream",
     "text": [
      "actor critic prepared\n",
      "Epoch 1/1\n",
      "50/50 [==============================] - 102s 2s/step - loss: -1.4156e-09\n"
     ]
    },
    {
     "name": "stderr",
     "output_type": "stream",
     "text": [
      "Exception ignored in: <generator object reinforcement_data_generator at 0x7f7653a4b1a8>\n",
      "Traceback (most recent call last):\n",
      "  File \"<ipython-input-50-b196c6d99be7>\", line 67, in reinforcement_data_generator\n",
      "  File \"/home/yuze/anaconda3/envs/tensorflow/lib/python3.5/contextlib.py\", line 77, in __exit__\n",
      "    self.gen.throw(type, value, traceback)\n",
      "  File \"/home/yuze/.local/lib/python3.5/site-packages/tensorflow/python/framework/ops.py\", line 4342, in get_controller\n",
      "    if self.stack[-1] is not default:\n",
      "IndexError: list index out of range\n"
     ]
    },
    {
     "name": "stdout",
     "output_type": "stream",
     "text": [
      "trained action prob map predicted by initial model for a starting game\n",
      "[[[ 0.02043401  0.02040763  0.02040763  0.02040763  0.02040763  0.02040763\n",
      "    0.02040763]\n",
      "  [ 0.02040763  0.02040763  0.02040763  0.02040763  0.02040763  0.02040763\n",
      "    0.02040763]\n",
      "  [ 0.02040763  0.02040763  0.02040763  0.02040763  0.02040763  0.02040763\n",
      "    0.02040763]\n",
      "  [ 0.02040763  0.02040763  0.02040763  0.02040763  0.02040763  0.02040763\n",
      "    0.02040763]\n",
      "  [ 0.02040763  0.02040763  0.02040763  0.02040763  0.02040763  0.02040763\n",
      "    0.02040763]\n",
      "  [ 0.02040763  0.02040763  0.02040763  0.02040763  0.02040763  0.02040763\n",
      "    0.02040763]\n",
      "  [ 0.02040763  0.02040763  0.02040763  0.02040763  0.02040763  0.02040763\n",
      "    0.02040763]]\n",
      "\n",
      " [[ 0.02039705  0.02042411  0.02058309  0.02039705  0.02039705  0.02039705\n",
      "    0.02039705]\n",
      "  [ 0.02039705  0.02039705  0.02042831  0.02039705  0.02039705  0.02039705\n",
      "    0.02039705]\n",
      "  [ 0.02039705  0.02039705  0.02042199  0.02039705  0.02039705  0.02039705\n",
      "    0.02039705]\n",
      "  [ 0.02039705  0.02039705  0.02039705  0.02039705  0.02039705  0.02039705\n",
      "    0.02039705]\n",
      "  [ 0.02039705  0.02039705  0.02039705  0.02039705  0.02043171  0.02044915\n",
      "    0.02054476]\n",
      "  [ 0.02039705  0.02039705  0.02039705  0.02039705  0.02039705  0.02039705\n",
      "    0.02039705]\n",
      "  [ 0.02039705  0.02039705  0.02039705  0.02039705  0.02043762  0.02039705\n",
      "    0.02039705]]]\n",
      "actor critic prepared\n",
      "Epoch 1/1\n",
      "50/50 [==============================] - 101s 2s/step - loss: 1.9360 - mean_squared_error: 1.9360\n"
     ]
    },
    {
     "name": "stderr",
     "output_type": "stream",
     "text": [
      "Exception ignored in: <generator object reinforcement_data_generator at 0x7f7653a4b048>\n",
      "Traceback (most recent call last):\n",
      "  File \"<ipython-input-50-b196c6d99be7>\", line 67, in reinforcement_data_generator\n",
      "  File \"/home/yuze/anaconda3/envs/tensorflow/lib/python3.5/contextlib.py\", line 77, in __exit__\n",
      "    self.gen.throw(type, value, traceback)\n",
      "  File \"/home/yuze/.local/lib/python3.5/site-packages/tensorflow/python/framework/ops.py\", line 4342, in get_controller\n",
      "    if self.stack[-1] is not default:\n",
      "IndexError: list index out of range\n"
     ]
    },
    {
     "name": "stdout",
     "output_type": "stream",
     "text": [
      "actor critic prepared\n",
      "Epoch 1/1\n",
      "50/50 [==============================] - 103s 2s/step - loss: 6.5193e-10\n"
     ]
    },
    {
     "name": "stderr",
     "output_type": "stream",
     "text": [
      "Exception ignored in: <generator object reinforcement_data_generator at 0x7f7653a4b048>\n",
      "Traceback (most recent call last):\n",
      "  File \"<ipython-input-50-b196c6d99be7>\", line 67, in reinforcement_data_generator\n",
      "  File \"/home/yuze/anaconda3/envs/tensorflow/lib/python3.5/contextlib.py\", line 77, in __exit__\n",
      "    self.gen.throw(type, value, traceback)\n",
      "  File \"/home/yuze/.local/lib/python3.5/site-packages/tensorflow/python/framework/ops.py\", line 4342, in get_controller\n",
      "    if self.stack[-1] is not default:\n",
      "IndexError: list index out of range\n"
     ]
    },
    {
     "name": "stdout",
     "output_type": "stream",
     "text": [
      "trained action prob map predicted by initial model for a starting game\n",
      "[[[ 0.02043587  0.02040759  0.02040759  0.02040759  0.02040759  0.02040759\n",
      "    0.02040759]\n",
      "  [ 0.02040759  0.02040759  0.02040759  0.02040759  0.02040759  0.02040759\n",
      "    0.02040759]\n",
      "  [ 0.02040759  0.02040759  0.02040759  0.02040759  0.02040759  0.02040759\n",
      "    0.02040759]\n",
      "  [ 0.02040759  0.02040759  0.02040759  0.02040759  0.02040759  0.02040759\n",
      "    0.02040759]\n",
      "  [ 0.02040759  0.02040759  0.02040759  0.02040759  0.02040759  0.02040759\n",
      "    0.02040759]\n",
      "  [ 0.02040759  0.02040759  0.02040759  0.02040759  0.02040759  0.02040759\n",
      "    0.02040759]\n",
      "  [ 0.02040759  0.02040759  0.02040759  0.02040759  0.02040759  0.02040759\n",
      "    0.02040759]]\n",
      "\n",
      " [[ 0.02039659  0.02043026  0.020593    0.02039659  0.02039659  0.02039659\n",
      "    0.02039659]\n",
      "  [ 0.02039659  0.02039659  0.02042667  0.02039659  0.02039659  0.02039659\n",
      "    0.02039659]\n",
      "  [ 0.02039659  0.02039659  0.02042037  0.02039659  0.02039659  0.02039659\n",
      "    0.02039659]\n",
      "  [ 0.02039659  0.02039659  0.02039659  0.02039659  0.02039659  0.02039659\n",
      "    0.02039659]\n",
      "  [ 0.02039659  0.02039659  0.02039659  0.02039659  0.02043116  0.02045111\n",
      "    0.02055361]\n",
      "  [ 0.02039659  0.02039659  0.02039659  0.02039659  0.02039659  0.02039659\n",
      "    0.02039659]\n",
      "  [ 0.02039659  0.02039659  0.02039659  0.02039659  0.02043363  0.02039659\n",
      "    0.02039659]]]\n",
      "actor critic prepared\n",
      "Epoch 1/1\n",
      "50/50 [==============================] - 101s 2s/step - loss: 1.9260 - mean_squared_error: 1.9260\n"
     ]
    },
    {
     "name": "stderr",
     "output_type": "stream",
     "text": [
      "Exception ignored in: <generator object reinforcement_data_generator at 0x7f7653a4b1a8>\n",
      "Traceback (most recent call last):\n",
      "  File \"<ipython-input-50-b196c6d99be7>\", line 67, in reinforcement_data_generator\n",
      "  File \"/home/yuze/anaconda3/envs/tensorflow/lib/python3.5/contextlib.py\", line 77, in __exit__\n",
      "    self.gen.throw(type, value, traceback)\n",
      "  File \"/home/yuze/.local/lib/python3.5/site-packages/tensorflow/python/framework/ops.py\", line 4342, in get_controller\n",
      "    if self.stack[-1] is not default:\n",
      "IndexError: list index out of range\n"
     ]
    },
    {
     "name": "stdout",
     "output_type": "stream",
     "text": [
      "actor critic prepared\n",
      "Epoch 1/1\n",
      "50/50 [==============================] - 102s 2s/step - loss: 5.0245e-09\n"
     ]
    },
    {
     "name": "stderr",
     "output_type": "stream",
     "text": [
      "Exception ignored in: <generator object reinforcement_data_generator at 0x7f7653a4b1a8>\n",
      "Traceback (most recent call last):\n",
      "  File \"<ipython-input-50-b196c6d99be7>\", line 67, in reinforcement_data_generator\n",
      "  File \"/home/yuze/anaconda3/envs/tensorflow/lib/python3.5/contextlib.py\", line 77, in __exit__\n",
      "    self.gen.throw(type, value, traceback)\n",
      "  File \"/home/yuze/.local/lib/python3.5/site-packages/tensorflow/python/framework/ops.py\", line 4342, in get_controller\n",
      "    if self.stack[-1] is not default:\n",
      "IndexError: list index out of range\n"
     ]
    },
    {
     "name": "stdout",
     "output_type": "stream",
     "text": [
      "trained action prob map predicted by initial model for a starting game\n",
      "[[[ 0.0204375   0.02040755  0.02040755  0.02040755  0.02040755  0.02040755\n",
      "    0.02040755]\n",
      "  [ 0.02040755  0.02040755  0.02040755  0.02040755  0.02040755  0.02040755\n",
      "    0.02040755]\n",
      "  [ 0.02040755  0.02040755  0.02040755  0.02040755  0.02040755  0.02040755\n",
      "    0.02040755]\n",
      "  [ 0.02040755  0.02040755  0.02040755  0.02040755  0.02040755  0.02040755\n",
      "    0.02040755]\n",
      "  [ 0.02040755  0.02040755  0.02040755  0.02040755  0.02040755  0.02040755\n",
      "    0.02040755]\n",
      "  [ 0.02040755  0.02040755  0.02040755  0.02040755  0.02040755  0.02040755\n",
      "    0.02040755]\n",
      "  [ 0.02040755  0.02040755  0.02040755  0.02040755  0.02040755  0.02040755\n",
      "    0.02040755]]\n",
      "\n",
      " [[ 0.02039614  0.02043639  0.02060285  0.02039614  0.02039614  0.02039614\n",
      "    0.02039614]\n",
      "  [ 0.02039614  0.02039614  0.02042501  0.02039614  0.02039614  0.02039614\n",
      "    0.02039614]\n",
      "  [ 0.02039614  0.02039614  0.02041861  0.02039614  0.02039614  0.02039614\n",
      "    0.02039614]\n",
      "  [ 0.02039614  0.02039614  0.02039614  0.02039614  0.02039614  0.02039614\n",
      "    0.02039614]\n",
      "  [ 0.02039614  0.02039614  0.02039614  0.02039614  0.02043054  0.0204536\n",
      "    0.02056374]\n",
      "  [ 0.02039614  0.02039614  0.02039614  0.02039614  0.02039614  0.02039614\n",
      "    0.02039614]\n",
      "  [ 0.02039614  0.02039614  0.02039614  0.02039614  0.02042747  0.02039614\n",
      "    0.02039614]]]\n",
      "actor critic prepared\n",
      "Epoch 1/1\n",
      "50/50 [==============================] - 100s 2s/step - loss: 1.9069 - mean_squared_error: 1.9069\n"
     ]
    },
    {
     "name": "stderr",
     "output_type": "stream",
     "text": [
      "Exception ignored in: <generator object reinforcement_data_generator at 0x7f7653a4b0f8>\n",
      "Traceback (most recent call last):\n",
      "  File \"<ipython-input-50-b196c6d99be7>\", line 67, in reinforcement_data_generator\n",
      "  File \"/home/yuze/anaconda3/envs/tensorflow/lib/python3.5/contextlib.py\", line 77, in __exit__\n",
      "    self.gen.throw(type, value, traceback)\n",
      "  File \"/home/yuze/.local/lib/python3.5/site-packages/tensorflow/python/framework/ops.py\", line 4342, in get_controller\n",
      "    if self.stack[-1] is not default:\n",
      "IndexError: list index out of range\n"
     ]
    },
    {
     "name": "stdout",
     "output_type": "stream",
     "text": [
      "actor critic preparedEpoch 1/1\n",
      "\n",
      "50/50 [==============================] - 102s 2s/step - loss: 2.3004e-09\n"
     ]
    },
    {
     "name": "stderr",
     "output_type": "stream",
     "text": [
      "Exception ignored in: <generator object reinforcement_data_generator at 0x7f7653a4b0f8>\n",
      "Traceback (most recent call last):\n",
      "  File \"<ipython-input-50-b196c6d99be7>\", line 67, in reinforcement_data_generator\n",
      "  File \"/home/yuze/anaconda3/envs/tensorflow/lib/python3.5/contextlib.py\", line 77, in __exit__\n",
      "    self.gen.throw(type, value, traceback)\n",
      "  File \"/home/yuze/.local/lib/python3.5/site-packages/tensorflow/python/framework/ops.py\", line 4342, in get_controller\n",
      "    if self.stack[-1] is not default:\n",
      "IndexError: list index out of range\n"
     ]
    },
    {
     "name": "stdout",
     "output_type": "stream",
     "text": [
      "trained action prob map predicted by initial model for a starting game\n",
      "[[[ 0.02043931  0.02040751  0.02040751  0.02040751  0.02040751  0.02040751\n",
      "    0.02040751]\n",
      "  [ 0.02040751  0.02040751  0.02040751  0.02040751  0.02040751  0.02040751\n",
      "    0.02040751]\n",
      "  [ 0.02040751  0.02040751  0.02040751  0.02040751  0.02040751  0.02040751\n",
      "    0.02040751]\n",
      "  [ 0.02040751  0.02040751  0.02040751  0.02040751  0.02040751  0.02040751\n",
      "    0.02040751]\n",
      "  [ 0.02040751  0.02040751  0.02040751  0.02040751  0.02040751  0.02040751\n",
      "    0.02040751]\n",
      "  [ 0.02040751  0.02040751  0.02040751  0.02040751  0.02040751  0.02040751\n",
      "    0.02040751]\n",
      "  [ 0.02040751  0.02040751  0.02040751  0.02040751  0.02040751  0.02040751\n",
      "    0.02040751]]\n",
      "\n",
      " [[ 0.02039566  0.02044197  0.02061351  0.02039566  0.02039566  0.02039566\n",
      "    0.02039566]\n",
      "  [ 0.02039566  0.02039566  0.02042458  0.02039566  0.02039566  0.02039566\n",
      "    0.02039566]\n",
      "  [ 0.02039566  0.02039566  0.02041656  0.02039566  0.02039566  0.02039566\n",
      "    0.02039566]\n",
      "  [ 0.02039566  0.02039566  0.02039566  0.02039566  0.02039566  0.02039566\n",
      "    0.02039566]\n",
      "  [ 0.02039566  0.02039566  0.02039566  0.02039566  0.02043017  0.02045611\n",
      "    0.02057526]\n",
      "  [ 0.02039566  0.02039566  0.02039566  0.02039566  0.02039566  0.02039566\n",
      "    0.02039566]\n",
      "  [ 0.02039566  0.02039566  0.02039566  0.02039566  0.02041997  0.02039566\n",
      "    0.02039566]]]\n",
      "actor critic preparedEpoch 1/1\n",
      "\n",
      "50/50 [==============================] - 101s 2s/step - loss: 1.9194 - mean_squared_error: 1.9194\n"
     ]
    },
    {
     "name": "stderr",
     "output_type": "stream",
     "text": [
      "Exception ignored in: <generator object reinforcement_data_generator at 0x7f7653a4b048>\n",
      "Traceback (most recent call last):\n",
      "  File \"<ipython-input-50-b196c6d99be7>\", line 67, in reinforcement_data_generator\n",
      "  File \"/home/yuze/anaconda3/envs/tensorflow/lib/python3.5/contextlib.py\", line 77, in __exit__\n",
      "    self.gen.throw(type, value, traceback)\n",
      "  File \"/home/yuze/.local/lib/python3.5/site-packages/tensorflow/python/framework/ops.py\", line 4342, in get_controller\n",
      "    if self.stack[-1] is not default:\n",
      "IndexError: list index out of range\n"
     ]
    },
    {
     "name": "stdout",
     "output_type": "stream",
     "text": [
      "actor critic prepared\n",
      "Epoch 1/1\n",
      "50/50 [==============================] - 101s 2s/step - loss: -1.8813e-09\n"
     ]
    },
    {
     "name": "stderr",
     "output_type": "stream",
     "text": [
      "Exception ignored in: <generator object reinforcement_data_generator at 0x7f7653a4b048>\n",
      "Traceback (most recent call last):\n",
      "  File \"<ipython-input-50-b196c6d99be7>\", line 67, in reinforcement_data_generator\n",
      "  File \"/home/yuze/anaconda3/envs/tensorflow/lib/python3.5/contextlib.py\", line 77, in __exit__\n",
      "    self.gen.throw(type, value, traceback)\n",
      "  File \"/home/yuze/.local/lib/python3.5/site-packages/tensorflow/python/framework/ops.py\", line 4342, in get_controller\n",
      "    if self.stack[-1] is not default:\n",
      "IndexError: list index out of range\n"
     ]
    },
    {
     "name": "stdout",
     "output_type": "stream",
     "text": [
      "trained action prob map predicted by initial model for a starting game\n",
      "[[[ 0.02044123  0.02040748  0.02040748  0.02040748  0.02040748  0.02040748\n",
      "    0.02040748]\n",
      "  [ 0.02040748  0.02040748  0.02040748  0.02040748  0.02040748  0.02040748\n",
      "    0.02040748]\n",
      "  [ 0.02040748  0.02040748  0.02040748  0.02040748  0.02040748  0.02040748\n",
      "    0.02040748]\n",
      "  [ 0.02040748  0.02040748  0.02040748  0.02040748  0.02040748  0.02040748\n",
      "    0.02040748]\n",
      "  [ 0.02040748  0.02040748  0.02040748  0.02040748  0.02040748  0.02040748\n",
      "    0.02040748]\n",
      "  [ 0.02040748  0.02040748  0.02040748  0.02040748  0.02040748  0.02040748\n",
      "    0.02040748]\n",
      "  [ 0.02040748  0.02040748  0.02040748  0.02040748  0.02040748  0.02040748\n",
      "    0.02040748]]\n",
      "\n",
      " [[ 0.02039513  0.0204482   0.0206238   0.02039513  0.02039513  0.02039513\n",
      "    0.02039513]\n",
      "  [ 0.02039513  0.02039513  0.02042557  0.02039513  0.02039513  0.02039513\n",
      "    0.02039513]\n",
      "  [ 0.02039513  0.02039513  0.0204139   0.02039513  0.02039513  0.02039513\n",
      "    0.02039513]\n",
      "  [ 0.02039513  0.02039513  0.02039513  0.02039513  0.02039513  0.02039513\n",
      "    0.02039513]\n",
      "  [ 0.02039513  0.02039513  0.02039513  0.02039513  0.02043005  0.02045984\n",
      "    0.02058621]\n",
      "  [ 0.02039513  0.02039513  0.02039513  0.02039513  0.02039513  0.02039513\n",
      "    0.02039513]\n",
      "  [ 0.02039513  0.02039513  0.02039513  0.02039513  0.02041225  0.02039513\n",
      "    0.02039513]]]\n",
      "actor critic prepared\n",
      "Epoch 1/1\n",
      "50/50 [==============================] - 101s 2s/step - loss: 1.9468 - mean_squared_error: 1.9468\n"
     ]
    },
    {
     "name": "stderr",
     "output_type": "stream",
     "text": [
      "Exception ignored in: <generator object reinforcement_data_generator at 0x7f7653a4b048>\n",
      "Traceback (most recent call last):\n",
      "  File \"<ipython-input-50-b196c6d99be7>\", line 67, in reinforcement_data_generator\n",
      "  File \"/home/yuze/anaconda3/envs/tensorflow/lib/python3.5/contextlib.py\", line 77, in __exit__\n",
      "    self.gen.throw(type, value, traceback)\n",
      "  File \"/home/yuze/.local/lib/python3.5/site-packages/tensorflow/python/framework/ops.py\", line 4342, in get_controller\n",
      "    if self.stack[-1] is not default:\n",
      "IndexError: list index out of range\n"
     ]
    },
    {
     "name": "stdout",
     "output_type": "stream",
     "text": [
      "actor critic prepared\n",
      "Epoch 1/1\n",
      "50/50 [==============================] - 102s 2s/step - loss: -3.5949e-09\n"
     ]
    },
    {
     "name": "stderr",
     "output_type": "stream",
     "text": [
      "Exception ignored in: <generator object reinforcement_data_generator at 0x7f7653a4b048>\n",
      "Traceback (most recent call last):\n",
      "  File \"<ipython-input-50-b196c6d99be7>\", line 67, in reinforcement_data_generator\n",
      "  File \"/home/yuze/anaconda3/envs/tensorflow/lib/python3.5/contextlib.py\", line 77, in __exit__\n",
      "    self.gen.throw(type, value, traceback)\n",
      "  File \"/home/yuze/.local/lib/python3.5/site-packages/tensorflow/python/framework/ops.py\", line 4342, in get_controller\n",
      "    if self.stack[-1] is not default:\n",
      "IndexError: list index out of range\n"
     ]
    },
    {
     "name": "stdout",
     "output_type": "stream",
     "text": [
      "trained action prob map predicted by initial model for a starting game\n",
      "[[[ 0.0204425   0.02040745  0.02040745  0.02040745  0.02040745  0.02040745\n",
      "    0.02040745]\n",
      "  [ 0.02040745  0.02040745  0.02040745  0.02040745  0.02040745  0.02040745\n",
      "    0.02040745]\n",
      "  [ 0.02040745  0.02040745  0.02040745  0.02040745  0.02040745  0.02040745\n",
      "    0.02040745]\n",
      "  [ 0.02040745  0.02040745  0.02040745  0.02040745  0.02040745  0.02040745\n",
      "    0.02040745]\n",
      "  [ 0.02040745  0.02040745  0.02040745  0.02040745  0.02040745  0.02040745\n",
      "    0.02040745]\n",
      "  [ 0.02040745  0.02040745  0.02040745  0.02040745  0.02040745  0.02040745\n",
      "    0.02040745]\n",
      "  [ 0.02040745  0.02040745  0.02040745  0.02040745  0.02040745  0.02040745\n",
      "    0.02040745]]\n",
      "\n",
      " [[ 0.02039455  0.02045457  0.02063477  0.02039455  0.02039455  0.02039455\n",
      "    0.02039455]\n",
      "  [ 0.02039455  0.02039455  0.02042698  0.02039455  0.02039455  0.02039455\n",
      "    0.02039455]\n",
      "  [ 0.02039455  0.02039455  0.02041113  0.02039455  0.02039455  0.02039455\n",
      "    0.02039455]\n",
      "  [ 0.02039455  0.02039455  0.02039455  0.02039455  0.02039455  0.02039455\n",
      "    0.02039455]\n",
      "  [ 0.02039455  0.02039455  0.02039455  0.02039455  0.02043067  0.02046418\n",
      "    0.02059603]\n",
      "  [ 0.02039455  0.02039455  0.02039455  0.02039455  0.02039455  0.02039455\n",
      "    0.02039455]\n",
      "  [ 0.02039455  0.02039455  0.02039455  0.02039455  0.02040498  0.02039455\n",
      "    0.02039455]]]\n",
      "actor critic preparedEpoch 1/1\n",
      "\n",
      "50/50 [==============================] - 101s 2s/step - loss: 1.9327 - mean_squared_error: 1.9327\n"
     ]
    },
    {
     "name": "stderr",
     "output_type": "stream",
     "text": [
      "Exception ignored in: <generator object reinforcement_data_generator at 0x7f7653a4b0f8>\n",
      "Traceback (most recent call last):\n",
      "  File \"<ipython-input-50-b196c6d99be7>\", line 67, in reinforcement_data_generator\n",
      "  File \"/home/yuze/anaconda3/envs/tensorflow/lib/python3.5/contextlib.py\", line 77, in __exit__\n",
      "    self.gen.throw(type, value, traceback)\n",
      "  File \"/home/yuze/.local/lib/python3.5/site-packages/tensorflow/python/framework/ops.py\", line 4342, in get_controller\n",
      "    if self.stack[-1] is not default:\n",
      "IndexError: list index out of range\n"
     ]
    },
    {
     "name": "stdout",
     "output_type": "stream",
     "text": [
      "actor critic prepared\n",
      "Epoch 1/1\n",
      "50/50 [==============================] - 102s 2s/step - loss: 7.1246e-09\n"
     ]
    },
    {
     "name": "stderr",
     "output_type": "stream",
     "text": [
      "Exception ignored in: <generator object reinforcement_data_generator at 0x7f7653a4b0f8>\n",
      "Traceback (most recent call last):\n",
      "  File \"<ipython-input-50-b196c6d99be7>\", line 67, in reinforcement_data_generator\n",
      "  File \"/home/yuze/anaconda3/envs/tensorflow/lib/python3.5/contextlib.py\", line 77, in __exit__\n",
      "    self.gen.throw(type, value, traceback)\n",
      "  File \"/home/yuze/.local/lib/python3.5/site-packages/tensorflow/python/framework/ops.py\", line 4342, in get_controller\n",
      "    if self.stack[-1] is not default:\n",
      "IndexError: list index out of range\n"
     ]
    },
    {
     "name": "stdout",
     "output_type": "stream",
     "text": [
      "trained action prob map predicted by initial model for a starting game\n",
      "[[[ 0.02044372  0.02040742  0.02040742  0.02040742  0.02040742  0.02040742\n",
      "    0.02040742]\n",
      "  [ 0.02040742  0.02040742  0.02040742  0.02040742  0.02040742  0.02040742\n",
      "    0.02040742]\n",
      "  [ 0.02040742  0.02040742  0.02040742  0.02040742  0.02040742  0.02040742\n",
      "    0.02040742]\n",
      "  [ 0.02040742  0.02040742  0.02040742  0.02040742  0.02040742  0.02040742\n",
      "    0.02040742]\n",
      "  [ 0.02040742  0.02040742  0.02040742  0.02040742  0.02040742  0.02040742\n",
      "    0.02040742]\n",
      "  [ 0.02040742  0.02040742  0.02040742  0.02040742  0.02040742  0.02040742\n",
      "    0.02040742]\n",
      "  [ 0.02040742  0.02040742  0.02040742  0.02040742  0.02040742  0.02040742\n",
      "    0.02040742]]\n",
      "\n",
      " [[ 0.02039393  0.02046089  0.02064561  0.02039393  0.02039393  0.02039393\n",
      "    0.02039393]\n",
      "  [ 0.02039731  0.02039393  0.02042882  0.02039393  0.02039393  0.02039393\n",
      "    0.02039393]\n",
      "  [ 0.02039393  0.02039393  0.02040839  0.02039393  0.02039393  0.02039393\n",
      "    0.02039393]\n",
      "  [ 0.02039393  0.02039393  0.02039393  0.02039393  0.02039393  0.02039393\n",
      "    0.02039393]\n",
      "  [ 0.02039393  0.02039393  0.02039393  0.02039393  0.02043093  0.02046787\n",
      "    0.0206054 ]\n",
      "  [ 0.02039393  0.02039393  0.02039393  0.02039393  0.02039393  0.02039393\n",
      "    0.02039393]\n",
      "  [ 0.02039393  0.02039393  0.02039393  0.02039393  0.02039745  0.02039393\n",
      "    0.02039393]]]\n",
      "actor critic prepared\n",
      "Epoch 1/1\n",
      "50/50 [==============================] - 101s 2s/step - loss: 1.9226 - mean_squared_error: 1.9226\n"
     ]
    },
    {
     "name": "stderr",
     "output_type": "stream",
     "text": [
      "Exception ignored in: <generator object reinforcement_data_generator at 0x7f7653a4b1a8>\n",
      "Traceback (most recent call last):\n",
      "  File \"<ipython-input-50-b196c6d99be7>\", line 67, in reinforcement_data_generator\n",
      "  File \"/home/yuze/anaconda3/envs/tensorflow/lib/python3.5/contextlib.py\", line 77, in __exit__\n",
      "    self.gen.throw(type, value, traceback)\n",
      "  File \"/home/yuze/.local/lib/python3.5/site-packages/tensorflow/python/framework/ops.py\", line 4342, in get_controller\n",
      "    if self.stack[-1] is not default:\n",
      "IndexError: list index out of range\n"
     ]
    },
    {
     "name": "stdout",
     "output_type": "stream",
     "text": [
      "actor critic prepared\n",
      "Epoch 1/1\n",
      "50/50 [==============================] - 101s 2s/step - loss: 4.0047e-10\n"
     ]
    },
    {
     "name": "stderr",
     "output_type": "stream",
     "text": [
      "Exception ignored in: <generator object reinforcement_data_generator at 0x7f7653a4b1a8>\n",
      "Traceback (most recent call last):\n",
      "  File \"<ipython-input-50-b196c6d99be7>\", line 67, in reinforcement_data_generator\n",
      "  File \"/home/yuze/anaconda3/envs/tensorflow/lib/python3.5/contextlib.py\", line 77, in __exit__\n",
      "    self.gen.throw(type, value, traceback)\n",
      "  File \"/home/yuze/.local/lib/python3.5/site-packages/tensorflow/python/framework/ops.py\", line 4342, in get_controller\n",
      "    if self.stack[-1] is not default:\n",
      "IndexError: list index out of range\n"
     ]
    },
    {
     "name": "stdout",
     "output_type": "stream",
     "text": [
      "trained action prob map predicted by initial model for a starting game\n",
      "[[[ 0.02044491  0.0204074   0.0204074   0.0204074   0.0204074   0.0204074\n",
      "    0.0204074 ]\n",
      "  [ 0.0204074   0.0204074   0.0204074   0.0204074   0.0204074   0.0204074\n",
      "    0.0204074 ]\n",
      "  [ 0.0204074   0.0204074   0.0204074   0.0204074   0.0204074   0.0204074\n",
      "    0.0204074 ]\n",
      "  [ 0.0204074   0.0204074   0.0204074   0.0204074   0.0204074   0.0204074\n",
      "    0.0204074 ]\n",
      "  [ 0.0204074   0.0204074   0.0204074   0.0204074   0.0204074   0.0204074\n",
      "    0.0204074 ]\n",
      "  [ 0.0204074   0.0204074   0.0204074   0.0204074   0.0204074   0.0204074\n",
      "    0.0204074 ]\n",
      "  [ 0.0204074   0.0204074   0.0204074   0.0204074   0.0204074   0.0204074\n",
      "    0.0204074 ]]\n",
      "\n",
      " [[ 0.02039324  0.02046709  0.02065576  0.02039324  0.02039324  0.02039324\n",
      "    0.02039324]\n",
      "  [ 0.02040218  0.02039324  0.02043024  0.02039324  0.02039324  0.02039324\n",
      "    0.02039324]\n",
      "  [ 0.02039324  0.02039324  0.02040604  0.02039324  0.02039324  0.02039324\n",
      "    0.02039324]\n",
      "  [ 0.02039324  0.02039324  0.02039324  0.02039324  0.02039324  0.02039324\n",
      "    0.02039324]\n",
      "  [ 0.02039324  0.02039324  0.02039324  0.02039324  0.0204307   0.02047115\n",
      "    0.02061413]\n",
      "  [ 0.02039324  0.02039324  0.02039324  0.02039324  0.02039324  0.02039324\n",
      "    0.02039324]\n",
      "  [ 0.02039324  0.02039324  0.02039324  0.02039324  0.02039324  0.02039324\n",
      "    0.02039324]]]\n",
      "actor critic prepared\n",
      "Epoch 1/1\n",
      "50/50 [==============================] - 100s 2s/step - loss: 1.9080 - mean_squared_error: 1.9080\n"
     ]
    },
    {
     "name": "stderr",
     "output_type": "stream",
     "text": [
      "Exception ignored in: <generator object reinforcement_data_generator at 0x7f7653a4b0f8>\n",
      "Traceback (most recent call last):\n",
      "  File \"<ipython-input-50-b196c6d99be7>\", line 67, in reinforcement_data_generator\n",
      "  File \"/home/yuze/anaconda3/envs/tensorflow/lib/python3.5/contextlib.py\", line 77, in __exit__\n",
      "    self.gen.throw(type, value, traceback)\n",
      "  File \"/home/yuze/.local/lib/python3.5/site-packages/tensorflow/python/framework/ops.py\", line 4342, in get_controller\n",
      "    if self.stack[-1] is not default:\n",
      "IndexError: list index out of range\n"
     ]
    },
    {
     "name": "stdout",
     "output_type": "stream",
     "text": [
      "actor critic prepared\n",
      "Epoch 1/1\n",
      "49/50 [============================>.] - ETA: 1s - loss: -3.6208e-09"
     ]
    },
    {
     "ename": "KeyboardInterrupt",
     "evalue": "",
     "output_type": "error",
     "traceback": [
      "\u001b[0;31m---------------------------------------------------------------------------\u001b[0m",
      "\u001b[0;31mKeyboardInterrupt\u001b[0m                         Traceback (most recent call last)",
      "\u001b[0;32m<ipython-input-51-b7fc6193168b>\u001b[0m in \u001b[0;36m<module>\u001b[0;34m()\u001b[0m\n\u001b[0;32m----> 1\u001b[0;31m \u001b[0mactor_critic_trainer\u001b[0m\u001b[0;34m(\u001b[0m\u001b[0mepochs\u001b[0m\u001b[0;34m=\u001b[0m\u001b[0;36m1000\u001b[0m\u001b[0;34m,\u001b[0m \u001b[0mcheck_point\u001b[0m\u001b[0;34m=\u001b[0m\u001b[0;32mTrue\u001b[0m\u001b[0;34m,\u001b[0m \u001b[0msteps_per_epoch\u001b[0m\u001b[0;34m=\u001b[0m\u001b[0;36m50\u001b[0m\u001b[0;34m,\u001b[0m                      \u001b[0mBATCH_SIZE\u001b[0m\u001b[0;34m=\u001b[0m\u001b[0;36m64\u001b[0m\u001b[0;34m,\u001b[0m \u001b[0mTRAIN_BATCH_TIME\u001b[0m\u001b[0;34m=\u001b[0m\u001b[0;36m1\u001b[0m\u001b[0;34m,\u001b[0m \u001b[0mGAMMA\u001b[0m\u001b[0;34m=\u001b[0m\u001b[0;36m0.99\u001b[0m\u001b[0;34m,\u001b[0m \u001b[0mRELAY_SIZE\u001b[0m\u001b[0;34m=\u001b[0m\u001b[0;36m10000\u001b[0m\u001b[0;34m,\u001b[0m                      \u001b[0mTAU\u001b[0m\u001b[0;34m=\u001b[0m\u001b[0;36m0.001\u001b[0m\u001b[0;34m,\u001b[0m \u001b[0mLRA\u001b[0m\u001b[0;34m=\u001b[0m\u001b[0;36m0.0001\u001b[0m\u001b[0;34m,\u001b[0m \u001b[0mLRC\u001b[0m\u001b[0;34m=\u001b[0m\u001b[0;36m0.0001\u001b[0m\u001b[0;34m)\u001b[0m\u001b[0;34m\u001b[0m\u001b[0m\n\u001b[0m\u001b[1;32m      2\u001b[0m \u001b[0;34m\u001b[0m\u001b[0m\n",
      "\u001b[0;32m<ipython-input-50-b196c6d99be7>\u001b[0m in \u001b[0;36mactor_critic_trainer\u001b[0;34m(epochs, check_point, steps_per_epoch, BATCH_SIZE, TRAIN_BATCH_TIME, GAMMA, RELAY_SIZE, TAU, LRA, LRC)\u001b[0m\n\u001b[1;32m     86\u001b[0m         critic.gpu_model.fit_generator(reinforcement_data_generator(actor.model, actor.target_model,                                                                     critic.model, critic.target_model,                                                                     relay, train_critic=True,                                                                     step_per_episode=50,                                                                     BATCH_SIZE=256, GAMMA=0.99, RELAY_SIZE=RELAY_SIZE),                                       verbose=1, steps_per_epoch=steps_per_epoch,                                        #workers=8, use_multiprocessing=True\n\u001b[1;32m     87\u001b[0m                                       )\n\u001b[0;32m---> 88\u001b[0;31m         gpu_ac_model.fit_generator(reinforcement_data_generator(actor.model, actor.target_model,                                                                 critic.model, critic.target_model,                                                                 relay, train_critic=False,                                                                 step_per_episode=50,                                                                 BATCH_SIZE=256, GAMMA=0.99, RELAY_SIZE=RELAY_SIZE),                                   verbose=1, steps_per_epoch=steps_per_epoch,                                    #workers=8, use_multiprocessing=True\n\u001b[0m\u001b[1;32m     89\u001b[0m                                   )\n\u001b[1;32m     90\u001b[0m         \u001b[0mactor\u001b[0m\u001b[0;34m.\u001b[0m\u001b[0mtarget_train\u001b[0m\u001b[0;34m(\u001b[0m\u001b[0;34m)\u001b[0m\u001b[0;34m\u001b[0m\u001b[0m\n",
      "\u001b[0;32m~/anaconda3/envs/tensorflow/lib/python3.5/site-packages/keras/legacy/interfaces.py\u001b[0m in \u001b[0;36mwrapper\u001b[0;34m(*args, **kwargs)\u001b[0m\n\u001b[1;32m     85\u001b[0m                 warnings.warn('Update your `' + object_name +\n\u001b[1;32m     86\u001b[0m                               '` call to the Keras 2 API: ' + signature, stacklevel=2)\n\u001b[0;32m---> 87\u001b[0;31m             \u001b[0;32mreturn\u001b[0m \u001b[0mfunc\u001b[0m\u001b[0;34m(\u001b[0m\u001b[0;34m*\u001b[0m\u001b[0margs\u001b[0m\u001b[0;34m,\u001b[0m \u001b[0;34m**\u001b[0m\u001b[0mkwargs\u001b[0m\u001b[0;34m)\u001b[0m\u001b[0;34m\u001b[0m\u001b[0m\n\u001b[0m\u001b[1;32m     88\u001b[0m         \u001b[0mwrapper\u001b[0m\u001b[0;34m.\u001b[0m\u001b[0m_original_function\u001b[0m \u001b[0;34m=\u001b[0m \u001b[0mfunc\u001b[0m\u001b[0;34m\u001b[0m\u001b[0m\n\u001b[1;32m     89\u001b[0m         \u001b[0;32mreturn\u001b[0m \u001b[0mwrapper\u001b[0m\u001b[0;34m\u001b[0m\u001b[0m\n",
      "\u001b[0;32m~/anaconda3/envs/tensorflow/lib/python3.5/site-packages/keras/engine/training.py\u001b[0m in \u001b[0;36mfit_generator\u001b[0;34m(self, generator, steps_per_epoch, epochs, verbose, callbacks, validation_data, validation_steps, class_weight, max_queue_size, workers, use_multiprocessing, shuffle, initial_epoch)\u001b[0m\n\u001b[1;32m   2113\u001b[0m                 \u001b[0mbatch_index\u001b[0m \u001b[0;34m=\u001b[0m \u001b[0;36m0\u001b[0m\u001b[0;34m\u001b[0m\u001b[0m\n\u001b[1;32m   2114\u001b[0m                 \u001b[0;32mwhile\u001b[0m \u001b[0msteps_done\u001b[0m \u001b[0;34m<\u001b[0m \u001b[0msteps_per_epoch\u001b[0m\u001b[0;34m:\u001b[0m\u001b[0;34m\u001b[0m\u001b[0m\n\u001b[0;32m-> 2115\u001b[0;31m                     \u001b[0mgenerator_output\u001b[0m \u001b[0;34m=\u001b[0m \u001b[0mnext\u001b[0m\u001b[0;34m(\u001b[0m\u001b[0moutput_generator\u001b[0m\u001b[0;34m)\u001b[0m\u001b[0;34m\u001b[0m\u001b[0m\n\u001b[0m\u001b[1;32m   2116\u001b[0m \u001b[0;34m\u001b[0m\u001b[0m\n\u001b[1;32m   2117\u001b[0m                     \u001b[0;32mif\u001b[0m \u001b[0;32mnot\u001b[0m \u001b[0mhasattr\u001b[0m\u001b[0;34m(\u001b[0m\u001b[0mgenerator_output\u001b[0m\u001b[0;34m,\u001b[0m \u001b[0;34m'__len__'\u001b[0m\u001b[0;34m)\u001b[0m\u001b[0;34m:\u001b[0m\u001b[0;34m\u001b[0m\u001b[0m\n",
      "\u001b[0;32m~/anaconda3/envs/tensorflow/lib/python3.5/site-packages/keras/utils/data_utils.py\u001b[0m in \u001b[0;36mget\u001b[0;34m(self)\u001b[0m\n\u001b[1;32m    727\u001b[0m                     \u001b[0;32mraise\u001b[0m \u001b[0mStopIteration\u001b[0m\u001b[0;34m(\u001b[0m\u001b[0;34m)\u001b[0m\u001b[0;34m\u001b[0m\u001b[0m\n\u001b[1;32m    728\u001b[0m                 \u001b[0;32melse\u001b[0m\u001b[0;34m:\u001b[0m\u001b[0;34m\u001b[0m\u001b[0m\n\u001b[0;32m--> 729\u001b[0;31m                     \u001b[0mtime\u001b[0m\u001b[0;34m.\u001b[0m\u001b[0msleep\u001b[0m\u001b[0;34m(\u001b[0m\u001b[0mself\u001b[0m\u001b[0;34m.\u001b[0m\u001b[0mwait_time\u001b[0m\u001b[0;34m)\u001b[0m\u001b[0;34m\u001b[0m\u001b[0m\n\u001b[0m\u001b[1;32m    730\u001b[0m \u001b[0;34m\u001b[0m\u001b[0m\n\u001b[1;32m    731\u001b[0m         \u001b[0;31m# Make sure to rethrow the first exception in the queue, if any\u001b[0m\u001b[0;34m\u001b[0m\u001b[0;34m\u001b[0m\u001b[0m\n",
      "\u001b[0;31mKeyboardInterrupt\u001b[0m: "
     ]
    }
   ],
   "source": [
    "actor_critic_trainer(epochs=1000, check_point=True, steps_per_epoch=50, \\\n",
    "                     BATCH_SIZE=64, TRAIN_BATCH_TIME=1, GAMMA=0.99, RELAY_SIZE=10000, \\\n",
    "                     TAU=0.001, LRA=0.0001, LRC=0.0001) \n",
    "    "
   ]
  }
 ],
 "metadata": {
  "kernelspec": {
   "display_name": "Python 3",
   "language": "python",
   "name": "python3"
  },
  "language_info": {
   "codemirror_mode": {
    "name": "ipython",
    "version": 3
   },
   "file_extension": ".py",
   "mimetype": "text/x-python",
   "name": "python",
   "nbconvert_exporter": "python",
   "pygments_lexer": "ipython3",
   "version": "3.5.4"
  }
 },
 "nbformat": 4,
 "nbformat_minor": 2
}
