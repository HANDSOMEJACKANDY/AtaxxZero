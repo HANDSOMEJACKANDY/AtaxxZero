{
 "cells": [
  {
   "cell_type": "markdown",
   "metadata": {},
   "source": [
    "# AtaxxZero\n",
    "## This algorithm tried to reimplement AlphaGo Zero for Ataxx\n",
    "## however, the computation to train an AI from scratch can be too heavy, given my skills of code optimization and hardware limitation\n",
    "## therefore, minor adjustments are made to the algorithms to make it plausible for this algorithm to give a rather satisfactory result in an acceptable period.\n",
    "\n",
    "### modifications:\n",
    "1. One major difference between AlphaGo Zero and Ataxx Zero is that Ataxx Zero relies __one engineered value function__. From the beginning of the training, the q value of each node is a combination of q from the hybrid network and a greedy function (output is monotone increasing with regard to difference of piece no. of each player).\n",
    "2. Another major modification is Ataxx Zero apply MCTS to a __very shallow depth, currently being 3__. This change significantly reduce the searching time, thus accelerate training greatly.\n",
    "3. The combination of 3 layer MCTS and an engineered value function guarantees a good performance of the algorithm in even before training, i.e. hybrid network output random probability and value. The behavior of Ataxx Zero before training should __resemble an impaired MinMax Searching with a depth of 3__. From a practical perspective, it wins 90% of the game with a greedy player(which attempts to maximize no.my_piece - no.opponent's_piece). With reinforcement learning, the algorithm is expected to behave better.\n",
    "4. When actually applied in game, I plan to reduce the searching depth to 2 to further improve the speed, but expect the algorithm to work better than itself before training."
   ]
  },
  {
   "cell_type": "code",
   "execution_count": 1,
   "metadata": {},
   "outputs": [],
   "source": [
    "%load_ext Cython\n",
    "from Cython.Compiler.Options import directive_scopes, directive_types\n",
    "directive_types['linetrace'] = True\n",
    "directive_types['binding'] = True"
   ]
  },
  {
   "cell_type": "code",
   "execution_count": 2,
   "metadata": {},
   "outputs": [],
   "source": [
    "%load_ext line_profiler\n",
    "import line_profiler"
   ]
  },
  {
   "cell_type": "code",
   "execution_count": 3,
   "metadata": {},
   "outputs": [
    {
     "name": "stderr",
     "output_type": "stream",
     "text": [
      "Using TensorFlow backend.\n"
     ]
    }
   ],
   "source": [
    "import os \n",
    "import importlib\n",
    "import sys\n",
    "import tensorflow as tf\n",
    "import itertools\n",
    "from multiprocessing import Queue, Pool, Process\n",
    "import numpy as np\n",
    "import numba as nb\n",
    "from math import sqrt, log, exp\n",
    "from numpy import unravel_index\n",
    "from random import choice, random, sample\n",
    "from operator import itemgetter\n",
    "np.random.seed(1337)  # for reproducibility\n",
    "from keras.models import Sequential, Model, load_model\n",
    "from keras.layers import Input, BatchNormalization, Reshape, Lambda\n",
    "from keras.layers import Dense, Dropout, Activation, Flatten, LocallyConnected2D\n",
    "from keras.layers import Conv2D, MaxPooling2D, AlphaDropout, ConvLSTM2D, AvgPool2D, Conv2DTranspose, UpSampling2D\n",
    "from keras.layers import add, concatenate, multiply, Multiply\n",
    "from keras.initializers import VarianceScaling, RandomUniform\n",
    "from keras.optimizers import Adam, SGD, rmsprop\n",
    "from keras.preprocessing.image import ImageDataGenerator\n",
    "from keras.utils import np_utils, multi_gpu_model\n",
    "from keras.utils.vis_utils import plot_model\n",
    "from keras.engine.topology import Container\n",
    "from keras.optimizers import SGD, Adadelta, Adagrad\n",
    "from keras.regularizers import l1, l2\n",
    "from keras.callbacks import EarlyStopping\n",
    "import keras.backend as K\n",
    "K.set_image_dim_ordering('th')\n",
    "from keras.callbacks import Callback, ReduceLROnPlateau, LearningRateScheduler, TensorBoard, ModelCheckpoint\n",
    "import matplotlib.pyplot as plt\n",
    "import time\n",
    "#%matplotlib notebook"
   ]
  },
  {
   "cell_type": "code",
   "execution_count": 4,
   "metadata": {},
   "outputs": [],
   "source": [
    "def set_keras_backend(backend):\n",
    "    os.environ['KERAS_BACKEND'] = backend\n",
    "    importlib.reload(K)\n",
    "    K.set_image_dim_ordering('th')\n",
    "    assert K.backend() == backend\n",
    "\n",
    "def set_omp_threads(n):\n",
    "    n = str(n)\n",
    "    os.environ['OMP_NUM_THREADS'] = n"
   ]
  },
  {
   "cell_type": "code",
   "execution_count": 5,
   "metadata": {},
   "outputs": [
    {
     "name": "stderr",
     "output_type": "stream",
     "text": [
      "Using TensorFlow backend.\n"
     ]
    }
   ],
   "source": [
    "set_keras_backend('tensorflow')"
   ]
  },
  {
   "cell_type": "code",
   "execution_count": 6,
   "metadata": {},
   "outputs": [],
   "source": [
    "def get_rot_policy_dict():\n",
    "    augment_dict = {}\n",
    "    rot_m_0 = np.array([[0, -1], [1, 0]]) \n",
    "    center = np.array([3, 3])\n",
    "    for is_flip in [False, True]:\n",
    "        for rot_time in range(4):\n",
    "            if not (is_flip == False and rot_time == 0):\n",
    "                tmp_dict = {}\n",
    "                # get rot matrix\n",
    "                rot_m = np.eye(2)\n",
    "                for i in range(rot_time):\n",
    "                    rot_m = rot_m_0.dot(rot_m)\n",
    "\n",
    "                for r in range(7):\n",
    "                    for c in range(7):\n",
    "                        for dr in range(-2, 3):\n",
    "                            for dc in range(-2, 3):\n",
    "                                start = np.array([r, c])\n",
    "                                end = np.array([r+dr, c+dc])\n",
    "                                if (dr != 0 or dc != 0) and \\\n",
    "                                    (start[0] < 7 and start[0] >= 0) and (start[1] < 7 and start[1] >= 0):\n",
    "                                    new_start = (start - center)\n",
    "                                    new_end = (end - center)\n",
    "                                    if is_flip:\n",
    "                                        new_start[1] = -new_start[1]\n",
    "                                        new_end[1] = -new_end[1]\n",
    "                                    new_start = rot_m.dot(new_start) + center\n",
    "                                    new_end = rot_m.dot(new_end) + center\n",
    "                                    tmp_dict[(tuple(start), tuple(end))] = (tuple(new_start), tuple(new_end))\n",
    "                augment_dict[(is_flip, rot_time)] = tmp_dict\n",
    "    return augment_dict\n",
    "augment_dict = get_rot_policy_dict()"
   ]
  },
  {
   "cell_type": "code",
   "execution_count": 7,
   "metadata": {},
   "outputs": [],
   "source": [
    "def augment_policy(data, is_flip, rot_time):\n",
    "    if is_flip == False and rot_time == 0:\n",
    "        return data\n",
    "    \n",
    "    global policy_dict, policy_list, augment_dict\n",
    "    out = np.zeros_like(data)\n",
    "    for i in range(792):\n",
    "        tmp_data = data[i]\n",
    "        if tmp_data > 0:\n",
    "            move = policy_list[i]\n",
    "            move_after_rot = augment_dict[(is_flip, rot_time)][move]\n",
    "            i_after_rot = policy_dict[move_after_rot]\n",
    "            out[i_after_rot] = tmp_data\n",
    "    return out\n",
    "            \n",
    "def augment_data(train_data):\n",
    "    out = []\n",
    "    # input is a list for follows\n",
    "    feature_map = train_data[0]\n",
    "    action_mask = train_data[1]\n",
    "    frequency_map = train_data[2]\n",
    "    value = train_data[3]\n",
    "    \n",
    "    # do 7 times augmentation\n",
    "    for is_flip in [False, True]:\n",
    "        for rot_time in range(4):\n",
    "            # do feature map augmentation\n",
    "            if is_flip:\n",
    "                tmp_feature_map = np.fliplr(feature_map)\n",
    "            tmp_feature_map = np.rot90(feature_map, k=rot_time, axes=(1, 2))\n",
    "            # augment two policy related data\n",
    "            tmp_action_mask = augment_policy(action_mask, is_flip, rot_time)\n",
    "            tmp_frequency_map = augment_policy(frequency_map, is_flip, rot_time)\n",
    "            # append them to out\n",
    "            out.append([tmp_feature_map, tmp_action_mask, tmp_frequency_map, value])\n",
    "    return out"
   ]
  },
  {
   "cell_type": "markdown",
   "metadata": {},
   "source": [
    "## might be a bit of ugly, but it's really efficient to isolate functions that can be accelerated by cython and jit\n",
    "1. all the dictionary lookup and creation are all integrated in the following cell, which at least reduce the running time for 40%\n",
    "2. memoryview in cython is a strong weapon in terms of algorithm speedup"
   ]
  },
  {
   "cell_type": "code",
   "execution_count": 8,
   "metadata": {},
   "outputs": [],
   "source": [
    "%%cython \n",
    "# -a -f --compile-args=-DCYTHON_TRACE=1\n",
    "import numpy as np\n",
    "cimport numpy as np\n",
    "import matplotlib.pyplot as plt\n",
    "from random import choice\n",
    "\n",
    "def get_policy_dict_list():\n",
    "    index=0\n",
    "    policy_dict = {}\n",
    "    policy_list = []\n",
    "    for r in range(7):\n",
    "        for c in range(7):\n",
    "            for dr in range(-2, 3):\n",
    "                for dc in range(-2, 3):\n",
    "                    new_r = r + dr\n",
    "                    new_c = c + dc\n",
    "                    if (dr != 0 or dc != 0) and (new_r < 7 and new_r >= 0) and (new_c < 7 and new_c >= 0):\n",
    "                        policy_dict[((r, c), (new_r, new_c))] = index\n",
    "                        policy_list.append(((r, c), (new_r, new_c)))\n",
    "                        index += 1\n",
    "    return policy_dict, policy_list\n",
    "\n",
    "policy_dict, policy_list = get_policy_dict_list()\n",
    "\n",
    "# this is for expand last two lines\n",
    "def assign_children(children, np.float32_t[:] p_array):\n",
    "    for move in children:\n",
    "        children[move] = np.float32(p_array[policy_dict[move]])\n",
    "\n",
    "cdef class Ataxx:\n",
    "    cdef public np.int8_t[:, :] data\n",
    "\n",
    "    def __init__(self, board=None):\n",
    "        if board is None:                  # if there is no initialization given\n",
    "            self.data = np.zeros((7, 7), dtype=np.int8)   # then generate a board with starting init, and black(-1) takes first turn\n",
    "            self.data[0, 0] = -1           \n",
    "            self.data[6, 6] = -1\n",
    "            self.data[0, 6] = 1\n",
    "            self.data[6, 0] = 1\n",
    "        else:\n",
    "            self.data = board.copy()\n",
    "            \n",
    "    def reset(self, board=None):\n",
    "        if board is None:\n",
    "            self.data = np.zeros((7, 7), dtype=np.int8)\n",
    "            self.data[0, 0] = -1           \n",
    "            self.data[6, 6] = -1\n",
    "            self.data[0, 6] = 1\n",
    "            self.data[6, 0] = 1\n",
    "        else:\n",
    "            self.data = board.copy()\n",
    "        \n",
    "    def get_feature_map(self, turn, move):\n",
    "        cdef int j, k\n",
    "        cdef np.int8_t[:, :, :] out = np.zeros((6, 9, 9), dtype=np.int8)\n",
    "        # define 1 edge\n",
    "        \n",
    "        for j in range(9):\n",
    "            for k in range(9):\n",
    "                if j == 0 or j == 8 or k == 0 or k == 8:\n",
    "                    out[0, j, k] = 1\n",
    "            \n",
    "        for j in range(9):\n",
    "            for k in range(9):\n",
    "                if j > 0 and j < 8 and k > 0 and k < 8:\n",
    "                    if self.data[j-1, k-1] == turn:\n",
    "                        out[1, j, k] = 1\n",
    "            \n",
    "        for j in range(9):\n",
    "            for k in range(9):\n",
    "                if j > 0 and j < 8 and k > 0 and k < 8:\n",
    "                    if self.data[j-1, k-1] == -turn:\n",
    "                        out[2, j, k] = 1\n",
    "                        \n",
    "        if not move is None:               \n",
    "            out[3, move[0][0]+1, move[0][1]+1] = 1\n",
    "            out[4, move[1][0]+1, move[1][1]+1] = 1\n",
    "        if turn == -1:\n",
    "            for j in range(9):\n",
    "                for k in range(9):\n",
    "                    out[5, j, k] = 1\n",
    "        return np.array(out)\n",
    "    \n",
    "    def plot(self, is_next_move=False, turn=None):                        # plot the board\n",
    "        image = self.data.copy()\n",
    "        if is_next_move:\n",
    "            if turn not in [-1, 1]:\n",
    "                raise ValueError(\"Turn must be -1 or 1, or Must input a turn for next moves\")\n",
    "            else:\n",
    "                next_moves = self.get_moves(turn)\n",
    "                if len(next_moves) == 0:\n",
    "                    raise ValueError(\"Game is over already\")\n",
    "                next_pos = list(zip(*next_moves))[1]\n",
    "                for pos in next_pos:\n",
    "                    image[pos] = turn / 2\n",
    "        plt.imshow(image, cmap='gray')\n",
    "        plt.xticks(range(7), range(7))\n",
    "        plt.yticks(range(7), range(7))\n",
    "        plt.show()\n",
    "                \n",
    "    def is_valid(self, turn, pos):\n",
    "        cdef int dr, dc, r = pos[0], c = pos[1], new_r, new_c\n",
    "        if self.data[r, c] != 0:\n",
    "            return False\n",
    "        else:\n",
    "            for dr in range(-2, 3):\n",
    "                for dc in range(-2, 3):\n",
    "                    new_r = r+dr\n",
    "                    new_c = c+dc\n",
    "                    if new_r >= 0 and new_c >= 0 and new_r < 7 and new_c < 7 and self.data[new_r, new_c] == turn:\n",
    "                        return True\n",
    "            return False \n",
    "        \n",
    "    def get_moves(self, turn, return_node_info=False):\n",
    "        cdef int r, c, dr, dc, new_r, new_c\n",
    "        cdef np.int8_t[:] action_mask = np.zeros(792, dtype=np.int8)\n",
    "        next_moves = []\n",
    "        corr_dict = {}\n",
    "        children_dict = {}\n",
    "        for r in range(7):\n",
    "            for c in range(7):\n",
    "                has_duplicate_move = False      # move within the radius of one of another friendly piece is called\n",
    "                if self.is_valid(turn, (r, c)): # duplicate move\n",
    "                    for dr in range(-2, 3):\n",
    "                        for dc in range(-2, 3):\n",
    "                            new_r = r+dr\n",
    "                            new_c = c+dc\n",
    "                            if new_r >= 0 and new_c >= 0 and new_r < 7 and new_c < 7 and self.data[new_r, new_c] == turn:\n",
    "                                if abs(dr) <= 1 and abs(dc) <=1:\n",
    "                                    if has_duplicate_move: \n",
    "                                        cur_move = ((new_r, new_c), (r, c))\n",
    "                                        corr_dict[cur_move] = dup_move\n",
    "                                        # update action mask\n",
    "                                        if return_node_info: \n",
    "                                            action_mask[policy_dict[cur_move]] = 1\n",
    "                                    elif self.data[new_r, new_c] == turn:\n",
    "                                        dup_move = ((new_r, new_c), (r, c))\n",
    "                                        next_moves.append(dup_move) \n",
    "                                        has_duplicate_move = True\n",
    "                                        # preparing children nodes and action mask\n",
    "                                        if return_node_info: \n",
    "                                            children_dict[dup_move] = None\n",
    "                                            action_mask[policy_dict[dup_move]] = 1\n",
    "                                elif self.data[new_r, new_c] == turn:\n",
    "                                    cur_move = ((new_r, new_c), (r, c))\n",
    "                                    next_moves.append(cur_move) \n",
    "                                    # preparing children nodes and action mask\n",
    "                                    if return_node_info:\n",
    "                                        children_dict[cur_move] = None\n",
    "                                        action_mask[policy_dict[cur_move]] = 1\n",
    "                                else:\n",
    "                                    continue\n",
    "        if return_node_info:\n",
    "            return next_moves, corr_dict, children_dict, np.array(action_mask)\n",
    "        else:\n",
    "            return next_moves\n",
    "    \n",
    "    def get_greedy_move(self, turn, moves=None):\n",
    "        cdef int x0, y0, x1, y1, dr, dc, tmp_score, best_score = -50\n",
    "        # get all possible moves if not provided\n",
    "        if moves is None:\n",
    "            moves, corr_dict, _, _ = self.get_moves(turn, return_node_info=True)\n",
    "            for item in corr_dict:\n",
    "                moves.append(item)\n",
    "        \n",
    "        if len(moves) == 0:\n",
    "            raise ValueError('No Possible Moves')\n",
    "        \n",
    "        best_moves = []\n",
    "        # calculate greedy move\n",
    "        for (x0, y0), (x1, y1) in moves:\n",
    "            tmp_score = 0\n",
    "            if abs(x0-x1) <= 1 and abs(y0-y1) <= 1:\n",
    "                tmp_score += 1\n",
    "            for dr in range(-1, 2):\n",
    "                for dc in range(-1, 2):\n",
    "                    try:\n",
    "                        if x1+dr >= 0 and y1+dc >= 0:\n",
    "                            tmp_score += self.data[x1+dr, y1+dc] == -turn\n",
    "                    except:\n",
    "                        pass\n",
    "            if tmp_score > best_score:\n",
    "                best_moves = [((x0, y0), (x1, y1))]\n",
    "                best_score = tmp_score\n",
    "            elif tmp_score == best_score:\n",
    "                best_moves.append(((x0, y0), (x1, y1)))\n",
    "        return choice(best_moves)\n",
    "        \n",
    "    def move_to(self, turn, pos0, pos1):\n",
    "        cdef int dr, dc, x0 = pos0[0], y0 = pos0[1], x1 = pos1[0], y1 = pos1[1]\n",
    "        \n",
    "        if not self.is_valid(turn, pos1):\n",
    "            raise ValueError(\"This move: \" + str((pos0, pos1)) + \" of turn: \" + str(turn) + \" is invalid\") \n",
    "        elif self.data[x0, y0] != turn:\n",
    "            raise ValueError(\"The starting position is not your piece\")\n",
    "        else:\n",
    "            self.data[x1, y1] = turn\n",
    "            if abs(x0 - x1) > 1 or abs(y0 - y1) > 1:   # jump move\n",
    "                self.data[x0, y0] = 0\n",
    "\n",
    "            for dr in range(-1, 2):                  # infection mode!!!!\n",
    "                for dc in range(-1, 2):\n",
    "                    if x1+dr >= 0 and y1+dc >= 0 and x1+dr < 7 and y1+dc < 7:\n",
    "                        if self.data[x1+dr, y1+dc] == -turn:  # convert any piece of the opponent to 'turn'\n",
    "                            self.data[x1+dr, y1+dc] = turn\n",
    "    @staticmethod                       \n",
    "    def get_manual_q(int turn, np.int8_t[:, :] board):\n",
    "        cdef int r, c, turn_no = 0, op_no = 0\n",
    "        cdef float max1=0.2, max2=0.9, max3=0.95, diff, sign\n",
    "        # get no diff of turns\n",
    "        for r in range(7):\n",
    "            for c in range(7):\n",
    "                if board[r, c] == turn:\n",
    "                    turn_no += 1\n",
    "                elif board[r, c] == -turn:\n",
    "                    op_no += 1\n",
    "        diff = turn_no - op_no\n",
    "        sign = diff\n",
    "        diff = abs(diff)\n",
    "        if diff < 10:\n",
    "            diff = diff * max1 / 10\n",
    "        elif diff < 35:\n",
    "            diff = (max2-max1)/25*(diff-10)+max1\n",
    "        else:\n",
    "            diff = 0.9\n",
    "\n",
    "        if sign < 0:\n",
    "            return -diff\n",
    "        else:\n",
    "            return diff\n",
    "    \n",
    "    def evaluate(self, turn, this_turn, max_score=1, min_score=0.001):\n",
    "        cdef int r, c, turn_no=0, op_no=0\n",
    "        for r in range(7):\n",
    "            for c in range(7):\n",
    "                if self.data[r, c] == turn:\n",
    "                    turn_no += 1\n",
    "                elif self.data[r, c] == -turn:\n",
    "                    op_no += 1\n",
    "        if len(self.get_moves(this_turn)) == 0:# if one of them can no longer move, count and end\n",
    "            if turn_no > op_no:\n",
    "                return max_score\n",
    "            else:\n",
    "                return -max_score\n",
    "        else:\n",
    "            value = turn_no - op_no\n",
    "        return value * min_score"
   ]
  },
  {
   "cell_type": "code",
   "execution_count": 9,
   "metadata": {},
   "outputs": [],
   "source": [
    "@nb.jit(nopython=True)\n",
    "def for_node(c, parent_n_visit, n_visit, p, q):\n",
    "    return c * p * sqrt(parent_n_visit) / (n_visit + 1) - q / (n_visit + 1) \n",
    "\n",
    "@nb.jit(nopython=True)\n",
    "def get_q(init_q, manual_q):\n",
    "    if abs(init_q) > 0.18: # meaning that init_q is quite confident\n",
    "            return 0.6 * init_q + 0.4 * manual_q\n",
    "    elif abs(init_q) > 0.25:\n",
    "        return 0.8 * init_q + 0.2 * manual_q\n",
    "    elif abs(manual_q) >= 0.85: # meaning that manual_q is quite confident\n",
    "        return 0.2 * init_q + 0.8 * manual_q\n",
    "    else:\n",
    "        return 0.4 * init_q + 0.6 * manual_q\n",
    "\n",
    "class TreeNode():\n",
    "    def __init__(self, parent, p=0.0):\n",
    "        self._parent = parent\n",
    "        self._children = {} # a dictionary of action:node\n",
    "        self._corr_dict = {} # a dictionary for duplicated moves\n",
    "        self._n_visit = 0\n",
    "        # from the parent perspective\n",
    "        self._q = 0.0\n",
    "        self._manual_q = -5 # manually deviced q\n",
    "        self._init_q = -5 # learnt q\n",
    "        self._p = p\n",
    "        self._action_mask = None\n",
    "        self._feature_map = None\n",
    "        self._board = None\n",
    "        self._is_expanded = False\n",
    "        self._prev_move = None\n",
    "        \n",
    "    def __str__(self):\n",
    "        out = \"_n_visit: {}, _q: {}, _p: {}, _children: \\n{}\".format(\\\n",
    "                self._n_visit, self._q, self._p, self._children)\n",
    "        return out\n",
    "    \n",
    "    def get_start_q(self):\n",
    "        assert self._init_q != -5 and self._manual_q != -5\n",
    "        assert self._q == 0\n",
    "        self._q = get_q(self._init_q, self._manual_q)\n",
    "    \n",
    "    def access_children(self, move):\n",
    "        try:\n",
    "            return self._children[move]\n",
    "        except:\n",
    "            return self._children[self._corr_dict[move]]\n",
    "    \n",
    "    def children_generator(self):\n",
    "        for move in self._children:\n",
    "            yield (move, self._children[move])\n",
    "        for move in self._corr_dict:\n",
    "            yield (move, self._children[self._corr_dict[move]])\n",
    "    \n",
    "    def update_all(self, t_v):\n",
    "        node = self\n",
    "        while not node is None: \n",
    "            node._q += t_v\n",
    "            node._n_visit += 1\n",
    "            node = node._parent\n",
    "            t_v = -t_v\n",
    "            \n",
    "    @staticmethod\n",
    "    def get_search_value(parent, node, c):\n",
    "        # return values \n",
    "        try:\n",
    "            value = for_node(c, parent._n_visit, node._n_visit, node._p, node._q)\n",
    "        except:\n",
    "            print(parent)\n",
    "            print(node)\n",
    "            raise\n",
    "        #print(value)\n",
    "        return value\n",
    "        \n",
    "    @staticmethod\n",
    "    def get_frequency_value(node):\n",
    "        try:\n",
    "            return node._n_visit\n",
    "        except:\n",
    "            return 0\n",
    "    \n",
    "    def select(self, c):\n",
    "        best_node = [0, 0]\n",
    "        best_node[0], best_node[1] = max(self._children.items(), key=lambda node: self.get_search_value(self, node[1], c))\n",
    "        return best_node\n",
    "        \n",
    "    def get_action_mask(self):\n",
    "        # only generate the action mask once\n",
    "        if not self._action_mask is None:\n",
    "            return self._action_mask\n",
    "        else:\n",
    "            raise ValueError(\"No action mask, request failure\")\n",
    "    \n",
    "    def get_action_frequency_map(self, temp=1):\n",
    "        global policy_dict\n",
    "        out = np.zeros(len(policy_dict))\n",
    "        # record all the n_visit of each node\n",
    "        nodes = self.children_generator()\n",
    "        for node in nodes:\n",
    "            out[policy_dict[node[0]]] = (float(node[1]._n_visit) / 100) ** (1/temp)\n",
    "        # normalize the array\n",
    "        out /= out.sum()\n",
    "        return out"
   ]
  },
  {
   "cell_type": "code",
   "execution_count": 10,
   "metadata": {},
   "outputs": [],
   "source": [
    "class PolicyValueNetwork():\n",
    "    def __init__(self, lr=None, is_load_model=False, is_cpu=True, verbose=False):\n",
    "        if is_cpu:\n",
    "            self._sess = tf.Session(config=tf.ConfigProto(intra_op_parallelism_threads=24))\n",
    "        else:\n",
    "            config = tf.ConfigProto(log_device_placement=True)\n",
    "            config.gpu_options.allow_growth = True\n",
    "            self._sess = tf.Session(config=config)\n",
    "        K.set_session(self._sess)\n",
    "        \n",
    "        if is_cpu:\n",
    "            self._device = \"cpu\"\n",
    "        else:\n",
    "            self._device = \"gpu:0\"\n",
    "        \n",
    "        if is_load_model:\n",
    "            self._model = load_model('MCTS_POLICY_MODEL/train_pq_model.h5')\n",
    "            self._target_model = load_model('MCTS_POLICY_MODEL/target_pq_model.h5')\n",
    "            print(\"successfully loaded two models\")\n",
    "            if not lr is None:\n",
    "                self.update_learning_rate(lr)\n",
    "        else:\n",
    "            assert not lr is None\n",
    "            self._lr = lr\n",
    "            self._model = self.create_model()\n",
    "            self._target_model = self.create_model()\n",
    "            init = tf.global_variables_initializer()\n",
    "            self._sess.run(init)\n",
    "            print(\"new models generated\")\n",
    "            \n",
    "        # synchronize both models\n",
    "        self.update_target_model()\n",
    "        # print the model structure\n",
    "        if verbose:\n",
    "            print(self._model.summary())\n",
    "        \n",
    "    def update_learning_rate(self, lr):\n",
    "        try:\n",
    "            print(\"learning rate updated from {} to {}\".format(self._lr, lr))\n",
    "        except:\n",
    "            print(\"compile new learning rate {}\".format(lr))\n",
    "        self._lr = lr\n",
    "        self._model.compile(loss=['categorical_crossentropy', 'mse'], optimizer=Adam(lr=self._lr, decay=1e-6),\\\n",
    "                     loss_weights=[1, 1])\n",
    "        \n",
    "    def create_model(self):\n",
    "        assert K.backend() == 'tensorflow'\n",
    "        \n",
    "        def res_block(res_in):\n",
    "            x = Conv2D(64, (3, 3), padding='same', kernel_regularizer=l2(1e-4))(res_in)\n",
    "            x = BatchNormalization(axis=1)(x)\n",
    "            x = Activation('relu')(x)\n",
    "            x = Conv2D(64, (3, 3), padding='same', kernel_regularizer=l2(1e-4))(x)\n",
    "            x = BatchNormalization(axis=1)(x)\n",
    "            x = add(inputs=[x, res_in])\n",
    "            x = Activation('relu')(x)\n",
    "            return x\n",
    "\n",
    "        with tf.device(self._device):\n",
    "            board_input = Input((6, 9, 9))\n",
    "            mask_input = Input((792, ))\n",
    "            x = Conv2D(64, (3, 3), padding='valid', kernel_regularizer=l2(1e-4))(board_input)\n",
    "            x = BatchNormalization(axis=1)(x)\n",
    "            x = Activation('relu')(x)\n",
    "            for i in range(1):\n",
    "                x = res_block(x)\n",
    "            y = x\n",
    "\n",
    "            x = Conv2D(2, (1, 1), kernel_regularizer=l2(1e-4))(y)\n",
    "            x = BatchNormalization(axis=1)(x)\n",
    "            x = Activation('relu')(x)\n",
    "            x = Flatten()(x)\n",
    "            x = Dense(792, activation='softplus', kernel_regularizer=l2(1e-4))(x)\n",
    "            x = multiply(inputs=[x, mask_input])     # this mask will mask any illegal move\n",
    "            action_output = Activation('softmax')(x)\n",
    "\n",
    "            x = Conv2D(1, (1, 1), kernel_regularizer=l2(1e-4))(y)\n",
    "            x = BatchNormalization(axis=1)(x)\n",
    "            x = Activation('relu')(x)\n",
    "            x = Flatten()(x)\n",
    "            x = Dense(128, activation='relu', kernel_regularizer=l2(1e-4))(x)\n",
    "            value_output = Dense(1, activation='tanh')(x)\n",
    "\n",
    "            model = Model(input=[board_input, mask_input],output=[action_output, value_output])\n",
    "\n",
    "        # compile the model\n",
    "        model.compile(loss=['categorical_crossentropy', 'mse'], optimizer=Adam(lr=self._lr, decay=1e-6),\\\n",
    "                         loss_weights=[1, 1])\n",
    "        \n",
    "        return model\n",
    "\n",
    "    def update_target_model(self):\n",
    "        model_weights = self._model.get_weights()\n",
    "        self._target_model.set_weights(model_weights)\n",
    "\n",
    "    def predict(self, feature_map, action_mask, is_target=True):\n",
    "        if not is_target:\n",
    "            model = self._model\n",
    "        else:\n",
    "            model = self._target_model\n",
    "        \n",
    "        return self._sess.run(model.outputs, feed_dict={model.inputs[0]: feature_map.reshape(-1, 6, 9, 9), \\\n",
    "                                    model.inputs[1]: action_mask.reshape(-1, 792), K.learning_phase(): 0})\n",
    "    \n",
    "    def save(self):\n",
    "        self._model.save('MCTS_POLICY_MODEL/train_pq_model.h5')\n",
    "        self._target_model.save('MCTS_POLICY_MODEL/target_pq_model.h5')"
   ]
  },
  {
   "cell_type": "code",
   "execution_count": 11,
   "metadata": {},
   "outputs": [],
   "source": [
    "%%cython\n",
    "import numpy as np\n",
    "cimport numpy as np\n",
    "def get_argmax(np.ndarray[np.int8_t] action_mask, np.ndarray[np.float32_t] p_array):\n",
    "    sort_p_array = action_mask * (0.75 * p_array + 0.25 * np.random.dirichlet(0.3*np.ones(p_array.shape[0])))\n",
    "    # sort_p_array = action_mask * (0.8 * p_array + 0.2 * np.random.random(p_array.shape[0]))\n",
    "    return sort_p_array.argmax()"
   ]
  },
  {
   "cell_type": "code",
   "execution_count": 12,
   "metadata": {},
   "outputs": [],
   "source": [
    "class Relay():\n",
    "    def __init__(self, life_span=20):\n",
    "        self._relay_dict = {}\n",
    "        self._counter = 0\n",
    "        self._life_span = life_span * 4\n",
    "        \n",
    "    def append(self, train_data):\n",
    "        train_data = list((zip(*train_data)))\n",
    "        # stack the small batch\n",
    "        for i in range(4):\n",
    "            train_data[i] = np.stack(train_data[i], axis=0)\n",
    "        # append new data\n",
    "        self._relay_dict[self._counter] = train_data\n",
    "        self._counter += 1\n",
    "        \n",
    "        # remove too old data\n",
    "        remove_index = -1\n",
    "        for index in self._relay_dict:\n",
    "            if self._counter - index > self._life_span:\n",
    "                remove_index = index\n",
    "        if remove_index != -1:\n",
    "            del self._relay_dict[remove_index]\n",
    "                \n",
    "    def get(self, n_data=None):\n",
    "        out = [[], [], [], []]\n",
    "        counter = 1  # output at least the latest element\n",
    "        out[0].append(self._relay_dict[self._counter-1][0])\n",
    "        out[1].append(self._relay_dict[self._counter-1][1])\n",
    "        out[2].append(self._relay_dict[self._counter-1][2])\n",
    "        out[3].append(self._relay_dict[self._counter-1][3])\n",
    "        for _, data in self._relay_dict.items():\n",
    "            if n_data is None:\n",
    "                sample_prob = 1\n",
    "            else:\n",
    "                sample_prob = float(n_data) / len(self._relay_dict)\n",
    "            if np.random.rand() < sample_prob: \n",
    "                counter += 1\n",
    "                out[0].append(data[0])\n",
    "                out[1].append(data[1])\n",
    "                out[2].append(data[2])\n",
    "                out[3].append(data[3])\n",
    "                \n",
    "            print(n_data, \"data expected to be grabbed\")\n",
    "            print(counter, \"data grabbed for training\")\n",
    "            \n",
    "        for i in range(4):\n",
    "            out[i] = np.concatenate(out[i], axis=0)\n",
    "        \n",
    "        return out"
   ]
  },
  {
   "cell_type": "code",
   "execution_count": 17,
   "metadata": {},
   "outputs": [],
   "source": [
    "class MCTS():\n",
    "    def __init__(self, c=1, dep_lim=10, lr=1e-3, life_span=10, is_load_model=False, is_cpu=True):\n",
    "        # slow_step means how many step we use to do typical mcts, after that we do fast play\n",
    "        self._c = c\n",
    "        self._dep_lim = dep_lim\n",
    "        self._game = Ataxx()\n",
    "        self._turn = -1\n",
    "        # generate model\n",
    "        self._network = PolicyValueNetwork(lr, is_load_model, is_cpu=is_cpu)\n",
    "        self._lr = lr\n",
    "        # generate root and expand initially its children\n",
    "        self._root = TreeNode(None) # this one will move in self play mode\n",
    "        self.further_init(self._root, self._game, self._turn, get_p_array=True)\n",
    "        self._root_store = self._root # this is a backup for reset\n",
    "        \n",
    "    def reset_root(self, move=None):\n",
    "        self._root = TreeNode(None) # this one will move in self play mode\n",
    "        self.further_init(self._root, self._game, self._turn, move, get_p_array=True)\n",
    "        self._root_store = self._root # this is a backup for reset\n",
    "        \n",
    "    def reset(self, left_space=45):\n",
    "        self._game.reset()\n",
    "        self._turn = -1\n",
    "        self._root = TreeNode(None)\n",
    "        \n",
    "        if left_space < 45:\n",
    "            steps = 0\n",
    "            is_terminal = False\n",
    "            result = 45\n",
    "            while not is_terminal and result > left_space:\n",
    "                if np.random.random() < 0.2: # 80 percent using greedy move\n",
    "                    best_move = choice(self._game.get_moves(self._turn))\n",
    "                    \n",
    "                else:\n",
    "                    best_move = self._game.get_greedy_move(self._turn)\n",
    "                    \n",
    "                self.make_a_move(best_move)\n",
    "                is_terminal = abs(self._game.evaluate(1, self._turn)) == 1\n",
    "                result = (np.array(self._game.data) == 0).sum()\n",
    "                steps += 1\n",
    "            if is_terminal:\n",
    "                print(\"reset failure, do reset again\")\n",
    "                self.reset(left_space)\n",
    "        self.reset_root()\n",
    "        try: # tell the _root which move led it here\n",
    "            self._root._move = best_move\n",
    "        except:\n",
    "            pass\n",
    "        \n",
    "    def plot_move_visit_freq(self):\n",
    "        nodes = sorted(self._root._children.items(), key=lambda node: self._root.get_frequency_value(node[1]), reverse=True)\n",
    "        # nodes = self._root.children_generator()\n",
    "        for node in nodes:\n",
    "            try:\n",
    "                print(\"{}: n_v:{:>6d} q_all:{:+06.6f} q:{:+06.6f} q_m:{:+06.6f} p:{:06.6f}\"\\\n",
    "                      .format(node[0], node[1]._n_visit, -node[1]._q / (node[1]._n_visit + 1), \\\n",
    "                              -node[1]._init_q, -node[1]._manual_q, node[1]._p))\n",
    "            except:\n",
    "                pass\n",
    "                      \n",
    "    def get_next_move(self, is_best=False, is_dirichlet=True, rollout_times=100, t_lim=np.nan):\n",
    "        global policy_list\n",
    "        # do mcts\n",
    "        self.rollout(rollout_times, t_lim)\n",
    "        \n",
    "        if is_best:\n",
    "            # return the best move\n",
    "            index = np.argmax(self._root.get_action_frequency_map())\n",
    "        elif is_dirichlet:\n",
    "            # return a choiced move\n",
    "            prob = (0.75*self._root.get_action_frequency_map(temp=1e-2) \\\n",
    "                         + 0.25*np.random.dirichlet(0.3*np.ones(792))) * self._root._action_mask\n",
    "            index = np.random.choice(range(792), p=prob / prob.sum())\n",
    "        else:\n",
    "            # return move with prob equal to visit frequency\n",
    "            index = np.random.choice(range(792), p=self._root.get_action_frequency_map())\n",
    "            \n",
    "        if index != np.argmax(self._root.get_action_frequency_map()):\n",
    "            print(\"\\n\\nThis is a random move\\n\\n\")\n",
    "            \n",
    "        return policy_list[index]\n",
    "    \n",
    "    def make_a_move(self, next_move):\n",
    "        # move the root to next_move's root\n",
    "        if self._root._children == {}:\n",
    "            self._root = TreeNode(None)\n",
    "        elif type(self._root.access_children(next_move)) is np.float32: # the root may not be neccessarily expanded\n",
    "            self._root = TreeNode(None)\n",
    "        else:\n",
    "            self._root = self._root.access_children(next_move)\n",
    "            self._root._parent = None # necessary for updata_all\n",
    "        \n",
    "        # update the game board\n",
    "        self._game.move_to(self._turn, next_move[0], next_move[1])\n",
    "        self._turn = -self._turn\n",
    "      \n",
    "    def further_init(self, node, game, turn, prev_move=None, get_p_array=False):\n",
    "        global policy_dict, policy_list\n",
    "        node._prev_move = prev_move # tell which move led the node here\n",
    "        # preparing all children\n",
    "        new_moves, node._corr_dict, node._children, node._action_mask \\\n",
    "                                = game.get_moves(turn, return_node_info=True)\n",
    "        # if meet end of the game, generate manual q\n",
    "        if node._children == {}:\n",
    "            if node._manual_q == -5:\n",
    "                node._manual_q = game.get_manual_q(turn, game.data)\n",
    "            # quite tricky here dude, remember to look from the parent perspective\n",
    "            if node._manual_q > 0:\n",
    "                node._q = 1\n",
    "            else:\n",
    "                node._q = -1 \n",
    "            return\n",
    "        \n",
    "        # generate feature map\n",
    "        node._feature_map = game.get_feature_map(turn, prev_move)\n",
    "        node._board = game.data.copy()\n",
    "        # if required, generate p array and q, only if there are children\n",
    "        if get_p_array:\n",
    "            # generate policy prob array\n",
    "            out = self._network.predict(node._feature_map, node._action_mask)\n",
    "            p_array = out[0]\n",
    "            # give p to each child (float32)\n",
    "            for move in new_moves:\n",
    "                node._children[move] = p_array[0][policy_dict[move]]\n",
    "            # init node._q\n",
    "            node._init_q = out[1][0][0] \n",
    "            node._manual_q = game.get_manual_q(turn, game.data)\n",
    "            node.get_start_q()\n",
    "        \n",
    "    def expand(self, node, game, turn):\n",
    "        global policy_dict, policy_list\n",
    "        \n",
    "        # if the node was not expanded, take that as a new root and further init it\n",
    "        if node._children == {} and node._q == 0:\n",
    "            self.further_init(node, game, turn, get_p_array=True)\n",
    "        # if end of game, quit expanding\n",
    "        if node._children == {}:\n",
    "            assert node._q != 0\n",
    "            return\n",
    "        \n",
    "        # update expanded state\n",
    "        node._is_expanded = True\n",
    "        \n",
    "        # if there are children\n",
    "        backup_board = game.data.copy() # warning, to backup a memoryview ndarray, use copy()\n",
    "        index_list = []\n",
    "        feature_map = []\n",
    "        action_mask = []\n",
    "        boards = []\n",
    "        for move in node._children:\n",
    "            tmp = node._children[move]\n",
    "            try:\n",
    "                assert type(tmp) is np.float32\n",
    "            except:\n",
    "                print(type(tmp))\n",
    "                raise\n",
    "            new_node = TreeNode(node, p=node._children[move])\n",
    "            game.move_to(turn,  move[0], move[1])\n",
    "            self.further_init(new_node, game, -turn, move, get_p_array=False)\n",
    "            node._children[move] = new_node\n",
    "            # prepare to calculate p for new_node only if it has children\n",
    "            if new_node._children != {}:\n",
    "                index_list.append(new_node)\n",
    "                feature_map.append(new_node._feature_map)\n",
    "                action_mask.append(new_node._action_mask)\n",
    "                boards.append(new_node._board)\n",
    "            # reset the gamer\n",
    "            game.reset(board=backup_board)\n",
    "        # if there are no more node that is expandable, quit\n",
    "        if len(index_list) == 0:\n",
    "            return\n",
    "        \n",
    "        # do batch prediction\n",
    "        # print(\"batch size:\", len(index_list))\n",
    "        feature_map = np.stack(feature_map, axis=0)\n",
    "        action_mask = np.stack(action_mask, axis=0)\n",
    "        out = self._network.predict(feature_map, action_mask)\n",
    "        # get batch manual q \n",
    "        boards = [game.get_manual_q(-turn, board) for board in boards]\n",
    "        # update the result to each child node\n",
    "        for i, child in enumerate(index_list):\n",
    "            # assign q\n",
    "            child._manual_q = boards[i] # neg for display use\n",
    "            child._init_q = out[1][i][0] # same as above\n",
    "            child.get_start_q()\n",
    "            # assign p\n",
    "            assign_children(child._children, out[0][i])\n",
    "            \n",
    "\n",
    "    def rollout(self, rollout_times=100, t_lim=np.nan, t_min=2):\n",
    "        start = time.time()\n",
    "        for i in range(rollout_times*5):\n",
    "            tmp_node = self._root\n",
    "            tmp_game = Ataxx(self._game.data)\n",
    "            tmp_turn = self._turn\n",
    "            # start mcts\n",
    "            step = 0\n",
    "            while True:\n",
    "                assert self._dep_lim > 0\n",
    "                if step < self._dep_lim:\n",
    "                    # expand the node only when it has never been expanded\n",
    "                    if tmp_node._is_expanded == False:\n",
    "                        self.expand(tmp_node, tmp_game, tmp_turn)\n",
    "\n",
    "                    # check if is leaf node, if so, update the whole tree\n",
    "                    if tmp_node._children == {}:\n",
    "                        t_v = tmp_node._q / (tmp_node._n_visit + 1)\n",
    "                        tmp_node.update_all(t_v)\n",
    "                        break\n",
    "                    else:\n",
    "                        # select a child and continue exploration\n",
    "                        next_move, next_node = tmp_node.select(self._c)\n",
    "                            \n",
    "                        # move to next move and next node\n",
    "                        tmp_game.move_to(tmp_turn, next_move[0], next_move[1])    \n",
    "                        tmp_node = next_node\n",
    "                        tmp_turn = -tmp_turn\n",
    "                else:\n",
    "                    t_v = tmp_node._q / (tmp_node._n_visit + 1)\n",
    "                    tmp_node.update_all(t_v)\n",
    "                    break\n",
    "                # update steps                                    \n",
    "                step += 1\n",
    "            cur_time = time.time() - start\n",
    "            if cur_time > t_lim * 0.999:\n",
    "                print(\"due to time lim, final rollout times: \", i, \"time elapsed: \", cur_time)\n",
    "                break\n",
    "            \n",
    "            if cur_time > t_min and i > rollout_times:\n",
    "                print(\"due to rollout lim, final rollout times: \", i, \"time elapsed: \", cur_time)\n",
    "                break\n",
    "                \n",
    "        \n",
    "    def testing_against_greedy(self, rounds=5, left_space=45, c=5, dep_lim=0, rollout_times=400, t_lim=6, verbose=True):\n",
    "        print(\"####               ####\")\n",
    "        print(\"#### start testing ####\")\n",
    "        # record dep_lim and c for restoration\n",
    "        store_dep_lim = self._dep_lim\n",
    "        self._dep_lim = dep_lim\n",
    "        store_c = self._c\n",
    "        self._c = c\n",
    "        # recorder of game result\n",
    "        n_win = 0.0\n",
    "        win_steps = 0.0\n",
    "        for r in range(rounds):\n",
    "            tmp_round_s = time.time()\n",
    "            # randomly init the game board if no left_space specified\n",
    "            self.reset(left_space)\n",
    "            # set up start turns\n",
    "            my_turn = choice([-1, 1])\n",
    "            if verbose:\n",
    "                print(\"round:\", r+1)\n",
    "                print(\"this game start with {} space left\".format(left_space))\n",
    "                print(\"self takes turn: \", my_turn)\n",
    "            # start the game\n",
    "            steps = 0\n",
    "            while abs(self._game.evaluate(1, self._turn)) != 1:\n",
    "                # plot the game board\n",
    "                if verbose:\n",
    "                    self._game.plot()\n",
    "                    tmp_s = time.time()\n",
    "                if self._turn == my_turn:\n",
    "                    best_move = self.get_next_move(is_best=True, rollout_times=rollout_times, t_lim=t_lim)\n",
    "                    if verbose:\n",
    "                        print(\"self turn\", my_turn)\n",
    "                        print(self.plot_move_visit_freq())\n",
    "                else:\n",
    "                    best_move = self._game.get_greedy_move(self._turn)\n",
    "                    if verbose:\n",
    "                        print(\"greedy turn\", self._turn)\n",
    "                if verbose:\n",
    "                    print(\"this move takes time(s): \", time.time()-tmp_s)\n",
    "                    print(\"chosen move is \", best_move)\n",
    "\n",
    "                # synchronize steps and boards\n",
    "                self.make_a_move(best_move)\n",
    "                # update steps\n",
    "                steps += 1\n",
    "                if steps > 250:\n",
    "                    print(\"steps over 250, game skip\")\n",
    "                    break\n",
    "            if steps <= 250:\n",
    "                is_self_win = self._game.evaluate(my_turn, self._turn) == 1\n",
    "                if is_self_win:\n",
    "                    n_win += 1\n",
    "                    win_steps += steps\n",
    "                if verbose:\n",
    "                    print(\"this round has steps: {}, time taken: {}, \\n\\n\\nself wins? {}\\n\\n\\n\".format(steps, time.time()-tmp_round_s, is_self_win))\n",
    "            else:\n",
    "                n_win += 0.5\n",
    "        # restore dep lim and c\n",
    "        self._dep_lim = store_dep_lim\n",
    "        self._c = store_c\n",
    "        \n",
    "        # output\n",
    "        print(win_steps / n_win)\n",
    "        return n_win / rounds\n",
    "    \n",
    "    def tester(self):\n",
    "        q_ratio = self.testing_against_greedy(\\\n",
    "            rounds=50, left_space=45, c=0, dep_lim=1, rollout_times=1, t_lim=6, verbose=False)\n",
    "        print(\"\\n\\n\\n                        win ratio of Q is {} \\n\\n\\n\\n\\n\".format(q_ratio))\n",
    "        p_ratio = self.testing_against_greedy(\\\n",
    "            rounds=50, left_space=45, c=100, dep_lim=1, rollout_times=1, t_lim=6, verbose=False)\n",
    "        print(\"\\n\\n\\n                        win ratio of P is {} \\n\\n\\n\\n\\n\".format(p_ratio))\n",
    "        both_ratio = self.testing_against_greedy(\\\n",
    "            rounds=50, left_space=45, c=5, dep_lim=1, rollout_times=500, t_lim=6, verbose=False)\n",
    "        print(\"\\n\\n\\n                        win ratio of both is {} \\n\\n\\n\\n\\n\".format(both_ratio))\n",
    "             \n",
    "    def data_collector(self, node, visit_min):\n",
    "        out = []\n",
    "        if node._n_visit >= visit_least:\n",
    "            tmp_data = [node._feature_map, \\\n",
    "                        node._action_mask, \\\n",
    "                        node.get_action_frequency_map(),\\\n",
    "                        node._q / (node._n_visit + 1)]\n",
    "            tmp_data = augment_data(tmp_data)\n",
    "            out.extend(tmp_data)\n",
    "        for _, child in node._children.items():\n",
    "            if child._n_visit >= visit_least:\n",
    "                tmp_data = [child._feature_map, \\\n",
    "                            child._action_mask, \\\n",
    "                            child.get_action_frequency_map(),\\\n",
    "                            child._q / (node._n_visit + 1)]\n",
    "                out.extend(tmp_data)\n",
    "        print(\"no. of data collected: \", len(out))\n",
    "        return out\n",
    "        \n",
    "                \n",
    "    def self_play(self, rollout_times=100, t_lim=np.nan, verbose=True, is_best=False):\n",
    "        train_data = []\n",
    "        steps = 0\n",
    "        print(\"start new self play\")\n",
    "        start = time.time()\n",
    "        while self._root._children != {} and steps < 250:\n",
    "            print(self._turn, \"'s turn\")\n",
    "            tmp_s = time.time()\n",
    "            if steps < 5: # to generate different game data\n",
    "                best_move = self.get_next_move(is_best=is_best, is_dirichlet=False, \\\n",
    "                                               rollout_times=rollout_times, t_lim=t_lim)\n",
    "            else:\n",
    "                best_move = self.get_next_move(is_best=is_best, is_dirichlet=True, \\\n",
    "                                               rollout_times=rollout_times, t_lim=t_lim)\n",
    "            print(\"one move takes time(s): \", time.time()-tmp_s)\n",
    "            # record π data\n",
    "            visit_least = rollout_times\n",
    "            train_data.extend(self.data_collector(self._root, visit_least))\n",
    "            # plot the game board if verbose\n",
    "            if verbose:\n",
    "                self._game.plot()\n",
    "                self.plot_move_visit_freq()\n",
    "            # make the move and move on\n",
    "            self.make_a_move(best_move)\n",
    "            steps += 1\n",
    "        print(\"this self play has {} steps, time elapsed {}\".format(steps, time.time()-start))\n",
    "        print(\"winner is\", np.sign(self._root._q * self._turn))\n",
    "        \n",
    "        return train_data\n",
    "            \n",
    "    def reinforcement_learning(self, episode=1000, rollout_times=100, life_span=25, t_lim=np.nan, left_space_max=None, self_play_verbose=False):        \n",
    "        train_relay = Relay(life_span)\n",
    "        for epi in range(episode):\n",
    "            print(\"episode {} now start\".format(epi))\n",
    "            self.reset_root()\n",
    "            # randomly skip a few steps if left space not specified\n",
    "            if not left_space_max is None:\n",
    "                left_space = left_space_max * np.random.normal(loc=1, scale=0.2)\n",
    "            else:\n",
    "                left_space = 45\n",
    "            self.reset(left_space=left_space)\n",
    "            print(\"left space is {}\".format(left_space))\n",
    "            # start self_play and get train_data\n",
    "            if np.random.random() < 0.05:\n",
    "                train_data = self.self_play(rollout_times=rollout_times, t_lim=t_lim, verbose=True)\n",
    "            else:\n",
    "                train_data = self.self_play(rollout_times=rollout_times, t_lim=t_lim, verbose=self_play_verbose)\n",
    "            # store it in relay\n",
    "            train_relay.append(train_data)\n",
    "            # do training every 5 epi and update target model and reset tree\n",
    "            if epi >= life_span and epi%int(life_span/5) == 0:\n",
    "                train_data = train_relay.get(life_span)\n",
    "                print(\"start training, training data no. {}\".format(train_data[0].shape[0]))\n",
    "                # do training\n",
    "                es = EarlyStopping(monitor='val_loss', min_delta=0.0005, patience=20, verbose=1, mode='auto')\n",
    "                self._network._model.fit(x=[train_data[0], train_data[1]], y=[train_data[2], train_data[3]], verbose=1, \\\n",
    "                                            batch_size=400, epochs=64, shuffle=True, validation_split=0.15, callbacks=[es])#, callbacks=[es])\n",
    "                self._network.update_target_model()\n",
    "                print(\"saving files\")\n",
    "                self._network.save()\n",
    "            if epi % (2*life_span) == (2*life_span)-1:\n",
    "                print(\"\\n\\nstart testing against greedy\")\n",
    "                self.tester()\n",
    "                self._lr = self._lr / 1.1\n",
    "                self._network.update_learning_rate(self._lr)\n",
    "            print(\"episode {} finished\".format(epi))"
   ]
  },
  {
   "cell_type": "code",
   "execution_count": 19,
   "metadata": {},
   "outputs": [
    {
     "name": "stdout",
     "output_type": "stream",
     "text": [
      "successfully loaded two models\n",
      "compile new learning rate 5e-05\n"
     ]
    }
   ],
   "source": [
    "player = MCTS(is_cpu=False, lr=5e-5, c=5, is_load_model=True, dep_lim=3)"
   ]
  },
  {
   "cell_type": "code",
   "execution_count": 20,
   "metadata": {
    "scrolled": true
   },
   "outputs": [
    {
     "name": "stdout",
     "output_type": "stream",
     "text": [
      "episode 0 now start\n",
      "left space is 45\n",
      "start new self play\n",
      "-1 's turn\n",
      "\n",
      "\n",
      "This is a random move\n",
      "\n",
      "\n",
      "one move takes time(s):  0.934628963470459\n"
     ]
    },
    {
     "ename": "NameError",
     "evalue": "name 'visit_least' is not defined",
     "output_type": "error",
     "traceback": [
      "\u001b[0;31m---------------------------------------------------------------------------\u001b[0m",
      "\u001b[0;31mNameError\u001b[0m                                 Traceback (most recent call last)",
      "\u001b[0;32m<ipython-input-20-854520b19180>\u001b[0m in \u001b[0;36m<module>\u001b[0;34m()\u001b[0m\n\u001b[0;32m----> 1\u001b[0;31m \u001b[0mplayer\u001b[0m\u001b[0;34m.\u001b[0m\u001b[0mreinforcement_learning\u001b[0m\u001b[0;34m(\u001b[0m\u001b[0mepisode\u001b[0m\u001b[0;34m=\u001b[0m\u001b[0;36m300\u001b[0m\u001b[0;34m,\u001b[0m \u001b[0mleft_space_max\u001b[0m\u001b[0;34m=\u001b[0m\u001b[0;32mNone\u001b[0m\u001b[0;34m,\u001b[0m \u001b[0mrollout_times\u001b[0m\u001b[0;34m=\u001b[0m\u001b[0;36m1000\u001b[0m\u001b[0;34m,\u001b[0m \u001b[0mlife_span\u001b[0m\u001b[0;34m=\u001b[0m\u001b[0;36m25\u001b[0m\u001b[0;34m,\u001b[0m \u001b[0mt_lim\u001b[0m\u001b[0;34m=\u001b[0m\u001b[0;36m10\u001b[0m\u001b[0;34m,\u001b[0m \u001b[0mself_play_verbose\u001b[0m\u001b[0;34m=\u001b[0m\u001b[0;32mFalse\u001b[0m\u001b[0;34m)\u001b[0m\u001b[0;34m\u001b[0m\u001b[0m\n\u001b[0m",
      "\u001b[0;32m<ipython-input-17-6af29ee849e7>\u001b[0m in \u001b[0;36mreinforcement_learning\u001b[0;34m(self, episode, rollout_times, life_span, t_lim, left_space_max, self_play_verbose)\u001b[0m\n\u001b[1;32m    359\u001b[0m                 \u001b[0mtrain_data\u001b[0m \u001b[0;34m=\u001b[0m \u001b[0mself\u001b[0m\u001b[0;34m.\u001b[0m\u001b[0mself_play\u001b[0m\u001b[0;34m(\u001b[0m\u001b[0mrollout_times\u001b[0m\u001b[0;34m=\u001b[0m\u001b[0mrollout_times\u001b[0m\u001b[0;34m,\u001b[0m \u001b[0mt_lim\u001b[0m\u001b[0;34m=\u001b[0m\u001b[0mt_lim\u001b[0m\u001b[0;34m,\u001b[0m \u001b[0mverbose\u001b[0m\u001b[0;34m=\u001b[0m\u001b[0;32mTrue\u001b[0m\u001b[0;34m)\u001b[0m\u001b[0;34m\u001b[0m\u001b[0m\n\u001b[1;32m    360\u001b[0m             \u001b[0;32melse\u001b[0m\u001b[0;34m:\u001b[0m\u001b[0;34m\u001b[0m\u001b[0m\n\u001b[0;32m--> 361\u001b[0;31m                 \u001b[0mtrain_data\u001b[0m \u001b[0;34m=\u001b[0m \u001b[0mself\u001b[0m\u001b[0;34m.\u001b[0m\u001b[0mself_play\u001b[0m\u001b[0;34m(\u001b[0m\u001b[0mrollout_times\u001b[0m\u001b[0;34m=\u001b[0m\u001b[0mrollout_times\u001b[0m\u001b[0;34m,\u001b[0m \u001b[0mt_lim\u001b[0m\u001b[0;34m=\u001b[0m\u001b[0mt_lim\u001b[0m\u001b[0;34m,\u001b[0m \u001b[0mverbose\u001b[0m\u001b[0;34m=\u001b[0m\u001b[0mself_play_verbose\u001b[0m\u001b[0;34m)\u001b[0m\u001b[0;34m\u001b[0m\u001b[0m\n\u001b[0m\u001b[1;32m    362\u001b[0m             \u001b[0;31m# store it in relay\u001b[0m\u001b[0;34m\u001b[0m\u001b[0;34m\u001b[0m\u001b[0m\n\u001b[1;32m    363\u001b[0m             \u001b[0mtrain_relay\u001b[0m\u001b[0;34m.\u001b[0m\u001b[0mappend\u001b[0m\u001b[0;34m(\u001b[0m\u001b[0mtrain_data\u001b[0m\u001b[0;34m)\u001b[0m\u001b[0;34m\u001b[0m\u001b[0m\n",
      "\u001b[0;32m<ipython-input-17-6af29ee849e7>\u001b[0m in \u001b[0;36mself_play\u001b[0;34m(self, rollout_times, t_lim, verbose, is_best)\u001b[0m\n\u001b[1;32m    330\u001b[0m             \u001b[0;31m# record π data\u001b[0m\u001b[0;34m\u001b[0m\u001b[0;34m\u001b[0m\u001b[0m\n\u001b[1;32m    331\u001b[0m             \u001b[0mvisit_least\u001b[0m \u001b[0;34m=\u001b[0m \u001b[0mrollout_times\u001b[0m\u001b[0;34m\u001b[0m\u001b[0m\n\u001b[0;32m--> 332\u001b[0;31m             \u001b[0mtrain_data\u001b[0m\u001b[0;34m.\u001b[0m\u001b[0mextend\u001b[0m\u001b[0;34m(\u001b[0m\u001b[0mself\u001b[0m\u001b[0;34m.\u001b[0m\u001b[0mdata_collector\u001b[0m\u001b[0;34m(\u001b[0m\u001b[0mself\u001b[0m\u001b[0;34m.\u001b[0m\u001b[0m_root\u001b[0m\u001b[0;34m,\u001b[0m \u001b[0mvisit_least\u001b[0m\u001b[0;34m)\u001b[0m\u001b[0;34m)\u001b[0m\u001b[0;34m\u001b[0m\u001b[0m\n\u001b[0m\u001b[1;32m    333\u001b[0m             \u001b[0;31m# plot the game board if verbose\u001b[0m\u001b[0;34m\u001b[0m\u001b[0;34m\u001b[0m\u001b[0m\n\u001b[1;32m    334\u001b[0m             \u001b[0;32mif\u001b[0m \u001b[0mverbose\u001b[0m\u001b[0;34m:\u001b[0m\u001b[0;34m\u001b[0m\u001b[0m\n",
      "\u001b[0;32m<ipython-input-17-6af29ee849e7>\u001b[0m in \u001b[0;36mdata_collector\u001b[0;34m(self, node, visit_min)\u001b[0m\n\u001b[1;32m    303\u001b[0m     \u001b[0;32mdef\u001b[0m \u001b[0mdata_collector\u001b[0m\u001b[0;34m(\u001b[0m\u001b[0mself\u001b[0m\u001b[0;34m,\u001b[0m \u001b[0mnode\u001b[0m\u001b[0;34m,\u001b[0m \u001b[0mvisit_min\u001b[0m\u001b[0;34m)\u001b[0m\u001b[0;34m:\u001b[0m\u001b[0;34m\u001b[0m\u001b[0m\n\u001b[1;32m    304\u001b[0m         \u001b[0mout\u001b[0m \u001b[0;34m=\u001b[0m \u001b[0;34m[\u001b[0m\u001b[0;34m]\u001b[0m\u001b[0;34m\u001b[0m\u001b[0m\n\u001b[0;32m--> 305\u001b[0;31m         \u001b[0;32mif\u001b[0m \u001b[0mnode\u001b[0m\u001b[0;34m.\u001b[0m\u001b[0m_n_visit\u001b[0m \u001b[0;34m>=\u001b[0m \u001b[0mvisit_least\u001b[0m\u001b[0;34m:\u001b[0m\u001b[0;34m\u001b[0m\u001b[0m\n\u001b[0m\u001b[1;32m    306\u001b[0m             \u001b[0mtmp_data\u001b[0m \u001b[0;34m=\u001b[0m \u001b[0;34m[\u001b[0m\u001b[0mnode\u001b[0m\u001b[0;34m.\u001b[0m\u001b[0m_feature_map\u001b[0m\u001b[0;34m,\u001b[0m                         \u001b[0mnode\u001b[0m\u001b[0;34m.\u001b[0m\u001b[0m_action_mask\u001b[0m\u001b[0;34m,\u001b[0m                         \u001b[0mnode\u001b[0m\u001b[0;34m.\u001b[0m\u001b[0mget_action_frequency_map\u001b[0m\u001b[0;34m(\u001b[0m\u001b[0;34m)\u001b[0m\u001b[0;34m,\u001b[0m                        \u001b[0mnode\u001b[0m\u001b[0;34m.\u001b[0m\u001b[0m_q\u001b[0m \u001b[0;34m/\u001b[0m \u001b[0;34m(\u001b[0m\u001b[0mnode\u001b[0m\u001b[0;34m.\u001b[0m\u001b[0m_n_visit\u001b[0m \u001b[0;34m+\u001b[0m \u001b[0;36m1\u001b[0m\u001b[0;34m)\u001b[0m\u001b[0;34m]\u001b[0m\u001b[0;34m\u001b[0m\u001b[0m\n\u001b[1;32m    307\u001b[0m             \u001b[0mtmp_data\u001b[0m \u001b[0;34m=\u001b[0m \u001b[0maugment_data\u001b[0m\u001b[0;34m(\u001b[0m\u001b[0mtmp_data\u001b[0m\u001b[0;34m)\u001b[0m\u001b[0;34m\u001b[0m\u001b[0m\n",
      "\u001b[0;31mNameError\u001b[0m: name 'visit_least' is not defined"
     ]
    }
   ],
   "source": [
    "player.reinforcement_learning(episode=300, left_space_max=None, rollout_times=1000, life_span=25, t_lim=10, self_play_verbose=False)"
   ]
  },
  {
   "cell_type": "code",
   "execution_count": 192,
   "metadata": {
    "scrolled": true
   },
   "outputs": [
    {
     "name": "stdout",
     "output_type": "stream",
     "text": [
      "reset successful\n"
     ]
    },
    {
     "data": {
      "image/png": "[encoded data removed]",
      "text/plain": [
       "<matplotlib.figure.Figure at 0x7f1e5c5a3940>"
      ]
     },
     "metadata": {},
     "output_type": "display_data"
    },
    {
     "name": "stdout",
     "output_type": "stream",
     "text": [
      "-1\n",
      "due to rollout lim, final rollout times:  1601 time elapsed:  3.9874846935272217\n",
      "((4, 1), (4, 0)): n_v:  1052 q_all:+0.013513 q:+0.049070 q_m:-0.200000 p:0.002485\n",
      "((4, 2), (2, 4)): n_v:   239 q_all:+0.011836 q:+0.073340 q_m:-0.140000 p:0.002548\n",
      "((6, 0), (4, 0)): n_v:   233 q_all:+0.011676 q:+0.026379 q_m:-0.228000 p:0.002703\n",
      "((4, 3), (2, 4)): n_v:    13 q_all:-0.022183 q:+0.059676 q_m:-0.140000 p:0.002351\n",
      "((4, 2), (2, 0)): n_v:    11 q_all:-0.027423 q:+0.021419 q_m:-0.180000 p:0.002421\n",
      "((0, 0), (1, 2)): n_v:    11 q_all:-0.027220 q:+0.035929 q_m:-0.180000 p:0.002356\n",
      "((4, 3), (6, 5)): n_v:     9 q_all:-0.037983 q:+0.083477 q_m:-0.228000 p:0.002581\n",
      "((4, 1), (2, 0)): n_v:     8 q_all:-0.044054 q:+0.053543 q_m:-0.180000 p:0.002409\n",
      "((0, 0), (2, 0)): n_v:     8 q_all:-0.041931 q:+0.020312 q_m:-0.180000 p:0.002386\n",
      "((0, 0), (1, 0)): n_v:     6 q_all:-0.064221 q:+0.041322 q_m:-0.256000 p:0.002550\n",
      "((4, 2), (4, 0)): n_v:     4 q_all:-0.087413 q:+0.021795 q_m:-0.228000 p:0.002377\n",
      "((0, 0), (0, 1)): n_v:     4 q_all:-0.099626 q:+0.030006 q_m:-0.312000 p:0.002531\n",
      "((0, 0), (0, 2)): n_v:     4 q_all:-0.085551 q:+0.029099 q_m:-0.340000 p:0.002424\n"
     ]
    }
   ],
   "source": [
    "#player = MCTS(is_cpu=True, c=4, is_load_model=False, dep_lim=5)\n",
    "player._dep_lim = 3\n",
    "player._c = 5\n",
    "player.reset(20)\n",
    "player._game.plot()\n",
    "print(player._turn)\n",
    "%lprun -f player.expand player.rollout(1600, np.nan)\n",
    "#%time player.rollout(1000, np.nan)\n",
    "player.plot_move_visit_freq()"
   ]
  },
  {
   "cell_type": "code",
   "execution_count": 19,
   "metadata": {
    "scrolled": true
   },
   "outputs": [
    {
     "name": "stdout",
     "output_type": "stream",
     "text": [
      "in 0\n",
      "out 0\n"
     ]
    },
    {
     "data": {
      "image/png": "[encoded data removed]",
      "text/plain": [
       "<matplotlib.figure.Figure at 0x7f1c89d73cc0>"
      ]
     },
     "metadata": {},
     "output_type": "display_data"
    },
    {
     "name": "stdout",
     "output_type": "stream",
     "text": [
      "out 1\n"
     ]
    },
    {
     "data": {
      "image/png": "[encoded data removed]",
      "text/plain": [
       "<matplotlib.figure.Figure at 0x7f1c9b9a7da0>"
      ]
     },
     "metadata": {},
     "output_type": "display_data"
    },
    {
     "name": "stdout",
     "output_type": "stream",
     "text": [
      "out 2\n"
     ]
    },
    {
     "data": {
      "image/png": "[encoded data removed]",
      "text/plain": [
       "<matplotlib.figure.Figure at 0x7f1c9baac470>"
      ]
     },
     "metadata": {},
     "output_type": "display_data"
    },
    {
     "name": "stdout",
     "output_type": "stream",
     "text": [
      "out 3\n"
     ]
    },
    {
     "data": {
      "image/png": "[encoded data removed]",
      "text/plain": [
       "<matplotlib.figure.Figure at 0x7f1c9be22828>"
      ]
     },
     "metadata": {},
     "output_type": "display_data"
    },
    {
     "name": "stdout",
     "output_type": "stream",
     "text": [
      "out 4\n"
     ]
    },
    {
     "data": {
      "image/png": "[encoded data removed]",
      "text/plain": [
       "<matplotlib.figure.Figure at 0x7f1c9c0159e8>"
      ]
     },
     "metadata": {},
     "output_type": "display_data"
    },
    {
     "name": "stdout",
     "output_type": "stream",
     "text": [
      "out 5\n"
     ]
    },
    {
     "data": {
      "image/png": "[encoded data removed]",
      "text/plain": [
       "<matplotlib.figure.Figure at 0x7f1c9bf322e8>"
      ]
     },
     "metadata": {},
     "output_type": "display_data"
    },
    {
     "name": "stdout",
     "output_type": "stream",
     "text": [
      "out 6\n"
     ]
    },
    {
     "data": {
      "image/png": "[encoded data removed]",
      "text/plain": [
       "<matplotlib.figure.Figure at 0x7f1c9c171a20>"
      ]
     },
     "metadata": {},
     "output_type": "display_data"
    },
    {
     "name": "stdout",
     "output_type": "stream",
     "text": [
      "out 7\n"
     ]
    },
    {
     "data": {
      "image/png": "[encoded data removed]",
      "text/plain": [
       "<matplotlib.figure.Figure at 0x7f1cb97dccc0>"
      ]
     },
     "metadata": {},
     "output_type": "display_data"
    },
    {
     "name": "stdout",
     "output_type": "stream",
     "text": [
      "out 8\n"
     ]
    },
    {
     "data": {
      "image/png": "[encoded data removed]",
      "text/plain": [
       "<matplotlib.figure.Figure at 0x7f1c9c0240b8>"
      ]
     },
     "metadata": {},
     "output_type": "display_data"
    },
    {
     "name": "stdout",
     "output_type": "stream",
     "text": [
      "out 9\n"
     ]
    },
    {
     "data": {
      "image/png": "[encoded data removed]",
      "text/plain": [
       "<matplotlib.figure.Figure at 0x7f1c9c5dc8d0>"
      ]
     },
     "metadata": {},
     "output_type": "display_data"
    },
    {
     "name": "stdout",
     "output_type": "stream",
     "text": [
      "out 10\n"
     ]
    },
    {
     "data": {
      "image/png": "[encoded data removed]",
      "text/plain": [
       "<matplotlib.figure.Figure at 0x7f1c9c155710>"
      ]
     },
     "metadata": {},
     "output_type": "display_data"
    },
    {
     "name": "stdout",
     "output_type": "stream",
     "text": [
      "out 11\n"
     ]
    },
    {
     "data": {
      "image/png": "[encoded data removed]",
      "text/plain": [
       "<matplotlib.figure.Figure at 0x7f1c9cc27fd0>"
      ]
     },
     "metadata": {},
     "output_type": "display_data"
    },
    {
     "name": "stdout",
     "output_type": "stream",
     "text": [
      "out 12\n"
     ]
    },
    {
     "data": {
      "image/png": "[encoded data removed]",
      "text/plain": [
       "<matplotlib.figure.Figure at 0x7f1c9d32c6d8>"
      ]
     },
     "metadata": {},
     "output_type": "display_data"
    },
    {
     "name": "stdout",
     "output_type": "stream",
     "text": [
      "out 13\n"
     ]
    },
    {
     "data": {
      "image/png": "[encoded data removed]",
      "text/plain": [
       "<matplotlib.figure.Figure at 0x7f1c9d308a20>"
      ]
     },
     "metadata": {},
     "output_type": "display_data"
    },
    {
     "name": "stdout",
     "output_type": "stream",
     "text": [
      "out 14\n"
     ]
    },
    {
     "data": {
      "image/png": "[encoded data removed]",
      "text/plain": [
       "<matplotlib.figure.Figure at 0x7f1c9d32a6d8>"
      ]
     },
     "metadata": {},
     "output_type": "display_data"
    },
    {
     "name": "stdout",
     "output_type": "stream",
     "text": [
      "out 15\n"
     ]
    },
    {
     "data": {
      "image/png": "[encoded data removed]",
      "text/plain": [
       "<matplotlib.figure.Figure at 0x7f1c9d307438>"
      ]
     },
     "metadata": {},
     "output_type": "display_data"
    },
    {
     "name": "stdout",
     "output_type": "stream",
     "text": [
      "out 16\n"
     ]
    },
    {
     "data": {
      "image/png": "[encoded data removed]",
      "text/plain": [
       "<matplotlib.figure.Figure at 0x7f1c9eed2358>"
      ]
     },
     "metadata": {},
     "output_type": "display_data"
    },
    {
     "name": "stdout",
     "output_type": "stream",
     "text": [
      "out 17\n"
     ]
    },
    {
     "data": {
      "image/png": "[encoded data removed]",
      "text/plain": [
       "<matplotlib.figure.Figure at 0x7f1c9fcfdd30>"
      ]
     },
     "metadata": {},
     "output_type": "display_data"
    },
    {
     "name": "stdout",
     "output_type": "stream",
     "text": [
      "out 18\n"
     ]
    },
    {
     "data": {
      "image/png": "[encoded data removed]",
      "text/plain": [
       "<matplotlib.figure.Figure at 0x7f1ca4058ef0>"
      ]
     },
     "metadata": {},
     "output_type": "display_data"
    },
    {
     "name": "stdout",
     "output_type": "stream",
     "text": [
      "out 19\n"
     ]
    },
    {
     "data": {
      "image/png": "[encoded data removed]",
      "text/plain": [
       "<matplotlib.figure.Figure at 0x7f1ca40622e8>"
      ]
     },
     "metadata": {},
     "output_type": "display_data"
    },
    {
     "name": "stdout",
     "output_type": "stream",
     "text": [
      "out 20\n"
     ]
    },
    {
     "data": {
      "image/png": "[encoded data removed]",
      "text/plain": [
       "<matplotlib.figure.Figure at 0x7f1d702e81d0>"
      ]
     },
     "metadata": {},
     "output_type": "display_data"
    },
    {
     "name": "stdout",
     "output_type": "stream",
     "text": [
      "out 21\n"
     ]
    },
    {
     "data": {
      "image/png": "[encoded data removed]",
      "text/plain": [
       "<matplotlib.figure.Figure at 0x7f1d702d97f0>"
      ]
     },
     "metadata": {},
     "output_type": "display_data"
    },
    {
     "name": "stdout",
     "output_type": "stream",
     "text": [
      "out 22\n"
     ]
    },
    {
     "data": {
      "image/png": "[encoded data removed]",
      "text/plain": [
       "<matplotlib.figure.Figure at 0x7f1cfe07d278>"
      ]
     },
     "metadata": {},
     "output_type": "display_data"
    },
    {
     "name": "stdout",
     "output_type": "stream",
     "text": [
      "out 23\n"
     ]
    },
    {
     "data": {
      "image/png": "[encoded data removed]",
      "text/plain": [
       "<matplotlib.figure.Figure at 0x7f1d702d5f60>"
      ]
     },
     "metadata": {},
     "output_type": "display_data"
    },
    {
     "name": "stdout",
     "output_type": "stream",
     "text": [
      "out 24\n"
     ]
    },
    {
     "data": {
      "image/png": "[encoded data removed]",
      "text/plain": [
       "<matplotlib.figure.Figure at 0x7f1cfe0416d8>"
      ]
     },
     "metadata": {},
     "output_type": "display_data"
    },
    {
     "name": "stdout",
     "output_type": "stream",
     "text": [
      "out 25\n"
     ]
    },
    {
     "data": {
      "image/png": "[encoded data removed]",
      "text/plain": [
       "<matplotlib.figure.Figure at 0x7f1ca0df90f0>"
      ]
     },
     "metadata": {},
     "output_type": "display_data"
    },
    {
     "name": "stdout",
     "output_type": "stream",
     "text": [
      "out 26\n"
     ]
    },
    {
     "data": {
      "image/png": "[encoded data removed]",
      "text/plain": [
       "<matplotlib.figure.Figure at 0x7f1cfe05d208>"
      ]
     },
     "metadata": {},
     "output_type": "display_data"
    },
    {
     "name": "stdout",
     "output_type": "stream",
     "text": [
      "out 27\n"
     ]
    },
    {
     "data": {
      "image/png": "[encoded data removed]",
      "text/plain": [
       "<matplotlib.figure.Figure at 0x7f1ca13da0b8>"
      ]
     },
     "metadata": {},
     "output_type": "display_data"
    },
    {
     "name": "stdout",
     "output_type": "stream",
     "text": [
      "out 28\n"
     ]
    },
    {
     "data": {
      "image/png": "[encoded data removed]",
      "text/plain": [
       "<matplotlib.figure.Figure at 0x7f1ca15249b0>"
      ]
     },
     "metadata": {},
     "output_type": "display_data"
    },
    {
     "name": "stdout",
     "output_type": "stream",
     "text": [
      "out 29\n"
     ]
    },
    {
     "data": {
      "image/png": "[encoded data removed]",
      "text/plain": [
       "<matplotlib.figure.Figure at 0x7f1cda848198>"
      ]
     },
     "metadata": {},
     "output_type": "display_data"
    },
    {
     "name": "stdout",
     "output_type": "stream",
     "text": [
      "out 30\n"
     ]
    },
    {
     "data": {
      "image/png": "[encoded data removed]",
      "text/plain": [
       "<matplotlib.figure.Figure at 0x7f1ca1053438>"
      ]
     },
     "metadata": {},
     "output_type": "display_data"
    },
    {
     "name": "stdout",
     "output_type": "stream",
     "text": [
      "out 31\n"
     ]
    },
    {
     "data": {
      "image/png": "[encoded data removed]",
      "text/plain": [
       "<matplotlib.figure.Figure at 0x7f1cfe8f2e80>"
      ]
     },
     "metadata": {},
     "output_type": "display_data"
    },
    {
     "name": "stdout",
     "output_type": "stream",
     "text": [
      "in 1\n",
      "out 0\n"
     ]
    },
    {
     "data": {
      "image/png": "[encoded data removed]",
      "text/plain": [
       "<matplotlib.figure.Figure at 0x7f1cfe8df828>"
      ]
     },
     "metadata": {},
     "output_type": "display_data"
    },
    {
     "name": "stdout",
     "output_type": "stream",
     "text": [
      "out 1\n"
     ]
    },
    {
     "data": {
      "image/png": "[encoded data removed]",
      "text/plain": [
       "<matplotlib.figure.Figure at 0x7f1ca2578fd0>"
      ]
     },
     "metadata": {},
     "output_type": "display_data"
    },
    {
     "name": "stdout",
     "output_type": "stream",
     "text": [
      "out 2\n"
     ]
    },
    {
     "data": {
      "image/png": "[encoded data removed]",
      "text/plain": [
       "<matplotlib.figure.Figure at 0x7f1ca1b29710>"
      ]
     },
     "metadata": {},
     "output_type": "display_data"
    },
    {
     "name": "stdout",
     "output_type": "stream",
     "text": [
      "out 3\n"
     ]
    },
    {
     "data": {
      "image/png": "[encoded data removed]",
      "text/plain": [
       "<matplotlib.figure.Figure at 0x7f1ca23d1d68>"
      ]
     },
     "metadata": {},
     "output_type": "display_data"
    },
    {
     "name": "stdout",
     "output_type": "stream",
     "text": [
      "out 4\n"
     ]
    },
    {
     "data": {
      "image/png": "[encoded data removed]",
      "text/plain": [
       "<matplotlib.figure.Figure at 0x7f1d0140d6d8>"
      ]
     },
     "metadata": {},
     "output_type": "display_data"
    },
    {
     "name": "stdout",
     "output_type": "stream",
     "text": [
      "out 5\n"
     ]
    },
    {
     "data": {
      "image/png": "[encoded data removed]",
      "text/plain": [
       "<matplotlib.figure.Figure at 0x7f1ca28fde10>"
      ]
     },
     "metadata": {},
     "output_type": "display_data"
    },
    {
     "name": "stdout",
     "output_type": "stream",
     "text": [
      "out 6\n"
     ]
    },
    {
     "data": {
      "image/png": "[encoded data removed]",
      "text/plain": [
       "<matplotlib.figure.Figure at 0x7f1cda8618d0>"
      ]
     },
     "metadata": {},
     "output_type": "display_data"
    },
    {
     "name": "stdout",
     "output_type": "stream",
     "text": [
      "out 7\n"
     ]
    },
    {
     "data": {
      "image/png": "[encoded data removed]",
      "text/plain": [
       "<matplotlib.figure.Figure at 0x7f1ced318898>"
      ]
     },
     "metadata": {},
     "output_type": "display_data"
    },
    {
     "name": "stdout",
     "output_type": "stream",
     "text": [
      "out 8\n"
     ]
    },
    {
     "data": {
      "image/png": "[encoded data removed]",
      "text/plain": [
       "<matplotlib.figure.Figure at 0x7f1cd3cec828>"
      ]
     },
     "metadata": {},
     "output_type": "display_data"
    },
    {
     "name": "stdout",
     "output_type": "stream",
     "text": [
      "out 9\n"
     ]
    },
    {
     "data": {
      "image/png": "[encoded data removed]",
      "text/plain": [
       "<matplotlib.figure.Figure at 0x7f1ddc6fd4e0>"
      ]
     },
     "metadata": {},
     "output_type": "display_data"
    },
    {
     "name": "stdout",
     "output_type": "stream",
     "text": [
      "out 10\n"
     ]
    },
    {
     "data": {
      "image/png": "[encoded data removed]",
      "text/plain": [
       "<matplotlib.figure.Figure at 0x7f1ca28c1128>"
      ]
     },
     "metadata": {},
     "output_type": "display_data"
    },
    {
     "name": "stdout",
     "output_type": "stream",
     "text": [
      "out 11\n"
     ]
    },
    {
     "data": {
      "image/png": "[encoded data removed]",
      "text/plain": [
       "<matplotlib.figure.Figure at 0x7f1ced31f390>"
      ]
     },
     "metadata": {},
     "output_type": "display_data"
    },
    {
     "name": "stdout",
     "output_type": "stream",
     "text": [
      "out 12\n"
     ]
    },
    {
     "data": {
      "image/png": "[encoded data removed]",
      "text/plain": [
       "<matplotlib.figure.Figure at 0x7f1c9baa4d68>"
      ]
     },
     "metadata": {},
     "output_type": "display_data"
    },
    {
     "name": "stdout",
     "output_type": "stream",
     "text": [
      "out 13\n"
     ]
    },
    {
     "data": {
      "image/png": "[encoded data removed]",
      "text/plain": [
       "<matplotlib.figure.Figure at 0x7f1ca25471d0>"
      ]
     },
     "metadata": {},
     "output_type": "display_data"
    },
    {
     "name": "stdout",
     "output_type": "stream",
     "text": [
      "out 14\n"
     ]
    },
    {
     "data": {
      "image/png": "[encoded data removed]",
      "text/plain": [
       "<matplotlib.figure.Figure at 0x7f1c89ca47b8>"
      ]
     },
     "metadata": {},
     "output_type": "display_data"
    },
    {
     "name": "stdout",
     "output_type": "stream",
     "text": [
      "out 15\n"
     ]
    },
    {
     "data": {
      "image/png": "[encoded data removed]",
      "text/plain": [
       "<matplotlib.figure.Figure at 0x7f1c97080048>"
      ]
     },
     "metadata": {},
     "output_type": "display_data"
    },
    {
     "name": "stdout",
     "output_type": "stream",
     "text": [
      "out 16\n"
     ]
    },
    {
     "data": {
      "image/png": "[encoded data removed]",
      "text/plain": [
       "<matplotlib.figure.Figure at 0x7f1ca23e4cc0>"
      ]
     },
     "metadata": {},
     "output_type": "display_data"
    },
    {
     "name": "stdout",
     "output_type": "stream",
     "text": [
      "out 17\n"
     ]
    },
    {
     "data": {
      "image/png": "[encoded data removed]",
      "text/plain": [
       "<matplotlib.figure.Figure at 0x7f1cfe8f72b0>"
      ]
     },
     "metadata": {},
     "output_type": "display_data"
    },
    {
     "name": "stdout",
     "output_type": "stream",
     "text": [
      "out 18\n"
     ]
    },
    {
     "data": {
      "image/png": "[encoded data removed]",
      "text/plain": [
       "<matplotlib.figure.Figure at 0x7f1cfe8fa160>"
      ]
     },
     "metadata": {},
     "output_type": "display_data"
    },
    {
     "name": "stdout",
     "output_type": "stream",
     "text": [
      "out 19\n"
     ]
    },
    {
     "data": {
      "image/png": "[encoded data removed]",
      "text/plain": [
       "<matplotlib.figure.Figure at 0x7f1c975be2e8>"
      ]
     },
     "metadata": {},
     "output_type": "display_data"
    },
    {
     "name": "stdout",
     "output_type": "stream",
     "text": [
      "out 20\n"
     ]
    },
    {
     "data": {
      "image/png": "[encoded data removed]",
      "text/plain": [
       "<matplotlib.figure.Figure at 0x7f1ca23e3828>"
      ]
     },
     "metadata": {},
     "output_type": "display_data"
    },
    {
     "name": "stdout",
     "output_type": "stream",
     "text": [
      "out 21\n"
     ]
    },
    {
     "data": {
      "image/png": "[encoded data removed]",
      "text/plain": [
       "<matplotlib.figure.Figure at 0x7f1cd2f92668>"
      ]
     },
     "metadata": {},
     "output_type": "display_data"
    },
    {
     "name": "stdout",
     "output_type": "stream",
     "text": [
      "out 22\n"
     ]
    },
    {
     "data": {
      "image/png": "[encoded data removed]",
      "text/plain": [
       "<matplotlib.figure.Figure at 0x7f1cc46ee320>"
      ]
     },
     "metadata": {},
     "output_type": "display_data"
    },
    {
     "name": "stdout",
     "output_type": "stream",
     "text": [
      "out 23\n"
     ]
    },
    {
     "data": {
      "image/png": "[encoded data removed]",
      "text/plain": [
       "<matplotlib.figure.Figure at 0x7f1cd2fb61d0>"
      ]
     },
     "metadata": {},
     "output_type": "display_data"
    },
    {
     "name": "stdout",
     "output_type": "stream",
     "text": [
      "out 24\n"
     ]
    },
    {
     "data": {
      "image/png": "[encoded data removed]",
      "text/plain": [
       "<matplotlib.figure.Figure at 0x7f1c8f950320>"
      ]
     },
     "metadata": {},
     "output_type": "display_data"
    },
    {
     "name": "stdout",
     "output_type": "stream",
     "text": [
      "out 25\n"
     ]
    },
    {
     "data": {
      "image/png": "[encoded data removed]",
      "text/plain": [
       "<matplotlib.figure.Figure at 0x7f1cff3e2c50>"
      ]
     },
     "metadata": {},
     "output_type": "display_data"
    },
    {
     "name": "stdout",
     "output_type": "stream",
     "text": [
      "out 26\n"
     ]
    },
    {
     "data": {
      "image/png": "[encoded data removed]",
      "text/plain": [
       "<matplotlib.figure.Figure at 0x7f1c9cc91518>"
      ]
     },
     "metadata": {},
     "output_type": "display_data"
    },
    {
     "name": "stdout",
     "output_type": "stream",
     "text": [
      "out 27\n"
     ]
    },
    {
     "data": {
      "image/png": "[encoded data removed]",
      "text/plain": [
       "<matplotlib.figure.Figure at 0x7f1cff3c86a0>"
      ]
     },
     "metadata": {},
     "output_type": "display_data"
    },
    {
     "name": "stdout",
     "output_type": "stream",
     "text": [
      "out 28\n"
     ]
    },
    {
     "data": {
      "image/png": "[encoded data removed]",
      "text/plain": [
       "<matplotlib.figure.Figure at 0x7f1cd18b1908>"
      ]
     },
     "metadata": {},
     "output_type": "display_data"
    },
    {
     "name": "stdout",
     "output_type": "stream",
     "text": [
      "out 29\n"
     ]
    },
    {
     "data": {
      "image/png": "[encoded data removed]",
      "text/plain": [
       "<matplotlib.figure.Figure at 0x7f1c97979c88>"
      ]
     },
     "metadata": {},
     "output_type": "display_data"
    },
    {
     "name": "stdout",
     "output_type": "stream",
     "text": [
      "out 30\n"
     ]
    },
    {
     "data": {
      "image/png": "[encoded data removed]",
      "text/plain": [
       "<matplotlib.figure.Figure at 0x7f1cfe91c278>"
      ]
     },
     "metadata": {},
     "output_type": "display_data"
    },
    {
     "name": "stdout",
     "output_type": "stream",
     "text": [
      "out 31\n"
     ]
    },
    {
     "data": {
      "image/png": "[encoded data removed]",
      "text/plain": [
       "<matplotlib.figure.Figure at 0x7f1cd702a710>"
      ]
     },
     "metadata": {},
     "output_type": "display_data"
    },
    {
     "name": "stdout",
     "output_type": "stream",
     "text": [
      "in 2\n",
      "out 0\n"
     ]
    },
    {
     "data": {
      "image/png": "[encoded data removed]",
      "text/plain": [
       "<matplotlib.figure.Figure at 0x7f1cd18b1f98>"
      ]
     },
     "metadata": {},
     "output_type": "display_data"
    },
    {
     "name": "stdout",
     "output_type": "stream",
     "text": [
      "out 1\n"
     ]
    },
    {
     "data": {
      "image/png": "[encoded data removed]",
      "text/plain": [
       "<matplotlib.figure.Figure at 0x7f1cd701b780>"
      ]
     },
     "metadata": {},
     "output_type": "display_data"
    },
    {
     "name": "stdout",
     "output_type": "stream",
     "text": [
      "out 2\n"
     ]
    },
    {
     "data": {
      "image/png": "[encoded data removed]",
      "text/plain": [
       "<matplotlib.figure.Figure at 0x7f1c9c238128>"
      ]
     },
     "metadata": {},
     "output_type": "display_data"
    },
    {
     "name": "stdout",
     "output_type": "stream",
     "text": [
      "out 3\n"
     ]
    },
    {
     "data": {
      "image/png": "[encoded data removed]",
      "text/plain": [
       "<matplotlib.figure.Figure at 0x7f1ceee2d048>"
      ]
     },
     "metadata": {},
     "output_type": "display_data"
    },
    {
     "name": "stdout",
     "output_type": "stream",
     "text": [
      "out 4\n"
     ]
    },
    {
     "data": {
      "image/png": "[encoded data removed]",
      "text/plain": [
       "<matplotlib.figure.Figure at 0x7f1d0bd5fd68>"
      ]
     },
     "metadata": {},
     "output_type": "display_data"
    },
    {
     "name": "stdout",
     "output_type": "stream",
     "text": [
      "out 5\n"
     ]
    },
    {
     "data": {
      "image/png": "[encoded data removed]",
      "text/plain": [
       "<matplotlib.figure.Figure at 0x7f1d0bd5c278>"
      ]
     },
     "metadata": {},
     "output_type": "display_data"
    },
    {
     "name": "stdout",
     "output_type": "stream",
     "text": [
      "out 6\n"
     ]
    },
    {
     "data": {
      "image/png": "[encoded data removed]",
      "text/plain": [
       "<matplotlib.figure.Figure at 0x7f1d03ef5630>"
      ]
     },
     "metadata": {},
     "output_type": "display_data"
    },
    {
     "name": "stdout",
     "output_type": "stream",
     "text": [
      "out 7\n"
     ]
    },
    {
     "data": {
      "image/png": "[encoded data removed]",
      "text/plain": [
       "<matplotlib.figure.Figure at 0x7f1ca7484048>"
      ]
     },
     "metadata": {},
     "output_type": "display_data"
    },
    {
     "name": "stdout",
     "output_type": "stream",
     "text": [
      "out 8\n"
     ]
    },
    {
     "data": {
      "image/png": "[encoded data removed]",
      "text/plain": [
       "<matplotlib.figure.Figure at 0x7f1cad827cc0>"
      ]
     },
     "metadata": {},
     "output_type": "display_data"
    },
    {
     "name": "stdout",
     "output_type": "stream",
     "text": [
      "out 9\n"
     ]
    },
    {
     "data": {
      "image/png": "[encoded data removed]",
      "text/plain": [
       "<matplotlib.figure.Figure at 0x7f1cad810278>"
      ]
     },
     "metadata": {},
     "output_type": "display_data"
    },
    {
     "name": "stdout",
     "output_type": "stream",
     "text": [
      "out 10\n"
     ]
    },
    {
     "data": {
      "image/png": "[encoded data removed]",
      "text/plain": [
       "<matplotlib.figure.Figure at 0x7f1cb2900550>"
      ]
     },
     "metadata": {},
     "output_type": "display_data"
    },
    {
     "name": "stdout",
     "output_type": "stream",
     "text": [
      "out 11\n"
     ]
    },
    {
     "data": {
      "image/png": "[encoded data removed]",
      "text/plain": [
       "<matplotlib.figure.Figure at 0x7f1c8a4a30f0>"
      ]
     },
     "metadata": {},
     "output_type": "display_data"
    },
    {
     "name": "stdout",
     "output_type": "stream",
     "text": [
      "out 12\n"
     ]
    },
    {
     "data": {
      "image/png": "[encoded data removed]",
      "text/plain": [
       "<matplotlib.figure.Figure at 0x7f1ca74ab390>"
      ]
     },
     "metadata": {},
     "output_type": "display_data"
    },
    {
     "name": "stdout",
     "output_type": "stream",
     "text": [
      "out 13\n"
     ]
    },
    {
     "data": {
      "image/png": "[encoded data removed]",
      "text/plain": [
       "<matplotlib.figure.Figure at 0x7f1d09a3f208>"
      ]
     },
     "metadata": {},
     "output_type": "display_data"
    },
    {
     "name": "stdout",
     "output_type": "stream",
     "text": [
      "out 14\n"
     ]
    },
    {
     "data": {
      "image/png": "[encoded data removed]",
      "text/plain": [
       "<matplotlib.figure.Figure at 0x7f1c91234278>"
      ]
     },
     "metadata": {},
     "output_type": "display_data"
    },
    {
     "name": "stdout",
     "output_type": "stream",
     "text": [
      "out 15\n"
     ]
    },
    {
     "data": {
      "image/png": "[encoded data removed]",
      "text/plain": [
       "<matplotlib.figure.Figure at 0x7f1cd947b940>"
      ]
     },
     "metadata": {},
     "output_type": "display_data"
    },
    {
     "name": "stdout",
     "output_type": "stream",
     "text": [
      "out 16\n"
     ]
    },
    {
     "data": {
      "image/png": "[encoded data removed]",
      "text/plain": [
       "<matplotlib.figure.Figure at 0x7f1cfb1f55f8>"
      ]
     },
     "metadata": {},
     "output_type": "display_data"
    },
    {
     "name": "stdout",
     "output_type": "stream",
     "text": [
      "out 17\n"
     ]
    },
    {
     "data": {
      "image/png": "[encoded data removed]",
      "text/plain": [
       "<matplotlib.figure.Figure at 0x7f1ca1b17828>"
      ]
     },
     "metadata": {},
     "output_type": "display_data"
    },
    {
     "name": "stdout",
     "output_type": "stream",
     "text": [
      "out 18\n"
     ]
    },
    {
     "data": {
      "image/png": "[encoded data removed]",
      "text/plain": [
       "<matplotlib.figure.Figure at 0x7f1cda8650f0>"
      ]
     },
     "metadata": {},
     "output_type": "display_data"
    },
    {
     "name": "stdout",
     "output_type": "stream",
     "text": [
      "out 19\n"
     ]
    },
    {
     "data": {
      "image/png": "[encoded data removed]",
      "text/plain": [
       "<matplotlib.figure.Figure at 0x7f1cfb1c16a0>"
      ]
     },
     "metadata": {},
     "output_type": "display_data"
    },
    {
     "name": "stdout",
     "output_type": "stream",
     "text": [
      "out 20\n"
     ]
    },
    {
     "data": {
      "image/png": "[encoded data removed]",
      "text/plain": [
       "<matplotlib.figure.Figure at 0x7f1ca4055908>"
      ]
     },
     "metadata": {},
     "output_type": "display_data"
    },
    {
     "name": "stdout",
     "output_type": "stream",
     "text": [
      "out 21\n"
     ]
    },
    {
     "data": {
      "image/png": "[encoded data removed]",
      "text/plain": [
       "<matplotlib.figure.Figure at 0x7f1ca1b17e10>"
      ]
     },
     "metadata": {},
     "output_type": "display_data"
    },
    {
     "name": "stdout",
     "output_type": "stream",
     "text": [
      "out 22\n"
     ]
    },
    {
     "data": {
      "image/png": "[encoded data removed]",
      "text/plain": [
       "<matplotlib.figure.Figure at 0x7f1ca13e1278>"
      ]
     },
     "metadata": {},
     "output_type": "display_data"
    },
    {
     "name": "stdout",
     "output_type": "stream",
     "text": [
      "out 23\n"
     ]
    },
    {
     "data": {
      "image/png": "[encoded data removed]",
      "text/plain": [
       "<matplotlib.figure.Figure at 0x7f1c972a5278>"
      ]
     },
     "metadata": {},
     "output_type": "display_data"
    },
    {
     "name": "stdout",
     "output_type": "stream",
     "text": [
      "out 24\n"
     ]
    },
    {
     "data": {
      "image/png": "[encoded data removed]",
      "text/plain": [
       "<matplotlib.figure.Figure at 0x7f1c971db4e0>"
      ]
     },
     "metadata": {},
     "output_type": "display_data"
    },
    {
     "name": "stdout",
     "output_type": "stream",
     "text": [
      "out 25\n"
     ]
    },
    {
     "data": {
      "image/png": "[encoded data removed]",
      "text/plain": [
       "<matplotlib.figure.Figure at 0x7f1cb81a6198>"
      ]
     },
     "metadata": {},
     "output_type": "display_data"
    },
    {
     "name": "stdout",
     "output_type": "stream",
     "text": [
      "out 26\n"
     ]
    },
    {
     "data": {
      "image/png": "[encoded data removed]",
      "text/plain": [
       "<matplotlib.figure.Figure at 0x7f1c971d1588>"
      ]
     },
     "metadata": {},
     "output_type": "display_data"
    },
    {
     "name": "stdout",
     "output_type": "stream",
     "text": [
      "out 27\n"
     ]
    },
    {
     "data": {
      "image/png": "[encoded data removed]",
      "text/plain": [
       "<matplotlib.figure.Figure at 0x7f1c96a88390>"
      ]
     },
     "metadata": {},
     "output_type": "display_data"
    },
    {
     "name": "stdout",
     "output_type": "stream",
     "text": [
      "out 28\n"
     ]
    },
    {
     "data": {
      "image/png": "[encoded data removed]",
      "text/plain": [
       "<matplotlib.figure.Figure at 0x7f1c939873c8>"
      ]
     },
     "metadata": {},
     "output_type": "display_data"
    },
    {
     "name": "stdout",
     "output_type": "stream",
     "text": [
      "out 29\n"
     ]
    },
    {
     "data": {
      "image/png": "[encoded data removed]",
      "text/plain": [
       "<matplotlib.figure.Figure at 0x7f1c98cfa2e8>"
      ]
     },
     "metadata": {},
     "output_type": "display_data"
    },
    {
     "name": "stdout",
     "output_type": "stream",
     "text": [
      "out 30\n"
     ]
    },
    {
     "data": {
      "image/png": "[encoded data removed]",
      "text/plain": [
       "<matplotlib.figure.Figure at 0x7f1cb81ab860>"
      ]
     },
     "metadata": {},
     "output_type": "display_data"
    },
    {
     "name": "stdout",
     "output_type": "stream",
     "text": [
      "out 31\n"
     ]
    },
    {
     "data": {
      "image/png": "[encoded data removed]",
      "text/plain": [
       "<matplotlib.figure.Figure at 0x7f1d7078c0f0>"
      ]
     },
     "metadata": {},
     "output_type": "display_data"
    }
   ],
   "source": [
    "w = player._network._model.get_weights()\n",
    "fig = plt.gcf()\n",
    "show_w = w[0].reshape((32, 3, 3, 3))\n",
    "for in_layer in range(3):\n",
    "    print('in', in_layer)\n",
    "    for out_layer in range(32):\n",
    "        print('out', out_layer)\n",
    "        plt.imshow(show_w[out_layer][in_layer], cmap='gray')\n",
    "        plt.pause(0.1)"
   ]
  }
 ],
 "metadata": {
  "kernelspec": {
   "display_name": "Python 3",
   "language": "python",
   "name": "python3"
  },
  "language_info": {
   "codemirror_mode": {
    "name": "ipython",
    "version": 3
   },
   "file_extension": ".py",
   "mimetype": "text/x-python",
   "name": "python",
   "nbconvert_exporter": "python",
   "pygments_lexer": "ipython3",
   "version": "3.5.4"
  }
 },
 "nbformat": 4,
 "nbformat_minor": 2
}
